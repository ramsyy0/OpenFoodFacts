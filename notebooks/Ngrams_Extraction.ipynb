{
 "cells": [
  {
   "cell_type": "markdown",
   "id": "looking-improvement",
   "metadata": {
    "tags": []
   },
   "source": [
    "## 0. Notebook Parameters\n",
    "\n",
    "---"
   ]
  },
  {
   "cell_type": "markdown",
   "id": "sacred-registrar",
   "metadata": {
    "tags": []
   },
   "source": [
    "### Notebook Settings"
   ]
  },
  {
   "cell_type": "code",
   "execution_count": 1,
   "id": "sought-liabilities",
   "metadata": {},
   "outputs": [
    {
     "data": {
      "text/plain": [
       "'Google Colab settings'"
      ]
     },
     "execution_count": 1,
     "metadata": {},
     "output_type": "execute_result"
    }
   ],
   "source": [
    "\"\"\"Google Colab settings\"\"\"\n",
    "# from google.colab import drive\n",
    "# drive.mount('/content/drive', force_remount=True)"
   ]
  },
  {
   "cell_type": "code",
   "execution_count": 2,
   "id": "limited-majority",
   "metadata": {},
   "outputs": [
    {
     "name": "stdout",
     "output_type": "stream",
     "text": [
      "time: 243 µs (started: 2021-03-02 06:14:18 +01:00)\n"
     ]
    }
   ],
   "source": [
    "\"\"\"Jupyter settings\"\"\"\n",
    "# Enable autoreload\n",
    "%load_ext autoreload\n",
    "%autoreload 2\n",
    "\n",
    "# Pylint parameters\n",
    "%config Completer.use_jedi = False\n",
    "\n",
    "# Measure Runtime\n",
    "# !pip install ipython-autotime\n",
    "%load_ext autotime"
   ]
  },
  {
   "cell_type": "markdown",
   "id": "soviet-tender",
   "metadata": {},
   "source": [
    "### Imported Packages"
   ]
  },
  {
   "cell_type": "markdown",
   "id": "champion-stanley",
   "metadata": {
    "heading_collapsed": "true",
    "tags": []
   },
   "source": [
    "#### Packages Usually Needed"
   ]
  },
  {
   "cell_type": "code",
   "execution_count": 3,
   "id": "tight-institute",
   "metadata": {},
   "outputs": [
    {
     "name": "stdout",
     "output_type": "stream",
     "text": [
      "time: 684 ms (started: 2021-03-02 06:14:18 +01:00)\n"
     ]
    }
   ],
   "source": [
    "\"\"\"Packages for manipulation of vectors, arrays, dataframes\"\"\"\n",
    "import numpy as np\n",
    "import pandas as pd\n",
    "pd.set_option('display.max_colwidth', None) # Change display settings of pandas\n",
    "\n",
    "\"\"\"Packages for cleaning dataset\"\"\"\n",
    "import json\n",
    "import string\n",
    "import unicodedata\n",
    "\n",
    "\"\"\"Packages for data visualization\"\"\"\n",
    "from matplotlib import pyplot as plt\n",
    "%matplotlib inline\n",
    "import seaborn as sns"
   ]
  },
  {
   "cell_type": "markdown",
   "id": "middle-checkout",
   "metadata": {
    "tags": []
   },
   "source": [
    "#### Packages Specific to the Notebook"
   ]
  },
  {
   "cell_type": "code",
   "execution_count": 4,
   "id": "unlikely-korean",
   "metadata": {},
   "outputs": [
    {
     "name": "stdout",
     "output_type": "stream",
     "text": [
      "time: 329 ms (started: 2021-03-02 06:14:19 +01:00)\n"
     ]
    }
   ],
   "source": [
    "# natural language processing: n-gram ranking\n",
    "import re\n",
    "import unicodedata\n",
    "import nltk\n",
    "from nltk.corpus import stopwords\n",
    "# add appropriate words that will be ignored in the analysis\n",
    "ADDITIONAL_STOPWORDS = ['covfefe', 'dont', 'e', 'g', 'kj', 'kcal',]\n",
    "\n",
    "import matplotlib.pyplot as plt"
   ]
  },
  {
   "cell_type": "markdown",
   "id": "monthly-ready",
   "metadata": {
    "tags": []
   },
   "source": [
    "## 1. Computational Extraction of N-grams"
   ]
  },
  {
   "cell_type": "markdown",
   "id": "liable-vegetarian",
   "metadata": {},
   "source": [
    "Method following the tutorial [From DataFrame to N-Grams](https://towardsdatascience.com/from-dataframe-to-n-grams-e34e29df3460)   \n",
    "> A quick-start guide to creating and visualizing n-gram ranking using `nltk` for natural language processing."
   ]
  },
  {
   "cell_type": "markdown",
   "id": "closed-corner",
   "metadata": {
    "tags": []
   },
   "source": [
    "### Import the Data"
   ]
  },
  {
   "cell_type": "code",
   "execution_count": 5,
   "id": "general-trout",
   "metadata": {},
   "outputs": [
    {
     "name": "stdout",
     "output_type": "stream",
     "text": [
      "time: 3.29 s (started: 2021-03-02 06:14:19 +01:00)\n"
     ]
    }
   ],
   "source": [
    "# Load the whole clean dataset\n",
    "file ='../raw_data/ocr_labeled.csv'\n",
    "off_df_base = pd.read_csv(file)"
   ]
  },
  {
   "cell_type": "code",
   "execution_count": 6,
   "id": "chicken-recommendation",
   "metadata": {},
   "outputs": [
    {
     "name": "stdout",
     "output_type": "stream",
     "text": [
      "time: 20.8 ms (started: 2021-03-02 06:14:23 +01:00)\n"
     ]
    }
   ],
   "source": [
    "# Deep copy of the dataframe to avoid to reload it\n",
    "df = off_df_base.copy()  # Renew the DataFrame\n",
    "#df = df[:10000].copy() # Sample of the dataset"
   ]
  },
  {
   "cell_type": "code",
   "execution_count": 7,
   "id": "adverse-salvation",
   "metadata": {
    "tags": []
   },
   "outputs": [
    {
     "name": "stdout",
     "output_type": "stream",
     "text": [
      "Shape of the dataset: (434896, 6)\n",
      "\n",
      "Columns types of the dataset: \n",
      "barcode           int64\n",
      "clean_text       object\n",
      "fr_text          object\n",
      "source           object\n",
      "pnns_groups_1    object\n",
      "pnns_groups_2    object\n",
      "dtype: object\n",
      "\n",
      "Head of the dataset:\n"
     ]
    },
    {
     "data": {
      "text/html": [
       "<div>\n",
       "<style scoped>\n",
       "    .dataframe tbody tr th:only-of-type {\n",
       "        vertical-align: middle;\n",
       "    }\n",
       "\n",
       "    .dataframe tbody tr th {\n",
       "        vertical-align: top;\n",
       "    }\n",
       "\n",
       "    .dataframe thead th {\n",
       "        text-align: right;\n",
       "    }\n",
       "</style>\n",
       "<table border=\"1\" class=\"dataframe\">\n",
       "  <thead>\n",
       "    <tr style=\"text-align: right;\">\n",
       "      <th></th>\n",
       "      <th>barcode</th>\n",
       "      <th>clean_text</th>\n",
       "      <th>fr_text</th>\n",
       "      <th>source</th>\n",
       "      <th>pnns_groups_1</th>\n",
       "      <th>pnns_groups_2</th>\n",
       "    </tr>\n",
       "  </thead>\n",
       "  <tbody>\n",
       "    <tr>\n",
       "      <th>0</th>\n",
       "      <td>3199660476748</td>\n",
       "      <td>ne eleve abattu en bretagne les eleveurs de bretagne decoupe de podlet noir ferfier labe caracteristiques certifiees fermiereleve en plein air duree delevage  jours minimum  de cereales alimente avec  de vegetaux mineraux et vitamines do mation  voir etiquette poidsprix a conserver entre oc et c a consommer cuit a caeurdate limite de co  le rheu certifie par certisimmeuble le millepertuis les landes dap produit frais classe a pour toute reclamation sadresser a fermiers dargoat bp ploufragan decoupe et conditionne par ldc bretagne bp  quintin homologation n la   ce  abattoir agree nfr  ce fltplt ferlr sat elbretpf  origine france yo volaise prixtrg poids net prix a payer kg lot    r consommer jusqu au r conserver entre o c et  c  expedie le  loc bretagne  lanfains  e a   au trit aste wwwconsignesdetrfr</td>\n",
       "      <td>NE\\nELEVE\\nABATTU\\nEN BRETAGNE\\nLES ÉLEVEURS\\nDE BRETAGNE\\nDécoupe de\\nPodlet noir\\nferfier\\nlabe\\nCaractéristiques certifiées: Fermier-élevé en plein air. Durée d'élevage 81 jours minimum.\\n75% de céréales.\\nAlimenté avec 100% de végétaux, minéraux et vitamines do mation : voir étiquette poids/prix\\nA conserver entre O°C et +4°C -A consommer cuit à caeur-Date limite de co 35650 Le Rheu\\nCertifié par: CERTIS-Immeuble Le Millepertuis- Les Landes d'Ap\\nProduit frais\\nClasse A\\nPour toute réclamation, s'adresser à\\nFERMIERS D'ARGOAT: BP77-22440 PLOUFRAGAN\\nDécoupé et conditionné par: LDC Bretagne BP 256-2280 QUINTIN\\nHomologation\\nN° LA/02/75\\n099 002\\nCE\\n2\\nAbattoir agréé n'FR 22.099.002 CE\\n2FLT.PLT FER.LR SAT\\nEL.BRET.PF 2\\nORIGINE France\\nyo\\nVOLAISE\\nPrixtrg\\nPoids net\\nPrix a payer\\n0,240kg\\nLot\\n005809 19 45\\nR consommer jusqu au\\nR conserver entre O C et +4 C\\n10/04/18\\nExpedie Le 30/03/18\\nLOC BRETAGNE 22 LANFAINS\\n22.039.002\\ne01\\n172225-0/196A\\n3 19966014\\nAU TRIT ASTE\\nwww.CONSIGNESDETRFR\\n</td>\n",
       "      <td>/319/966/047/6748/1.json</td>\n",
       "      <td>fish meat eggs</td>\n",
       "      <td>meat</td>\n",
       "    </tr>\n",
       "    <tr>\n",
       "      <th>1</th>\n",
       "      <td>3199660219192</td>\n",
       "      <td>ker chant  local decoupes de poulet conditionne par ldc bretagne lanfains   rais classe a origine france prodtre  et c offre speciale ne eleve prepare  local dans notre region cuisdej plt sat kerchant fx  origine france volaille francaise prixkg paids net prin apayer kg to  a consommer jusqu au  r conserver entre d c et  c expedie le loc bretagne  lanfains   autrit pens</td>\n",
       "      <td>Ker\\nchant\\n100% LOCAL\\nDecoupes de\\nPOULET\\nConditionné par LDC Bretagne\\nLanfains (22) 18\\nrais Classe A\\nOrigine FRANCE. Prodtre 0 et +4\"C\\nOFFRE\\nSPECIALE\\nNE ELEVE PREPARE\\n100% LOCAL\\nDANS NOTRE REGION\\n1CUIS.DEJ. PLT SAT\\nKERCHANT FX 1\\nORIGINE France\\nVOLAILLE\\nFRANÇAISE\\nPrix/kg\\nPaids net\\nPrin apayer\\n1,000kg\\nto\\n005806444\\nA consommer jusqu au\\n27/09/18\\nR conserver entre D C et 4 C\\nExpedie Le\\nLOC BRETAGNE 22 LANFAINS\\n2.09.02\\n256-106-0/1818\\nAUTRIT\\nPENS\\n3 199660112 19192\\n</td>\n",
       "      <td>/319/966/021/9192/1.json</td>\n",
       "      <td>fish meat eggs</td>\n",
       "      <td>meat</td>\n",
       "    </tr>\n",
       "  </tbody>\n",
       "</table>\n",
       "</div>"
      ],
      "text/plain": [
       "         barcode  \\\n",
       "0  3199660476748   \n",
       "1  3199660219192   \n",
       "\n",
       "                                                                                                                                                                                                                                                                                                                                                                                                                                                                                                                                                                                                                                                                                                                                                                                                                                      clean_text  \\\n",
       "0  ne eleve abattu en bretagne les eleveurs de bretagne decoupe de podlet noir ferfier labe caracteristiques certifiees fermiereleve en plein air duree delevage  jours minimum  de cereales alimente avec  de vegetaux mineraux et vitamines do mation  voir etiquette poidsprix a conserver entre oc et c a consommer cuit a caeurdate limite de co  le rheu certifie par certisimmeuble le millepertuis les landes dap produit frais classe a pour toute reclamation sadresser a fermiers dargoat bp ploufragan decoupe et conditionne par ldc bretagne bp  quintin homologation n la   ce  abattoir agree nfr  ce fltplt ferlr sat elbretpf  origine france yo volaise prixtrg poids net prix a payer kg lot    r consommer jusqu au r conserver entre o c et  c  expedie le  loc bretagne  lanfains  e a   au trit aste wwwconsignesdetrfr    \n",
       "1                                                                                                                                                                                                                                                                                                                                                                                                                                                       ker chant  local decoupes de poulet conditionne par ldc bretagne lanfains   rais classe a origine france prodtre  et c offre speciale ne eleve prepare  local dans notre region cuisdej plt sat kerchant fx  origine france volaille francaise prixkg paids net prin apayer kg to  a consommer jusqu au  r conserver entre d c et  c expedie le loc bretagne  lanfains   autrit pens       \n",
       "\n",
       "                                                                                                                                                                                                                                                                                                                                                                                                                                                                                                                                                                                                                                                                                                                                                                                                                                                                                                                                                                                                                                                   fr_text  \\\n",
       "0  NE\\nELEVE\\nABATTU\\nEN BRETAGNE\\nLES ÉLEVEURS\\nDE BRETAGNE\\nDécoupe de\\nPodlet noir\\nferfier\\nlabe\\nCaractéristiques certifiées: Fermier-élevé en plein air. Durée d'élevage 81 jours minimum.\\n75% de céréales.\\nAlimenté avec 100% de végétaux, minéraux et vitamines do mation : voir étiquette poids/prix\\nA conserver entre O°C et +4°C -A consommer cuit à caeur-Date limite de co 35650 Le Rheu\\nCertifié par: CERTIS-Immeuble Le Millepertuis- Les Landes d'Ap\\nProduit frais\\nClasse A\\nPour toute réclamation, s'adresser à\\nFERMIERS D'ARGOAT: BP77-22440 PLOUFRAGAN\\nDécoupé et conditionné par: LDC Bretagne BP 256-2280 QUINTIN\\nHomologation\\nN° LA/02/75\\n099 002\\nCE\\n2\\nAbattoir agréé n'FR 22.099.002 CE\\n2FLT.PLT FER.LR SAT\\nEL.BRET.PF 2\\nORIGINE France\\nyo\\nVOLAISE\\nPrixtrg\\nPoids net\\nPrix a payer\\n0,240kg\\nLot\\n005809 19 45\\nR consommer jusqu au\\nR conserver entre O C et +4 C\\n10/04/18\\nExpedie Le 30/03/18\\nLOC BRETAGNE 22 LANFAINS\\n22.039.002\\ne01\\n172225-0/196A\\n3 19966014\\nAU TRIT ASTE\\nwww.CONSIGNESDETRFR\\n   \n",
       "1                                                                                                                                                                                                                                                                                                                                                                                                                                                                                                                                         Ker\\nchant\\n100% LOCAL\\nDecoupes de\\nPOULET\\nConditionné par LDC Bretagne\\nLanfains (22) 18\\nrais Classe A\\nOrigine FRANCE. Prodtre 0 et +4\"C\\nOFFRE\\nSPECIALE\\nNE ELEVE PREPARE\\n100% LOCAL\\nDANS NOTRE REGION\\n1CUIS.DEJ. PLT SAT\\nKERCHANT FX 1\\nORIGINE France\\nVOLAILLE\\nFRANÇAISE\\nPrix/kg\\nPaids net\\nPrin apayer\\n1,000kg\\nto\\n005806444\\nA consommer jusqu au\\n27/09/18\\nR conserver entre D C et 4 C\\nExpedie Le\\nLOC BRETAGNE 22 LANFAINS\\n2.09.02\\n256-106-0/1818\\nAUTRIT\\nPENS\\n3 199660112 19192\\n   \n",
       "\n",
       "                     source   pnns_groups_1 pnns_groups_2  \n",
       "0  /319/966/047/6748/1.json  fish meat eggs          meat  \n",
       "1  /319/966/021/9192/1.json  fish meat eggs          meat  "
      ]
     },
     "metadata": {},
     "output_type": "display_data"
    },
    {
     "name": "stdout",
     "output_type": "stream",
     "text": [
      "time: 10.3 ms (started: 2021-03-02 06:14:23 +01:00)\n"
     ]
    }
   ],
   "source": [
    "# Brief look at the dataset\n",
    "print(f\"\"\"Shape of the dataset: {df.shape}\n",
    "\"\"\")\n",
    "print(f\"\"\"Columns types of the dataset: \n",
    "{df.dtypes}\n",
    "\"\"\")\n",
    "print(f\"\"\"Head of the dataset:\"\"\")\n",
    "display(df.head(2))"
   ]
  },
  {
   "cell_type": "markdown",
   "id": "choice-theory",
   "metadata": {
    "tags": []
   },
   "source": [
    "### Basic Cleaning"
   ]
  },
  {
   "cell_type": "code",
   "execution_count": 8,
   "id": "underlying-reviewer",
   "metadata": {},
   "outputs": [
    {
     "name": "stdout",
     "output_type": "stream",
     "text": [
      "time: 824 µs (started: 2021-03-02 06:14:23 +01:00)\n"
     ]
    }
   ],
   "source": [
    "def basic_clean(text):\n",
    "    \"\"\"\n",
    "    A simple function to clean up the data. All the words that\n",
    "    are not designated as a stop word is then lemmatized after\n",
    "    encoding and basic regex parsing are performed.\n",
    "    \"\"\"\n",
    "    wnl = nltk.stem.WordNetLemmatizer()\n",
    "    stopwords = nltk.corpus.stopwords.words('english'\n",
    "                                           ) + nltk.corpus.stopwords.words(\n",
    "                                            'french') + ADDITIONAL_STOPWORDS\n",
    "    \n",
    "    words = (unicodedata.normalize('NFKD', text)\n",
    "            .encode('ascii', 'ignore')\n",
    "            .decode('utf-8', 'ignore')\n",
    "            .lower())\n",
    "    # words = re.sub('\\d+', '', words) # Remove numbers\n",
    "    words = re.sub(r'[^\\w\\s]', '', words).split()\n",
    "    \n",
    "    return [wnl.lemmatize(word) for word in words if word not in stopwords]"
   ]
  },
  {
   "cell_type": "markdown",
   "id": "compound-citizenship",
   "metadata": {
    "tags": []
   },
   "source": [
    "### Loop over the Function of Extraction"
   ]
  },
  {
   "cell_type": "code",
   "execution_count": 9,
   "id": "hispanic-hungary",
   "metadata": {},
   "outputs": [
    {
     "name": "stdout",
     "output_type": "stream",
     "text": [
      "time: 20.1 ms (started: 2021-03-02 06:14:23 +01:00)\n"
     ]
    }
   ],
   "source": [
    "# Create a list of categories\n",
    "categories_1 = list(df.pnns_groups_1.unique())"
   ]
  },
  {
   "cell_type": "code",
   "execution_count": 10,
   "id": "hollow-fitting",
   "metadata": {
    "tags": []
   },
   "outputs": [
    {
     "name": "stdout",
     "output_type": "stream",
     "text": [
      "time: 4min 50s (started: 2021-03-02 06:14:23 +01:00)\n"
     ]
    }
   ],
   "source": [
    "# Tokenize texts for the whole column \n",
    "words_global = basic_clean(''.join(str(df['clean_text'].tolist())))\n",
    "\n",
    "# Create a dict of tokenized texts per categories\n",
    "words_categories_1 = {k: basic_clean(''.join(\n",
    "    str(df['clean_text'][df['pnns_groups_1'] == k].tolist()))\n",
    "                                    ) for k in categories_1\n",
    "                     }"
   ]
  },
  {
   "cell_type": "code",
   "execution_count": 11,
   "id": "pregnant-juvenile",
   "metadata": {},
   "outputs": [
    {
     "data": {
      "text/plain": [
       "826317"
      ]
     },
     "execution_count": 11,
     "metadata": {},
     "output_type": "execute_result"
    },
    {
     "name": "stdout",
     "output_type": "stream",
     "text": [
      "time: 806 ms (started: 2021-03-02 06:19:13 +01:00)\n"
     ]
    }
   ],
   "source": [
    "len(set(words_global))"
   ]
  },
  {
   "cell_type": "code",
   "execution_count": 12,
   "id": "after-equivalent",
   "metadata": {
    "tags": []
   },
   "outputs": [
    {
     "name": "stdout",
     "output_type": "stream",
     "text": [
      "time: 11min 27s (started: 2021-03-02 06:19:14 +01:00)\n"
     ]
    }
   ],
   "source": [
    "from functools import reduce\n",
    "\n",
    "# Instanciate the df that will store the output of the whole loop\n",
    "main_df_list = []\n",
    "\n",
    "# Loop over the number of n-grams\n",
    "for ng in range(6, 11):\n",
    "    \n",
    "    # Create an empty list to store all the dataframes before merging them\n",
    "    df_list = []\n",
    "    \n",
    "    # Get the n-grams for all the categories\n",
    "    n_grams_global = (pd.Series(nltk.ngrams(words_global, ng)).value_counts())\n",
    "    df_list.append(\n",
    "        pd.DataFrame({'pattern': n_grams_global.index, \n",
    "                      'global_occurences': n_grams_global.values,\n",
    "                     })\n",
    "    )\n",
    "    \n",
    "    # Get the n-grams for each category:\n",
    "    for cat_k in words_categories_1.keys():\n",
    "        n_grams_cat = (pd.Series(nltk.ngrams(words_categories_1[cat_k], ng)).value_counts())\n",
    "        df_list.append(\n",
    "            pd.DataFrame({'pattern': n_grams_cat.index,\n",
    "                          cat_k: n_grams_cat.values,\n",
    "                         })\n",
    "        )\n",
    "    \n",
    "    # Concatenate the dataframes at the end of the iteration\n",
    "    n_df = reduce(lambda left, right: pd.merge(left, right, on='pattern'), df_list)\n",
    "    \n",
    "    # Create a variable to specify the number of n-grams of the output \n",
    "    n_gram_size = str(ng) + '-grams'\n",
    "    n_df.insert(0,'n_gram_size',n_gram_size)\n",
    "    \n",
    "    # Append the dataframe of this n-gram\n",
    "    main_df_list.append(n_df)\n",
    "\n",
    "# Concatenate the dataframes after the loop\n",
    "ngrams_df = pd.concat(main_df_list, ignore_index= True)"
   ]
  },
  {
   "cell_type": "code",
   "execution_count": 13,
   "id": "quick-vacation",
   "metadata": {},
   "outputs": [
    {
     "data": {
      "text/plain": [
       "2192"
      ]
     },
     "execution_count": 13,
     "metadata": {},
     "output_type": "execute_result"
    },
    {
     "name": "stdout",
     "output_type": "stream",
     "text": [
      "time: 2.35 ms (started: 2021-03-02 06:30:42 +01:00)\n"
     ]
    }
   ],
   "source": [
    "len(main_df_list[0])"
   ]
  },
  {
   "cell_type": "code",
   "execution_count": 14,
   "id": "contemporary-ribbon",
   "metadata": {},
   "outputs": [
    {
     "data": {
      "text/html": [
       "<div>\n",
       "<style scoped>\n",
       "    .dataframe tbody tr th:only-of-type {\n",
       "        vertical-align: middle;\n",
       "    }\n",
       "\n",
       "    .dataframe tbody tr th {\n",
       "        vertical-align: top;\n",
       "    }\n",
       "\n",
       "    .dataframe thead th {\n",
       "        text-align: right;\n",
       "    }\n",
       "</style>\n",
       "<table border=\"1\" class=\"dataframe\">\n",
       "  <thead>\n",
       "    <tr style=\"text-align: right;\">\n",
       "      <th></th>\n",
       "      <th>n_gram_size</th>\n",
       "      <th>pattern</th>\n",
       "      <th>global_occurences</th>\n",
       "      <th>fish meat eggs</th>\n",
       "      <th>sugary snacks</th>\n",
       "      <th>cereals and potatoes</th>\n",
       "      <th>milk and dairy products</th>\n",
       "      <th>fat and sauces</th>\n",
       "      <th>fruits and vegetables</th>\n",
       "      <th>salty snacks</th>\n",
       "      <th>beverages</th>\n",
       "      <th>composite foods</th>\n",
       "    </tr>\n",
       "  </thead>\n",
       "  <tbody>\n",
       "    <tr>\n",
       "      <th>0</th>\n",
       "      <td>6-grams</td>\n",
       "      <td>(matieres, grass, acides, gras, satures, glucides)</td>\n",
       "      <td>47446</td>\n",
       "      <td>6272</td>\n",
       "      <td>8497</td>\n",
       "      <td>4977</td>\n",
       "      <td>6522</td>\n",
       "      <td>2233</td>\n",
       "      <td>4269</td>\n",
       "      <td>3315</td>\n",
       "      <td>3166</td>\n",
       "      <td>8195</td>\n",
       "    </tr>\n",
       "    <tr>\n",
       "      <th>1</th>\n",
       "      <td>6-grams</td>\n",
       "      <td>(grass, acides, gras, satures, glucides, sucre)</td>\n",
       "      <td>46059</td>\n",
       "      <td>5892</td>\n",
       "      <td>8253</td>\n",
       "      <td>4902</td>\n",
       "      <td>6334</td>\n",
       "      <td>2124</td>\n",
       "      <td>4125</td>\n",
       "      <td>3224</td>\n",
       "      <td>3146</td>\n",
       "      <td>8059</td>\n",
       "    </tr>\n",
       "    <tr>\n",
       "      <th>2</th>\n",
       "      <td>6-grams</td>\n",
       "      <td>(energie, matieres, grass, acides, gras, satures)</td>\n",
       "      <td>38329</td>\n",
       "      <td>5106</td>\n",
       "      <td>6457</td>\n",
       "      <td>3747</td>\n",
       "      <td>5218</td>\n",
       "      <td>2219</td>\n",
       "      <td>3720</td>\n",
       "      <td>2564</td>\n",
       "      <td>2619</td>\n",
       "      <td>6679</td>\n",
       "    </tr>\n",
       "    <tr>\n",
       "      <th>3</th>\n",
       "      <td>6-grams</td>\n",
       "      <td>(acides, gras, satures, glucides, sucre, fibre)</td>\n",
       "      <td>26184</td>\n",
       "      <td>1903</td>\n",
       "      <td>4255</td>\n",
       "      <td>4265</td>\n",
       "      <td>2454</td>\n",
       "      <td>1052</td>\n",
       "      <td>3210</td>\n",
       "      <td>1718</td>\n",
       "      <td>1956</td>\n",
       "      <td>5371</td>\n",
       "    </tr>\n",
       "    <tr>\n",
       "      <th>4</th>\n",
       "      <td>6-grams</td>\n",
       "      <td>(glucides, sucre, fibre, alimentaires, proteines, sel)</td>\n",
       "      <td>25292</td>\n",
       "      <td>1807</td>\n",
       "      <td>4090</td>\n",
       "      <td>3870</td>\n",
       "      <td>2330</td>\n",
       "      <td>1073</td>\n",
       "      <td>3255</td>\n",
       "      <td>1760</td>\n",
       "      <td>1850</td>\n",
       "      <td>5257</td>\n",
       "    </tr>\n",
       "  </tbody>\n",
       "</table>\n",
       "</div>"
      ],
      "text/plain": [
       "  n_gram_size                                                 pattern  \\\n",
       "0     6-grams      (matieres, grass, acides, gras, satures, glucides)   \n",
       "1     6-grams         (grass, acides, gras, satures, glucides, sucre)   \n",
       "2     6-grams       (energie, matieres, grass, acides, gras, satures)   \n",
       "3     6-grams         (acides, gras, satures, glucides, sucre, fibre)   \n",
       "4     6-grams  (glucides, sucre, fibre, alimentaires, proteines, sel)   \n",
       "\n",
       "   global_occurences  fish meat eggs  sugary snacks  cereals and potatoes  \\\n",
       "0              47446            6272           8497                  4977   \n",
       "1              46059            5892           8253                  4902   \n",
       "2              38329            5106           6457                  3747   \n",
       "3              26184            1903           4255                  4265   \n",
       "4              25292            1807           4090                  3870   \n",
       "\n",
       "   milk and dairy products  fat and sauces  fruits and vegetables  \\\n",
       "0                     6522            2233                   4269   \n",
       "1                     6334            2124                   4125   \n",
       "2                     5218            2219                   3720   \n",
       "3                     2454            1052                   3210   \n",
       "4                     2330            1073                   3255   \n",
       "\n",
       "   salty snacks  beverages  composite foods  \n",
       "0          3315       3166             8195  \n",
       "1          3224       3146             8059  \n",
       "2          2564       2619             6679  \n",
       "3          1718       1956             5371  \n",
       "4          1760       1850             5257  "
      ]
     },
     "execution_count": 14,
     "metadata": {},
     "output_type": "execute_result"
    },
    {
     "name": "stdout",
     "output_type": "stream",
     "text": [
      "time: 9.49 ms (started: 2021-03-02 06:30:42 +01:00)\n"
     ]
    }
   ],
   "source": [
    "main_df_list[0].head()"
   ]
  },
  {
   "cell_type": "code",
   "execution_count": 15,
   "id": "streaming-filing",
   "metadata": {},
   "outputs": [
    {
     "data": {
      "text/html": [
       "<div>\n",
       "<style scoped>\n",
       "    .dataframe tbody tr th:only-of-type {\n",
       "        vertical-align: middle;\n",
       "    }\n",
       "\n",
       "    .dataframe tbody tr th {\n",
       "        vertical-align: top;\n",
       "    }\n",
       "\n",
       "    .dataframe thead th {\n",
       "        text-align: right;\n",
       "    }\n",
       "</style>\n",
       "<table border=\"1\" class=\"dataframe\">\n",
       "  <thead>\n",
       "    <tr style=\"text-align: right;\">\n",
       "      <th></th>\n",
       "      <th>n_gram_size</th>\n",
       "      <th>pattern</th>\n",
       "      <th>global_occurences</th>\n",
       "      <th>fish meat eggs</th>\n",
       "      <th>sugary snacks</th>\n",
       "      <th>cereals and potatoes</th>\n",
       "      <th>milk and dairy products</th>\n",
       "      <th>fat and sauces</th>\n",
       "      <th>fruits and vegetables</th>\n",
       "      <th>salty snacks</th>\n",
       "      <th>beverages</th>\n",
       "      <th>composite foods</th>\n",
       "    </tr>\n",
       "  </thead>\n",
       "  <tbody>\n",
       "    <tr>\n",
       "      <th>759</th>\n",
       "      <td>10-grams</td>\n",
       "      <td>(sature, glucides, sucre, fibre, alimentaires, proteines, sel, valeurs, nutritionnelles, moyennes)</td>\n",
       "      <td>15</td>\n",
       "      <td>2</td>\n",
       "      <td>3</td>\n",
       "      <td>1</td>\n",
       "      <td>2</td>\n",
       "      <td>1</td>\n",
       "      <td>1</td>\n",
       "      <td>3</td>\n",
       "      <td>2</td>\n",
       "      <td>2</td>\n",
       "    </tr>\n",
       "    <tr>\n",
       "      <th>760</th>\n",
       "      <td>10-grams</td>\n",
       "      <td>(acides, gras, sature, glucides, sucre, fibre, alimentaires, proteines, sel, valeurs)</td>\n",
       "      <td>15</td>\n",
       "      <td>2</td>\n",
       "      <td>3</td>\n",
       "      <td>1</td>\n",
       "      <td>2</td>\n",
       "      <td>1</td>\n",
       "      <td>1</td>\n",
       "      <td>3</td>\n",
       "      <td>2</td>\n",
       "      <td>2</td>\n",
       "    </tr>\n",
       "    <tr>\n",
       "      <th>761</th>\n",
       "      <td>10-grams</td>\n",
       "      <td>(acides, gras, satures, glucides, sucre, fibre, alimentaires, proteines, sel, con)</td>\n",
       "      <td>15</td>\n",
       "      <td>3</td>\n",
       "      <td>2</td>\n",
       "      <td>1</td>\n",
       "      <td>1</td>\n",
       "      <td>1</td>\n",
       "      <td>3</td>\n",
       "      <td>2</td>\n",
       "      <td>1</td>\n",
       "      <td>2</td>\n",
       "    </tr>\n",
       "    <tr>\n",
       "      <th>762</th>\n",
       "      <td>10-grams</td>\n",
       "      <td>(acides, gras, satures, glucides, sucre, fibre, alimentaires, proteines, sel, er)</td>\n",
       "      <td>13</td>\n",
       "      <td>1</td>\n",
       "      <td>2</td>\n",
       "      <td>2</td>\n",
       "      <td>1</td>\n",
       "      <td>1</td>\n",
       "      <td>1</td>\n",
       "      <td>2</td>\n",
       "      <td>1</td>\n",
       "      <td>2</td>\n",
       "    </tr>\n",
       "    <tr>\n",
       "      <th>763</th>\n",
       "      <td>10-grams</td>\n",
       "      <td>(acides, gras, saturesg, matieres, grass, glucides, sucre, fibre, alimentaires, proteines)</td>\n",
       "      <td>12</td>\n",
       "      <td>1</td>\n",
       "      <td>2</td>\n",
       "      <td>1</td>\n",
       "      <td>1</td>\n",
       "      <td>1</td>\n",
       "      <td>1</td>\n",
       "      <td>3</td>\n",
       "      <td>1</td>\n",
       "      <td>1</td>\n",
       "    </tr>\n",
       "  </tbody>\n",
       "</table>\n",
       "</div>"
      ],
      "text/plain": [
       "    n_gram_size  \\\n",
       "759    10-grams   \n",
       "760    10-grams   \n",
       "761    10-grams   \n",
       "762    10-grams   \n",
       "763    10-grams   \n",
       "\n",
       "                                                                                                pattern  \\\n",
       "759  (sature, glucides, sucre, fibre, alimentaires, proteines, sel, valeurs, nutritionnelles, moyennes)   \n",
       "760               (acides, gras, sature, glucides, sucre, fibre, alimentaires, proteines, sel, valeurs)   \n",
       "761                  (acides, gras, satures, glucides, sucre, fibre, alimentaires, proteines, sel, con)   \n",
       "762                   (acides, gras, satures, glucides, sucre, fibre, alimentaires, proteines, sel, er)   \n",
       "763          (acides, gras, saturesg, matieres, grass, glucides, sucre, fibre, alimentaires, proteines)   \n",
       "\n",
       "     global_occurences  fish meat eggs  sugary snacks  cereals and potatoes  \\\n",
       "759                 15               2              3                     1   \n",
       "760                 15               2              3                     1   \n",
       "761                 15               3              2                     1   \n",
       "762                 13               1              2                     2   \n",
       "763                 12               1              2                     1   \n",
       "\n",
       "     milk and dairy products  fat and sauces  fruits and vegetables  \\\n",
       "759                        2               1                      1   \n",
       "760                        2               1                      1   \n",
       "761                        1               1                      3   \n",
       "762                        1               1                      1   \n",
       "763                        1               1                      1   \n",
       "\n",
       "     salty snacks  beverages  composite foods  \n",
       "759             3          2                2  \n",
       "760             3          2                2  \n",
       "761             2          1                2  \n",
       "762             2          1                2  \n",
       "763             3          1                1  "
      ]
     },
     "execution_count": 15,
     "metadata": {},
     "output_type": "execute_result"
    },
    {
     "name": "stdout",
     "output_type": "stream",
     "text": [
      "time: 18.9 ms (started: 2021-03-02 06:30:42 +01:00)\n"
     ]
    }
   ],
   "source": [
    "main_df_list[-1].tail()"
   ]
  },
  {
   "cell_type": "code",
   "execution_count": 16,
   "id": "final-voltage",
   "metadata": {},
   "outputs": [
    {
     "data": {
      "text/plain": [
       "6921"
      ]
     },
     "execution_count": 16,
     "metadata": {},
     "output_type": "execute_result"
    },
    {
     "name": "stdout",
     "output_type": "stream",
     "text": [
      "time: 2.78 ms (started: 2021-03-02 06:30:42 +01:00)\n"
     ]
    }
   ],
   "source": [
    "len(ngrams_df)"
   ]
  },
  {
   "cell_type": "code",
   "execution_count": 17,
   "id": "announced-treat",
   "metadata": {},
   "outputs": [
    {
     "name": "stdout",
     "output_type": "stream",
     "text": [
      "time: 46.2 ms (started: 2021-03-02 06:30:42 +01:00)\n"
     ]
    }
   ],
   "source": [
    "# Save ngrams_df dataset to csv\n",
    "ngrams_df.to_csv('../raw_data/ngrams_extracted_reduced_2.csv', index = False)"
   ]
  },
  {
   "cell_type": "code",
   "execution_count": 18,
   "id": "alone-township",
   "metadata": {},
   "outputs": [
    {
     "name": "stdout",
     "output_type": "stream",
     "text": [
      "Hello\n",
      "time: 671 µs (started: 2021-03-02 06:30:42 +01:00)\n"
     ]
    }
   ],
   "source": [
    "print(\"Hello\")"
   ]
  }
 ],
 "metadata": {
  "kernelspec": {
   "display_name": "Python 3",
   "language": "python",
   "name": "python3"
  },
  "language_info": {
   "codemirror_mode": {
    "name": "ipython",
    "version": 3
   },
   "file_extension": ".py",
   "mimetype": "text/x-python",
   "name": "python",
   "nbconvert_exporter": "python",
   "pygments_lexer": "ipython3",
   "version": "3.8.6"
  },
  "widgets": {
   "application/vnd.jupyter.widget-state+json": {
    "state": {},
    "version_major": 2,
    "version_minor": 0
   }
  }
 },
 "nbformat": 4,
 "nbformat_minor": 5
}
