{
 "cells": [
  {
   "cell_type": "markdown",
   "id": "upset-ghost",
   "metadata": {
    "tags": []
   },
   "source": [
    "## 0. Notebook Parameters\n",
    "\n",
    "---"
   ]
  },
  {
   "cell_type": "markdown",
   "id": "collected-gregory",
   "metadata": {
    "tags": []
   },
   "source": [
    "### Notebook Settings"
   ]
  },
  {
   "cell_type": "code",
   "execution_count": 1,
   "id": "exceptional-plenty",
   "metadata": {},
   "outputs": [
    {
     "data": {
      "text/plain": [
       "'Google Colab settings'"
      ]
     },
     "execution_count": 1,
     "metadata": {},
     "output_type": "execute_result"
    }
   ],
   "source": [
    "\"\"\"Google Colab settings\"\"\"\n",
    "# from google.colab import drive\n",
    "# drive.mount('/content/drive', force_remount=True)"
   ]
  },
  {
   "cell_type": "code",
   "execution_count": 1,
   "id": "falling-metabolism",
   "metadata": {},
   "outputs": [
    {
     "name": "stdout",
     "output_type": "stream",
     "text": [
      "time: 469 µs (started: 2021-03-02 15:37:32 +01:00)\n"
     ]
    }
   ],
   "source": [
    "\"\"\"Jupyter settings\"\"\"\n",
    "# Enable autoreload\n",
    "%load_ext autoreload\n",
    "%autoreload 2\n",
    "\n",
    "# Pylint parameters\n",
    "%config Completer.use_jedi = False\n",
    "\n",
    "# Measure Runtime\n",
    "# !pip install ipython-autotime\n",
    "%load_ext autotime"
   ]
  },
  {
   "cell_type": "markdown",
   "id": "yellow-watershed",
   "metadata": {
    "tags": []
   },
   "source": [
    "### Imported Packages"
   ]
  },
  {
   "cell_type": "markdown",
   "id": "brief-inspiration",
   "metadata": {
    "tags": []
   },
   "source": [
    "#### Packages Usually Needed"
   ]
  },
  {
   "cell_type": "code",
   "execution_count": 3,
   "id": "transsexual-coral",
   "metadata": {},
   "outputs": [
    {
     "name": "stdout",
     "output_type": "stream",
     "text": [
      "time: 1.4 ms (started: 2021-03-02 15:37:46 +01:00)\n"
     ]
    }
   ],
   "source": [
    "\"\"\"Packages for manipulation of vectors, arrays, dataframes\"\"\"\n",
    "import numpy as np\n",
    "import pandas as pd\n",
    "pd.set_option('display.max_colwidth', None) # Change display settings of pandas\n",
    "\n",
    "\"\"\"Packages for data visualization\"\"\"\n",
    "from matplotlib import pyplot as plt\n",
    "%matplotlib inline\n",
    "import seaborn as sns"
   ]
  },
  {
   "cell_type": "markdown",
   "id": "quarterly-finnish",
   "metadata": {
    "tags": []
   },
   "source": [
    "#### Packages Specific to the Notebook"
   ]
  },
  {
   "cell_type": "code",
   "execution_count": 4,
   "id": "skilled-absolute",
   "metadata": {},
   "outputs": [
    {
     "name": "stdout",
     "output_type": "stream",
     "text": [
      "time: 329 ms (started: 2021-03-02 06:14:19 +01:00)\n"
     ]
    }
   ],
   "source": [
    "# natural language processing: n-gram ranking\n",
    "import re\n",
    "import unicodedata\n",
    "import nltk\n",
    "from nltk.corpus import stopwords\n",
    "# add appropriate words that will be ignored in the analysis\n",
    "ADDITIONAL_STOPWORDS = ['covfefe', 'dont', 'e', 'g', 'kj', 'kcal',]\n",
    "\n",
    "import matplotlib.pyplot as plt"
   ]
  },
  {
   "cell_type": "markdown",
   "id": "commercial-bacon",
   "metadata": {
    "tags": []
   },
   "source": [
    "## 1. Calculate Frequencies of N-grams"
   ]
  },
  {
   "cell_type": "markdown",
   "id": "pharmaceutical-gentleman",
   "metadata": {
    "tags": []
   },
   "source": [
    "### Import the Datasets"
   ]
  },
  {
   "cell_type": "code",
   "execution_count": 4,
   "id": "driven-durham",
   "metadata": {},
   "outputs": [
    {
     "name": "stdout",
     "output_type": "stream",
     "text": [
      "time: 160 ms (started: 2021-03-02 15:44:43 +01:00)\n"
     ]
    }
   ],
   "source": [
    "# Load the datasets of ngrams\n",
    "\n",
    "# Datasets with more ngrams (noisier)\n",
    "df_ngrams_ext_1_base = pd.read_csv('../raw_data/ngrams_extracted_1.csv')\n",
    "df_ngrams_ext_2_base = pd.read_csv('../raw_data/ngrams_extracted_2.csv')\n",
    "\n",
    "# Datasets with less ngrams \n",
    "# filtered with additional stopwords: ['e', 'g', 'kj', 'kcal', 'dont']\n",
    "df_ngrams_red_1_base = pd.read_csv('../raw_data/ngrams_extracted_reduced_1.csv')\n",
    "df_ngrams_red_2_base = pd.read_csv('../raw_data/ngrams_extracted_reduced_2.csv')"
   ]
  },
  {
   "cell_type": "code",
   "execution_count": 5,
   "id": "moral-progress",
   "metadata": {},
   "outputs": [
    {
     "name": "stdout",
     "output_type": "stream",
     "text": [
      "time: 3.43 ms (started: 2021-03-02 15:44:43 +01:00)\n"
     ]
    }
   ],
   "source": [
    "# Deep copy of the dataframe to avoid to reload it\n",
    "ngrams_ext_1 = df_ngrams_ext_1_base.copy()\n",
    "ngrams_ext_2 = df_ngrams_ext_2_base.copy()"
   ]
  },
  {
   "cell_type": "code",
   "execution_count": 6,
   "id": "original-blink",
   "metadata": {},
   "outputs": [
    {
     "name": "stdout",
     "output_type": "stream",
     "text": [
      "time: 3.24 ms (started: 2021-03-02 15:44:44 +01:00)\n"
     ]
    }
   ],
   "source": [
    "# Deep copy of the dataframe to avoid to reload it\n",
    "ngrams_red_1 = df_ngrams_red_1_base.copy()\n",
    "ngrams_red_2 = df_ngrams_red_2_base.copy()"
   ]
  },
  {
   "cell_type": "code",
   "execution_count": 7,
   "id": "acute-fellowship",
   "metadata": {
    "tags": []
   },
   "outputs": [
    {
     "name": "stdout",
     "output_type": "stream",
     "text": [
      "Shape of the dataset: (38365, 12)\n",
      "\n",
      "Columns types of the dataset: \n",
      "n_gram_size                object\n",
      "pattern                    object\n",
      "global_occurences           int64\n",
      "fish meat eggs              int64\n",
      "sugary snacks               int64\n",
      "cereals and potatoes        int64\n",
      "milk and dairy products     int64\n",
      "fat and sauces              int64\n",
      "fruits and vegetables       int64\n",
      "salty snacks                int64\n",
      "beverages                   int64\n",
      "composite foods             int64\n",
      "dtype: object\n",
      "\n",
      "Head of the dataset:\n"
     ]
    },
    {
     "data": {
      "text/html": [
       "<div>\n",
       "<style scoped>\n",
       "    .dataframe tbody tr th:only-of-type {\n",
       "        vertical-align: middle;\n",
       "    }\n",
       "\n",
       "    .dataframe tbody tr th {\n",
       "        vertical-align: top;\n",
       "    }\n",
       "\n",
       "    .dataframe thead th {\n",
       "        text-align: right;\n",
       "    }\n",
       "</style>\n",
       "<table border=\"1\" class=\"dataframe\">\n",
       "  <thead>\n",
       "    <tr style=\"text-align: right;\">\n",
       "      <th></th>\n",
       "      <th>n_gram_size</th>\n",
       "      <th>pattern</th>\n",
       "      <th>global_occurences</th>\n",
       "      <th>fish meat eggs</th>\n",
       "      <th>sugary snacks</th>\n",
       "      <th>cereals and potatoes</th>\n",
       "      <th>milk and dairy products</th>\n",
       "      <th>fat and sauces</th>\n",
       "      <th>fruits and vegetables</th>\n",
       "      <th>salty snacks</th>\n",
       "      <th>beverages</th>\n",
       "      <th>composite foods</th>\n",
       "    </tr>\n",
       "  </thead>\n",
       "  <tbody>\n",
       "    <tr>\n",
       "      <th>0</th>\n",
       "      <td>1-grams</td>\n",
       "      <td>('g',)</td>\n",
       "      <td>1218496</td>\n",
       "      <td>157052</td>\n",
       "      <td>240149</td>\n",
       "      <td>146200</td>\n",
       "      <td>145675</td>\n",
       "      <td>56621</td>\n",
       "      <td>108858</td>\n",
       "      <td>98180</td>\n",
       "      <td>64496</td>\n",
       "      <td>201265</td>\n",
       "    </tr>\n",
       "    <tr>\n",
       "      <th>1</th>\n",
       "      <td>1-grams</td>\n",
       "      <td>('dont',)</td>\n",
       "      <td>272296</td>\n",
       "      <td>39244</td>\n",
       "      <td>48506</td>\n",
       "      <td>27833</td>\n",
       "      <td>36105</td>\n",
       "      <td>16854</td>\n",
       "      <td>22478</td>\n",
       "      <td>21304</td>\n",
       "      <td>18611</td>\n",
       "      <td>41361</td>\n",
       "    </tr>\n",
       "    <tr>\n",
       "      <th>2</th>\n",
       "      <td>1-grams</td>\n",
       "      <td>('sucre',)</td>\n",
       "      <td>268175</td>\n",
       "      <td>23256</td>\n",
       "      <td>85227</td>\n",
       "      <td>23156</td>\n",
       "      <td>34745</td>\n",
       "      <td>11009</td>\n",
       "      <td>23536</td>\n",
       "      <td>14603</td>\n",
       "      <td>19897</td>\n",
       "      <td>32746</td>\n",
       "    </tr>\n",
       "    <tr>\n",
       "      <th>3</th>\n",
       "      <td>1-grams</td>\n",
       "      <td>('sel',)</td>\n",
       "      <td>262603</td>\n",
       "      <td>44526</td>\n",
       "      <td>38631</td>\n",
       "      <td>22952</td>\n",
       "      <td>22495</td>\n",
       "      <td>14217</td>\n",
       "      <td>16096</td>\n",
       "      <td>25072</td>\n",
       "      <td>8107</td>\n",
       "      <td>70507</td>\n",
       "    </tr>\n",
       "    <tr>\n",
       "      <th>4</th>\n",
       "      <td>1-grams</td>\n",
       "      <td>('kcal',)</td>\n",
       "      <td>194316</td>\n",
       "      <td>23664</td>\n",
       "      <td>35394</td>\n",
       "      <td>22496</td>\n",
       "      <td>23819</td>\n",
       "      <td>8900</td>\n",
       "      <td>17202</td>\n",
       "      <td>14781</td>\n",
       "      <td>15996</td>\n",
       "      <td>32064</td>\n",
       "    </tr>\n",
       "  </tbody>\n",
       "</table>\n",
       "</div>"
      ],
      "text/plain": [
       "  n_gram_size     pattern  global_occurences  fish meat eggs  sugary snacks  \\\n",
       "0     1-grams      ('g',)            1218496          157052         240149   \n",
       "1     1-grams   ('dont',)             272296           39244          48506   \n",
       "2     1-grams  ('sucre',)             268175           23256          85227   \n",
       "3     1-grams    ('sel',)             262603           44526          38631   \n",
       "4     1-grams   ('kcal',)             194316           23664          35394   \n",
       "\n",
       "   cereals and potatoes  milk and dairy products  fat and sauces  \\\n",
       "0                146200                   145675           56621   \n",
       "1                 27833                    36105           16854   \n",
       "2                 23156                    34745           11009   \n",
       "3                 22952                    22495           14217   \n",
       "4                 22496                    23819            8900   \n",
       "\n",
       "   fruits and vegetables  salty snacks  beverages  composite foods  \n",
       "0                 108858         98180      64496           201265  \n",
       "1                  22478         21304      18611            41361  \n",
       "2                  23536         14603      19897            32746  \n",
       "3                  16096         25072       8107            70507  \n",
       "4                  17202         14781      15996            32064  "
      ]
     },
     "metadata": {},
     "output_type": "display_data"
    },
    {
     "name": "stdout",
     "output_type": "stream",
     "text": [
      "time: 24.6 ms (started: 2021-03-02 15:45:04 +01:00)\n"
     ]
    }
   ],
   "source": [
    "# Brief look at the dataset\n",
    "print(f\"\"\"Shape of the dataset: {ngrams_ext_1.shape}\n",
    "\"\"\")\n",
    "print(f\"\"\"Columns types of the dataset: \n",
    "{ngrams_ext_1.dtypes}\n",
    "\"\"\")\n",
    "print(f\"\"\"Head of the dataset:\"\"\")\n",
    "display(ngrams_ext_1.head())"
   ]
  },
  {
   "cell_type": "markdown",
   "id": "copyrighted-homework",
   "metadata": {},
   "source": [
    "### Concatenate the datasets"
   ]
  },
  {
   "cell_type": "code",
   "execution_count": 8,
   "id": "removable-school",
   "metadata": {},
   "outputs": [
    {
     "name": "stdout",
     "output_type": "stream",
     "text": [
      "time: 6.29 ms (started: 2021-03-02 15:51:48 +01:00)\n"
     ]
    }
   ],
   "source": [
    "# Concatenate the extended datasets\n",
    "ngrams_ext = pd.concat([ngrams_ext_1, ngrams_ext_2], ignore_index=True)"
   ]
  },
  {
   "cell_type": "code",
   "execution_count": 11,
   "id": "beautiful-absolute",
   "metadata": {},
   "outputs": [
    {
     "name": "stdout",
     "output_type": "stream",
     "text": [
      "time: 187 ms (started: 2021-03-02 15:54:52 +01:00)\n"
     ]
    }
   ],
   "source": [
    "# Save ngrams_ext dataset to csv\n",
    "ngrams_ext.to_csv('../raw_data/ngrams_extracted.csv', index = False)"
   ]
  },
  {
   "cell_type": "code",
   "execution_count": 9,
   "id": "collective-transcription",
   "metadata": {},
   "outputs": [
    {
     "name": "stdout",
     "output_type": "stream",
     "text": [
      "\n",
      "- length of concatenated df: 55296,\n",
      "- length of ngrams_ext_1: 38365,\n",
      "- length of ngrams_ext_2: 16931,\n",
      "\n",
      "time: 934 µs (started: 2021-03-02 15:53:16 +01:00)\n"
     ]
    }
   ],
   "source": [
    "print(f\"\"\"\n",
    "- length of concatenated df: {len(ngrams_ext)},\n",
    "- length of ngrams_ext_1: {len(ngrams_ext_1)},\n",
    "- length of ngrams_ext_2: {len(ngrams_ext_2)},\n",
    "\"\"\")"
   ]
  },
  {
   "cell_type": "code",
   "execution_count": 10,
   "id": "prospective-butterfly",
   "metadata": {},
   "outputs": [
    {
     "name": "stdout",
     "output_type": "stream",
     "text": [
      "time: 5.32 ms (started: 2021-03-02 15:53:54 +01:00)\n"
     ]
    }
   ],
   "source": [
    "# Concatenate the reduced datasets\n",
    "ngrams_red = pd.concat([ngrams_red_1, ngrams_red_2], ignore_index=True)"
   ]
  },
  {
   "cell_type": "code",
   "execution_count": 12,
   "id": "suffering-filename",
   "metadata": {},
   "outputs": [
    {
     "name": "stdout",
     "output_type": "stream",
     "text": [
      "time: 116 ms (started: 2021-03-02 15:57:44 +01:00)\n"
     ]
    }
   ],
   "source": [
    "# Save ngrams_ext dataset to csv\n",
    "ngrams_red.to_csv('../raw_data/ngrams_extracted_reduced.csv', index = False)"
   ]
  },
  {
   "cell_type": "markdown",
   "id": "blessed-summer",
   "metadata": {},
   "source": [
    "### Calculate Frequencies"
   ]
  },
  {
   "cell_type": "code",
   "execution_count": null,
   "id": "binary-poetry",
   "metadata": {},
   "outputs": [],
   "source": []
  },
  {
   "cell_type": "code",
   "execution_count": null,
   "id": "confirmed-oklahoma",
   "metadata": {},
   "outputs": [],
   "source": []
  }
 ],
 "metadata": {
  "kernelspec": {
   "display_name": "Python 3",
   "language": "python",
   "name": "python3"
  },
  "language_info": {
   "codemirror_mode": {
    "name": "ipython",
    "version": 3
   },
   "file_extension": ".py",
   "mimetype": "text/x-python",
   "name": "python",
   "nbconvert_exporter": "python",
   "pygments_lexer": "ipython3",
   "version": "3.8.6"
  },
  "widgets": {
   "application/vnd.jupyter.widget-state+json": {
    "state": {},
    "version_major": 2,
    "version_minor": 0
   }
  }
 },
 "nbformat": 4,
 "nbformat_minor": 5
}
