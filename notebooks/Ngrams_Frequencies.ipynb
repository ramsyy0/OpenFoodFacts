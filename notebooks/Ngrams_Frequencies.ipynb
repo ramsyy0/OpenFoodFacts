{
 "cells": [
  {
   "cell_type": "markdown",
   "id": "proprietary-emphasis",
   "metadata": {
    "heading_collapsed": "true",
    "tags": []
   },
   "source": [
    "## 0. Notebook Parameters\n",
    "\n",
    "---"
   ]
  },
  {
   "cell_type": "markdown",
   "id": "sunrise-nicaragua",
   "metadata": {
    "heading_collapsed": "true",
    "tags": []
   },
   "source": [
    "### Notebook Settings"
   ]
  },
  {
   "cell_type": "code",
   "execution_count": null,
   "id": "unlikely-output",
   "metadata": {},
   "outputs": [],
   "source": [
    "\"\"\"Google Colab settings\"\"\"\n",
    "# from google.colab import drive\n",
    "# drive.mount('/content/drive', force_remount=True)"
   ]
  },
  {
   "cell_type": "code",
   "execution_count": 4,
   "id": "differential-station",
   "metadata": {},
   "outputs": [
    {
     "name": "stdout",
     "output_type": "stream",
     "text": [
      "time: 287 µs (started: 2021-03-03 10:55:24 +01:00)\n"
     ]
    }
   ],
   "source": [
    "\"\"\"Jupyter settings\"\"\"\n",
    "# Enable autoreload\n",
    "%load_ext autoreload\n",
    "%autoreload 2\n",
    "\n",
    "# Pylint parameters\n",
    "%config Completer.use_jedi = False\n",
    "\n",
    "# Measure Runtime\n",
    "# !pip install ipython-autotime\n",
    "%load_ext autotime"
   ]
  },
  {
   "cell_type": "markdown",
   "id": "grave-florence",
   "metadata": {
    "tags": []
   },
   "source": [
    "### Imported Packages"
   ]
  },
  {
   "cell_type": "markdown",
   "id": "daily-happiness",
   "metadata": {
    "tags": []
   },
   "source": [
    "#### Packages Usually Needed"
   ]
  },
  {
   "cell_type": "code",
   "execution_count": 5,
   "id": "intended-subscriber",
   "metadata": {},
   "outputs": [
    {
     "name": "stdout",
     "output_type": "stream",
     "text": [
      "time: 1.21 s (started: 2021-03-03 10:55:25 +01:00)\n"
     ]
    }
   ],
   "source": [
    "\"\"\"Packages for manipulation of vectors, arrays, dataframes\"\"\"\n",
    "import numpy as np\n",
    "import pandas as pd\n",
    "pd.set_option('display.max_colwidth', None) # Change display settings of pandas\n",
    "\n",
    "\"\"\"Packages for data visualization\"\"\"\n",
    "from matplotlib import pyplot as plt\n",
    "%matplotlib inline\n",
    "import seaborn as sns"
   ]
  },
  {
   "cell_type": "markdown",
   "id": "outstanding-berry",
   "metadata": {
    "tags": []
   },
   "source": [
    "#### Packages Specific to the Notebook"
   ]
  },
  {
   "cell_type": "code",
   "execution_count": null,
   "id": "atmospheric-sharp",
   "metadata": {},
   "outputs": [],
   "source": [
    "# natural language processing: n-gram ranking\n",
    "import re\n",
    "import unicodedata\n",
    "import nltk\n",
    "from nltk.corpus import stopwords\n",
    "# add appropriate words that will be ignored in the analysis\n",
    "ADDITIONAL_STOPWORDS = ['covfefe', 'dont', 'e', 'g', 'kj', 'kcal',]\n",
    "\n",
    "import matplotlib.pyplot as plt"
   ]
  },
  {
   "cell_type": "markdown",
   "id": "applied-rapid",
   "metadata": {
    "heading_collapsed": "true",
    "tags": []
   },
   "source": [
    "## 1. Calculate Frequencies of N-grams"
   ]
  },
  {
   "cell_type": "markdown",
   "id": "peaceful-lecture",
   "metadata": {
    "heading_collapsed": "true",
    "tags": []
   },
   "source": [
    "### Import the Datasets"
   ]
  },
  {
   "cell_type": "code",
   "execution_count": null,
   "id": "union-semiconductor",
   "metadata": {},
   "outputs": [],
   "source": [
    "# Load the datasets of ngrams\n",
    "\n",
    "# Datasets with more ngrams (noisier)\n",
    "df_ngrams_ext_1_base = pd.read_csv('../raw_data/ngrams_extracted_1.csv')\n",
    "df_ngrams_ext_2_base = pd.read_csv('../raw_data/ngrams_extracted_2.csv')\n",
    "\n",
    "# Datasets with less ngrams \n",
    "# filtered with additional stopwords: ['e', 'g', 'kj', 'kcal', 'dont']\n",
    "df_ngrams_red_1_base = pd.read_csv('../raw_data/ngrams_extracted_reduced_1.csv')\n",
    "df_ngrams_red_2_base = pd.read_csv('../raw_data/ngrams_extracted_reduced_2.csv')"
   ]
  },
  {
   "cell_type": "code",
   "execution_count": null,
   "id": "accessory-collaboration",
   "metadata": {},
   "outputs": [],
   "source": [
    "# Deep copy of the dataframe to avoid to reload it\n",
    "ngrams_ext_1 = df_ngrams_ext_1_base.copy()\n",
    "ngrams_ext_2 = df_ngrams_ext_2_base.copy()"
   ]
  },
  {
   "cell_type": "code",
   "execution_count": null,
   "id": "bulgarian-obligation",
   "metadata": {},
   "outputs": [],
   "source": [
    "# Deep copy of the dataframe to avoid to reload it\n",
    "ngrams_red_1 = df_ngrams_red_1_base.copy()\n",
    "ngrams_red_2 = df_ngrams_red_2_base.copy()"
   ]
  },
  {
   "cell_type": "code",
   "execution_count": null,
   "id": "swedish-vanilla",
   "metadata": {
    "tags": []
   },
   "outputs": [],
   "source": [
    "# Brief look at the dataset\n",
    "print(f\"\"\"Shape of the dataset: {ngrams_ext_1.shape}\n",
    "\"\"\")\n",
    "print(f\"\"\"Columns types of the dataset: \n",
    "{ngrams_ext_1.dtypes}\n",
    "\"\"\")\n",
    "print(f\"\"\"Head of the dataset:\"\"\")\n",
    "display(ngrams_ext_1.head())"
   ]
  },
  {
   "cell_type": "markdown",
   "id": "missing-greek",
   "metadata": {
    "heading_collapsed": "true",
    "tags": []
   },
   "source": [
    "### Concatenate the datasets"
   ]
  },
  {
   "cell_type": "code",
   "execution_count": null,
   "id": "permanent-teens",
   "metadata": {},
   "outputs": [],
   "source": [
    "# Concatenate the extended datasets\n",
    "ngrams_ext = pd.concat([ngrams_ext_1, ngrams_ext_2], ignore_index=True)"
   ]
  },
  {
   "cell_type": "code",
   "execution_count": null,
   "id": "grave-brighton",
   "metadata": {},
   "outputs": [],
   "source": [
    "# Save ngrams_ext dataset to csv\n",
    "ngrams_ext.to_csv('../raw_data/ngrams_extracted.csv', index = False)"
   ]
  },
  {
   "cell_type": "code",
   "execution_count": null,
   "id": "elegant-opposition",
   "metadata": {},
   "outputs": [],
   "source": [
    "print(f\"\"\"\n",
    "- length of concatenated df: {len(ngrams_ext)},\n",
    "- length of ngrams_ext_1: {len(ngrams_ext_1)},\n",
    "- length of ngrams_ext_2: {len(ngrams_ext_2)},\n",
    "\"\"\")"
   ]
  },
  {
   "cell_type": "code",
   "execution_count": null,
   "id": "exotic-donna",
   "metadata": {},
   "outputs": [],
   "source": [
    "# Concatenate the reduced datasets\n",
    "ngrams_reduced = pd.concat([ngrams_red_1, ngrams_red_2], ignore_index=True)"
   ]
  },
  {
   "cell_type": "code",
   "execution_count": null,
   "id": "democratic-sweden",
   "metadata": {},
   "outputs": [],
   "source": [
    "# Save ngrams_ext dataset to csv\n",
    "#ngrams_reduced.to_csv('../raw_data/ngrams_extracted_reduced.csv', index = False)"
   ]
  },
  {
   "cell_type": "markdown",
   "id": "indoor-wisdom",
   "metadata": {
    "heading_collapsed": "true",
    "tags": []
   },
   "source": [
    "### Calculate Frequencies"
   ]
  },
  {
   "cell_type": "code",
   "execution_count": 3,
   "id": "heard-fortune",
   "metadata": {},
   "outputs": [
    {
     "name": "stdout",
     "output_type": "stream",
     "text": [
      "time: 48 ms (started: 2021-03-03 09:55:33 +01:00)\n"
     ]
    }
   ],
   "source": [
    "# Load the whole clean dataset\n",
    "file ='../raw_data/ngrams_extracted_reduced.csv'\n",
    "ngrams_reduced_base = pd.read_csv(file)"
   ]
  },
  {
   "cell_type": "code",
   "execution_count": 20,
   "id": "virtual-summit",
   "metadata": {},
   "outputs": [
    {
     "name": "stdout",
     "output_type": "stream",
     "text": [
      "time: 51.6 ms (started: 2021-03-03 10:27:27 +01:00)\n"
     ]
    }
   ],
   "source": [
    "ngrams_reduced = ngrams_reduced_base.copy()"
   ]
  },
  {
   "cell_type": "code",
   "execution_count": 21,
   "id": "judicial-christian",
   "metadata": {},
   "outputs": [
    {
     "name": "stdout",
     "output_type": "stream",
     "text": [
      "time: 113 ms (started: 2021-03-03 10:27:34 +01:00)\n"
     ]
    }
   ],
   "source": [
    "# Save ngrams_reduced dataset to csv\n",
    "ngrams_reduced.to_csv('../raw_data/ngrams_reduced.csv', index = False)"
   ]
  },
  {
   "cell_type": "code",
   "execution_count": 5,
   "id": "expanded-championship",
   "metadata": {},
   "outputs": [
    {
     "name": "stdout",
     "output_type": "stream",
     "text": [
      "Shape of the dataset: (38867, 12)\n",
      "\n",
      "Columns types of the dataset: \n",
      "n_gram_size                object\n",
      "pattern                    object\n",
      "global_occurences           int64\n",
      "fish meat eggs              int64\n",
      "sugary snacks               int64\n",
      "cereals and potatoes        int64\n",
      "milk and dairy products     int64\n",
      "fat and sauces              int64\n",
      "fruits and vegetables       int64\n",
      "salty snacks                int64\n",
      "beverages                   int64\n",
      "composite foods             int64\n",
      "dtype: object\n",
      "\n",
      "Head of the dataset:\n"
     ]
    },
    {
     "data": {
      "text/html": [
       "<div>\n",
       "<style scoped>\n",
       "    .dataframe tbody tr th:only-of-type {\n",
       "        vertical-align: middle;\n",
       "    }\n",
       "\n",
       "    .dataframe tbody tr th {\n",
       "        vertical-align: top;\n",
       "    }\n",
       "\n",
       "    .dataframe thead th {\n",
       "        text-align: right;\n",
       "    }\n",
       "</style>\n",
       "<table border=\"1\" class=\"dataframe\">\n",
       "  <thead>\n",
       "    <tr style=\"text-align: right;\">\n",
       "      <th></th>\n",
       "      <th>n_gram_size</th>\n",
       "      <th>pattern</th>\n",
       "      <th>global_occurences</th>\n",
       "      <th>fish meat eggs</th>\n",
       "      <th>sugary snacks</th>\n",
       "      <th>cereals and potatoes</th>\n",
       "      <th>milk and dairy products</th>\n",
       "      <th>fat and sauces</th>\n",
       "      <th>fruits and vegetables</th>\n",
       "      <th>salty snacks</th>\n",
       "      <th>beverages</th>\n",
       "      <th>composite foods</th>\n",
       "    </tr>\n",
       "  </thead>\n",
       "  <tbody>\n",
       "    <tr>\n",
       "      <th>0</th>\n",
       "      <td>1-grams</td>\n",
       "      <td>('sucre',)</td>\n",
       "      <td>268175</td>\n",
       "      <td>23256</td>\n",
       "      <td>85227</td>\n",
       "      <td>23156</td>\n",
       "      <td>34745</td>\n",
       "      <td>11009</td>\n",
       "      <td>23536</td>\n",
       "      <td>14603</td>\n",
       "      <td>19897</td>\n",
       "      <td>32746</td>\n",
       "    </tr>\n",
       "    <tr>\n",
       "      <th>1</th>\n",
       "      <td>1-grams</td>\n",
       "      <td>('sel',)</td>\n",
       "      <td>262603</td>\n",
       "      <td>44526</td>\n",
       "      <td>38631</td>\n",
       "      <td>22952</td>\n",
       "      <td>22495</td>\n",
       "      <td>14217</td>\n",
       "      <td>16096</td>\n",
       "      <td>25072</td>\n",
       "      <td>8107</td>\n",
       "      <td>70507</td>\n",
       "    </tr>\n",
       "    <tr>\n",
       "      <th>2</th>\n",
       "      <td>1-grams</td>\n",
       "      <td>('ingredient',)</td>\n",
       "      <td>175998</td>\n",
       "      <td>23229</td>\n",
       "      <td>38021</td>\n",
       "      <td>18434</td>\n",
       "      <td>19928</td>\n",
       "      <td>8964</td>\n",
       "      <td>15270</td>\n",
       "      <td>13398</td>\n",
       "      <td>13272</td>\n",
       "      <td>25482</td>\n",
       "    </tr>\n",
       "    <tr>\n",
       "      <th>3</th>\n",
       "      <td>1-grams</td>\n",
       "      <td>('gras',)</td>\n",
       "      <td>153330</td>\n",
       "      <td>22344</td>\n",
       "      <td>26717</td>\n",
       "      <td>14921</td>\n",
       "      <td>18967</td>\n",
       "      <td>9457</td>\n",
       "      <td>10093</td>\n",
       "      <td>18211</td>\n",
       "      <td>8582</td>\n",
       "      <td>24038</td>\n",
       "    </tr>\n",
       "    <tr>\n",
       "      <th>4</th>\n",
       "      <td>1-grams</td>\n",
       "      <td>('lait',)</td>\n",
       "      <td>152570</td>\n",
       "      <td>7755</td>\n",
       "      <td>41706</td>\n",
       "      <td>9879</td>\n",
       "      <td>58044</td>\n",
       "      <td>3496</td>\n",
       "      <td>1572</td>\n",
       "      <td>6425</td>\n",
       "      <td>1115</td>\n",
       "      <td>22578</td>\n",
       "    </tr>\n",
       "  </tbody>\n",
       "</table>\n",
       "</div>"
      ],
      "text/plain": [
       "  n_gram_size          pattern  global_occurences  fish meat eggs  \\\n",
       "0     1-grams       ('sucre',)             268175           23256   \n",
       "1     1-grams         ('sel',)             262603           44526   \n",
       "2     1-grams  ('ingredient',)             175998           23229   \n",
       "3     1-grams        ('gras',)             153330           22344   \n",
       "4     1-grams        ('lait',)             152570            7755   \n",
       "\n",
       "   sugary snacks  cereals and potatoes  milk and dairy products  \\\n",
       "0          85227                 23156                    34745   \n",
       "1          38631                 22952                    22495   \n",
       "2          38021                 18434                    19928   \n",
       "3          26717                 14921                    18967   \n",
       "4          41706                  9879                    58044   \n",
       "\n",
       "   fat and sauces  fruits and vegetables  salty snacks  beverages  \\\n",
       "0           11009                  23536         14603      19897   \n",
       "1           14217                  16096         25072       8107   \n",
       "2            8964                  15270         13398      13272   \n",
       "3            9457                  10093         18211       8582   \n",
       "4            3496                   1572          6425       1115   \n",
       "\n",
       "   composite foods  \n",
       "0            32746  \n",
       "1            70507  \n",
       "2            25482  \n",
       "3            24038  \n",
       "4            22578  "
      ]
     },
     "metadata": {},
     "output_type": "display_data"
    },
    {
     "name": "stdout",
     "output_type": "stream",
     "text": [
      "time: 13.6 ms (started: 2021-03-03 09:55:35 +01:00)\n"
     ]
    }
   ],
   "source": [
    "# Brief look at the dataset\n",
    "print(f\"\"\"Shape of the dataset: {ngrams_reduced.shape}\n",
    "\"\"\")\n",
    "print(f\"\"\"Columns types of the dataset: \n",
    "{ngrams_reduced.dtypes}\n",
    "\"\"\")\n",
    "print(f\"\"\"Head of the dataset:\"\"\")\n",
    "display(ngrams_reduced.head())"
   ]
  },
  {
   "cell_type": "code",
   "execution_count": 6,
   "id": "powered-marking",
   "metadata": {},
   "outputs": [
    {
     "data": {
      "text/plain": [
       "Index(['n_gram_size', 'pattern', 'global_occurences', 'fish meat eggs',\n",
       "       'sugary snacks', 'cereals and potatoes', 'milk and dairy products',\n",
       "       'fat and sauces', 'fruits and vegetables', 'salty snacks', 'beverages',\n",
       "       'composite foods'],\n",
       "      dtype='object')"
      ]
     },
     "execution_count": 6,
     "metadata": {},
     "output_type": "execute_result"
    },
    {
     "name": "stdout",
     "output_type": "stream",
     "text": [
      "time: 2.22 ms (started: 2021-03-03 09:55:44 +01:00)\n"
     ]
    }
   ],
   "source": [
    "ngrams_reduced.columns"
   ]
  },
  {
   "cell_type": "code",
   "execution_count": 7,
   "id": "decreased-fraud",
   "metadata": {},
   "outputs": [
    {
     "name": "stdout",
     "output_type": "stream",
     "text": [
      "time: 501 µs (started: 2021-03-03 09:55:45 +01:00)\n"
     ]
    }
   ],
   "source": [
    "#Calculate frequencies of occurences of pattern per categories\n",
    "categories_PNNS_1 = ['fish meat eggs', 'sugary snacks', 'cereals and potatoes', 'milk and dairy products', 'fat and sauces', 'fruits and vegetables', 'salty snacks', 'beverages', 'composite foods']"
   ]
  },
  {
   "cell_type": "code",
   "execution_count": 8,
   "id": "ethical-forum",
   "metadata": {},
   "outputs": [
    {
     "data": {
      "text/html": [
       "<div>\n",
       "<style scoped>\n",
       "    .dataframe tbody tr th:only-of-type {\n",
       "        vertical-align: middle;\n",
       "    }\n",
       "\n",
       "    .dataframe tbody tr th {\n",
       "        vertical-align: top;\n",
       "    }\n",
       "\n",
       "    .dataframe thead th {\n",
       "        text-align: right;\n",
       "    }\n",
       "</style>\n",
       "<table border=\"1\" class=\"dataframe\">\n",
       "  <thead>\n",
       "    <tr style=\"text-align: right;\">\n",
       "      <th></th>\n",
       "      <th>n_gram_size</th>\n",
       "      <th>pattern</th>\n",
       "      <th>global_occurences</th>\n",
       "      <th>fish meat eggs</th>\n",
       "      <th>sugary snacks</th>\n",
       "      <th>cereals and potatoes</th>\n",
       "      <th>milk and dairy products</th>\n",
       "      <th>fat and sauces</th>\n",
       "      <th>fruits and vegetables</th>\n",
       "      <th>salty snacks</th>\n",
       "      <th>...</th>\n",
       "      <th>composite foods</th>\n",
       "      <th>freq - fish meat eggs</th>\n",
       "      <th>freq - sugary snacks</th>\n",
       "      <th>freq - cereals and potatoes</th>\n",
       "      <th>freq - milk and dairy products</th>\n",
       "      <th>freq - fat and sauces</th>\n",
       "      <th>freq - fruits and vegetables</th>\n",
       "      <th>freq - salty snacks</th>\n",
       "      <th>freq - beverages</th>\n",
       "      <th>freq - composite foods</th>\n",
       "    </tr>\n",
       "  </thead>\n",
       "  <tbody>\n",
       "    <tr>\n",
       "      <th>0</th>\n",
       "      <td>1-grams</td>\n",
       "      <td>('sucre',)</td>\n",
       "      <td>268175</td>\n",
       "      <td>23256</td>\n",
       "      <td>85227</td>\n",
       "      <td>23156</td>\n",
       "      <td>34745</td>\n",
       "      <td>11009</td>\n",
       "      <td>23536</td>\n",
       "      <td>14603</td>\n",
       "      <td>...</td>\n",
       "      <td>32746</td>\n",
       "      <td>0.087</td>\n",
       "      <td>0.318</td>\n",
       "      <td>0.086</td>\n",
       "      <td>0.130</td>\n",
       "      <td>0.041</td>\n",
       "      <td>0.088</td>\n",
       "      <td>0.054</td>\n",
       "      <td>0.074</td>\n",
       "      <td>0.122</td>\n",
       "    </tr>\n",
       "    <tr>\n",
       "      <th>1</th>\n",
       "      <td>1-grams</td>\n",
       "      <td>('sel',)</td>\n",
       "      <td>262603</td>\n",
       "      <td>44526</td>\n",
       "      <td>38631</td>\n",
       "      <td>22952</td>\n",
       "      <td>22495</td>\n",
       "      <td>14217</td>\n",
       "      <td>16096</td>\n",
       "      <td>25072</td>\n",
       "      <td>...</td>\n",
       "      <td>70507</td>\n",
       "      <td>0.170</td>\n",
       "      <td>0.147</td>\n",
       "      <td>0.087</td>\n",
       "      <td>0.086</td>\n",
       "      <td>0.054</td>\n",
       "      <td>0.061</td>\n",
       "      <td>0.095</td>\n",
       "      <td>0.031</td>\n",
       "      <td>0.268</td>\n",
       "    </tr>\n",
       "    <tr>\n",
       "      <th>2</th>\n",
       "      <td>1-grams</td>\n",
       "      <td>('ingredient',)</td>\n",
       "      <td>175998</td>\n",
       "      <td>23229</td>\n",
       "      <td>38021</td>\n",
       "      <td>18434</td>\n",
       "      <td>19928</td>\n",
       "      <td>8964</td>\n",
       "      <td>15270</td>\n",
       "      <td>13398</td>\n",
       "      <td>...</td>\n",
       "      <td>25482</td>\n",
       "      <td>0.132</td>\n",
       "      <td>0.216</td>\n",
       "      <td>0.105</td>\n",
       "      <td>0.113</td>\n",
       "      <td>0.051</td>\n",
       "      <td>0.087</td>\n",
       "      <td>0.076</td>\n",
       "      <td>0.075</td>\n",
       "      <td>0.145</td>\n",
       "    </tr>\n",
       "    <tr>\n",
       "      <th>3</th>\n",
       "      <td>1-grams</td>\n",
       "      <td>('gras',)</td>\n",
       "      <td>153330</td>\n",
       "      <td>22344</td>\n",
       "      <td>26717</td>\n",
       "      <td>14921</td>\n",
       "      <td>18967</td>\n",
       "      <td>9457</td>\n",
       "      <td>10093</td>\n",
       "      <td>18211</td>\n",
       "      <td>...</td>\n",
       "      <td>24038</td>\n",
       "      <td>0.146</td>\n",
       "      <td>0.174</td>\n",
       "      <td>0.097</td>\n",
       "      <td>0.124</td>\n",
       "      <td>0.062</td>\n",
       "      <td>0.066</td>\n",
       "      <td>0.119</td>\n",
       "      <td>0.056</td>\n",
       "      <td>0.157</td>\n",
       "    </tr>\n",
       "    <tr>\n",
       "      <th>4</th>\n",
       "      <td>1-grams</td>\n",
       "      <td>('lait',)</td>\n",
       "      <td>152570</td>\n",
       "      <td>7755</td>\n",
       "      <td>41706</td>\n",
       "      <td>9879</td>\n",
       "      <td>58044</td>\n",
       "      <td>3496</td>\n",
       "      <td>1572</td>\n",
       "      <td>6425</td>\n",
       "      <td>...</td>\n",
       "      <td>22578</td>\n",
       "      <td>0.051</td>\n",
       "      <td>0.273</td>\n",
       "      <td>0.065</td>\n",
       "      <td>0.380</td>\n",
       "      <td>0.023</td>\n",
       "      <td>0.010</td>\n",
       "      <td>0.042</td>\n",
       "      <td>0.007</td>\n",
       "      <td>0.148</td>\n",
       "    </tr>\n",
       "    <tr>\n",
       "      <th>...</th>\n",
       "      <td>...</td>\n",
       "      <td>...</td>\n",
       "      <td>...</td>\n",
       "      <td>...</td>\n",
       "      <td>...</td>\n",
       "      <td>...</td>\n",
       "      <td>...</td>\n",
       "      <td>...</td>\n",
       "      <td>...</td>\n",
       "      <td>...</td>\n",
       "      <td>...</td>\n",
       "      <td>...</td>\n",
       "      <td>...</td>\n",
       "      <td>...</td>\n",
       "      <td>...</td>\n",
       "      <td>...</td>\n",
       "      <td>...</td>\n",
       "      <td>...</td>\n",
       "      <td>...</td>\n",
       "      <td>...</td>\n",
       "      <td>...</td>\n",
       "    </tr>\n",
       "    <tr>\n",
       "      <th>38862</th>\n",
       "      <td>10-grams</td>\n",
       "      <td>('sature', 'glucides', 'sucre', 'fibre', 'alimentaires', 'proteines', 'sel', 'valeurs', 'nutritionnelles', 'moyennes')</td>\n",
       "      <td>15</td>\n",
       "      <td>2</td>\n",
       "      <td>3</td>\n",
       "      <td>1</td>\n",
       "      <td>2</td>\n",
       "      <td>1</td>\n",
       "      <td>1</td>\n",
       "      <td>3</td>\n",
       "      <td>...</td>\n",
       "      <td>2</td>\n",
       "      <td>0.133</td>\n",
       "      <td>0.200</td>\n",
       "      <td>0.067</td>\n",
       "      <td>0.133</td>\n",
       "      <td>0.067</td>\n",
       "      <td>0.067</td>\n",
       "      <td>0.200</td>\n",
       "      <td>0.133</td>\n",
       "      <td>0.133</td>\n",
       "    </tr>\n",
       "    <tr>\n",
       "      <th>38863</th>\n",
       "      <td>10-grams</td>\n",
       "      <td>('acides', 'gras', 'sature', 'glucides', 'sucre', 'fibre', 'alimentaires', 'proteines', 'sel', 'valeurs')</td>\n",
       "      <td>15</td>\n",
       "      <td>2</td>\n",
       "      <td>3</td>\n",
       "      <td>1</td>\n",
       "      <td>2</td>\n",
       "      <td>1</td>\n",
       "      <td>1</td>\n",
       "      <td>3</td>\n",
       "      <td>...</td>\n",
       "      <td>2</td>\n",
       "      <td>0.133</td>\n",
       "      <td>0.200</td>\n",
       "      <td>0.067</td>\n",
       "      <td>0.133</td>\n",
       "      <td>0.067</td>\n",
       "      <td>0.067</td>\n",
       "      <td>0.200</td>\n",
       "      <td>0.133</td>\n",
       "      <td>0.133</td>\n",
       "    </tr>\n",
       "    <tr>\n",
       "      <th>38864</th>\n",
       "      <td>10-grams</td>\n",
       "      <td>('acides', 'gras', 'satures', 'glucides', 'sucre', 'fibre', 'alimentaires', 'proteines', 'sel', 'con')</td>\n",
       "      <td>15</td>\n",
       "      <td>3</td>\n",
       "      <td>2</td>\n",
       "      <td>1</td>\n",
       "      <td>1</td>\n",
       "      <td>1</td>\n",
       "      <td>3</td>\n",
       "      <td>2</td>\n",
       "      <td>...</td>\n",
       "      <td>2</td>\n",
       "      <td>0.200</td>\n",
       "      <td>0.133</td>\n",
       "      <td>0.067</td>\n",
       "      <td>0.067</td>\n",
       "      <td>0.067</td>\n",
       "      <td>0.200</td>\n",
       "      <td>0.133</td>\n",
       "      <td>0.067</td>\n",
       "      <td>0.133</td>\n",
       "    </tr>\n",
       "    <tr>\n",
       "      <th>38865</th>\n",
       "      <td>10-grams</td>\n",
       "      <td>('acides', 'gras', 'satures', 'glucides', 'sucre', 'fibre', 'alimentaires', 'proteines', 'sel', 'er')</td>\n",
       "      <td>13</td>\n",
       "      <td>1</td>\n",
       "      <td>2</td>\n",
       "      <td>2</td>\n",
       "      <td>1</td>\n",
       "      <td>1</td>\n",
       "      <td>1</td>\n",
       "      <td>2</td>\n",
       "      <td>...</td>\n",
       "      <td>2</td>\n",
       "      <td>0.077</td>\n",
       "      <td>0.154</td>\n",
       "      <td>0.154</td>\n",
       "      <td>0.077</td>\n",
       "      <td>0.077</td>\n",
       "      <td>0.077</td>\n",
       "      <td>0.154</td>\n",
       "      <td>0.077</td>\n",
       "      <td>0.154</td>\n",
       "    </tr>\n",
       "    <tr>\n",
       "      <th>38866</th>\n",
       "      <td>10-grams</td>\n",
       "      <td>('acides', 'gras', 'saturesg', 'matieres', 'grass', 'glucides', 'sucre', 'fibre', 'alimentaires', 'proteines')</td>\n",
       "      <td>12</td>\n",
       "      <td>1</td>\n",
       "      <td>2</td>\n",
       "      <td>1</td>\n",
       "      <td>1</td>\n",
       "      <td>1</td>\n",
       "      <td>1</td>\n",
       "      <td>3</td>\n",
       "      <td>...</td>\n",
       "      <td>1</td>\n",
       "      <td>0.083</td>\n",
       "      <td>0.167</td>\n",
       "      <td>0.083</td>\n",
       "      <td>0.083</td>\n",
       "      <td>0.083</td>\n",
       "      <td>0.083</td>\n",
       "      <td>0.250</td>\n",
       "      <td>0.083</td>\n",
       "      <td>0.083</td>\n",
       "    </tr>\n",
       "  </tbody>\n",
       "</table>\n",
       "<p>38867 rows × 21 columns</p>\n",
       "</div>"
      ],
      "text/plain": [
       "      n_gram_size  \\\n",
       "0         1-grams   \n",
       "1         1-grams   \n",
       "2         1-grams   \n",
       "3         1-grams   \n",
       "4         1-grams   \n",
       "...           ...   \n",
       "38862    10-grams   \n",
       "38863    10-grams   \n",
       "38864    10-grams   \n",
       "38865    10-grams   \n",
       "38866    10-grams   \n",
       "\n",
       "                                                                                                                      pattern  \\\n",
       "0                                                                                                                  ('sucre',)   \n",
       "1                                                                                                                    ('sel',)   \n",
       "2                                                                                                             ('ingredient',)   \n",
       "3                                                                                                                   ('gras',)   \n",
       "4                                                                                                                   ('lait',)   \n",
       "...                                                                                                                       ...   \n",
       "38862  ('sature', 'glucides', 'sucre', 'fibre', 'alimentaires', 'proteines', 'sel', 'valeurs', 'nutritionnelles', 'moyennes')   \n",
       "38863               ('acides', 'gras', 'sature', 'glucides', 'sucre', 'fibre', 'alimentaires', 'proteines', 'sel', 'valeurs')   \n",
       "38864                  ('acides', 'gras', 'satures', 'glucides', 'sucre', 'fibre', 'alimentaires', 'proteines', 'sel', 'con')   \n",
       "38865                   ('acides', 'gras', 'satures', 'glucides', 'sucre', 'fibre', 'alimentaires', 'proteines', 'sel', 'er')   \n",
       "38866          ('acides', 'gras', 'saturesg', 'matieres', 'grass', 'glucides', 'sucre', 'fibre', 'alimentaires', 'proteines')   \n",
       "\n",
       "       global_occurences  fish meat eggs  sugary snacks  cereals and potatoes  \\\n",
       "0                 268175           23256          85227                 23156   \n",
       "1                 262603           44526          38631                 22952   \n",
       "2                 175998           23229          38021                 18434   \n",
       "3                 153330           22344          26717                 14921   \n",
       "4                 152570            7755          41706                  9879   \n",
       "...                  ...             ...            ...                   ...   \n",
       "38862                 15               2              3                     1   \n",
       "38863                 15               2              3                     1   \n",
       "38864                 15               3              2                     1   \n",
       "38865                 13               1              2                     2   \n",
       "38866                 12               1              2                     1   \n",
       "\n",
       "       milk and dairy products  fat and sauces  fruits and vegetables  \\\n",
       "0                        34745           11009                  23536   \n",
       "1                        22495           14217                  16096   \n",
       "2                        19928            8964                  15270   \n",
       "3                        18967            9457                  10093   \n",
       "4                        58044            3496                   1572   \n",
       "...                        ...             ...                    ...   \n",
       "38862                        2               1                      1   \n",
       "38863                        2               1                      1   \n",
       "38864                        1               1                      3   \n",
       "38865                        1               1                      1   \n",
       "38866                        1               1                      1   \n",
       "\n",
       "       salty snacks  ...  composite foods  freq - fish meat eggs  \\\n",
       "0             14603  ...            32746                  0.087   \n",
       "1             25072  ...            70507                  0.170   \n",
       "2             13398  ...            25482                  0.132   \n",
       "3             18211  ...            24038                  0.146   \n",
       "4              6425  ...            22578                  0.051   \n",
       "...             ...  ...              ...                    ...   \n",
       "38862             3  ...                2                  0.133   \n",
       "38863             3  ...                2                  0.133   \n",
       "38864             2  ...                2                  0.200   \n",
       "38865             2  ...                2                  0.077   \n",
       "38866             3  ...                1                  0.083   \n",
       "\n",
       "       freq - sugary snacks  freq - cereals and potatoes  \\\n",
       "0                     0.318                        0.086   \n",
       "1                     0.147                        0.087   \n",
       "2                     0.216                        0.105   \n",
       "3                     0.174                        0.097   \n",
       "4                     0.273                        0.065   \n",
       "...                     ...                          ...   \n",
       "38862                 0.200                        0.067   \n",
       "38863                 0.200                        0.067   \n",
       "38864                 0.133                        0.067   \n",
       "38865                 0.154                        0.154   \n",
       "38866                 0.167                        0.083   \n",
       "\n",
       "       freq - milk and dairy products  freq - fat and sauces  \\\n",
       "0                               0.130                  0.041   \n",
       "1                               0.086                  0.054   \n",
       "2                               0.113                  0.051   \n",
       "3                               0.124                  0.062   \n",
       "4                               0.380                  0.023   \n",
       "...                               ...                    ...   \n",
       "38862                           0.133                  0.067   \n",
       "38863                           0.133                  0.067   \n",
       "38864                           0.067                  0.067   \n",
       "38865                           0.077                  0.077   \n",
       "38866                           0.083                  0.083   \n",
       "\n",
       "       freq - fruits and vegetables  freq - salty snacks  freq - beverages  \\\n",
       "0                             0.088                0.054             0.074   \n",
       "1                             0.061                0.095             0.031   \n",
       "2                             0.087                0.076             0.075   \n",
       "3                             0.066                0.119             0.056   \n",
       "4                             0.010                0.042             0.007   \n",
       "...                             ...                  ...               ...   \n",
       "38862                         0.067                0.200             0.133   \n",
       "38863                         0.067                0.200             0.133   \n",
       "38864                         0.200                0.133             0.067   \n",
       "38865                         0.077                0.154             0.077   \n",
       "38866                         0.083                0.250             0.083   \n",
       "\n",
       "       freq - composite foods  \n",
       "0                       0.122  \n",
       "1                       0.268  \n",
       "2                       0.145  \n",
       "3                       0.157  \n",
       "4                       0.148  \n",
       "...                       ...  \n",
       "38862                   0.133  \n",
       "38863                   0.133  \n",
       "38864                   0.133  \n",
       "38865                   0.154  \n",
       "38866                   0.083  \n",
       "\n",
       "[38867 rows x 21 columns]"
      ]
     },
     "execution_count": 8,
     "metadata": {},
     "output_type": "execute_result"
    },
    {
     "name": "stdout",
     "output_type": "stream",
     "text": [
      "time: 51.8 s (started: 2021-03-03 09:56:26 +01:00)\n"
     ]
    }
   ],
   "source": [
    "# Calculate frequencies of patterns per categories\n",
    "\n",
    "def loop_frequencies_calculation(df):\n",
    "    \"\"\"Calculate relative frequencies of each pattern per category\"\"\"\n",
    "\n",
    "    # Loop the operation over each category in the df\n",
    "    for cat in categories_PNNS_1:\n",
    "        # Loop over each row of the category\n",
    "        cat_frequencies = []\n",
    "\n",
    "        for i in range(len(df)):\n",
    "            row = df.iloc[i]\n",
    "            # Calculate the relative frequency of the pattern in this category\n",
    "            # -> Divide its number of occurences in this category,\n",
    "            #    by its global number of occurences\n",
    "            cat_frequencies.append(round((row[cat] / row.global_occurences), 3))\n",
    "\n",
    "        # Create a new column with the frequencies of this category\n",
    "        df[str('freq - ' + cat)] = pd.Series(cat_frequencies)\n",
    "\n",
    "    return df\n",
    "\n",
    "\n",
    "# Apply the function\n",
    "loop_frequencies_calculation(ngrams_reduced)"
   ]
  },
  {
   "cell_type": "code",
   "execution_count": 10,
   "id": "respected-gamma",
   "metadata": {
    "collapsed": true,
    "jupyter": {
     "outputs_hidden": true
    },
    "tags": []
   },
   "outputs": [
    {
     "name": "stdout",
     "output_type": "stream",
     "text": [
      "Shape of the dataset: (38867, 21)\n",
      "\n",
      "Columns types of the dataset: \n",
      "n_gram_size                        object\n",
      "pattern                            object\n",
      "global_occurences                   int64\n",
      "fish meat eggs                      int64\n",
      "sugary snacks                       int64\n",
      "cereals and potatoes                int64\n",
      "milk and dairy products             int64\n",
      "fat and sauces                      int64\n",
      "fruits and vegetables               int64\n",
      "salty snacks                        int64\n",
      "beverages                           int64\n",
      "composite foods                     int64\n",
      "freq - fish meat eggs             float64\n",
      "freq - sugary snacks              float64\n",
      "freq - cereals and potatoes       float64\n",
      "freq - milk and dairy products    float64\n",
      "freq - fat and sauces             float64\n",
      "freq - fruits and vegetables      float64\n",
      "freq - salty snacks               float64\n",
      "freq - beverages                  float64\n",
      "freq - composite foods            float64\n",
      "dtype: object\n",
      "\n",
      "Head of the dataset:\n"
     ]
    },
    {
     "data": {
      "text/html": [
       "<div>\n",
       "<style scoped>\n",
       "    .dataframe tbody tr th:only-of-type {\n",
       "        vertical-align: middle;\n",
       "    }\n",
       "\n",
       "    .dataframe tbody tr th {\n",
       "        vertical-align: top;\n",
       "    }\n",
       "\n",
       "    .dataframe thead th {\n",
       "        text-align: right;\n",
       "    }\n",
       "</style>\n",
       "<table border=\"1\" class=\"dataframe\">\n",
       "  <thead>\n",
       "    <tr style=\"text-align: right;\">\n",
       "      <th></th>\n",
       "      <th>n_gram_size</th>\n",
       "      <th>pattern</th>\n",
       "      <th>global_occurences</th>\n",
       "      <th>fish meat eggs</th>\n",
       "      <th>sugary snacks</th>\n",
       "      <th>cereals and potatoes</th>\n",
       "      <th>milk and dairy products</th>\n",
       "      <th>fat and sauces</th>\n",
       "      <th>fruits and vegetables</th>\n",
       "      <th>salty snacks</th>\n",
       "      <th>...</th>\n",
       "      <th>composite foods</th>\n",
       "      <th>freq - fish meat eggs</th>\n",
       "      <th>freq - sugary snacks</th>\n",
       "      <th>freq - cereals and potatoes</th>\n",
       "      <th>freq - milk and dairy products</th>\n",
       "      <th>freq - fat and sauces</th>\n",
       "      <th>freq - fruits and vegetables</th>\n",
       "      <th>freq - salty snacks</th>\n",
       "      <th>freq - beverages</th>\n",
       "      <th>freq - composite foods</th>\n",
       "    </tr>\n",
       "  </thead>\n",
       "  <tbody>\n",
       "    <tr>\n",
       "      <th>0</th>\n",
       "      <td>1-grams</td>\n",
       "      <td>('sucre',)</td>\n",
       "      <td>268175</td>\n",
       "      <td>23256</td>\n",
       "      <td>85227</td>\n",
       "      <td>23156</td>\n",
       "      <td>34745</td>\n",
       "      <td>11009</td>\n",
       "      <td>23536</td>\n",
       "      <td>14603</td>\n",
       "      <td>...</td>\n",
       "      <td>32746</td>\n",
       "      <td>0.087</td>\n",
       "      <td>0.318</td>\n",
       "      <td>0.086</td>\n",
       "      <td>0.130</td>\n",
       "      <td>0.041</td>\n",
       "      <td>0.088</td>\n",
       "      <td>0.054</td>\n",
       "      <td>0.074</td>\n",
       "      <td>0.122</td>\n",
       "    </tr>\n",
       "    <tr>\n",
       "      <th>1</th>\n",
       "      <td>1-grams</td>\n",
       "      <td>('sel',)</td>\n",
       "      <td>262603</td>\n",
       "      <td>44526</td>\n",
       "      <td>38631</td>\n",
       "      <td>22952</td>\n",
       "      <td>22495</td>\n",
       "      <td>14217</td>\n",
       "      <td>16096</td>\n",
       "      <td>25072</td>\n",
       "      <td>...</td>\n",
       "      <td>70507</td>\n",
       "      <td>0.170</td>\n",
       "      <td>0.147</td>\n",
       "      <td>0.087</td>\n",
       "      <td>0.086</td>\n",
       "      <td>0.054</td>\n",
       "      <td>0.061</td>\n",
       "      <td>0.095</td>\n",
       "      <td>0.031</td>\n",
       "      <td>0.268</td>\n",
       "    </tr>\n",
       "    <tr>\n",
       "      <th>2</th>\n",
       "      <td>1-grams</td>\n",
       "      <td>('ingredient',)</td>\n",
       "      <td>175998</td>\n",
       "      <td>23229</td>\n",
       "      <td>38021</td>\n",
       "      <td>18434</td>\n",
       "      <td>19928</td>\n",
       "      <td>8964</td>\n",
       "      <td>15270</td>\n",
       "      <td>13398</td>\n",
       "      <td>...</td>\n",
       "      <td>25482</td>\n",
       "      <td>0.132</td>\n",
       "      <td>0.216</td>\n",
       "      <td>0.105</td>\n",
       "      <td>0.113</td>\n",
       "      <td>0.051</td>\n",
       "      <td>0.087</td>\n",
       "      <td>0.076</td>\n",
       "      <td>0.075</td>\n",
       "      <td>0.145</td>\n",
       "    </tr>\n",
       "    <tr>\n",
       "      <th>3</th>\n",
       "      <td>1-grams</td>\n",
       "      <td>('gras',)</td>\n",
       "      <td>153330</td>\n",
       "      <td>22344</td>\n",
       "      <td>26717</td>\n",
       "      <td>14921</td>\n",
       "      <td>18967</td>\n",
       "      <td>9457</td>\n",
       "      <td>10093</td>\n",
       "      <td>18211</td>\n",
       "      <td>...</td>\n",
       "      <td>24038</td>\n",
       "      <td>0.146</td>\n",
       "      <td>0.174</td>\n",
       "      <td>0.097</td>\n",
       "      <td>0.124</td>\n",
       "      <td>0.062</td>\n",
       "      <td>0.066</td>\n",
       "      <td>0.119</td>\n",
       "      <td>0.056</td>\n",
       "      <td>0.157</td>\n",
       "    </tr>\n",
       "    <tr>\n",
       "      <th>4</th>\n",
       "      <td>1-grams</td>\n",
       "      <td>('lait',)</td>\n",
       "      <td>152570</td>\n",
       "      <td>7755</td>\n",
       "      <td>41706</td>\n",
       "      <td>9879</td>\n",
       "      <td>58044</td>\n",
       "      <td>3496</td>\n",
       "      <td>1572</td>\n",
       "      <td>6425</td>\n",
       "      <td>...</td>\n",
       "      <td>22578</td>\n",
       "      <td>0.051</td>\n",
       "      <td>0.273</td>\n",
       "      <td>0.065</td>\n",
       "      <td>0.380</td>\n",
       "      <td>0.023</td>\n",
       "      <td>0.010</td>\n",
       "      <td>0.042</td>\n",
       "      <td>0.007</td>\n",
       "      <td>0.148</td>\n",
       "    </tr>\n",
       "  </tbody>\n",
       "</table>\n",
       "<p>5 rows × 21 columns</p>\n",
       "</div>"
      ],
      "text/plain": [
       "  n_gram_size          pattern  global_occurences  fish meat eggs  \\\n",
       "0     1-grams       ('sucre',)             268175           23256   \n",
       "1     1-grams         ('sel',)             262603           44526   \n",
       "2     1-grams  ('ingredient',)             175998           23229   \n",
       "3     1-grams        ('gras',)             153330           22344   \n",
       "4     1-grams        ('lait',)             152570            7755   \n",
       "\n",
       "   sugary snacks  cereals and potatoes  milk and dairy products  \\\n",
       "0          85227                 23156                    34745   \n",
       "1          38631                 22952                    22495   \n",
       "2          38021                 18434                    19928   \n",
       "3          26717                 14921                    18967   \n",
       "4          41706                  9879                    58044   \n",
       "\n",
       "   fat and sauces  fruits and vegetables  salty snacks  ...  composite foods  \\\n",
       "0           11009                  23536         14603  ...            32746   \n",
       "1           14217                  16096         25072  ...            70507   \n",
       "2            8964                  15270         13398  ...            25482   \n",
       "3            9457                  10093         18211  ...            24038   \n",
       "4            3496                   1572          6425  ...            22578   \n",
       "\n",
       "   freq - fish meat eggs  freq - sugary snacks  freq - cereals and potatoes  \\\n",
       "0                  0.087                 0.318                        0.086   \n",
       "1                  0.170                 0.147                        0.087   \n",
       "2                  0.132                 0.216                        0.105   \n",
       "3                  0.146                 0.174                        0.097   \n",
       "4                  0.051                 0.273                        0.065   \n",
       "\n",
       "   freq - milk and dairy products  freq - fat and sauces  \\\n",
       "0                           0.130                  0.041   \n",
       "1                           0.086                  0.054   \n",
       "2                           0.113                  0.051   \n",
       "3                           0.124                  0.062   \n",
       "4                           0.380                  0.023   \n",
       "\n",
       "   freq - fruits and vegetables  freq - salty snacks  freq - beverages  \\\n",
       "0                         0.088                0.054             0.074   \n",
       "1                         0.061                0.095             0.031   \n",
       "2                         0.087                0.076             0.075   \n",
       "3                         0.066                0.119             0.056   \n",
       "4                         0.010                0.042             0.007   \n",
       "\n",
       "   freq - composite foods  \n",
       "0                   0.122  \n",
       "1                   0.268  \n",
       "2                   0.145  \n",
       "3                   0.157  \n",
       "4                   0.148  \n",
       "\n",
       "[5 rows x 21 columns]"
      ]
     },
     "metadata": {},
     "output_type": "display_data"
    },
    {
     "name": "stdout",
     "output_type": "stream",
     "text": [
      "time: 24.5 ms (started: 2021-03-03 09:58:08 +01:00)\n"
     ]
    }
   ],
   "source": [
    "# Brief look at the dataset\n",
    "print(f\"\"\"Shape of the dataset: {ngrams_reduced.shape}\n",
    "\"\"\")\n",
    "print(f\"\"\"Columns types of the dataset: \n",
    "{ngrams_reduced.dtypes}\n",
    "\"\"\")\n",
    "print(\"Head of the dataset:\")\n",
    "display(ngrams_reduced.head())"
   ]
  },
  {
   "cell_type": "code",
   "execution_count": 11,
   "id": "international-carnival",
   "metadata": {},
   "outputs": [
    {
     "data": {
      "text/plain": [
       "Index(['n_gram_size', 'pattern', 'global_occurences', 'fish meat eggs',\n",
       "       'sugary snacks', 'cereals and potatoes', 'milk and dairy products',\n",
       "       'fat and sauces', 'fruits and vegetables', 'salty snacks', 'beverages',\n",
       "       'composite foods', 'freq - fish meat eggs', 'freq - sugary snacks',\n",
       "       'freq - cereals and potatoes', 'freq - milk and dairy products',\n",
       "       'freq - fat and sauces', 'freq - fruits and vegetables',\n",
       "       'freq - salty snacks', 'freq - beverages', 'freq - composite foods'],\n",
       "      dtype='object')"
      ]
     },
     "execution_count": 11,
     "metadata": {},
     "output_type": "execute_result"
    },
    {
     "name": "stdout",
     "output_type": "stream",
     "text": [
      "time: 3.57 ms (started: 2021-03-03 10:02:05 +01:00)\n"
     ]
    }
   ],
   "source": [
    "ngrams_reduced.columns"
   ]
  },
  {
   "cell_type": "code",
   "execution_count": 12,
   "id": "macro-cologne",
   "metadata": {},
   "outputs": [
    {
     "name": "stdout",
     "output_type": "stream",
     "text": [
      "time: 9.66 ms (started: 2021-03-03 10:04:28 +01:00)\n"
     ]
    }
   ],
   "source": [
    "# Drop columns\n",
    "ngrams_frequencies_columns = ['n_gram_size', \n",
    "                              'pattern', \n",
    "                              'freq - fish meat eggs', \n",
    "                              'freq - sugary snacks', \n",
    "                              'freq - cereals and potatoes', \n",
    "                              'freq - milk and dairy products', \n",
    "                              'freq - fat and sauces', \n",
    "                              'freq - fruits and vegetables', \n",
    "                              'freq - salty snacks', \n",
    "                              'freq - beverages', \n",
    "                              'freq - composite foods',\n",
    "                             ]\n",
    "ngrams_frequencies = ngrams_reduced[ngrams_frequencies_columns].copy()"
   ]
  },
  {
   "cell_type": "code",
   "execution_count": 18,
   "id": "tribal-wyoming",
   "metadata": {
    "collapsed": true,
    "jupyter": {
     "outputs_hidden": true
    },
    "tags": []
   },
   "outputs": [
    {
     "name": "stdout",
     "output_type": "stream",
     "text": [
      "Shape of the dataset: (38867, 11)\n",
      "\n",
      "Columns types of the dataset: \n",
      "n_gram_size                        object\n",
      "pattern                            object\n",
      "freq - fish meat eggs             float64\n",
      "freq - sugary snacks              float64\n",
      "freq - cereals and potatoes       float64\n",
      "freq - milk and dairy products    float64\n",
      "freq - fat and sauces             float64\n",
      "freq - fruits and vegetables      float64\n",
      "freq - salty snacks               float64\n",
      "freq - beverages                  float64\n",
      "freq - composite foods            float64\n",
      "dtype: object\n",
      "\n",
      "Head of the dataset:\n"
     ]
    },
    {
     "data": {
      "text/html": [
       "<div>\n",
       "<style scoped>\n",
       "    .dataframe tbody tr th:only-of-type {\n",
       "        vertical-align: middle;\n",
       "    }\n",
       "\n",
       "    .dataframe tbody tr th {\n",
       "        vertical-align: top;\n",
       "    }\n",
       "\n",
       "    .dataframe thead th {\n",
       "        text-align: right;\n",
       "    }\n",
       "</style>\n",
       "<table border=\"1\" class=\"dataframe\">\n",
       "  <thead>\n",
       "    <tr style=\"text-align: right;\">\n",
       "      <th></th>\n",
       "      <th>n_gram_size</th>\n",
       "      <th>pattern</th>\n",
       "      <th>freq - fish meat eggs</th>\n",
       "      <th>freq - sugary snacks</th>\n",
       "      <th>freq - cereals and potatoes</th>\n",
       "      <th>freq - milk and dairy products</th>\n",
       "      <th>freq - fat and sauces</th>\n",
       "      <th>freq - fruits and vegetables</th>\n",
       "      <th>freq - salty snacks</th>\n",
       "      <th>freq - beverages</th>\n",
       "      <th>freq - composite foods</th>\n",
       "    </tr>\n",
       "  </thead>\n",
       "  <tbody>\n",
       "    <tr>\n",
       "      <th>0</th>\n",
       "      <td>1-grams</td>\n",
       "      <td>('sucre',)</td>\n",
       "      <td>0.087</td>\n",
       "      <td>0.318</td>\n",
       "      <td>0.086</td>\n",
       "      <td>0.130</td>\n",
       "      <td>0.041</td>\n",
       "      <td>0.088</td>\n",
       "      <td>0.054</td>\n",
       "      <td>0.074</td>\n",
       "      <td>0.122</td>\n",
       "    </tr>\n",
       "    <tr>\n",
       "      <th>1</th>\n",
       "      <td>1-grams</td>\n",
       "      <td>('sel',)</td>\n",
       "      <td>0.170</td>\n",
       "      <td>0.147</td>\n",
       "      <td>0.087</td>\n",
       "      <td>0.086</td>\n",
       "      <td>0.054</td>\n",
       "      <td>0.061</td>\n",
       "      <td>0.095</td>\n",
       "      <td>0.031</td>\n",
       "      <td>0.268</td>\n",
       "    </tr>\n",
       "    <tr>\n",
       "      <th>2</th>\n",
       "      <td>1-grams</td>\n",
       "      <td>('ingredient',)</td>\n",
       "      <td>0.132</td>\n",
       "      <td>0.216</td>\n",
       "      <td>0.105</td>\n",
       "      <td>0.113</td>\n",
       "      <td>0.051</td>\n",
       "      <td>0.087</td>\n",
       "      <td>0.076</td>\n",
       "      <td>0.075</td>\n",
       "      <td>0.145</td>\n",
       "    </tr>\n",
       "    <tr>\n",
       "      <th>3</th>\n",
       "      <td>1-grams</td>\n",
       "      <td>('gras',)</td>\n",
       "      <td>0.146</td>\n",
       "      <td>0.174</td>\n",
       "      <td>0.097</td>\n",
       "      <td>0.124</td>\n",
       "      <td>0.062</td>\n",
       "      <td>0.066</td>\n",
       "      <td>0.119</td>\n",
       "      <td>0.056</td>\n",
       "      <td>0.157</td>\n",
       "    </tr>\n",
       "    <tr>\n",
       "      <th>4</th>\n",
       "      <td>1-grams</td>\n",
       "      <td>('lait',)</td>\n",
       "      <td>0.051</td>\n",
       "      <td>0.273</td>\n",
       "      <td>0.065</td>\n",
       "      <td>0.380</td>\n",
       "      <td>0.023</td>\n",
       "      <td>0.010</td>\n",
       "      <td>0.042</td>\n",
       "      <td>0.007</td>\n",
       "      <td>0.148</td>\n",
       "    </tr>\n",
       "  </tbody>\n",
       "</table>\n",
       "</div>"
      ],
      "text/plain": [
       "  n_gram_size          pattern  freq - fish meat eggs  freq - sugary snacks  \\\n",
       "0     1-grams       ('sucre',)                  0.087                 0.318   \n",
       "1     1-grams         ('sel',)                  0.170                 0.147   \n",
       "2     1-grams  ('ingredient',)                  0.132                 0.216   \n",
       "3     1-grams        ('gras',)                  0.146                 0.174   \n",
       "4     1-grams        ('lait',)                  0.051                 0.273   \n",
       "\n",
       "   freq - cereals and potatoes  freq - milk and dairy products  \\\n",
       "0                        0.086                           0.130   \n",
       "1                        0.087                           0.086   \n",
       "2                        0.105                           0.113   \n",
       "3                        0.097                           0.124   \n",
       "4                        0.065                           0.380   \n",
       "\n",
       "   freq - fat and sauces  freq - fruits and vegetables  freq - salty snacks  \\\n",
       "0                  0.041                         0.088                0.054   \n",
       "1                  0.054                         0.061                0.095   \n",
       "2                  0.051                         0.087                0.076   \n",
       "3                  0.062                         0.066                0.119   \n",
       "4                  0.023                         0.010                0.042   \n",
       "\n",
       "   freq - beverages  freq - composite foods  \n",
       "0             0.074                   0.122  \n",
       "1             0.031                   0.268  \n",
       "2             0.075                   0.145  \n",
       "3             0.056                   0.157  \n",
       "4             0.007                   0.148  "
      ]
     },
     "metadata": {},
     "output_type": "display_data"
    },
    {
     "name": "stdout",
     "output_type": "stream",
     "text": [
      "time: 151 ms (started: 2021-03-03 10:24:57 +01:00)\n"
     ]
    }
   ],
   "source": [
    "# Brief look at the dataset\n",
    "print(f\"\"\"Shape of the dataset: {ngrams_frequencies.shape}\n",
    "\"\"\")\n",
    "print(f\"\"\"Columns types of the dataset: \n",
    "{ngrams_frequencies.dtypes}\n",
    "\"\"\")\n",
    "print(\"Head of the dataset:\")\n",
    "display(ngrams_frequencies.head())"
   ]
  },
  {
   "cell_type": "code",
   "execution_count": 19,
   "id": "relative-equipment",
   "metadata": {},
   "outputs": [
    {
     "name": "stdout",
     "output_type": "stream",
     "text": [
      "time: 377 ms (started: 2021-03-03 10:25:42 +01:00)\n"
     ]
    }
   ],
   "source": [
    "# Save ngrams_frequencies dataset to csv\n",
    "ngrams_frequencies.to_csv('../raw_data/ngrams_frequencies.csv', index = False)"
   ]
  },
  {
   "cell_type": "markdown",
   "id": "british-combat",
   "metadata": {
    "heading_collapsed": "true",
    "tags": []
   },
   "source": [
    "## 2. Transpose datasets of N-grams (Tidy Data shape)"
   ]
  },
  {
   "cell_type": "markdown",
   "id": "white-consideration",
   "metadata": {},
   "source": [
    "file ='../OpenFoodFacts/data/ngrams_frequencies.csv'\n",
    "ngrams_frequencies_base = pd.read_csv(file)"
   ]
  },
  {
   "cell_type": "markdown",
   "id": "comic-thinking",
   "metadata": {},
   "source": [
    "ngrams_frequencies = ngrams_frequencies_base.copy()\n",
    "ngrams_frequencies.head()"
   ]
  },
  {
   "cell_type": "markdown",
   "id": "republican-startup",
   "metadata": {},
   "source": [
    "ngrams_frequencies.columns"
   ]
  },
  {
   "cell_type": "markdown",
   "id": "finnish-pride",
   "metadata": {},
   "source": [
    "ngrams_frequencies_col = ['freq - fish meat eggs', 'freq - sugary snacks', 'freq - cereals and potatoes', 'freq - milk and dairy products', 'freq - fat and sauces', 'freq - fruits and vegetables', 'freq - salty snacks', 'freq - beverages', 'freq - composite foods']"
   ]
  },
  {
   "cell_type": "markdown",
   "id": "circular-sending",
   "metadata": {},
   "source": [
    "pattern_frequencies = pd.DataFrame(ngrams_frequencies.set_index(['pattern', 'n_gram_size']).stack())"
   ]
  },
  {
   "cell_type": "markdown",
   "id": "sitting-recall",
   "metadata": {},
   "source": [
    "type(ngrams_frequencies)"
   ]
  },
  {
   "cell_type": "markdown",
   "id": "parliamentary-imagination",
   "metadata": {},
   "source": [
    "type(pattern_frequencies)"
   ]
  },
  {
   "cell_type": "markdown",
   "id": "british-button",
   "metadata": {},
   "source": [
    "pattern_frequencies[:10]"
   ]
  },
  {
   "cell_type": "markdown",
   "id": "sublime-roads",
   "metadata": {},
   "source": [
    "pattern_frequencies.head()"
   ]
  },
  {
   "cell_type": "markdown",
   "id": "lyric-baseball",
   "metadata": {},
   "source": [
    "pattern_frequencies.unstack()"
   ]
  }
 ],
 "metadata": {
  "kernelspec": {
   "display_name": "Python 3",
   "language": "python",
   "name": "python3"
  },
  "language_info": {
   "codemirror_mode": {
    "name": "ipython",
    "version": 3
   },
   "file_extension": ".py",
   "mimetype": "text/x-python",
   "name": "python",
   "nbconvert_exporter": "python",
   "pygments_lexer": "ipython3",
   "version": "3.8.6"
  },
  "widgets": {
   "application/vnd.jupyter.widget-state+json": {
    "state": {},
    "version_major": 2,
    "version_minor": 0
   }
  }
 },
 "nbformat": 4,
 "nbformat_minor": 5
}
