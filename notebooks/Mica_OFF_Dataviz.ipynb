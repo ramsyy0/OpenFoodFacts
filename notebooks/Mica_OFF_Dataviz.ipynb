{
  "nbformat": 4,
  "nbformat_minor": 0,
  "metadata": {
    "colab": {
      "name": "Mica_OFF_Dataviz",
      "provenance": [],
      "collapsed_sections": [
        "mvEEd7Iiyptn",
        "gNGjexDYzqa1",
        "NlVyaHXCzEnF",
        "NNYy2uUxrEGO",
        "5oEBIg6NpY8z",
        "ppb2-PxOtrIo",
        "1lvtOgJMtqmD",
        "zUwROxagknof",
        "YM8OBK0FuAGW",
        "UQLQnrnYrLsV",
        "NjfdyvgPrVh0",
        "EhOgsxRMr7WV",
        "4PbTnJPSvPpI",
        "fbzGTCVQX8ex",
        "qjsJ_yIjkO_o",
        "yNu8bSonzaqc",
        "7IBuVWFHzuss"
      ]
    },
    "kernelspec": {
      "name": "python3",
      "display_name": "Python 3"
    }
  },
  "cells": [
    {
      "cell_type": "markdown",
      "metadata": {
        "id": "mvEEd7Iiyptn"
      },
      "source": [
        "## 0. Notebook Parameters\r\n",
        "\r\n",
        "---"
      ]
    },
    {
      "cell_type": "markdown",
      "metadata": {
        "id": "gNGjexDYzqa1"
      },
      "source": [
        "### 0. 1. Notebook Settings"
      ]
    },
    {
      "cell_type": "code",
      "metadata": {
        "id": "RnL_ek7croFZ",
        "colab": {
          "base_uri": "https://localhost:8080/"
        },
        "outputId": "d3bc990a-51e3-4c07-d573-297adb3a69e6"
      },
      "source": [
        "\"\"\"Google Colab settings\"\"\"\n",
        "from google.colab import drive\n",
        "drive.mount('/content/drive', force_remount=True)"
      ],
      "execution_count": null,
      "outputs": [
        {
          "output_type": "stream",
          "text": [
            "Mounted at /content/drive\n"
          ],
          "name": "stdout"
        }
      ]
    },
    {
      "cell_type": "code",
      "metadata": {
        "id": "GiKNfMFx7uCt",
        "colab": {
          "base_uri": "https://localhost:8080/"
        },
        "outputId": "c9a0b085-d998-49fb-9bee-4e6fc022eb30"
      },
      "source": [
        "\"\"\"Jupyter settings\"\"\"\r\n",
        "# Enable autoreload\r\n",
        "%load_ext autoreload\r\n",
        "%autoreload 2\r\n",
        "\r\n",
        "!pip install ipython-autotime\r\n",
        "%load_ext autotime"
      ],
      "execution_count": null,
      "outputs": [
        {
          "output_type": "stream",
          "text": [
            "The autoreload extension is already loaded. To reload it, use:\n",
            "  %reload_ext autoreload\n",
            "Requirement already satisfied: ipython-autotime in /usr/local/lib/python3.7/dist-packages (0.3.1)\n",
            "Requirement already satisfied: ipython in /usr/local/lib/python3.7/dist-packages (from ipython-autotime) (5.5.0)\n",
            "Requirement already satisfied: pygments in /usr/local/lib/python3.7/dist-packages (from ipython->ipython-autotime) (2.6.1)\n",
            "Requirement already satisfied: decorator in /usr/local/lib/python3.7/dist-packages (from ipython->ipython-autotime) (4.4.2)\n",
            "Requirement already satisfied: prompt-toolkit<2.0.0,>=1.0.4 in /usr/local/lib/python3.7/dist-packages (from ipython->ipython-autotime) (1.0.18)\n",
            "Requirement already satisfied: setuptools>=18.5 in /usr/local/lib/python3.7/dist-packages (from ipython->ipython-autotime) (53.0.0)\n",
            "Requirement already satisfied: pickleshare in /usr/local/lib/python3.7/dist-packages (from ipython->ipython-autotime) (0.7.5)\n",
            "Requirement already satisfied: simplegeneric>0.8 in /usr/local/lib/python3.7/dist-packages (from ipython->ipython-autotime) (0.8.1)\n",
            "Requirement already satisfied: pexpect; sys_platform != \"win32\" in /usr/local/lib/python3.7/dist-packages (from ipython->ipython-autotime) (4.8.0)\n",
            "Requirement already satisfied: traitlets>=4.2 in /usr/local/lib/python3.7/dist-packages (from ipython->ipython-autotime) (4.3.3)\n",
            "Requirement already satisfied: six>=1.9.0 in /usr/local/lib/python3.7/dist-packages (from prompt-toolkit<2.0.0,>=1.0.4->ipython->ipython-autotime) (1.15.0)\n",
            "Requirement already satisfied: wcwidth in /usr/local/lib/python3.7/dist-packages (from prompt-toolkit<2.0.0,>=1.0.4->ipython->ipython-autotime) (0.2.5)\n",
            "Requirement already satisfied: ptyprocess>=0.5 in /usr/local/lib/python3.7/dist-packages (from pexpect; sys_platform != \"win32\"->ipython->ipython-autotime) (0.7.0)\n",
            "Requirement already satisfied: ipython-genutils in /usr/local/lib/python3.7/dist-packages (from traitlets>=4.2->ipython->ipython-autotime) (0.2.0)\n",
            "The autotime extension is already loaded. To reload it, use:\n",
            "  %reload_ext autotime\n",
            "time: 3.16 s (started: 2021-02-26 13:03:21 +00:00)\n"
          ],
          "name": "stdout"
        }
      ]
    },
    {
      "cell_type": "markdown",
      "metadata": {
        "id": "NlVyaHXCzEnF"
      },
      "source": [
        "### 0. 2. Imported Packages"
      ]
    },
    {
      "cell_type": "code",
      "metadata": {
        "id": "nrG94G1Du5-o",
        "colab": {
          "base_uri": "https://localhost:8080/"
        },
        "outputId": "4167d7a5-9b01-47dd-d62d-a93ac585843a"
      },
      "source": [
        "\"\"\"Packages for manipulation of vectors, arrays, dataframes\"\"\"\n",
        "import numpy as np\n",
        "import pandas as pd\n",
        "pd.set_option('display.max_colwidth', None) # Change display settings of pandas\n",
        "\n",
        "\"\"\"Packages for cleaning dataset\"\"\"\n",
        "import json\n",
        "import string\n",
        "import unicodedata\n",
        "\n",
        "\"\"\"Packages for data visualization\"\"\"\n",
        "from matplotlib import pyplot as plt\n",
        "%matplotlib inline\n",
        "import seaborn as sns"
      ],
      "execution_count": null,
      "outputs": [
        {
          "output_type": "stream",
          "text": [
            "time: 4.85 ms (started: 2021-02-26 13:07:46 +00:00)\n"
          ],
          "name": "stdout"
        }
      ]
    },
    {
      "cell_type": "markdown",
      "metadata": {
        "id": "040I751AnwCQ"
      },
      "source": [
        "## 1. Text Pre-processing\r\n",
        "\r\n",
        "---"
      ]
    },
    {
      "cell_type": "markdown",
      "metadata": {
        "id": "NNYy2uUxrEGO"
      },
      "source": [
        "### 1. 0. Packages Imported"
      ]
    },
    {
      "cell_type": "code",
      "metadata": {
        "id": "csgndvIABbMZ",
        "colab": {
          "base_uri": "https://localhost:8080/"
        },
        "outputId": "8f7dd163-1288-47c4-e0e5-5d9e5dccb9eb"
      },
      "source": [
        "\"\"\"Libraries for text preprocessing\"\"\"\r\n",
        "import re\r\n",
        "import nltk\r\n",
        "nltk.download('stopwords')\r\n",
        "from nltk.corpus import stopwords\r\n",
        "from nltk.stem.porter import PorterStemmer\r\n",
        "from nltk.tokenize import RegexpTokenizer\r\n",
        "nltk.download('wordnet') \r\n",
        "from nltk.stem.wordnet import WordNetLemmatizer"
      ],
      "execution_count": null,
      "outputs": [
        {
          "output_type": "stream",
          "text": [
            "[nltk_data] Downloading package stopwords to /root/nltk_data...\n",
            "[nltk_data]   Unzipping corpora/stopwords.zip.\n",
            "[nltk_data] Downloading package wordnet to /root/nltk_data...\n",
            "[nltk_data]   Unzipping corpora/wordnet.zip.\n",
            "time: 1.82 s (started: 2021-02-26 09:39:45 +00:00)\n"
          ],
          "name": "stdout"
        }
      ]
    },
    {
      "cell_type": "markdown",
      "metadata": {
        "id": "14_Y1LjiMRaP"
      },
      "source": [
        "### 1. 1. Import the Data"
      ]
    },
    {
      "cell_type": "code",
      "metadata": {
        "id": "g58OhscQck0c",
        "colab": {
          "base_uri": "https://localhost:8080/"
        },
        "outputId": "821bd663-033d-4817-c3bf-ee25f07730e4"
      },
      "source": [
        "# Load the whole clean dataset\r\n",
        "file = '/content/drive/My Drive/OFF_Drive/raw_data/ocr_labeled.csv'\r\n",
        "off_df_base = pd.read_csv(file)"
      ],
      "execution_count": null,
      "outputs": [
        {
          "output_type": "stream",
          "text": [
            "time: 8.87 s (started: 2021-02-26 09:40:06 +00:00)\n"
          ],
          "name": "stdout"
        }
      ]
    },
    {
      "cell_type": "code",
      "metadata": {
        "id": "JKmCkJWHczdM",
        "colab": {
          "base_uri": "https://localhost:8080/"
        },
        "outputId": "c7381ca7-14e9-4bd0-e828-0cc8d5dd914f"
      },
      "source": [
        "# Deep copy of the dataframe to avoid to reload it\r\n",
        "off = off_df_base.copy()\r\n",
        "\r\n",
        "# off = off_df[:1000].copy() # sample of the dataset"
      ],
      "execution_count": null,
      "outputs": [
        {
          "output_type": "stream",
          "text": [
            "time: 40.9 ms (started: 2021-02-26 13:19:36 +00:00)\n"
          ],
          "name": "stdout"
        }
      ]
    },
    {
      "cell_type": "code",
      "metadata": {
        "id": "lUkBbLdRa-1m",
        "colab": {
          "base_uri": "https://localhost:8080/",
          "height": 1000
        },
        "outputId": "3833e3f9-eb4a-46ed-f4f4-1ad669ff8f3d"
      },
      "source": [
        "# Brief look at the dataset\r\n",
        "print(f\"\"\"\r\n",
        "Shape of the dataset: {off.shape}\r\n",
        "\r\n",
        "Columns types of the dataset: \r\n",
        "{off.dtypes}\r\n",
        "    \"\"\")\r\n",
        "print(\"\"\"\r\n",
        "Head of the dataset:\r\n",
        "    \"\"\")\r\n",
        "display(off.head())"
      ],
      "execution_count": null,
      "outputs": [
        {
          "output_type": "stream",
          "text": [
            "\n",
            "Shape of the dataset: (434896, 6)\n",
            "\n",
            "Columns types of the dataset: \n",
            "barcode           int64\n",
            "clean_text       object\n",
            "fr_text          object\n",
            "source           object\n",
            "pnns_groups_1    object\n",
            "pnns_groups_2    object\n",
            "dtype: object\n",
            "    \n",
            "\n",
            "Head of the dataset:\n",
            "    \n"
          ],
          "name": "stdout"
        },
        {
          "output_type": "display_data",
          "data": {
            "text/html": [
              "<div>\n",
              "<style scoped>\n",
              "    .dataframe tbody tr th:only-of-type {\n",
              "        vertical-align: middle;\n",
              "    }\n",
              "\n",
              "    .dataframe tbody tr th {\n",
              "        vertical-align: top;\n",
              "    }\n",
              "\n",
              "    .dataframe thead th {\n",
              "        text-align: right;\n",
              "    }\n",
              "</style>\n",
              "<table border=\"1\" class=\"dataframe\">\n",
              "  <thead>\n",
              "    <tr style=\"text-align: right;\">\n",
              "      <th></th>\n",
              "      <th>barcode</th>\n",
              "      <th>clean_text</th>\n",
              "      <th>fr_text</th>\n",
              "      <th>source</th>\n",
              "      <th>pnns_groups_1</th>\n",
              "      <th>pnns_groups_2</th>\n",
              "    </tr>\n",
              "  </thead>\n",
              "  <tbody>\n",
              "    <tr>\n",
              "      <th>0</th>\n",
              "      <td>3199660476748</td>\n",
              "      <td>ne eleve abattu en bretagne les eleveurs de bretagne decoupe de podlet noir ferfier labe caracteristiques certifiees fermiereleve en plein air duree delevage  jours minimum  de cereales alimente avec  de vegetaux mineraux et vitamines do mation  voir etiquette poidsprix a conserver entre oc et c a consommer cuit a caeurdate limite de co  le rheu certifie par certisimmeuble le millepertuis les landes dap produit frais classe a pour toute reclamation sadresser a fermiers dargoat bp ploufragan decoupe et conditionne par ldc bretagne bp  quintin homologation n la   ce  abattoir agree nfr  ce fltplt ferlr sat elbretpf  origine france yo volaise prixtrg poids net prix a payer kg lot    r consommer jusqu au r conserver entre o c et  c  expedie le  loc bretagne  lanfains  e a   au trit aste wwwconsignesdetrfr</td>\n",
              "      <td>NE\\nELEVE\\nABATTU\\nEN BRETAGNE\\nLES ÉLEVEURS\\nDE BRETAGNE\\nDécoupe de\\nPodlet noir\\nferfier\\nlabe\\nCaractéristiques certifiées: Fermier-élevé en plein air. Durée d'élevage 81 jours minimum.\\n75% de céréales.\\nAlimenté avec 100% de végétaux, minéraux et vitamines do mation : voir étiquette poids/prix\\nA conserver entre O°C et +4°C -A consommer cuit à caeur-Date limite de co 35650 Le Rheu\\nCertifié par: CERTIS-Immeuble Le Millepertuis- Les Landes d'Ap\\nProduit frais\\nClasse A\\nPour toute réclamation, s'adresser à\\nFERMIERS D'ARGOAT: BP77-22440 PLOUFRAGAN\\nDécoupé et conditionné par: LDC Bretagne BP 256-2280 QUINTIN\\nHomologation\\nN° LA/02/75\\n099 002\\nCE\\n2\\nAbattoir agréé n'FR 22.099.002 CE\\n2FLT.PLT FER.LR SAT\\nEL.BRET.PF 2\\nORIGINE France\\nyo\\nVOLAISE\\nPrixtrg\\nPoids net\\nPrix a payer\\n0,240kg\\nLot\\n005809 19 45\\nR consommer jusqu au\\nR conserver entre O C et +4 C\\n10/04/18\\nExpedie Le 30/03/18\\nLOC BRETAGNE 22 LANFAINS\\n22.039.002\\ne01\\n172225-0/196A\\n3 19966014\\nAU TRIT ASTE\\nwww.CONSIGNESDETRFR\\n</td>\n",
              "      <td>/319/966/047/6748/1.json</td>\n",
              "      <td>fish meat eggs</td>\n",
              "      <td>meat</td>\n",
              "    </tr>\n",
              "    <tr>\n",
              "      <th>1</th>\n",
              "      <td>3199660219192</td>\n",
              "      <td>ker chant  local decoupes de poulet conditionne par ldc bretagne lanfains   rais classe a origine france prodtre  et c offre speciale ne eleve prepare  local dans notre region cuisdej plt sat kerchant fx  origine france volaille francaise prixkg paids net prin apayer kg to  a consommer jusqu au  r conserver entre d c et  c expedie le loc bretagne  lanfains   autrit pens</td>\n",
              "      <td>Ker\\nchant\\n100% LOCAL\\nDecoupes de\\nPOULET\\nConditionné par LDC Bretagne\\nLanfains (22) 18\\nrais Classe A\\nOrigine FRANCE. Prodtre 0 et +4\"C\\nOFFRE\\nSPECIALE\\nNE ELEVE PREPARE\\n100% LOCAL\\nDANS NOTRE REGION\\n1CUIS.DEJ. PLT SAT\\nKERCHANT FX 1\\nORIGINE France\\nVOLAILLE\\nFRANÇAISE\\nPrix/kg\\nPaids net\\nPrin apayer\\n1,000kg\\nto\\n005806444\\nA consommer jusqu au\\n27/09/18\\nR conserver entre D C et 4 C\\nExpedie Le\\nLOC BRETAGNE 22 LANFAINS\\n2.09.02\\n256-106-0/1818\\nAUTRIT\\nPENS\\n3 199660112 19192\\n</td>\n",
              "      <td>/319/966/021/9192/1.json</td>\n",
              "      <td>fish meat eggs</td>\n",
              "      <td>meat</td>\n",
              "    </tr>\n",
              "    <tr>\n",
              "      <th>2</th>\n",
              "      <td>3199660219192</td>\n",
              "      <td>cuisdej plt sat kerchant fx  origine france volaille francaise prixkg poids net prix a payer kg  a consommer jusquau r conserver entre oc et  c expedie le  loc bretagne  lanfains  ce   e     pensez au tri barquette et film plastique ajeter consigne pouvantvarier localement wwwconsignesdetrlfr</td>\n",
              "      <td>1CUIS.DEJ. PLT SAT\\nKERCHANT FX 1\\nORIGINE France\\nVOLAILLE\\nFRANCAISE\\nPrix/kg\\nPoids net\\nPrix a payer\\n1,000kg\\n0058064444\\nA consommer jusqu'au\\nR conserver entre OC et 4 C\\nExpedie Le\\n27/09/18\\nLOC BRETAGNE 22 LANFAINS\\n22.099.002\\nCE\\n256 106-0/1818\\ne03\\n3 199 660112 191921\\nPENSEZ\\nAU TRI!\\nBARQUETTE ET\\nFILM PLASTIQUE\\nAJETER\\nCONSIGNE POUVANTVARIER LOCALEMENT\\nwww.CONSIGNESDETRLFR\\n</td>\n",
              "      <td>/319/966/021/9192/2.json</td>\n",
              "      <td>fish meat eggs</td>\n",
              "      <td>meat</td>\n",
              "    </tr>\n",
              "    <tr>\n",
              "      <th>3</th>\n",
              "      <td>3199660747848</td>\n",
              "      <td>ker chant  logal decoupes de poulet cooduogne pnm lin ne eleve prepare  local aiguillette poulet gr dans not origine france prixiky tui et prix a pavar kg region  lot  consommer jusquau  r conserver entre  cet c expedie le  loc bretrgne  lrnfrins   a pense au tri</td>\n",
              "      <td>Ker\\nChant\\n100% LOGAL\\nDécoupes de\\nPOULET\\nCooduogne pNM LIN\\nNE\\nELEVE\\nPREPARE\\n100% LOCAL\\nAIGUILLETTE POULET\\n500GR\\nDANS NOT\\nORIGINE France\\nPrixiky\\ntui et\\nPrix a pavar\\n0,500kg\\nREGION\\n0059308701\\nLot\\n8 consommer JusQU'au\\n27/12/19\\nR conserver entre 0 Cet 4C\\nExpedie Le 18/12/13\\nLOC BRETRGNE 22 LRNFRINS\\n22 088.002\\n38397-0/6A\\nPENSE\\nAU TRI\\n3 1996601747848\\n</td>\n",
              "      <td>/319/966/074/7848/1.json</td>\n",
              "      <td>fish meat eggs</td>\n",
              "      <td>meat</td>\n",
              "    </tr>\n",
              "    <tr>\n",
              "      <th>4</th>\n",
              "      <td>3196203800091</td>\n",
              "      <td>preparation deshydratee aromatisee et coloree pour sucre pour barbe a papa parfum fraise ingredients sucre dextrose colorant e arome antiagglomerant dioxyde de silicium nano peut contenir des traces de gluten oeuf soja lait fruits a coque  g produit deshydrate  pour  g de poids net valeur energetique kcal valeur energetique kj matieres grasses   g dont acides gras satures glucides dont sucres proteines sel traces  g  g traces  g   falbrique en fra par emb</td>\n",
              "      <td>PREPARATION DÉSHYDRATÉE, AROMATISÉE ET COLOREE\\nPOUR SUCRE POUR BARBE À PAPA PARFUM FRAISE\\nINGREDIENTS Sucre. Dextrose. Colorant: E120, Aróme\\nAntiagglomérant: dioxyde de silicium [nano]. Peut contenir\\ndes traces de gluten, oeuf, soja, lait, fruits à coque.\\n500 g\\nproduit déshydraté\\n409\\nPour 100 g de\\nPoids net\\nValeur énergétique kcal\\nValeur énergétique kJ\\nMatières grasses\\n1736\\n&lt;0,9 g\\ndont acides gras saturés\\nGlucides\\ndont sucres\\nProteines\\nSel\\nTraces\\n99,7 g\\n99,6 g\\nTraces\\n&lt;0,1 g\\n380 007\\nFalbriqué en Fra\\nPar EMB 51\\n</td>\n",
              "      <td>/319/620/380/0091/1.json</td>\n",
              "      <td>sugary snacks</td>\n",
              "      <td>sweets</td>\n",
              "    </tr>\n",
              "  </tbody>\n",
              "</table>\n",
              "</div>"
            ],
            "text/plain": [
              "         barcode  ... pnns_groups_2\n",
              "0  3199660476748  ...          meat\n",
              "1  3199660219192  ...          meat\n",
              "2  3199660219192  ...          meat\n",
              "3  3199660747848  ...          meat\n",
              "4  3196203800091  ...        sweets\n",
              "\n",
              "[5 rows x 6 columns]"
            ]
          },
          "metadata": {
            "tags": []
          }
        },
        {
          "output_type": "stream",
          "text": [
            "time: 18.4 ms (started: 2021-02-26 13:19:59 +00:00)\n"
          ],
          "name": "stdout"
        }
      ]
    },
    {
      "cell_type": "markdown",
      "metadata": {
        "id": "5oEBIg6NpY8z"
      },
      "source": [
        "### 1. 2. Preliminary Text Exploration"
      ]
    },
    {
      "cell_type": "markdown",
      "metadata": {
        "id": "ppb2-PxOtrIo"
      },
      "source": [
        "#### Get Count per Feature"
      ]
    },
    {
      "cell_type": "code",
      "metadata": {
        "colab": {
          "base_uri": "https://localhost:8080/"
        },
        "id": "JF0BIDclpdcg",
        "outputId": "eeb31164-e236-4950-cd83-b6a273082861"
      },
      "source": [
        "# Create count column for each feature\r\n",
        "off['barcode_size'] = off['barcode'].apply(lambda x: len(str(x)))\r\n",
        "off['word_count'] = off['clean_text'].apply(lambda x: len(str(x).split(\" \")))\r\n",
        "off['raw_word_count'] = off['fr_text'].apply(lambda x: len(str(x).split(\" \")))\r\n",
        "off['pnns_1_count'] = off['pnns_groups_1'].apply(lambda x: len(str(x).split(\" \")))\r\n",
        "off['pnns_2_count'] = off['pnns_groups_2'].apply(lambda x: len(str(x).split(\" \")))\r\n",
        "\r\n",
        "off = off[['barcode', 'barcode_size',\r\n",
        "              'clean_text', 'word_count',\r\n",
        "              'fr_text', 'raw_word_count',\r\n",
        "              'pnns_groups_1', 'pnns_1_count',\r\n",
        "              'pnns_groups_2', 'pnns_2_count',\r\n",
        "              ]].copy()"
      ],
      "execution_count": null,
      "outputs": [
        {
          "output_type": "stream",
          "text": [
            "time: 4.54 s (started: 2021-02-26 13:20:08 +00:00)\n"
          ],
          "name": "stdout"
        }
      ]
    },
    {
      "cell_type": "code",
      "metadata": {
        "id": "1E02rT4zrjor",
        "colab": {
          "base_uri": "https://localhost:8080/",
          "height": 1000
        },
        "outputId": "5ba78d1e-bd1c-4b57-b2d3-c6b6182af1b3"
      },
      "source": [
        "off.head()"
      ],
      "execution_count": null,
      "outputs": [
        {
          "output_type": "execute_result",
          "data": {
            "text/html": [
              "<div>\n",
              "<style scoped>\n",
              "    .dataframe tbody tr th:only-of-type {\n",
              "        vertical-align: middle;\n",
              "    }\n",
              "\n",
              "    .dataframe tbody tr th {\n",
              "        vertical-align: top;\n",
              "    }\n",
              "\n",
              "    .dataframe thead th {\n",
              "        text-align: right;\n",
              "    }\n",
              "</style>\n",
              "<table border=\"1\" class=\"dataframe\">\n",
              "  <thead>\n",
              "    <tr style=\"text-align: right;\">\n",
              "      <th></th>\n",
              "      <th>barcode</th>\n",
              "      <th>barcode_size</th>\n",
              "      <th>clean_text</th>\n",
              "      <th>word_count</th>\n",
              "      <th>fr_text</th>\n",
              "      <th>raw_word_count</th>\n",
              "      <th>pnns_groups_1</th>\n",
              "      <th>pnns_1_count</th>\n",
              "      <th>pnns_groups_2</th>\n",
              "      <th>pnns_2_count</th>\n",
              "    </tr>\n",
              "  </thead>\n",
              "  <tbody>\n",
              "    <tr>\n",
              "      <th>0</th>\n",
              "      <td>3199660476748</td>\n",
              "      <td>13</td>\n",
              "      <td>ne eleve abattu en bretagne les eleveurs de bretagne decoupe de podlet noir ferfier labe caracteristiques certifiees fermiereleve en plein air duree delevage  jours minimum  de cereales alimente avec  de vegetaux mineraux et vitamines do mation  voir etiquette poidsprix a conserver entre oc et c a consommer cuit a caeurdate limite de co  le rheu certifie par certisimmeuble le millepertuis les landes dap produit frais classe a pour toute reclamation sadresser a fermiers dargoat bp ploufragan decoupe et conditionne par ldc bretagne bp  quintin homologation n la   ce  abattoir agree nfr  ce fltplt ferlr sat elbretpf  origine france yo volaise prixtrg poids net prix a payer kg lot    r consommer jusqu au r conserver entre o c et  c  expedie le  loc bretagne  lanfains  e a   au trit aste wwwconsignesdetrfr</td>\n",
              "      <td>152</td>\n",
              "      <td>NE\\nELEVE\\nABATTU\\nEN BRETAGNE\\nLES ÉLEVEURS\\nDE BRETAGNE\\nDécoupe de\\nPodlet noir\\nferfier\\nlabe\\nCaractéristiques certifiées: Fermier-élevé en plein air. Durée d'élevage 81 jours minimum.\\n75% de céréales.\\nAlimenté avec 100% de végétaux, minéraux et vitamines do mation : voir étiquette poids/prix\\nA conserver entre O°C et +4°C -A consommer cuit à caeur-Date limite de co 35650 Le Rheu\\nCertifié par: CERTIS-Immeuble Le Millepertuis- Les Landes d'Ap\\nProduit frais\\nClasse A\\nPour toute réclamation, s'adresser à\\nFERMIERS D'ARGOAT: BP77-22440 PLOUFRAGAN\\nDécoupé et conditionné par: LDC Bretagne BP 256-2280 QUINTIN\\nHomologation\\nN° LA/02/75\\n099 002\\nCE\\n2\\nAbattoir agréé n'FR 22.099.002 CE\\n2FLT.PLT FER.LR SAT\\nEL.BRET.PF 2\\nORIGINE France\\nyo\\nVOLAISE\\nPrixtrg\\nPoids net\\nPrix a payer\\n0,240kg\\nLot\\n005809 19 45\\nR consommer jusqu au\\nR conserver entre O C et +4 C\\n10/04/18\\nExpedie Le 30/03/18\\nLOC BRETAGNE 22 LANFAINS\\n22.039.002\\ne01\\n172225-0/196A\\n3 19966014\\nAU TRIT ASTE\\nwww.CONSIGNESDETRFR\\n</td>\n",
              "      <td>104</td>\n",
              "      <td>fish meat eggs</td>\n",
              "      <td>3</td>\n",
              "      <td>meat</td>\n",
              "      <td>1</td>\n",
              "    </tr>\n",
              "    <tr>\n",
              "      <th>1</th>\n",
              "      <td>3199660219192</td>\n",
              "      <td>13</td>\n",
              "      <td>ker chant  local decoupes de poulet conditionne par ldc bretagne lanfains   rais classe a origine france prodtre  et c offre speciale ne eleve prepare  local dans notre region cuisdej plt sat kerchant fx  origine france volaille francaise prixkg paids net prin apayer kg to  a consommer jusqu au  r conserver entre d c et  c expedie le loc bretagne  lanfains   autrit pens</td>\n",
              "      <td>78</td>\n",
              "      <td>Ker\\nchant\\n100% LOCAL\\nDecoupes de\\nPOULET\\nConditionné par LDC Bretagne\\nLanfains (22) 18\\nrais Classe A\\nOrigine FRANCE. Prodtre 0 et +4\"C\\nOFFRE\\nSPECIALE\\nNE ELEVE PREPARE\\n100% LOCAL\\nDANS NOTRE REGION\\n1CUIS.DEJ. PLT SAT\\nKERCHANT FX 1\\nORIGINE France\\nVOLAILLE\\nFRANÇAISE\\nPrix/kg\\nPaids net\\nPrin apayer\\n1,000kg\\nto\\n005806444\\nA consommer jusqu au\\n27/09/18\\nR conserver entre D C et 4 C\\nExpedie Le\\nLOC BRETAGNE 22 LANFAINS\\n2.09.02\\n256-106-0/1818\\nAUTRIT\\nPENS\\n3 199660112 19192\\n</td>\n",
              "      <td>43</td>\n",
              "      <td>fish meat eggs</td>\n",
              "      <td>3</td>\n",
              "      <td>meat</td>\n",
              "      <td>1</td>\n",
              "    </tr>\n",
              "    <tr>\n",
              "      <th>2</th>\n",
              "      <td>3199660219192</td>\n",
              "      <td>13</td>\n",
              "      <td>cuisdej plt sat kerchant fx  origine france volaille francaise prixkg poids net prix a payer kg  a consommer jusquau r conserver entre oc et  c expedie le  loc bretagne  lanfains  ce   e     pensez au tri barquette et film plastique ajeter consigne pouvantvarier localement wwwconsignesdetrlfr</td>\n",
              "      <td>57</td>\n",
              "      <td>1CUIS.DEJ. PLT SAT\\nKERCHANT FX 1\\nORIGINE France\\nVOLAILLE\\nFRANCAISE\\nPrix/kg\\nPoids net\\nPrix a payer\\n1,000kg\\n0058064444\\nA consommer jusqu'au\\nR conserver entre OC et 4 C\\nExpedie Le\\n27/09/18\\nLOC BRETAGNE 22 LANFAINS\\n22.099.002\\nCE\\n256 106-0/1818\\ne03\\n3 199 660112 191921\\nPENSEZ\\nAU TRI!\\nBARQUETTE ET\\nFILM PLASTIQUE\\nAJETER\\nCONSIGNE POUVANTVARIER LOCALEMENT\\nwww.CONSIGNESDETRLFR\\n</td>\n",
              "      <td>30</td>\n",
              "      <td>fish meat eggs</td>\n",
              "      <td>3</td>\n",
              "      <td>meat</td>\n",
              "      <td>1</td>\n",
              "    </tr>\n",
              "    <tr>\n",
              "      <th>3</th>\n",
              "      <td>3199660747848</td>\n",
              "      <td>13</td>\n",
              "      <td>ker chant  logal decoupes de poulet cooduogne pnm lin ne eleve prepare  local aiguillette poulet gr dans not origine france prixiky tui et prix a pavar kg region  lot  consommer jusquau  r conserver entre  cet c expedie le  loc bretrgne  lrnfrins   a pense au tri</td>\n",
              "      <td>58</td>\n",
              "      <td>Ker\\nChant\\n100% LOGAL\\nDécoupes de\\nPOULET\\nCooduogne pNM LIN\\nNE\\nELEVE\\nPREPARE\\n100% LOCAL\\nAIGUILLETTE POULET\\n500GR\\nDANS NOT\\nORIGINE France\\nPrixiky\\ntui et\\nPrix a pavar\\n0,500kg\\nREGION\\n0059308701\\nLot\\n8 consommer JusQU'au\\n27/12/19\\nR conserver entre 0 Cet 4C\\nExpedie Le 18/12/13\\nLOC BRETRGNE 22 LRNFRINS\\n22 088.002\\n38397-0/6A\\nPENSE\\nAU TRI\\n3 1996601747848\\n</td>\n",
              "      <td>27</td>\n",
              "      <td>fish meat eggs</td>\n",
              "      <td>3</td>\n",
              "      <td>meat</td>\n",
              "      <td>1</td>\n",
              "    </tr>\n",
              "    <tr>\n",
              "      <th>4</th>\n",
              "      <td>3196203800091</td>\n",
              "      <td>13</td>\n",
              "      <td>preparation deshydratee aromatisee et coloree pour sucre pour barbe a papa parfum fraise ingredients sucre dextrose colorant e arome antiagglomerant dioxyde de silicium nano peut contenir des traces de gluten oeuf soja lait fruits a coque  g produit deshydrate  pour  g de poids net valeur energetique kcal valeur energetique kj matieres grasses   g dont acides gras satures glucides dont sucres proteines sel traces  g  g traces  g   falbrique en fra par emb</td>\n",
              "      <td>84</td>\n",
              "      <td>PREPARATION DÉSHYDRATÉE, AROMATISÉE ET COLOREE\\nPOUR SUCRE POUR BARBE À PAPA PARFUM FRAISE\\nINGREDIENTS Sucre. Dextrose. Colorant: E120, Aróme\\nAntiagglomérant: dioxyde de silicium [nano]. Peut contenir\\ndes traces de gluten, oeuf, soja, lait, fruits à coque.\\n500 g\\nproduit déshydraté\\n409\\nPour 100 g de\\nPoids net\\nValeur énergétique kcal\\nValeur énergétique kJ\\nMatières grasses\\n1736\\n&lt;0,9 g\\ndont acides gras saturés\\nGlucides\\ndont sucres\\nProteines\\nSel\\nTraces\\n99,7 g\\n99,6 g\\nTraces\\n&lt;0,1 g\\n380 007\\nFalbriqué en Fra\\nPar EMB 51\\n</td>\n",
              "      <td>56</td>\n",
              "      <td>sugary snacks</td>\n",
              "      <td>2</td>\n",
              "      <td>sweets</td>\n",
              "      <td>1</td>\n",
              "    </tr>\n",
              "  </tbody>\n",
              "</table>\n",
              "</div>"
            ],
            "text/plain": [
              "         barcode  barcode_size  ... pnns_groups_2  pnns_2_count\n",
              "0  3199660476748            13  ...          meat             1\n",
              "1  3199660219192            13  ...          meat             1\n",
              "2  3199660219192            13  ...          meat             1\n",
              "3  3199660747848            13  ...          meat             1\n",
              "4  3196203800091            13  ...        sweets             1\n",
              "\n",
              "[5 rows x 10 columns]"
            ]
          },
          "metadata": {
            "tags": []
          },
          "execution_count": 67
        },
        {
          "output_type": "stream",
          "text": [
            "time: 20.7 ms (started: 2021-02-26 13:20:15 +00:00)\n"
          ],
          "name": "stdout"
        }
      ]
    },
    {
      "cell_type": "markdown",
      "metadata": {
        "id": "1lvtOgJMtqmD"
      },
      "source": [
        "##### Descriptive statistics of new features\r\n"
      ]
    },
    {
      "cell_type": "code",
      "metadata": {
        "colab": {
          "base_uri": "https://localhost:8080/"
        },
        "id": "OUXCoZV3rr-r",
        "outputId": "83a71438-6658-43c8-9f09-659c0db9a4ce"
      },
      "source": [
        "#Descriptive statistics of new features\r\n",
        "off.word_count.describe()"
      ],
      "execution_count": null,
      "outputs": [
        {
          "output_type": "execute_result",
          "data": {
            "text/plain": [
              "count    434896.000000\n",
              "mean         67.974355\n",
              "std          66.696579\n",
              "min           2.000000\n",
              "25%          22.000000\n",
              "50%          46.000000\n",
              "75%          93.000000\n",
              "max        1594.000000\n",
              "Name: word_count, dtype: float64"
            ]
          },
          "metadata": {
            "tags": []
          },
          "execution_count": 68
        },
        {
          "output_type": "stream",
          "text": [
            "time: 22.2 ms (started: 2021-02-26 13:20:19 +00:00)\n"
          ],
          "name": "stdout"
        }
      ]
    },
    {
      "cell_type": "code",
      "metadata": {
        "colab": {
          "base_uri": "https://localhost:8080/"
        },
        "id": "0UAcHffbiq_Q",
        "outputId": "c3a07f20-3298-4391-f8dd-e39317432632"
      },
      "source": [
        "#Descriptive statistics of new categories\r\n",
        "off.raw_word_count.describe()"
      ],
      "execution_count": null,
      "outputs": [
        {
          "output_type": "execute_result",
          "data": {
            "text/plain": [
              "count    434896.000000\n",
              "mean         47.845381\n",
              "std          53.517501\n",
              "min           1.000000\n",
              "25%          11.000000\n",
              "50%          30.000000\n",
              "75%          67.000000\n",
              "max        1323.000000\n",
              "Name: raw_word_count, dtype: float64"
            ]
          },
          "metadata": {
            "tags": []
          },
          "execution_count": 69
        },
        {
          "output_type": "stream",
          "text": [
            "time: 22.1 ms (started: 2021-02-26 13:20:25 +00:00)\n"
          ],
          "name": "stdout"
        }
      ]
    },
    {
      "cell_type": "code",
      "metadata": {
        "colab": {
          "base_uri": "https://localhost:8080/"
        },
        "id": "7b6D2WCftN3b",
        "outputId": "43cc73ce-c0eb-4fbc-b65e-9e20e0f14fec"
      },
      "source": [
        "off.pnns_1_count.describe()"
      ],
      "execution_count": null,
      "outputs": [
        {
          "output_type": "execute_result",
          "data": {
            "text/plain": [
              "count    434896.000000\n",
              "mean          2.553613\n",
              "std           0.811003\n",
              "min           1.000000\n",
              "25%           2.000000\n",
              "50%           3.000000\n",
              "75%           3.000000\n",
              "max           4.000000\n",
              "Name: pnns_1_count, dtype: float64"
            ]
          },
          "metadata": {
            "tags": []
          },
          "execution_count": 70
        },
        {
          "output_type": "stream",
          "text": [
            "time: 15.9 ms (started: 2021-02-26 13:20:28 +00:00)\n"
          ],
          "name": "stdout"
        }
      ]
    },
    {
      "cell_type": "code",
      "metadata": {
        "colab": {
          "base_uri": "https://localhost:8080/"
        },
        "id": "lve6iO32tUXj",
        "outputId": "65e8d279-9523-4253-fcfe-eab33cce3dc0"
      },
      "source": [
        "off.pnns_2_count.describe()"
      ],
      "execution_count": null,
      "outputs": [
        {
          "output_type": "execute_result",
          "data": {
            "text/plain": [
              "count    434896.000000\n",
              "mean          2.061270\n",
              "std           0.994453\n",
              "min           1.000000\n",
              "25%           1.000000\n",
              "50%           2.000000\n",
              "75%           3.000000\n",
              "max           6.000000\n",
              "Name: pnns_2_count, dtype: float64"
            ]
          },
          "metadata": {
            "tags": []
          },
          "execution_count": 71
        },
        {
          "output_type": "stream",
          "text": [
            "time: 16.7 ms (started: 2021-02-26 13:20:31 +00:00)\n"
          ],
          "name": "stdout"
        }
      ]
    },
    {
      "cell_type": "code",
      "metadata": {
        "colab": {
          "base_uri": "https://localhost:8080/"
        },
        "id": "2ilEzjXEtZEh",
        "outputId": "1f7201de-87cf-476a-c7b5-cc6052b0caef"
      },
      "source": [
        "off.barcode_size.describe()"
      ],
      "execution_count": null,
      "outputs": [
        {
          "output_type": "execute_result",
          "data": {
            "text/plain": [
              "count    434896.0\n",
              "mean         13.0\n",
              "std           0.0\n",
              "min          13.0\n",
              "25%          13.0\n",
              "50%          13.0\n",
              "75%          13.0\n",
              "max          13.0\n",
              "Name: barcode_size, dtype: float64"
            ]
          },
          "metadata": {
            "tags": []
          },
          "execution_count": 72
        },
        {
          "output_type": "stream",
          "text": [
            "time: 16.4 ms (started: 2021-02-26 13:20:34 +00:00)\n"
          ],
          "name": "stdout"
        }
      ]
    },
    {
      "cell_type": "markdown",
      "metadata": {
        "id": "zUwROxagknof"
      },
      "source": [
        "#### Fetch Categories"
      ]
    },
    {
      "cell_type": "code",
      "metadata": {
        "colab": {
          "base_uri": "https://localhost:8080/"
        },
        "id": "6pvcY8kHlA8I",
        "outputId": "f97d64bf-65fd-4982-bf4c-2ff02772369d"
      },
      "source": [
        "# Identify pnns_groups_1 Categories\r\n",
        "def get_pnns_1_categories():\r\n",
        "    \"\"\"Fetch the categories from the feature pnns_groups_1\"\"\"\r\n",
        "    #freq = pd.Series(' '.join(off['pnns_groups_1']).split()).value_counts()\r\n",
        "    freq = pd.Series(off['pnns_groups_1']).value_counts()\r\n",
        "    return freq"
      ],
      "execution_count": null,
      "outputs": [
        {
          "output_type": "stream",
          "text": [
            "time: 2.01 ms (started: 2021-02-26 13:20:38 +00:00)\n"
          ],
          "name": "stdout"
        }
      ]
    },
    {
      "cell_type": "code",
      "metadata": {
        "colab": {
          "base_uri": "https://localhost:8080/"
        },
        "id": "-jnsXsr3p_aI",
        "outputId": "ab9eee5d-9607-4e48-8f48-a1b7b70c782e"
      },
      "source": [
        "# Get the pnns_groups_1 categories\r\n",
        "cats_group_1 = get_pnns_1_categories()\r\n",
        "print(f\"Number of categories in Group 1: {len(cats_group_1)}\")\r\n",
        "print()\r\n",
        "cats_group_1"
      ],
      "execution_count": null,
      "outputs": [
        {
          "output_type": "stream",
          "text": [
            "Number of categories in Group 1: 9\n",
            "\n"
          ],
          "name": "stdout"
        },
        {
          "output_type": "execute_result",
          "data": {
            "text/plain": [
              "sugary snacks              84152\n",
              "composite foods            61119\n",
              "fish meat eggs             55872\n",
              "milk and dairy products    54144\n",
              "cereals and potatoes       42970\n",
              "fruits and vegetables      41326\n",
              "beverages                  35140\n",
              "salty snacks               32725\n",
              "fat and sauces             27448\n",
              "Name: pnns_groups_1, dtype: int64"
            ]
          },
          "metadata": {
            "tags": []
          },
          "execution_count": 74
        },
        {
          "output_type": "stream",
          "text": [
            "time: 55.6 ms (started: 2021-02-26 13:20:41 +00:00)\n"
          ],
          "name": "stdout"
        }
      ]
    },
    {
      "cell_type": "code",
      "metadata": {
        "colab": {
          "base_uri": "https://localhost:8080/"
        },
        "id": "totFQ1Jtqc79",
        "outputId": "4985f9b5-90a8-4743-df37-37ec77d9a648"
      },
      "source": [
        "# Identify pnns_groups_2 Categories\r\n",
        "def get_pnns_2_categories():\r\n",
        "    \"\"\"Fetch the categories from the feature pnns_groups_2\"\"\"\r\n",
        "    #freq = pd.Series(' '.join(off['pnns_groups_1']).split()).value_counts()\r\n",
        "    freq = pd.Series(off['pnns_groups_2']).value_counts()\r\n",
        "    return freq"
      ],
      "execution_count": null,
      "outputs": [
        {
          "output_type": "stream",
          "text": [
            "time: 2.35 ms (started: 2021-02-26 13:20:45 +00:00)\n"
          ],
          "name": "stdout"
        }
      ]
    },
    {
      "cell_type": "code",
      "metadata": {
        "colab": {
          "base_uri": "https://localhost:8080/"
        },
        "id": "zzkotItGqgDc",
        "outputId": "ba24dcba-29a2-412e-c389-3a287f8a38d6"
      },
      "source": [
        "# Get the pnns_groups_2 categories\r\n",
        "cats_group_2 = get_pnns_2_categories()\r\n",
        "print(f\"Number of categories in Group 2: {len(cats_group_2)}\")\r\n",
        "print()\r\n",
        "cats_group_2"
      ],
      "execution_count": null,
      "outputs": [
        {
          "output_type": "stream",
          "text": [
            "Number of categories in Group 2: 38\n",
            "\n"
          ],
          "name": "stdout"
        },
        {
          "output_type": "execute_result",
          "data": {
            "text/plain": [
              "one dish meals                      51447\n",
              "biscuits and cakes                  38357\n",
              "sweets                              31716\n",
              "processed meat                      23363\n",
              "vegetables                          20401\n",
              "cheese                              19721\n",
              "milk and yogurt                     18651\n",
              "fish and seafood                    18555\n",
              "cereals                             17873\n",
              "dressings and sauces                17330\n",
              "salty and fatty products            16158\n",
              "fruits                              12957\n",
              "sweetened beverages                 12849\n",
              "appetizers                          11839\n",
              "bread                               10803\n",
              "fats                                10118\n",
              "fruit juices                         9843\n",
              "dairy desserts                       9722\n",
              "meat                                 9508\n",
              "chocolate products                   8753\n",
              "breakfast cereals                    7329\n",
              "ice cream                            6050\n",
              "pastries                             5326\n",
              "pizza pies and quiche                5186\n",
              "dried fruits                         4987\n",
              "nuts                                 4728\n",
              "sandwiches                           4486\n",
              "unsweetened beverages                3970\n",
              "legumes                              3880\n",
              "waters and flavored waters           3134\n",
              "potatoes                             3085\n",
              "soups                                2981\n",
              "eggs                                 2746\n",
              "artificially sweetened beverages     2072\n",
              "plant based milk substitutes         1765\n",
              "offals                               1700\n",
              "fruit nectars                        1103\n",
              "teas and herbal teas and coffees      404\n",
              "Name: pnns_groups_2, dtype: int64"
            ]
          },
          "metadata": {
            "tags": []
          },
          "execution_count": 76
        },
        {
          "output_type": "stream",
          "text": [
            "time: 49.9 ms (started: 2021-02-26 13:20:47 +00:00)\n"
          ],
          "name": "stdout"
        }
      ]
    },
    {
      "cell_type": "markdown",
      "metadata": {
        "id": "YM8OBK0FuAGW"
      },
      "source": [
        "#### Frequency of Words"
      ]
    },
    {
      "cell_type": "code",
      "metadata": {
        "colab": {
          "base_uri": "https://localhost:8080/"
        },
        "id": "Iea6mSq1jQS1",
        "outputId": "3f8ee3c1-ab5d-4053-a448-c9fb78cfc422"
      },
      "source": [
        "# Count unique words\r\n",
        "def count_words():\r\n",
        "    \"\"\"Count the number of unique words from clean_text\"\"\"\r\n",
        "    freq = len(pd.Series(' '.join(off['clean_text']).split()).value_counts())\r\n",
        "    return freq\r\n",
        "\r\n",
        "# Apply the function\r\n",
        "count_words = count_words()\r\n",
        "print(f\"number of unique words in text: {count_words}\")"
      ],
      "execution_count": null,
      "outputs": [
        {
          "output_type": "stream",
          "text": [
            "number of unique words in text: 849451\n",
            "time: 11.8 s (started: 2021-02-26 13:20:53 +00:00)\n"
          ],
          "name": "stdout"
        }
      ]
    },
    {
      "cell_type": "code",
      "metadata": {
        "colab": {
          "base_uri": "https://localhost:8080/"
        },
        "id": "EbArzVfbuARs",
        "outputId": "a8665ec0-ea33-4179-e10e-7bc9d6ea626a"
      },
      "source": [
        "# Identify common words\r\n",
        "def get_n_most_common_words(n=20):\r\n",
        "    \"\"\"Fetch n most common words from clean_text\"\"\"\r\n",
        "    freq = pd.Series(' '.join(off['clean_text']).split()).value_counts()[:n]\r\n",
        "    return freq"
      ],
      "execution_count": null,
      "outputs": [
        {
          "output_type": "stream",
          "text": [
            "time: 2.16 ms (started: 2021-02-26 13:21:11 +00:00)\n"
          ],
          "name": "stdout"
        }
      ]
    },
    {
      "cell_type": "code",
      "metadata": {
        "colab": {
          "base_uri": "https://localhost:8080/"
        },
        "id": "-FdGPPnCuuIA",
        "outputId": "38bcb0fd-9234-485e-9b1a-d7a20a8c0044"
      },
      "source": [
        "# Get the 50 most common words\r\n",
        "common_words_50 = get_n_most_common_words(50)\r\n",
        "common_words_50"
      ],
      "execution_count": null,
      "outputs": [
        {
          "output_type": "execute_result",
          "data": {
            "text/plain": [
              "de                 1742524\n",
              "g                  1217607\n",
              "a                   532320\n",
              "et                  387466\n",
              "pour                274170\n",
              "dont                272293\n",
              "sel                 262599\n",
              "en                  239155\n",
              "la                  220754\n",
              "kcal                194295\n",
              "au                  183429\n",
              "le                  176252\n",
              "ingredients         166864\n",
              "kj                  165628\n",
              "gras                153329\n",
              "lait                152570\n",
              "e                   142167\n",
              "sucres              137039\n",
              "proteines           134976\n",
              "des                 132492\n",
              "sucre               131075\n",
              "france              124275\n",
              "consommer           118950\n",
              "grasses             117764\n",
              "matieres            116838\n",
              "valeurs             114832\n",
              "satures             113950\n",
              "glucides            113774\n",
              "acides              110542\n",
              "les                 108766\n",
              "nutritionnelles     108225\n",
              "eau                 107662\n",
              "energie             107473\n",
              "c                   106936\n",
              "ble                 103365\n",
              "un                  102381\n",
              "moyennes             96608\n",
              "du                   96299\n",
              "dans                 94245\n",
              "net                  91233\n",
              "sur                  90079\n",
              "poids                86447\n",
              "huile                86220\n",
              "conserver            82023\n",
              "avant                81152\n",
              "par                  79807\n",
              "farine               79151\n",
              "sans                 75219\n",
              "fruits               74700\n",
              "fibres               74685\n",
              "dtype: int64"
            ]
          },
          "metadata": {
            "tags": []
          },
          "execution_count": 79
        },
        {
          "output_type": "stream",
          "text": [
            "time: 18.8 s (started: 2021-02-26 13:21:15 +00:00)\n"
          ],
          "name": "stdout"
        }
      ]
    },
    {
      "cell_type": "code",
      "metadata": {
        "id": "1E2Y7vqTvNw8"
      },
      "source": [
        "# Identify uncommon words\r\n",
        "def get_n_most_uncommon_words(n=20):\r\n",
        "    \"\"\"Fetch n most uncommon words from clean_text\"\"\"\r\n",
        "    freq = pd.Series(' '.join(off['clean_text']).split()).value_counts()[-n:]\r\n",
        "    return freq"
      ],
      "execution_count": null,
      "outputs": []
    },
    {
      "cell_type": "code",
      "metadata": {
        "colab": {
          "base_uri": "https://localhost:8080/"
        },
        "id": "70PBeaBevllw",
        "outputId": "5acc3ac2-70bc-417c-96ac-c5f3f969ee8c"
      },
      "source": [
        "# Get the 20 most uncommon words\r\n",
        "uncommon_words_20 = get_n_most_uncommon_words()\r\n",
        "uncommon_words_20"
      ],
      "execution_count": null,
      "outputs": [
        {
          "output_type": "execute_result",
          "data": {
            "text/plain": [
              "avallanaschocolade    1\n",
              "agscubure             1\n",
              "acravencoroute        1\n",
              "consommationvoir      1\n",
              "bocegeic              1\n",
              "fifiie                1\n",
              "etcontare             1\n",
              "веurе                 1\n",
              "consicane             1\n",
              "dulienype             1\n",
              "kealreso              1\n",
              "senval                1\n",
              "sewez                 1\n",
              "unvaddnagy            1\n",
              "orobuchon             1\n",
              "kpken                 1\n",
              "colorunts             1\n",
              "partim                1\n",
              "codesopde             1\n",
              "heinutritionnelles    1\n",
              "dtype: int64"
            ]
          },
          "metadata": {
            "tags": []
          },
          "execution_count": 81
        },
        {
          "output_type": "stream",
          "text": [
            "time: 11.3 s (started: 2021-02-26 13:22:26 +00:00)\n"
          ],
          "name": "stdout"
        }
      ]
    },
    {
      "cell_type": "markdown",
      "metadata": {
        "id": "UQLQnrnYrLsV"
      },
      "source": [
        "### 1. 3. Normalization of Words"
      ]
    },
    {
      "cell_type": "code",
      "metadata": {
        "colab": {
          "base_uri": "https://localhost:8080/"
        },
        "id": "3xg0CaxmAPdY",
        "outputId": "d03085b3-449c-4f9d-dcab-893e69a39102"
      },
      "source": [
        "# Stemming to normalize text by removing suffixes\r\n",
        "stem = PorterStemmer() \r\n",
        "# Lemmatisation to normalize text by extracting root of the word\r\n",
        "lem = WordNetLemmatizer() "
      ],
      "execution_count": null,
      "outputs": [
        {
          "output_type": "stream",
          "text": [
            "time: 1.68 ms (started: 2021-02-26 13:22:44 +00:00)\n"
          ],
          "name": "stdout"
        }
      ]
    },
    {
      "cell_type": "code",
      "metadata": {
        "colab": {
          "base_uri": "https://localhost:8080/"
        },
        "id": "w7JanC7pAcwb",
        "outputId": "45a5e21f-4043-4761-ee70-21ae40cbd5d8"
      },
      "source": [
        "# Example of the effects of Stemming and Lemmatization\r\n",
        "word = \"inversely\"\r\n",
        "print(\"stemming:\",stem.stem(word))\r\n",
        "print(\"lemmatization:\", lem.lemmatize(word, \"v\"))"
      ],
      "execution_count": null,
      "outputs": [
        {
          "output_type": "stream",
          "text": [
            "stemming: invers\n",
            "lemmatization: inversely\n",
            "time: 3.13 ms (started: 2021-02-26 13:22:54 +00:00)\n"
          ],
          "name": "stdout"
        }
      ]
    },
    {
      "cell_type": "markdown",
      "metadata": {
        "id": "NjfdyvgPrVh0"
      },
      "source": [
        "### 1. 4. Noise Removal in Text"
      ]
    },
    {
      "cell_type": "code",
      "metadata": {
        "id": "I-78jN4gBiby",
        "colab": {
          "base_uri": "https://localhost:8080/"
        },
        "outputId": "bf1f6d8e-9ce7-4ecb-fea4-11f2428c8031"
      },
      "source": [
        "\"\"\"Remove stopwords\"\"\"\r\n",
        "\r\n",
        "#Create a list of base stop words\r\n",
        "stop_words = set(stopwords.words('english') + stopwords.words('french'))\r\n",
        "\r\n",
        "# Create a list of custom stopwords\r\n",
        "custom_stopwords = get_n_most_common_words(6).index.tolist()\r\n",
        "\r\n",
        "# Add custom stopwords to the main list\r\n",
        "stop_words = stop_words.union(custom_stopwords)"
      ],
      "execution_count": null,
      "outputs": [
        {
          "output_type": "stream",
          "text": [
            "time: 10.5 s (started: 2021-02-26 13:23:08 +00:00)\n"
          ],
          "name": "stdout"
        }
      ]
    },
    {
      "cell_type": "markdown",
      "metadata": {
        "id": "EhOgsxRMr7WV"
      },
      "source": [
        "### 1. 5. Step by Step Workflow for Text Pre-processing"
      ]
    },
    {
      "cell_type": "code",
      "metadata": {
        "colab": {
          "base_uri": "https://localhost:8080/"
        },
        "id": "hcgmku5pscVB",
        "outputId": "a9dfa735-1152-48a5-9b9c-8cbebf1c2d85"
      },
      "source": [
        "off.dtypes"
      ],
      "execution_count": null,
      "outputs": [
        {
          "output_type": "execute_result",
          "data": {
            "text/plain": [
              "barcode            int64\n",
              "barcode_size       int64\n",
              "clean_text        object\n",
              "word_count         int64\n",
              "fr_text           object\n",
              "raw_word_count     int64\n",
              "pnns_groups_1     object\n",
              "pnns_1_count       int64\n",
              "pnns_groups_2     object\n",
              "pnns_2_count       int64\n",
              "dtype: object"
            ]
          },
          "metadata": {
            "tags": []
          },
          "execution_count": 85
        },
        {
          "output_type": "stream",
          "text": [
            "time: 4.12 ms (started: 2021-02-26 13:23:18 +00:00)\n"
          ],
          "name": "stdout"
        }
      ]
    },
    {
      "cell_type": "code",
      "metadata": {
        "id": "Vlb-Klovr8e0",
        "colab": {
          "base_uri": "https://localhost:8080/"
        },
        "outputId": "5d0ca710-ef51-46ef-cea3-b48a53af4fa1"
      },
      "source": [
        "corpus = []\r\n",
        "for i in range(0, len(off)):\r\n",
        "\r\n",
        "    # Remove punctuations\r\n",
        "    text = re.sub('[^a-zA-Z]', ' ', off['clean_text'][i])\r\n",
        "    # Convert to lowercase\r\n",
        "    text = text.lower()\r\n",
        "    #remove tags\r\n",
        "    text=re.sub(\"&lt;/?.*?&gt;\",\" &lt;&gt; \",text)\r\n",
        "    # remove special characters and digits\r\n",
        "    text=re.sub(\"(\\\\d|\\\\W)+\",\" \",text)\r\n",
        "    ##Convert to list from string\r\n",
        "    text = text.split()\r\n",
        "    \r\n",
        "    \"\"\"\r\n",
        "    # Stemming\r\n",
        "    ps=PorterStemmer()\r\n",
        "    # Lemmatisation\r\n",
        "    lem = WordNetLemmatizer()\r\n",
        "    text = [\r\n",
        "            lem.lemmatize(word) for word in text \r\n",
        "            if not word in stop_words\r\n",
        "            ] \r\n",
        "    \"\"\"\r\n",
        "    \r\n",
        "    text = \" \".join(text)\r\n",
        "    corpus.append(text)"
      ],
      "execution_count": null,
      "outputs": [
        {
          "output_type": "stream",
          "text": [
            "time: 28.1 s (started: 2021-02-26 13:27:21 +00:00)\n"
          ],
          "name": "stdout"
        }
      ]
    },
    {
      "cell_type": "code",
      "metadata": {
        "colab": {
          "base_uri": "https://localhost:8080/"
        },
        "id": "XNfR7VXQeOUI",
        "outputId": "5dd04a4b-0ccd-49cd-b3d1-9032f1bfc646"
      },
      "source": [
        "len(corpus)"
      ],
      "execution_count": null,
      "outputs": [
        {
          "output_type": "execute_result",
          "data": {
            "text/plain": [
              "434896"
            ]
          },
          "metadata": {
            "tags": []
          },
          "execution_count": 94
        },
        {
          "output_type": "stream",
          "text": [
            "time: 4.15 ms (started: 2021-02-26 13:27:49 +00:00)\n"
          ],
          "name": "stdout"
        }
      ]
    },
    {
      "cell_type": "code",
      "metadata": {
        "colab": {
          "base_uri": "https://localhost:8080/"
        },
        "id": "2J_ykoxenaFo",
        "outputId": "e7f109ca-772a-4ad2-833b-a7ba5d9517f6"
      },
      "source": [
        "corpus[:10]"
      ],
      "execution_count": null,
      "outputs": [
        {
          "output_type": "execute_result",
          "data": {
            "text/plain": [
              "['beurre de baratte eelence beurre pasteuris extra fin de mg ingr dients cr me de lait de vache ferments la a conserver entre c et c valeurs nutritionnelles pour g nutrition facts per g energie energy graisses fat dont acides gras satur s saturated fat glucides glucide dont sucres sugars prot ines protein sel salt kj kcal g g g g gepasteuriseerde boter extra fijn ve ingredienten gepasteuriseerde room melkzuur koel bewaren c en c pasteurized butter extra fine fat ingredients pasteurized cream lactic starters keep refrigerated c f f maxi fabriqu par gefabriceerd door manufactured by',\n",
              " 'o beurre pasteuris extra fin de mg ingr dients cr me pasteuris e issue de lait de vache sel maxi ferments lactiques a conserver entre c et c n etetef',\n",
              " 'cawww ochi in www eehirolebeurredefrance com demi sel echire m le beurre de france marque deposec m',\n",
              " 'ation dortgine pro echire se dep uis beurre de baratte d encellence appellation d origine prot g e charentes poitou demi sel protegee',\n",
              " 'demi sel echire le beurre de france no poids net g fabrique en baratte',\n",
              " 'obeurre pasteuris extra fin de mg thgredients creme pasteuris e issue de lait de vache sel maxi ferments lactiques a conserver entre c et c',\n",
              " 'beurre pasteuris extra fin de mg ingr dients cr me pasteuris e issue de lait de vache sel maxi ferments lactiqu a conserver entre c et c nd gepasteuriseerde boter extra fijn vetstof ingredi nten gepasteuriseerde room van koemelk zout maxi melkzuurbacte koel bewaren c en c gb pasteurized butter extra fine fat content ingredients pasteurized cream from cow s milk salt maxi lactic star keep refrigerated c f f maxi mantequilla pasteurizada extra fina de mg ingredients crema pasteurizada de leche de vaca sal maxi fermentos l c a conservar entre c y c o mildges uerte butter extra fein fett fr ce zutaten pasteurisierte sahne aus kuhmilch salz max milchs urebakten bei c bis c aufbewahren fabriqu par manufactured by gefabriceerd door fabricado por hergestellt in frankreich laiterie d echire chir france poids net netto gewicht net weight peso neto nettogewicht c',\n",
              " 'echire n de lot a echire echire mai a consommer de preference avant le a conserver a maxi seltajoute maxumum fat m g laterie decchire deuxosenares france',\n",
              " 'lssu d animaux nourris sans ogm e echire le beurre de france echire echire',\n",
              " 'ation d ine pro chire dep uis beurre de baratte dexcellence appellation d origine prot g e charentes poitou demi sel poids net g']"
            ]
          },
          "metadata": {
            "tags": []
          },
          "execution_count": 101
        },
        {
          "output_type": "stream",
          "text": [
            "time: 11.1 ms (started: 2021-02-26 13:53:37 +00:00)\n"
          ],
          "name": "stdout"
        }
      ]
    },
    {
      "cell_type": "code",
      "metadata": {
        "colab": {
          "base_uri": "https://localhost:8080/"
        },
        "id": "kMTz0Uv1YeVP",
        "outputId": "2c21953e-c29e-4b1c-9d4a-c8a8ca347daa"
      },
      "source": [
        "# Create Corpus with a Function\r\n",
        "\r\n",
        "def get_category_corpus(cat, group='pnns_groups_1', df=off):\r\n",
        "\r\n",
        "    corpus = []\r\n",
        "\r\n",
        "    for i in range(0, len(df)):\r\n",
        "\r\n",
        "        if df[group][i]==cat:\r\n",
        "            \r\n",
        "            # Remove punctuations\r\n",
        "            text = re.sub('[^a-zA-Z]', ' ', df['fr_text'][i])\r\n",
        "            # Convert to lowercase\r\n",
        "            text = text.lower()\r\n",
        "            # Remove tags\r\n",
        "            text=re.sub(\"&lt;/?.*?&gt;\",\" &lt;&gt; \",text)\r\n",
        "            # Remove special characters and digits\r\n",
        "            text=re.sub(\"(\\\\d|\\\\W)+\",\" \",text)\r\n",
        "            # Convert to list from string\r\n",
        "            text = text.split()\r\n",
        "            \r\n",
        "            \"\"\"\r\n",
        "            ##Stemming\r\n",
        "            ps=PorterStemmer()\r\n",
        "            #Lemmatisation\r\n",
        "            lem = WordNetLemmatizer()\r\n",
        "            text = [\r\n",
        "                    lem.lemmatize(word) for word in text \r\n",
        "                    if not word in stop_words\r\n",
        "                    ] \r\n",
        "            \"\"\"\r\n",
        "            \r\n",
        "            text = \" \".join(text)\r\n",
        "            corpus.append(text)\r\n",
        "\r\n",
        "    return corpus"
      ],
      "execution_count": null,
      "outputs": [
        {
          "output_type": "stream",
          "text": [
            "time: 11.5 ms (started: 2021-02-26 13:27:54 +00:00)\n"
          ],
          "name": "stdout"
        }
      ]
    },
    {
      "cell_type": "code",
      "metadata": {
        "colab": {
          "base_uri": "https://localhost:8080/"
        },
        "id": "bZwhAviyd5pG",
        "outputId": "5cfc1d89-ca5b-4f0f-e22f-af42b3c29264"
      },
      "source": [
        "corpus_beverage = get_category_corpus('beverages')\r\n",
        "len(corpus_beverage)"
      ],
      "execution_count": null,
      "outputs": [
        {
          "output_type": "execute_result",
          "data": {
            "text/plain": [
              "35140"
            ]
          },
          "metadata": {
            "tags": []
          },
          "execution_count": 96
        },
        {
          "output_type": "stream",
          "text": [
            "time: 5.13 s (started: 2021-02-26 13:27:59 +00:00)\n"
          ],
          "name": "stdout"
        }
      ]
    },
    {
      "cell_type": "code",
      "metadata": {
        "colab": {
          "base_uri": "https://localhost:8080/",
          "height": 52
        },
        "id": "RCLJLKNUf0H0",
        "outputId": "1fb499c1-f48c-4135-83e4-239ba67d9780"
      },
      "source": [
        "#View corpus item\r\n",
        "corpus[1]"
      ],
      "execution_count": null,
      "outputs": [
        {
          "output_type": "execute_result",
          "data": {
            "application/vnd.google.colaboratory.intrinsic+json": {
              "type": "string"
            },
            "text/plain": [
              "'o beurre pasteuris extra fin de mg ingr dients cr me pasteuris e issue de lait de vache sel maxi ferments lactiques a conserver entre c et c n etetef'"
            ]
          },
          "metadata": {
            "tags": []
          },
          "execution_count": 102
        },
        {
          "output_type": "stream",
          "text": [
            "time: 2.96 ms (started: 2021-02-26 13:54:18 +00:00)\n"
          ],
          "name": "stdout"
        }
      ]
    },
    {
      "cell_type": "code",
      "metadata": {
        "colab": {
          "base_uri": "https://localhost:8080/",
          "height": 107
        },
        "id": "fz1sXYDbuedP",
        "outputId": "52bc9c87-bcbc-4315-f924-fb38e10ce608"
      },
      "source": [
        "#View corpus item\r\n",
        "corpus[1]"
      ],
      "execution_count": null,
      "outputs": [
        {
          "output_type": "execute_result",
          "data": {
            "application/vnd.google.colaboratory.intrinsic+json": {
              "type": "string"
            },
            "text/plain": [
              "'ker chant local decoupes poulet conditionne ldc bretagne lanfains rais classe origine france prodtre offre speciale eleve prepare local region cuisdej plt sat kerchant fx origine france volaille francaise prixkg paids net prin apayer kg consommer jusqu r conserver entre expedie loc bretagne lanfains autrit pen'"
            ]
          },
          "metadata": {
            "tags": []
          },
          "execution_count": 23
        }
      ]
    },
    {
      "cell_type": "code",
      "metadata": {
        "id": "gRAKSfud4a_h"
      },
      "source": [
        "#@title ####Clean OCR Text { display-mode: \"form\" }\r\n",
        "\"\"\"Format the content of the column TEXT\"\"\"\r\n",
        "\r\n",
        "def lower_case(text):\r\n",
        "    \"\"\"Lower case\"\"\"\r\n",
        "    text = text.lower()\r\n",
        "    return text\r\n",
        "\r\n",
        "def replace_slashn(text):\r\n",
        "    \"\"\"Replace '/n' \"\"\"\r\n",
        "    text = text.replace('\\n',' ')\r\n",
        "    return text\r\n",
        "\r\n",
        "def remove_punc(text):\r\n",
        "    \"\"\"Remove punctuation\"\"\"\r\n",
        "    for punctuation in string.punctuation:\r\n",
        "        text = text.replace(punctuation, '')\r\n",
        "    return text\r\n",
        "\r\n",
        "def remove_digit(text):\r\n",
        "    \"\"\"Remove digits\"\"\"\r\n",
        "    return ''.join(word for word in text if not word.isdigit())\r\n",
        "\r\n",
        "def remove_nonalpha(text):\r\n",
        "    \"\"\"Remove nonalpha characters\"\"\"\r\n",
        "    return ''.join(word for word in text if word.isalpha() or word == ' ')\r\n",
        "\r\n",
        "def remove_accents(text):\r\n",
        "    \"\"\"Remove accents\"\"\"\r\n",
        "    return ''.join(\r\n",
        "        c for c in unicodedata.normalize('NFKD', text) \r\n",
        "        if unicodedata.category(c) != 'Mn'\r\n",
        "        )\r\n",
        "\r\n",
        "def remove_specialchar(text):\r\n",
        "    \"\"\"Remove special characters\"\"\"\r\n",
        "    return ''.join(word for word in text if word.isalpha() or word == ' ')\r\n",
        "\r\n",
        "def text_formatting_workflow():\r\n",
        "    \"\"\"Workflow of text formatting\"\"\"\r\n",
        "    ocr_df['clean_text'] = ocr_df.fr_text.apply(lambda text: lower_case(text))\r\n",
        "    ocr_df['clean_text'] = ocr_df.clean_text.apply(lambda text: replace_slashn(text))\r\n",
        "    ocr_df['clean_text'] = ocr_df.clean_text.apply(lambda text: remove_punc(text))\r\n",
        "    ocr_df['clean_text'] = ocr_df.clean_text.apply(lambda text: remove_digit(text))\r\n",
        "    # ocr_df['clean_text'] = ocr_df.clean_text.apply(lambda text: remove_nonalpha(text))\r\n",
        "    ocr_df['clean_text'] = ocr_df.clean_text.apply(lambda text: remove_accents(text))\r\n",
        "    ocr_df['clean_text'] = ocr_df.clean_text.apply(lambda text: remove_specialchar(text))\r\n",
        "    \r\n",
        "    return ocr_df\r\n",
        "\r\n",
        "\r\n",
        "# Apply workflow of text formatting\r\n",
        "# text_formatting_workflow()"
      ],
      "execution_count": null,
      "outputs": []
    },
    {
      "cell_type": "markdown",
      "metadata": {
        "id": "i5Po4pnaraqj"
      },
      "source": [
        "## 2. EDA - Exploratory Data Analysis\r\n",
        "\r\n",
        "---\r\n"
      ]
    },
    {
      "cell_type": "markdown",
      "metadata": {
        "id": "4PbTnJPSvPpI"
      },
      "source": [
        "### 2. 1. Word Cloud"
      ]
    },
    {
      "cell_type": "code",
      "metadata": {
        "id": "_hBNM_GIwrd1"
      },
      "source": [
        "# Packages for Word Cloud\r\n",
        "from os import path\r\n",
        "from PIL import Image\r\n",
        "from wordcloud import WordCloud, STOPWORDS, ImageColorGenerator\r\n",
        "import matplotlib.pyplot as plt\r\n",
        "% matplotlib inline"
      ],
      "execution_count": null,
      "outputs": []
    },
    {
      "cell_type": "code",
      "metadata": {
        "colab": {
          "base_uri": "https://localhost:8080/",
          "height": 234
        },
        "id": "LURewl8rw-dE",
        "outputId": "a0aaabf4-fc52-4ff8-935c-1409fd8c8505"
      },
      "source": [
        "# Display Word Cloud\r\n",
        "wordcloud = WordCloud(background_color='white',\r\n",
        "                      stopwords=stop_words,\r\n",
        "                      max_words=100,\r\n",
        "                      max_font_size=50, \r\n",
        "                      random_state=42,\r\n",
        "                      ).generate(str(corpus))\r\n",
        "print(wordcloud)\r\n",
        "fig = plt.figure(1)\r\n",
        "plt.imshow(wordcloud)\r\n",
        "plt.axis('off')\r\n",
        "plt.show()\r\n",
        "# fig.savefig(\"word1.png\", dpi=900)"
      ],
      "execution_count": null,
      "outputs": [
        {
          "output_type": "error",
          "ename": "NameError",
          "evalue": "ignored",
          "traceback": [
            "\u001b[0;31m---------------------------------------------------------------------------\u001b[0m",
            "\u001b[0;31mNameError\u001b[0m                                 Traceback (most recent call last)",
            "\u001b[0;32m<ipython-input-3-e120f124b85c>\u001b[0m in \u001b[0;36m<module>\u001b[0;34m()\u001b[0m\n\u001b[1;32m      1\u001b[0m \u001b[0;31m# Display Word Cloud\u001b[0m\u001b[0;34m\u001b[0m\u001b[0;34m\u001b[0m\u001b[0;34m\u001b[0m\u001b[0m\n\u001b[1;32m      2\u001b[0m wordcloud = WordCloud(background_color='white',\n\u001b[0;32m----> 3\u001b[0;31m                       \u001b[0mstopwords\u001b[0m\u001b[0;34m=\u001b[0m\u001b[0mstop_words\u001b[0m\u001b[0;34m,\u001b[0m\u001b[0;34m\u001b[0m\u001b[0;34m\u001b[0m\u001b[0m\n\u001b[0m\u001b[1;32m      4\u001b[0m                       \u001b[0mmax_words\u001b[0m\u001b[0;34m=\u001b[0m\u001b[0;36m100\u001b[0m\u001b[0;34m,\u001b[0m\u001b[0;34m\u001b[0m\u001b[0;34m\u001b[0m\u001b[0m\n\u001b[1;32m      5\u001b[0m                       \u001b[0mmax_font_size\u001b[0m\u001b[0;34m=\u001b[0m\u001b[0;36m50\u001b[0m\u001b[0;34m,\u001b[0m\u001b[0;34m\u001b[0m\u001b[0;34m\u001b[0m\u001b[0m\n",
            "\u001b[0;31mNameError\u001b[0m: name 'stop_words' is not defined"
          ]
        }
      ]
    },
    {
      "cell_type": "markdown",
      "metadata": {
        "id": "fbzGTCVQX8ex"
      },
      "source": [
        "#### Word Cloud per Categories (Group 1)"
      ]
    },
    {
      "cell_type": "code",
      "metadata": {
        "id": "x-ejEU0RX3H9"
      },
      "source": [
        "for c in cats_group_1.index.tolist():\r\n",
        "\r\n",
        "    corpus = get_category_corpus(c)\r\n",
        "\r\n",
        "    # Display Word Cloud for each Category\r\n",
        "    wordcloud = WordCloud(background_color='white',\r\n",
        "                        stopwords=stop_words,\r\n",
        "                        max_words=100,\r\n",
        "                        max_font_size=50, \r\n",
        "                        random_state=42,\r\n",
        "                        ).generate(str(corpus))\r\n",
        "    print(wordcloud)\r\n",
        "    fig = plt.figure(1)\r\n",
        "    plt.imshow(wordcloud)\r\n",
        "    plt.axis('off')\r\n",
        "    plt.show()\r\n",
        "    #fig.savefig(\"word1.png\", dpi=900)\r\n",
        "    print(f\"\"\"Category: {c} | Length of corpus: {len(corpus)}\"\"\")\r\n",
        "    print()"
      ],
      "execution_count": null,
      "outputs": []
    },
    {
      "cell_type": "markdown",
      "metadata": {
        "id": "qjsJ_yIjkO_o"
      },
      "source": [
        "#### Word Cloud per Categories (Group 2)"
      ]
    },
    {
      "cell_type": "code",
      "metadata": {
        "id": "YvhJuxFckRwi"
      },
      "source": [
        "for c in cats_group_2.index.tolist():\r\n",
        "\r\n",
        "    corpus = get_category_corpus(c, group='pnns_groups_2')\r\n",
        "\r\n",
        "    # Display Word Cloud for each Category\r\n",
        "    wordcloud = WordCloud(background_color='white',\r\n",
        "                        stopwords=stop_words,\r\n",
        "                        max_words=100,\r\n",
        "                        max_font_size=50, \r\n",
        "                        random_state=42,\r\n",
        "                        ).generate(str(corpus))\r\n",
        "    print(wordcloud)\r\n",
        "    fig = plt.figure(1)\r\n",
        "    plt.imshow(wordcloud)\r\n",
        "    plt.axis('off')\r\n",
        "    plt.show()\r\n",
        "    #fig.savefig(\"word1.png\", dpi=900)\r\n",
        "    print(f\"\"\"Category: {c} | Length of corpus: {len(corpus)}\"\"\")\r\n",
        "    print()"
      ],
      "execution_count": null,
      "outputs": []
    },
    {
      "cell_type": "markdown",
      "metadata": {
        "id": "yNu8bSonzaqc"
      },
      "source": [
        "### 2. 2. Creating a vector of word counts"
      ]
    },
    {
      "cell_type": "markdown",
      "metadata": {
        "id": "7IBuVWFHzuss"
      },
      "source": [
        "#### Text preparation for a bag of words model"
      ]
    },
    {
      "cell_type": "code",
      "metadata": {
        "id": "Kc2ovXc_xFzr",
        "colab": {
          "base_uri": "https://localhost:8080/"
        },
        "outputId": "bdaf8cf8-bdec-4bdb-cf54-b1397c735db8"
      },
      "source": [
        "from sklearn.feature_extraction.text import CountVectorizer\r\n",
        "import re\r\n",
        "\r\n",
        "# Instanciate model\r\n",
        "cv = CountVectorizer(max_df=0.8,\r\n",
        "                     stop_words=stop_words,\r\n",
        "                     max_features=10000,\r\n",
        "                     ngram_range=(1,3),\r\n",
        "                     )\r\n",
        "\r\n",
        "# Train model to build a vocabulary\r\n",
        "X = cv.fit_transform(corpus)"
      ],
      "execution_count": null,
      "outputs": [
        {
          "output_type": "stream",
          "text": [
            "time: 5.26 ms (started: 2021-02-26 11:59:48 +00:00)\n"
          ],
          "name": "stdout"
        }
      ]
    },
    {
      "cell_type": "code",
      "metadata": {
        "id": "EOYkoFvp1E-S"
      },
      "source": [
        "cv.__dict__"
      ],
      "execution_count": null,
      "outputs": []
    },
    {
      "cell_type": "code",
      "metadata": {
        "id": "5_LwMKo4N4Ve"
      },
      "source": [
        "list(cv.vocabulary_.keys())[:20]"
      ],
      "execution_count": null,
      "outputs": []
    },
    {
      "cell_type": "code",
      "metadata": {
        "id": "xZAEarLv1bms"
      },
      "source": [
        "list(cv.vocabulary_.keys())[-20:]"
      ],
      "execution_count": null,
      "outputs": []
    },
    {
      "cell_type": "markdown",
      "metadata": {
        "id": "xIPVuuIy156P"
      },
      "source": [
        "### 2. 3. Visualize top N uni-grams, bi-grams & tri-grams"
      ]
    },
    {
      "cell_type": "code",
      "metadata": {
        "colab": {
          "base_uri": "https://localhost:8080/",
          "height": 560
        },
        "id": "MIZxjbxp2UEE",
        "outputId": "c4babc3e-5f0e-4c04-df05-1fb80bfab1d4"
      },
      "source": [
        "\"\"\"Use the CountVectoriser to visualise the top n unigrams, bi-grams and tri-grams\"\"\"\r\n",
        "\r\n",
        "import seaborn as sns\r\n",
        "\r\n",
        "#Most frequently occuring words\r\n",
        "def get_top_n_words(corpus, n=None):\r\n",
        "    vec = CountVectorizer().fit(corpus)\r\n",
        "    bag_of_words = vec.transform(corpus)\r\n",
        "    sum_words = bag_of_words.sum(axis=0) \r\n",
        "    words_freq = [\r\n",
        "                  (word, sum_words[0, idx]) \r\n",
        "                  for word, idx in vec.vocabulary_.items()\r\n",
        "                  ]\r\n",
        "    words_freq =sorted(words_freq, key = lambda x: x[1], reverse=True)\r\n",
        "    return words_freq[:n]\r\n",
        "\r\n",
        "#Convert most freq words to dataframe for plotting bar plot\r\n",
        "top_words = get_top_n_words(corpus, n=20)\r\n",
        "top_df = pd.DataFrame(top_words)\r\n",
        "top_df.columns=[\"Word\", \"Freq\"]\r\n",
        "\r\n",
        "#Barplot of most freq words\r\n",
        "sns.set(rc={'figure.figsize':(13,8)})\r\n",
        "g = sns.barplot(x=\"Word\", y=\"Freq\", data=top_df)\r\n",
        "g.set_xticklabels(g.get_xticklabels(), rotation=30);"
      ],
      "execution_count": null,
      "outputs": [
        {
          "output_type": "display_data",
          "data": {
            "image/png": "[encoded data removed]",
            "text/plain": [
              "<Figure size 936x576 with 1 Axes>"
            ]
          },
          "metadata": {
            "tags": []
          }
        },
        {
          "output_type": "stream",
          "text": [
            "time: 475 ms (started: 2021-02-26 11:59:53 +00:00)\n"
          ],
          "name": "stdout"
        }
      ]
    },
    {
      "cell_type": "code",
      "metadata": {
        "colab": {
          "base_uri": "https://localhost:8080/"
        },
        "id": "2_JNYtvqlJJ1",
        "outputId": "7b6a7352-cbd8-4202-a8e5-6cbfdee2dfca"
      },
      "source": [
        "import seaborn as sns\r\n",
        "from sklearn.feature_extraction.text import CountVectorizer\r\n",
        "import re\r\n",
        "\r\n",
        "\r\n",
        "#Most frequently occuring words\r\n",
        "def get_top_n_words(corpus, n=None):\r\n",
        "    vec = CountVectorizer().fit(corpus)\r\n",
        "    bag_of_words = vec.transform(corpus)\r\n",
        "    sum_words = bag_of_words.sum(axis=0) \r\n",
        "    words_freq = [\r\n",
        "                (word, sum_words[0, idx]) \r\n",
        "                for word, idx in vec.vocabulary_.items()\r\n",
        "                ]\r\n",
        "    words_freq =sorted(words_freq, key = lambda x: x[1], reverse=True)\r\n",
        "    return words_freq[:n]\r\n",
        "\r\n",
        "\r\n",
        "group_1_corpus_list = []\r\n",
        "for c in cats_group_1.index.tolist():\r\n",
        "    \r\n",
        "    # Create category corpus\r\n",
        "    corpus = get_category_corpus(c, group='pnns_groups_1')   \r\n",
        "    group_1_corpus_list.append(corpus)\r\n"
      ],
      "execution_count": null,
      "outputs": [
        {
          "output_type": "stream",
          "text": [
            "time: 134 ms (started: 2021-02-26 12:00:05 +00:00)\n"
          ],
          "name": "stdout"
        }
      ]
    },
    {
      "cell_type": "code",
      "metadata": {
        "colab": {
          "base_uri": "https://localhost:8080/",
          "height": 557
        },
        "id": "2W8BVSWFnxm6",
        "outputId": "982ef075-63b1-431c-e9bb-a060964db042"
      },
      "source": [
        "corpus = group_1_corpus_list[0]\r\n",
        "\r\n",
        "#Convert most freq words to dataframe for plotting bar plot\r\n",
        "top_words = get_top_n_words(corpus, n=20)\r\n",
        "top_df = pd.DataFrame(top_words)\r\n",
        "top_df.columns=[\"Word\", \"Freq\"]\r\n",
        "\r\n",
        "#Barplot of most freq words\r\n",
        "sns.set(rc={'figure.figsize':(13,8)})\r\n",
        "g = sns.barplot(x=\"Word\", y=\"Freq\", data=top_df)\r\n",
        "g.set_xticklabels(g.get_xticklabels(), rotation=30);"
      ],
      "execution_count": null,
      "outputs": [
        {
          "output_type": "display_data",
          "data": {
            "image/png": "[encoded data removed]",
            "text/plain": [
              "<Figure size 936x576 with 1 Axes>"
            ]
          },
          "metadata": {
            "tags": []
          }
        },
        {
          "output_type": "stream",
          "text": [
            "time: 443 ms (started: 2021-02-26 12:00:15 +00:00)\n"
          ],
          "name": "stdout"
        }
      ]
    },
    {
      "cell_type": "code",
      "metadata": {
        "colab": {
          "base_uri": "https://localhost:8080/",
          "height": 1000
        },
        "id": "mD_wIt6o28Wp",
        "outputId": "077e9c18-0dd1-4eb2-d725-7099c40bc060"
      },
      "source": [
        "#Most frequently occuring Bi-grams\r\n",
        "def get_top_n2_words(corpus, n=None):\r\n",
        "    vec1 = CountVectorizer(ngram_range=(2,2),  \r\n",
        "            max_features=2000).fit(corpus)\r\n",
        "    bag_of_words = vec1.transform(corpus)\r\n",
        "    sum_words = bag_of_words.sum(axis=0) \r\n",
        "    words_freq = [(word, sum_words[0, idx]) for word, idx in     \r\n",
        "                  vec1.vocabulary_.items()]\r\n",
        "    words_freq =sorted(words_freq, key = lambda x: x[1], \r\n",
        "                reverse=True)\r\n",
        "    return words_freq[:n]\r\n",
        "top2_words = get_top_n2_words(corpus, n=20)\r\n",
        "top2_df = pd.DataFrame(top2_words)\r\n",
        "top2_df.columns=[\"Bi-gram\", \"Freq\"]\r\n",
        "print(top2_df)\r\n",
        "#Barplot of most freq Bi-grams\r\n",
        "import seaborn as sns\r\n",
        "sns.set(rc={'figure.figsize':(13,8)})\r\n",
        "h=sns.barplot(x=\"Bi-gram\", y=\"Freq\", data=top2_df)\r\n",
        "h.set_xticklabels(h.get_xticklabels(), rotation=45)"
      ],
      "execution_count": null,
      "outputs": [
        {
          "output_type": "stream",
          "text": [
            "                    Bi-gram  Freq\n",
            "0               acides gras   197\n",
            "1          preference avant   179\n",
            "2              gras satures   170\n",
            "3      consommer preference   165\n",
            "4                 poids net   153\n",
            "5   valeurs nutritionnelles   138\n",
            "6                avant date   122\n",
            "7            matieres grass   112\n",
            "8              grass acides   111\n",
            "9                   kj kcal   108\n",
            "10       minerale naturelle    99\n",
            "11           glucides sucre    89\n",
            "12             eau minerale    77\n",
            "13            proteines sel    76\n",
            "14               farine ble    75\n",
            "15           endroit propre    73\n",
            "16               propre sec    72\n",
            "17         satures glucides    69\n",
            "18          apres ouverture    66\n",
            "19        sulfate chlorures    60\n"
          ],
          "name": "stdout"
        },
        {
          "output_type": "execute_result",
          "data": {
            "text/plain": [
              "[Text(0, 0, 'acides gras'),\n",
              " Text(0, 0, 'preference avant'),\n",
              " Text(0, 0, 'gras satures'),\n",
              " Text(0, 0, 'consommer preference'),\n",
              " Text(0, 0, 'poids net'),\n",
              " Text(0, 0, 'valeurs nutritionnelles'),\n",
              " Text(0, 0, 'avant date'),\n",
              " Text(0, 0, 'matieres grass'),\n",
              " Text(0, 0, 'grass acides'),\n",
              " Text(0, 0, 'kj kcal'),\n",
              " Text(0, 0, 'minerale naturelle'),\n",
              " Text(0, 0, 'glucides sucre'),\n",
              " Text(0, 0, 'eau minerale'),\n",
              " Text(0, 0, 'proteines sel'),\n",
              " Text(0, 0, 'farine ble'),\n",
              " Text(0, 0, 'endroit propre'),\n",
              " Text(0, 0, 'propre sec'),\n",
              " Text(0, 0, 'satures glucides'),\n",
              " Text(0, 0, 'apres ouverture'),\n",
              " Text(0, 0, 'sulfate chlorures')]"
            ]
          },
          "metadata": {
            "tags": []
          },
          "execution_count": 32
        },
        {
          "output_type": "display_data",
          "data": {
            "image/png": "[encoded data removed]",
            "text/plain": [
              "<Figure size 936x576 with 1 Axes>"
            ]
          },
          "metadata": {
            "tags": []
          }
        }
      ]
    },
    {
      "cell_type": "code",
      "metadata": {
        "colab": {
          "base_uri": "https://localhost:8080/",
          "height": 1000
        },
        "id": "vHenKpF4oMU5",
        "outputId": "34985aec-1eff-498a-c191-852ce6abbb34"
      },
      "source": [
        "corpus = group_1_corpus_list[0]\r\n",
        "\r\n",
        "#Most frequently occuring Bi-grams\r\n",
        "def get_top_n2_words(corpus, n=None):\r\n",
        "    vec1 = CountVectorizer(ngram_range=(2,2),  \r\n",
        "            max_features=2000).fit(corpus)\r\n",
        "    bag_of_words = vec1.transform(corpus)\r\n",
        "    sum_words = bag_of_words.sum(axis=0) \r\n",
        "    words_freq = [(word, sum_words[0, idx]) for word, idx in     \r\n",
        "                  vec1.vocabulary_.items()]\r\n",
        "    words_freq =sorted(words_freq, key = lambda x: x[1], \r\n",
        "                reverse=True)\r\n",
        "    return words_freq[:n]\r\n",
        "top2_words = get_top_n2_words(corpus, n=20)\r\n",
        "top2_df = pd.DataFrame(top2_words)\r\n",
        "top2_df.columns=[\"Bi-gram\", \"Freq\"]\r\n",
        "print(top2_df)\r\n",
        "#Barplot of most freq Bi-grams\r\n",
        "import seaborn as sns\r\n",
        "sns.set(rc={'figure.figsize':(13,8)})\r\n",
        "h=sns.barplot(x=\"Bi-gram\", y=\"Freq\", data=top2_df)\r\n",
        "h.set_xticklabels(h.get_xticklabels(), rotation=45)"
      ],
      "execution_count": null,
      "outputs": [
        {
          "output_type": "stream",
          "text": [
            "               Bi-gram  Freq\n",
            "0            magn sium    80\n",
            "1           un endroit    74\n",
            "2              dans un    72\n",
            "3       endroit propre    72\n",
            "4           propre sec    71\n",
            "5               sec et    71\n",
            "6         consommer de    68\n",
            "7             pr rence    63\n",
            "8          soleil dans    63\n",
            "9                de pr    62\n",
            "10         rence avant    62\n",
            "11           du soleil    62\n",
            "12        eau minerale    61\n",
            "13  minerale naturelle    60\n",
            "14             la date    59\n",
            "15               mg ph    58\n",
            "16              sur la    58\n",
            "17             kj kcal    56\n",
            "18               de la    56\n",
            "19             abri du    56\n"
          ],
          "name": "stdout"
        },
        {
          "output_type": "execute_result",
          "data": {
            "text/plain": [
              "[Text(0, 0, 'magn sium'),\n",
              " Text(0, 0, 'un endroit'),\n",
              " Text(0, 0, 'dans un'),\n",
              " Text(0, 0, 'endroit propre'),\n",
              " Text(0, 0, 'propre sec'),\n",
              " Text(0, 0, 'sec et'),\n",
              " Text(0, 0, 'consommer de'),\n",
              " Text(0, 0, 'pr rence'),\n",
              " Text(0, 0, 'soleil dans'),\n",
              " Text(0, 0, 'de pr'),\n",
              " Text(0, 0, 'rence avant'),\n",
              " Text(0, 0, 'du soleil'),\n",
              " Text(0, 0, 'eau minerale'),\n",
              " Text(0, 0, 'minerale naturelle'),\n",
              " Text(0, 0, 'la date'),\n",
              " Text(0, 0, 'mg ph'),\n",
              " Text(0, 0, 'sur la'),\n",
              " Text(0, 0, 'kj kcal'),\n",
              " Text(0, 0, 'de la'),\n",
              " Text(0, 0, 'abri du')]"
            ]
          },
          "metadata": {
            "tags": []
          },
          "execution_count": 42
        },
        {
          "output_type": "display_data",
          "data": {
            "image/png": "[encoded data removed]",
            "text/plain": [
              "<Figure size 936x576 with 1 Axes>"
            ]
          },
          "metadata": {
            "tags": []
          }
        },
        {
          "output_type": "stream",
          "text": [
            "time: 491 ms (started: 2021-02-26 12:00:23 +00:00)\n"
          ],
          "name": "stdout"
        }
      ]
    },
    {
      "cell_type": "code",
      "metadata": {
        "colab": {
          "base_uri": "https://localhost:8080/",
          "height": 1000
        },
        "id": "akRr50ob3n4C",
        "outputId": "bf96c947-f563-4d49-bc4c-b998ee85d5de"
      },
      "source": [
        "#Most frequently occuring Tri-grams\r\n",
        "def get_top_n3_words(corpus, n=None):\r\n",
        "    vec1 = CountVectorizer(ngram_range=(3,3), \r\n",
        "           max_features=2000).fit(corpus)\r\n",
        "    bag_of_words = vec1.transform(corpus)\r\n",
        "    sum_words = bag_of_words.sum(axis=0) \r\n",
        "    words_freq = [(word, sum_words[0, idx]) for word, idx in     \r\n",
        "                  vec1.vocabulary_.items()]\r\n",
        "    words_freq =sorted(words_freq, key = lambda x: x[1], \r\n",
        "                reverse=True)\r\n",
        "    return words_freq[:n]\r\n",
        "top3_words = get_top_n3_words(corpus, n=30)\r\n",
        "top3_df = pd.DataFrame(top3_words)\r\n",
        "top3_df.columns=[\"Tri-gram\", \"Freq\"]\r\n",
        "print(top3_df)\r\n",
        "\r\n",
        "#Barplot of most freq Tri-grams\r\n",
        "import seaborn as sns\r\n",
        "sns.set(rc={'figure.figsize':(13,8)})\r\n",
        "j=sns.barplot(x=\"Tri-gram\", y=\"Freq\", data=top3_df)\r\n",
        "j.set_xticklabels(j.get_xticklabels(), rotation=45)"
      ],
      "execution_count": null,
      "outputs": [
        {
          "output_type": "stream",
          "text": [
            "                  Tri-gram  Freq\n",
            "0          dans un endroit    71\n",
            "1        un endroit propre    70\n",
            "2            propre sec et    68\n",
            "3       endroit propre sec    65\n",
            "4              de pr rence    59\n",
            "5           du soleil dans    59\n",
            "6           soleil dans un    59\n",
            "7           pr rence avant    57\n",
            "8          consommer de pr    55\n",
            "9   eau minerale naturelle    54\n",
            "10           avant la date    52\n",
            "11          abri du soleil    51\n",
            "12             sec et temp    50\n",
            "13          la date indiqu    48\n",
            "14          rence avant la    46\n",
            "15           indiqu sur la    46\n",
            "16         date indiqu sur    45\n",
            "17        sur la bouteille    43\n",
            "18            eau min rale    40\n",
            "19      min rale naturelle    40\n",
            "20       une pointe accent    39\n",
            "21        pointe accent du    39\n",
            "22            de la sieste    39\n",
            "23   min ralisation totale    38\n",
            "24           accent du sud    38\n",
            "25               du sud le    38\n",
            "26              le zzzz de    38\n",
            "27              zzzz de la    38\n",
            "28      cigales une pointe    37\n",
            "29             sud le zzzz    37\n"
          ],
          "name": "stdout"
        },
        {
          "output_type": "execute_result",
          "data": {
            "text/plain": [
              "[Text(0, 0, 'dans un endroit'),\n",
              " Text(0, 0, 'un endroit propre'),\n",
              " Text(0, 0, 'propre sec et'),\n",
              " Text(0, 0, 'endroit propre sec'),\n",
              " Text(0, 0, 'de pr rence'),\n",
              " Text(0, 0, 'du soleil dans'),\n",
              " Text(0, 0, 'soleil dans un'),\n",
              " Text(0, 0, 'pr rence avant'),\n",
              " Text(0, 0, 'consommer de pr'),\n",
              " Text(0, 0, 'eau minerale naturelle'),\n",
              " Text(0, 0, 'avant la date'),\n",
              " Text(0, 0, 'abri du soleil'),\n",
              " Text(0, 0, 'sec et temp'),\n",
              " Text(0, 0, 'la date indiqu'),\n",
              " Text(0, 0, 'rence avant la'),\n",
              " Text(0, 0, 'indiqu sur la'),\n",
              " Text(0, 0, 'date indiqu sur'),\n",
              " Text(0, 0, 'sur la bouteille'),\n",
              " Text(0, 0, 'eau min rale'),\n",
              " Text(0, 0, 'min rale naturelle'),\n",
              " Text(0, 0, 'une pointe accent'),\n",
              " Text(0, 0, 'pointe accent du'),\n",
              " Text(0, 0, 'de la sieste'),\n",
              " Text(0, 0, 'min ralisation totale'),\n",
              " Text(0, 0, 'accent du sud'),\n",
              " Text(0, 0, 'du sud le'),\n",
              " Text(0, 0, 'le zzzz de'),\n",
              " Text(0, 0, 'zzzz de la'),\n",
              " Text(0, 0, 'cigales une pointe'),\n",
              " Text(0, 0, 'sud le zzzz')]"
            ]
          },
          "metadata": {
            "tags": []
          },
          "execution_count": 43
        },
        {
          "output_type": "display_data",
          "data": {
            "image/png": "[encoded data removed]",
            "text/plain": [
              "<Figure size 936x576 with 1 Axes>"
            ]
          },
          "metadata": {
            "tags": []
          }
        },
        {
          "output_type": "stream",
          "text": [
            "time: 644 ms (started: 2021-02-26 12:00:29 +00:00)\n"
          ],
          "name": "stdout"
        }
      ]
    },
    {
      "cell_type": "code",
      "metadata": {
        "colab": {
          "base_uri": "https://localhost:8080/",
          "height": 968
        },
        "id": "-MtaWUg3uPpt",
        "outputId": "7a9b69b1-6ef7-4971-b6cb-873e8bb90150"
      },
      "source": [
        "top3_df"
      ],
      "execution_count": null,
      "outputs": [
        {
          "output_type": "execute_result",
          "data": {
            "text/html": [
              "<div>\n",
              "<style scoped>\n",
              "    .dataframe tbody tr th:only-of-type {\n",
              "        vertical-align: middle;\n",
              "    }\n",
              "\n",
              "    .dataframe tbody tr th {\n",
              "        vertical-align: top;\n",
              "    }\n",
              "\n",
              "    .dataframe thead th {\n",
              "        text-align: right;\n",
              "    }\n",
              "</style>\n",
              "<table border=\"1\" class=\"dataframe\">\n",
              "  <thead>\n",
              "    <tr style=\"text-align: right;\">\n",
              "      <th></th>\n",
              "      <th>Tri-gram</th>\n",
              "      <th>Freq</th>\n",
              "    </tr>\n",
              "  </thead>\n",
              "  <tbody>\n",
              "    <tr>\n",
              "      <th>0</th>\n",
              "      <td>acides gras satures</td>\n",
              "      <td>155</td>\n",
              "    </tr>\n",
              "    <tr>\n",
              "      <th>1</th>\n",
              "      <td>consommer preference avant</td>\n",
              "      <td>152</td>\n",
              "    </tr>\n",
              "    <tr>\n",
              "      <th>2</th>\n",
              "      <td>grass acides gras</td>\n",
              "      <td>106</td>\n",
              "    </tr>\n",
              "    <tr>\n",
              "      <th>3</th>\n",
              "      <td>preference avant date</td>\n",
              "      <td>104</td>\n",
              "    </tr>\n",
              "    <tr>\n",
              "      <th>4</th>\n",
              "      <td>eau minerale naturelle</td>\n",
              "      <td>69</td>\n",
              "    </tr>\n",
              "    <tr>\n",
              "      <th>5</th>\n",
              "      <td>gras satures glucides</td>\n",
              "      <td>68</td>\n",
              "    </tr>\n",
              "    <tr>\n",
              "      <th>6</th>\n",
              "      <td>endroit propre sec</td>\n",
              "      <td>66</td>\n",
              "    </tr>\n",
              "    <tr>\n",
              "      <th>7</th>\n",
              "      <td>matieres grass acides</td>\n",
              "      <td>65</td>\n",
              "    </tr>\n",
              "    <tr>\n",
              "      <th>8</th>\n",
              "      <td>satures glucides sucre</td>\n",
              "      <td>59</td>\n",
              "    </tr>\n",
              "    <tr>\n",
              "      <th>9</th>\n",
              "      <td>propre sec tempere</td>\n",
              "      <td>58</td>\n",
              "    </tr>\n",
              "    <tr>\n",
              "      <th>10</th>\n",
              "      <td>soleil endroit propre</td>\n",
              "      <td>56</td>\n",
              "    </tr>\n",
              "    <tr>\n",
              "      <th>11</th>\n",
              "      <td>energie matieres grass</td>\n",
              "      <td>48</td>\n",
              "    </tr>\n",
              "    <tr>\n",
              "      <th>12</th>\n",
              "      <td>avant date indiquee</td>\n",
              "      <td>47</td>\n",
              "    </tr>\n",
              "    <tr>\n",
              "      <th>13</th>\n",
              "      <td>labri soleil endroit</td>\n",
              "      <td>46</td>\n",
              "    </tr>\n",
              "    <tr>\n",
              "      <th>14</th>\n",
              "      <td>ingredient farine ble</td>\n",
              "      <td>44</td>\n",
              "    </tr>\n",
              "    <tr>\n",
              "      <th>15</th>\n",
              "      <td>fibre alimentaires proteines</td>\n",
              "      <td>40</td>\n",
              "    </tr>\n",
              "    <tr>\n",
              "      <th>16</th>\n",
              "      <td>valeurs nutritionnelles moyennes</td>\n",
              "      <td>38</td>\n",
              "    </tr>\n",
              "    <tr>\n",
              "      <th>17</th>\n",
              "      <td>pointe daccent sud</td>\n",
              "      <td>38</td>\n",
              "    </tr>\n",
              "    <tr>\n",
              "      <th>18</th>\n",
              "      <td>cigales pointe daccent</td>\n",
              "      <td>37</td>\n",
              "    </tr>\n",
              "    <tr>\n",
              "      <th>19</th>\n",
              "      <td>daccent sud zzzz</td>\n",
              "      <td>37</td>\n",
              "    </tr>\n",
              "    <tr>\n",
              "      <th>20</th>\n",
              "      <td>sud zzzz sieste</td>\n",
              "      <td>37</td>\n",
              "    </tr>\n",
              "    <tr>\n",
              "      <th>21</th>\n",
              "      <td>alimentaires proteines sel</td>\n",
              "      <td>36</td>\n",
              "    </tr>\n",
              "    <tr>\n",
              "      <th>22</th>\n",
              "      <td>cs cigales pointe</td>\n",
              "      <td>36</td>\n",
              "    </tr>\n",
              "    <tr>\n",
              "      <th>23</th>\n",
              "      <td>glucides sucre amidon</td>\n",
              "      <td>35</td>\n",
              "    </tr>\n",
              "    <tr>\n",
              "      <th>24</th>\n",
              "      <td>totale sels mineraux</td>\n",
              "      <td>34</td>\n",
              "    </tr>\n",
              "    <tr>\n",
              "      <th>25</th>\n",
              "      <td>date indiquee bouteille</td>\n",
              "      <td>34</td>\n",
              "    </tr>\n",
              "    <tr>\n",
              "      <th>26</th>\n",
              "      <td>bicarbonate sulfate chlorures</td>\n",
              "      <td>34</td>\n",
              "    </tr>\n",
              "    <tr>\n",
              "      <th>27</th>\n",
              "      <td>valeurs nutritionnelles energie</td>\n",
              "      <td>33</td>\n",
              "    </tr>\n",
              "    <tr>\n",
              "      <th>28</th>\n",
              "      <td>gras satures gglucides</td>\n",
              "      <td>33</td>\n",
              "    </tr>\n",
              "    <tr>\n",
              "      <th>29</th>\n",
              "      <td>sucre amidon fibre</td>\n",
              "      <td>33</td>\n",
              "    </tr>\n",
              "  </tbody>\n",
              "</table>\n",
              "</div>"
            ],
            "text/plain": [
              "                            Tri-gram  Freq\n",
              "0                acides gras satures   155\n",
              "1         consommer preference avant   152\n",
              "2                  grass acides gras   106\n",
              "3              preference avant date   104\n",
              "4             eau minerale naturelle    69\n",
              "5              gras satures glucides    68\n",
              "6                 endroit propre sec    66\n",
              "7              matieres grass acides    65\n",
              "8             satures glucides sucre    59\n",
              "9                 propre sec tempere    58\n",
              "10             soleil endroit propre    56\n",
              "11            energie matieres grass    48\n",
              "12               avant date indiquee    47\n",
              "13              labri soleil endroit    46\n",
              "14             ingredient farine ble    44\n",
              "15      fibre alimentaires proteines    40\n",
              "16  valeurs nutritionnelles moyennes    38\n",
              "17                pointe daccent sud    38\n",
              "18            cigales pointe daccent    37\n",
              "19                  daccent sud zzzz    37\n",
              "20                   sud zzzz sieste    37\n",
              "21        alimentaires proteines sel    36\n",
              "22                 cs cigales pointe    36\n",
              "23             glucides sucre amidon    35\n",
              "24              totale sels mineraux    34\n",
              "25           date indiquee bouteille    34\n",
              "26     bicarbonate sulfate chlorures    34\n",
              "27   valeurs nutritionnelles energie    33\n",
              "28            gras satures gglucides    33\n",
              "29                sucre amidon fibre    33"
            ]
          },
          "metadata": {
            "tags": []
          },
          "execution_count": 89
        },
        {
          "output_type": "stream",
          "text": [
            "time: 14.3 ms (started: 2021-02-25 15:05:20 +00:00)\n"
          ],
          "name": "stdout"
        }
      ]
    },
    {
      "cell_type": "code",
      "metadata": {
        "colab": {
          "base_uri": "https://localhost:8080/"
        },
        "id": "0X6jtio8umAS",
        "outputId": "94ea5571-8f4f-4793-9000-dfedfcf24268"
      },
      "source": [
        "top3_list = top3_df['Tri-gram'].tolist()\r\n",
        "top3_list"
      ],
      "execution_count": null,
      "outputs": [
        {
          "output_type": "execute_result",
          "data": {
            "text/plain": [
              "['dans un endroit',\n",
              " 'un endroit propre',\n",
              " 'propre sec et',\n",
              " 'endroit propre sec',\n",
              " 'de pr rence',\n",
              " 'du soleil dans',\n",
              " 'soleil dans un',\n",
              " 'pr rence avant',\n",
              " 'consommer de pr',\n",
              " 'eau minerale naturelle',\n",
              " 'avant la date',\n",
              " 'abri du soleil',\n",
              " 'sec et temp',\n",
              " 'la date indiqu',\n",
              " 'rence avant la',\n",
              " 'indiqu sur la',\n",
              " 'date indiqu sur',\n",
              " 'sur la bouteille',\n",
              " 'eau min rale',\n",
              " 'min rale naturelle',\n",
              " 'une pointe accent',\n",
              " 'pointe accent du',\n",
              " 'de la sieste',\n",
              " 'min ralisation totale',\n",
              " 'accent du sud',\n",
              " 'du sud le',\n",
              " 'le zzzz de',\n",
              " 'zzzz de la',\n",
              " 'cigales une pointe',\n",
              " 'sud le zzzz']"
            ]
          },
          "metadata": {
            "tags": []
          },
          "execution_count": 44
        },
        {
          "output_type": "stream",
          "text": [
            "time: 3.67 ms (started: 2021-02-26 12:00:42 +00:00)\n"
          ],
          "name": "stdout"
        }
      ]
    },
    {
      "cell_type": "code",
      "metadata": {
        "id": "dqfRxQ5Z4Xs6",
        "colab": {
          "base_uri": "https://localhost:8080/",
          "height": 258
        },
        "outputId": "cdc79678-7af7-4f80-bfbc-e3eb921e7889"
      },
      "source": [
        "from sklearn.feature_extraction.text import TfidfTransformer\r\n",
        " \r\n",
        "tfidf_transformer=TfidfTransformer(smooth_idf=True,use_idf=True)\r\n",
        "tfidf_transformer.fit(X)\r\n",
        "# get feature names\r\n",
        "feature_names=cv.get_feature_names()\r\n",
        " \r\n",
        "# fetch document for which keywords needs to be extracted\r\n",
        "doc=corpus[532]\r\n",
        " \r\n",
        "#generate tf-idf for the given document\r\n",
        "tf_idf_vector=tfidf_transformer.transform(cv.transform([doc]))"
      ],
      "execution_count": null,
      "outputs": [
        {
          "output_type": "error",
          "ename": "IndexError",
          "evalue": "ignored",
          "traceback": [
            "\u001b[0;31m---------------------------------------------------------------------------\u001b[0m",
            "\u001b[0;31mIndexError\u001b[0m                                Traceback (most recent call last)",
            "\u001b[0;32m<ipython-input-45-bf5c18af0f1f>\u001b[0m in \u001b[0;36m<module>\u001b[0;34m()\u001b[0m\n\u001b[1;32m      7\u001b[0m \u001b[0;34m\u001b[0m\u001b[0m\n\u001b[1;32m      8\u001b[0m \u001b[0;31m# fetch document for which keywords needs to be extracted\u001b[0m\u001b[0;34m\u001b[0m\u001b[0;34m\u001b[0m\u001b[0;34m\u001b[0m\u001b[0m\n\u001b[0;32m----> 9\u001b[0;31m \u001b[0mdoc\u001b[0m\u001b[0;34m=\u001b[0m\u001b[0mcorpus\u001b[0m\u001b[0;34m[\u001b[0m\u001b[0;36m532\u001b[0m\u001b[0;34m]\u001b[0m\u001b[0;34m\u001b[0m\u001b[0;34m\u001b[0m\u001b[0m\n\u001b[0m\u001b[1;32m     10\u001b[0m \u001b[0;34m\u001b[0m\u001b[0m\n\u001b[1;32m     11\u001b[0m \u001b[0;31m#generate tf-idf for the given document\u001b[0m\u001b[0;34m\u001b[0m\u001b[0;34m\u001b[0m\u001b[0;34m\u001b[0m\u001b[0m\n",
            "\u001b[0;31mIndexError\u001b[0m: list index out of range"
          ]
        },
        {
          "output_type": "stream",
          "text": [
            "time: 14.8 ms (started: 2021-02-26 12:01:02 +00:00)\n"
          ],
          "name": "stdout"
        }
      ]
    },
    {
      "cell_type": "code",
      "metadata": {
        "colab": {
          "base_uri": "https://localhost:8080/"
        },
        "id": "JKzP9CRv4mYr",
        "outputId": "c292bc55-44fc-429c-c25b-79f2df20d78d"
      },
      "source": [
        "#Function for sorting tf_idf in descending order\r\n",
        "from scipy.sparse import coo_matrix\r\n",
        "def sort_coo(coo_matrix):\r\n",
        "    tuples = zip(coo_matrix.col, coo_matrix.data)\r\n",
        "    return sorted(tuples, key=lambda x: (x[1], x[0]), reverse=True)\r\n",
        " \r\n",
        "def extract_topn_from_vector(feature_names, sorted_items, topn=10):\r\n",
        "    \"\"\"get the feature names and tf-idf score of top n items\"\"\"\r\n",
        "    \r\n",
        "    #use only topn items from vector\r\n",
        "    sorted_items = sorted_items[:topn]\r\n",
        " \r\n",
        "    score_vals = []\r\n",
        "    feature_vals = []\r\n",
        "    \r\n",
        "    # word index and corresponding tf-idf score\r\n",
        "    for idx, score in sorted_items:\r\n",
        "        \r\n",
        "        #keep track of feature name and its corresponding score\r\n",
        "        score_vals.append(round(score, 3))\r\n",
        "        feature_vals.append(feature_names[idx])\r\n",
        " \r\n",
        "    #create a tuples of feature,score\r\n",
        "    #results = zip(feature_vals,score_vals)\r\n",
        "    results= {}\r\n",
        "    for idx in range(len(feature_vals)):\r\n",
        "        results[feature_vals[idx]]=score_vals[idx]\r\n",
        "    \r\n",
        "    return results\r\n",
        "#sort the tf-idf vectors by descending order of scores\r\n",
        "sorted_items=sort_coo(tf_idf_vector.tocoo())\r\n",
        "#extract only the top n; n here is 10\r\n",
        "keywords=extract_topn_from_vector(feature_names,sorted_items,5)\r\n",
        " \r\n",
        "# now print the results\r\n",
        "print(\"\\nAbstract:\")\r\n",
        "print(doc)\r\n",
        "print(\"\\nKeywords:\")\r\n",
        "for k in keywords:\r\n",
        "    print(k,keywords[k])"
      ],
      "execution_count": null,
      "outputs": [
        {
          "output_type": "stream",
          "text": [
            "\n",
            "Abstract:\n",
            "int int beacin dune recette simnple gourmande cudune idee menu rendezvous wwwgrancinecom fnaredients nutrition lange dquilibre preparation painaux cereales stsfarine ble graines tournescl farine seige delin brungluten ble levain ble deshydrate uigifiantee etrose mailt dorge agent tament farinee enzyme pretsemce ventuelle desoja lait deuf graines desesame ceneales fruit coque farine pain cuit ion omnele kcal k kcal k eres grses opides gras re guoides sucre dnaidon fbres mentaires qg proeines erver bfabride lo chaleur humiditee ommer preference avant date inscrite dessus soche tjet b dessicoation pouvant entrainer variation poids kg poids net lemballage grand moulins paris sne eurs francine\n",
            "\n",
            "Keywords:\n",
            "int 0.242\n",
            "ble 0.177\n",
            "graines 0.165\n",
            "seige 0.126\n",
            "proeines 0.126\n"
          ],
          "name": "stdout"
        }
      ]
    },
    {
      "cell_type": "markdown",
      "metadata": {
        "id": "ofcdgSRZpR9G"
      },
      "source": [
        "## 3. Significative N-grams\r\n",
        "\r\n",
        "---\r\n",
        "\r\n"
      ]
    },
    {
      "cell_type": "code",
      "metadata": {
        "colab": {
          "base_uri": "https://localhost:8080/"
        },
        "id": "atBuDlZ6pqM_",
        "outputId": "439db81b-fcec-437b-b9b2-4ceab3d2ce86"
      },
      "source": [
        "# Load the dataset\r\n",
        "df_base = pd.read_csv('/content/drive/My Drive/OFF_Drive/raw_data/ocr_labeled.csv')"
      ],
      "execution_count": null,
      "outputs": [
        {
          "output_type": "stream",
          "text": [
            "time: 10.7 s (started: 2021-02-26 14:04:13 +00:00)\n"
          ],
          "name": "stdout"
        }
      ]
    },
    {
      "cell_type": "code",
      "metadata": {
        "colab": {
          "base_uri": "https://localhost:8080/"
        },
        "id": "pNrrw8lSp6RW",
        "outputId": "ec5461e1-2791-4ace-e297-b8f51a494646"
      },
      "source": [
        "df = df_base.copy()"
      ],
      "execution_count": null,
      "outputs": [
        {
          "output_type": "stream",
          "text": [
            "time: 29.4 ms (started: 2021-02-26 14:04:35 +00:00)\n"
          ],
          "name": "stdout"
        }
      ]
    },
    {
      "cell_type": "code",
      "metadata": {
        "id": "dm9pdXpIqPi_"
      },
      "source": [
        "df.head()"
      ],
      "execution_count": null,
      "outputs": []
    },
    {
      "cell_type": "code",
      "metadata": {
        "colab": {
          "base_uri": "https://localhost:8080/"
        },
        "id": "vGT28GeqphZC",
        "outputId": "7f71e4d2-bd24-453f-94c4-edfb481df4b3"
      },
      "source": [
        "corpus = df['clean_text']\r\n",
        "# Generate n_grams\r\n",
        "def get_n_grams(corpus, n=None, n_gram=(1,1)):\r\n",
        "    vec = CountVectorizer(ngram_range=n_gram,  \r\n",
        "            max_features=n).fit(corpus)\r\n",
        "    bag_of_words = vec.transform(corpus)\r\n",
        "    sum_words = bag_of_words.sum(axis=0) \r\n",
        "    words_freq = [\r\n",
        "                  (word, sum_words[0, idx]) \r\n",
        "                  for word, idx in vec.vocabulary_.items()\r\n",
        "                  ]\r\n",
        "    words_freq =sorted(words_freq, key = lambda x: x[1], reverse=True)\r\n",
        "    top_df = pd.DataFrame(words_freq)\r\n",
        "    top_df.columns=[\"Word\", \"Freq\"]\r\n",
        "    return top_df"
      ],
      "execution_count": null,
      "outputs": [
        {
          "output_type": "stream",
          "text": [
            "time: 17.2 ms (started: 2021-02-26 14:06:50 +00:00)\n"
          ],
          "name": "stdout"
        }
      ]
    },
    {
      "cell_type": "code",
      "metadata": {
        "colab": {
          "base_uri": "https://localhost:8080/"
        },
        "id": "xboJGdBtps-Q",
        "outputId": "921e3566-67a5-49a8-98d4-012fd4fe34e2"
      },
      "source": [
        "fifteen_grams = get_n_grams(corpus, n=50, n_gram=(15,15))"
      ],
      "execution_count": null,
      "outputs": [
        {
          "output_type": "stream",
          "text": [
            "time: 3min 7s (started: 2021-02-26 14:07:25 +00:00)\n"
          ],
          "name": "stdout"
        }
      ]
    },
    {
      "cell_type": "code",
      "metadata": {
        "id": "9UnwXCj8qukH"
      },
      "source": [
        "# 15\r\n",
        "display(fifteen_grams)"
      ],
      "execution_count": null,
      "outputs": []
    },
    {
      "cell_type": "code",
      "metadata": {
        "id": "XakhY0e9p-lZ"
      },
      "source": [
        "# 10\r\n",
        "ten_grams = get_n_grams(corpus, n=50, n_gram=(10,10))\r\n",
        "display(ten_grams)"
      ],
      "execution_count": null,
      "outputs": []
    },
    {
      "cell_type": "code",
      "metadata": {
        "id": "EY-JOFk6rk-4"
      },
      "source": [
        "# 9\r\n",
        "nine_grams = get_n_grams(corpus, n=50, n_gram=(9,9))\r\n",
        "display(nine_grams)"
      ],
      "execution_count": null,
      "outputs": []
    },
    {
      "cell_type": "code",
      "metadata": {
        "id": "_3WXhBM8r3Ko"
      },
      "source": [
        "# 8\r\n",
        "eight_grams = get_n_grams(corpus, n=50, n_gram=(8,8))\r\n",
        "display(eight_grams)"
      ],
      "execution_count": null,
      "outputs": []
    },
    {
      "cell_type": "code",
      "metadata": {
        "id": "MyXPBH8nr9n-"
      },
      "source": [
        "# 7\r\n",
        "seven_grams = get_n_grams(corpus, n=50, n_gram=(7,7))\r\n",
        "display(seven_grams)"
      ],
      "execution_count": null,
      "outputs": []
    },
    {
      "cell_type": "code",
      "metadata": {
        "id": "SR1wnKUasEoN"
      },
      "source": [
        "# 6\r\n",
        "six_grams = get_n_grams(corpus, n=50, n_gram=(6,6))\r\n",
        "display(six_grams)"
      ],
      "execution_count": null,
      "outputs": []
    },
    {
      "cell_type": "code",
      "metadata": {
        "id": "hWHhjVyvsQOb"
      },
      "source": [
        "# 5\r\n",
        "five_grams = get_n_grams(corpus, n=50, n_gram=(5,5))\r\n",
        "display(five_grams)"
      ],
      "execution_count": null,
      "outputs": []
    },
    {
      "cell_type": "code",
      "metadata": {
        "id": "_-pO50mXyQM4"
      },
      "source": [
        "# 4\r\n",
        "four_grams = get_n_grams(corpus, n=50, n_gram=(4,4))\r\n",
        "display(four_grams)"
      ],
      "execution_count": null,
      "outputs": []
    },
    {
      "cell_type": "code",
      "metadata": {
        "id": "DOfLXEV6yWO3"
      },
      "source": [
        "# 3\r\n",
        "tri_grams = get_n_grams(corpus, n=50, n_gram=(3,3))\r\n",
        "display(tri_grams)"
      ],
      "execution_count": null,
      "outputs": []
    },
    {
      "cell_type": "code",
      "metadata": {
        "colab": {
          "base_uri": "https://localhost:8080/"
        },
        "id": "ZVSdAMm0ybvF",
        "outputId": "97629d9f-db4e-4bbb-ad80-20e6364a7683"
      },
      "source": [
        "# 2\r\n",
        "bi_grams = get_n_grams(corpus, n=50, n_gram=(2,2))\r\n",
        "display(bi_grams)"
      ],
      "execution_count": null,
      "outputs": [
        {
          "output_type": "display_data",
          "data": {
            "text/html": [
              "<div>\n",
              "<style scoped>\n",
              "    .dataframe tbody tr th:only-of-type {\n",
              "        vertical-align: middle;\n",
              "    }\n",
              "\n",
              "    .dataframe tbody tr th {\n",
              "        vertical-align: top;\n",
              "    }\n",
              "\n",
              "    .dataframe thead th {\n",
              "        text-align: right;\n",
              "    }\n",
              "</style>\n",
              "<table border=\"1\" class=\"dataframe\">\n",
              "  <thead>\n",
              "    <tr style=\"text-align: right;\">\n",
              "      <th></th>\n",
              "      <th>Word</th>\n",
              "      <th>Freq</th>\n",
              "    </tr>\n",
              "  </thead>\n",
              "  <tbody>\n",
              "    <tr>\n",
              "      <th>0</th>\n",
              "      <td>kj kcal</td>\n",
              "      <td>117795</td>\n",
              "    </tr>\n",
              "    <tr>\n",
              "      <th>1</th>\n",
              "      <td>dont sucres</td>\n",
              "      <td>108051</td>\n",
              "    </tr>\n",
              "    <tr>\n",
              "      <th>2</th>\n",
              "      <td>acides gras</td>\n",
              "      <td>102418</td>\n",
              "    </tr>\n",
              "    <tr>\n",
              "      <th>3</th>\n",
              "      <td>matieres grasses</td>\n",
              "      <td>101343</td>\n",
              "    </tr>\n",
              "    <tr>\n",
              "      <th>4</th>\n",
              "      <td>dont acides</td>\n",
              "      <td>97576</td>\n",
              "    </tr>\n",
              "    <tr>\n",
              "      <th>5</th>\n",
              "      <td>gras satures</td>\n",
              "      <td>96597</td>\n",
              "    </tr>\n",
              "    <tr>\n",
              "      <th>6</th>\n",
              "      <td>de ble</td>\n",
              "      <td>88156</td>\n",
              "    </tr>\n",
              "    <tr>\n",
              "      <th>7</th>\n",
              "      <td>glucides dont</td>\n",
              "      <td>87409</td>\n",
              "    </tr>\n",
              "    <tr>\n",
              "      <th>8</th>\n",
              "      <td>grasses dont</td>\n",
              "      <td>78292</td>\n",
              "    </tr>\n",
              "    <tr>\n",
              "      <th>9</th>\n",
              "      <td>poids net</td>\n",
              "      <td>74525</td>\n",
              "    </tr>\n",
              "    <tr>\n",
              "      <th>10</th>\n",
              "      <td>proteines sel</td>\n",
              "      <td>73505</td>\n",
              "    </tr>\n",
              "    <tr>\n",
              "      <th>11</th>\n",
              "      <td>moyennes pour</td>\n",
              "      <td>73267</td>\n",
              "    </tr>\n",
              "    <tr>\n",
              "      <th>12</th>\n",
              "      <td>valeurs nutritionnelles</td>\n",
              "      <td>69871</td>\n",
              "    </tr>\n",
              "    <tr>\n",
              "      <th>13</th>\n",
              "      <td>satures glucides</td>\n",
              "      <td>67136</td>\n",
              "    </tr>\n",
              "    <tr>\n",
              "      <th>14</th>\n",
              "      <td>farine de</td>\n",
              "      <td>66825</td>\n",
              "    </tr>\n",
              "    <tr>\n",
              "      <th>15</th>\n",
              "      <td>de la</td>\n",
              "      <td>63306</td>\n",
              "    </tr>\n",
              "    <tr>\n",
              "      <th>16</th>\n",
              "      <td>nutritionnelles moyennes</td>\n",
              "      <td>63249</td>\n",
              "    </tr>\n",
              "    <tr>\n",
              "      <th>17</th>\n",
              "      <td>huile de</td>\n",
              "      <td>59800</td>\n",
              "    </tr>\n",
              "    <tr>\n",
              "      <th>18</th>\n",
              "      <td>de preference</td>\n",
              "      <td>55658</td>\n",
              "    </tr>\n",
              "    <tr>\n",
              "      <th>19</th>\n",
              "      <td>consommer de</td>\n",
              "      <td>51287</td>\n",
              "    </tr>\n",
              "    <tr>\n",
              "      <th>20</th>\n",
              "      <td>preference avant</td>\n",
              "      <td>50776</td>\n",
              "    </tr>\n",
              "    <tr>\n",
              "      <th>21</th>\n",
              "      <td>et de</td>\n",
              "      <td>48738</td>\n",
              "    </tr>\n",
              "    <tr>\n",
              "      <th>22</th>\n",
              "      <td>fibres alimentaires</td>\n",
              "      <td>46162</td>\n",
              "    </tr>\n",
              "    <tr>\n",
              "      <th>23</th>\n",
              "      <td>sucres fibres</td>\n",
              "      <td>42468</td>\n",
              "    </tr>\n",
              "    <tr>\n",
              "      <th>24</th>\n",
              "      <td>energie matieres</td>\n",
              "      <td>41909</td>\n",
              "    </tr>\n",
              "    <tr>\n",
              "      <th>25</th>\n",
              "      <td>de sodium</td>\n",
              "      <td>41190</td>\n",
              "    </tr>\n",
              "    <tr>\n",
              "      <th>26</th>\n",
              "      <td>de lait</td>\n",
              "      <td>40486</td>\n",
              "    </tr>\n",
              "    <tr>\n",
              "      <th>27</th>\n",
              "      <td>de porc</td>\n",
              "      <td>38804</td>\n",
              "    </tr>\n",
              "    <tr>\n",
              "      <th>28</th>\n",
              "      <td>sucres proteines</td>\n",
              "      <td>37479</td>\n",
              "    </tr>\n",
              "    <tr>\n",
              "      <th>29</th>\n",
              "      <td>en poudre</td>\n",
              "      <td>37256</td>\n",
              "    </tr>\n",
              "    <tr>\n",
              "      <th>30</th>\n",
              "      <td>apres ouverture</td>\n",
              "      <td>36401</td>\n",
              "    </tr>\n",
              "    <tr>\n",
              "      <th>31</th>\n",
              "      <td>de cacao</td>\n",
              "      <td>36180</td>\n",
              "    </tr>\n",
              "    <tr>\n",
              "      <th>32</th>\n",
              "      <td>sur le</td>\n",
              "      <td>35647</td>\n",
              "    </tr>\n",
              "    <tr>\n",
              "      <th>33</th>\n",
              "      <td>alimentaires proteines</td>\n",
              "      <td>35181</td>\n",
              "    </tr>\n",
              "    <tr>\n",
              "      <th>34</th>\n",
              "      <td>dans un</td>\n",
              "      <td>34274</td>\n",
              "    </tr>\n",
              "    <tr>\n",
              "      <th>35</th>\n",
              "      <td>avant le</td>\n",
              "      <td>34135</td>\n",
              "    </tr>\n",
              "    <tr>\n",
              "      <th>36</th>\n",
              "      <td>de lagriculture</td>\n",
              "      <td>33713</td>\n",
              "    </tr>\n",
              "    <tr>\n",
              "      <th>37</th>\n",
              "      <td>sirop de</td>\n",
              "      <td>33574</td>\n",
              "    </tr>\n",
              "    <tr>\n",
              "      <th>38</th>\n",
              "      <td>pour energie</td>\n",
              "      <td>32450</td>\n",
              "    </tr>\n",
              "    <tr>\n",
              "      <th>39</th>\n",
              "      <td>de fruits</td>\n",
              "      <td>32418</td>\n",
              "    </tr>\n",
              "    <tr>\n",
              "      <th>40</th>\n",
              "      <td>de tournesol</td>\n",
              "      <td>31988</td>\n",
              "    </tr>\n",
              "    <tr>\n",
              "      <th>41</th>\n",
              "      <td>arome naturel</td>\n",
              "      <td>30374</td>\n",
              "    </tr>\n",
              "    <tr>\n",
              "      <th>42</th>\n",
              "      <td>jus de</td>\n",
              "      <td>30293</td>\n",
              "    </tr>\n",
              "    <tr>\n",
              "      <th>43</th>\n",
              "      <td>lagriculture biologique</td>\n",
              "      <td>30193</td>\n",
              "    </tr>\n",
              "    <tr>\n",
              "      <th>44</th>\n",
              "      <td>kcal matieres</td>\n",
              "      <td>29520</td>\n",
              "    </tr>\n",
              "    <tr>\n",
              "      <th>45</th>\n",
              "      <td>de terre</td>\n",
              "      <td>29361</td>\n",
              "    </tr>\n",
              "    <tr>\n",
              "      <th>46</th>\n",
              "      <td>fruits coque</td>\n",
              "      <td>28581</td>\n",
              "    </tr>\n",
              "    <tr>\n",
              "      <th>47</th>\n",
              "      <td>en france</td>\n",
              "      <td>28123</td>\n",
              "    </tr>\n",
              "    <tr>\n",
              "      <th>48</th>\n",
              "      <td>voir sur</td>\n",
              "      <td>28051</td>\n",
              "    </tr>\n",
              "    <tr>\n",
              "      <th>49</th>\n",
              "      <td>de soja</td>\n",
              "      <td>26798</td>\n",
              "    </tr>\n",
              "  </tbody>\n",
              "</table>\n",
              "</div>"
            ],
            "text/plain": [
              "                        Word    Freq\n",
              "0                    kj kcal  117795\n",
              "1                dont sucres  108051\n",
              "2                acides gras  102418\n",
              "3           matieres grasses  101343\n",
              "4                dont acides   97576\n",
              "5               gras satures   96597\n",
              "6                     de ble   88156\n",
              "7              glucides dont   87409\n",
              "8               grasses dont   78292\n",
              "9                  poids net   74525\n",
              "10             proteines sel   73505\n",
              "11             moyennes pour   73267\n",
              "12   valeurs nutritionnelles   69871\n",
              "13          satures glucides   67136\n",
              "14                 farine de   66825\n",
              "15                     de la   63306\n",
              "16  nutritionnelles moyennes   63249\n",
              "17                  huile de   59800\n",
              "18             de preference   55658\n",
              "19              consommer de   51287\n",
              "20          preference avant   50776\n",
              "21                     et de   48738\n",
              "22       fibres alimentaires   46162\n",
              "23             sucres fibres   42468\n",
              "24          energie matieres   41909\n",
              "25                 de sodium   41190\n",
              "26                   de lait   40486\n",
              "27                   de porc   38804\n",
              "28          sucres proteines   37479\n",
              "29                 en poudre   37256\n",
              "30           apres ouverture   36401\n",
              "31                  de cacao   36180\n",
              "32                    sur le   35647\n",
              "33    alimentaires proteines   35181\n",
              "34                   dans un   34274\n",
              "35                  avant le   34135\n",
              "36           de lagriculture   33713\n",
              "37                  sirop de   33574\n",
              "38              pour energie   32450\n",
              "39                 de fruits   32418\n",
              "40              de tournesol   31988\n",
              "41             arome naturel   30374\n",
              "42                    jus de   30293\n",
              "43   lagriculture biologique   30193\n",
              "44             kcal matieres   29520\n",
              "45                  de terre   29361\n",
              "46              fruits coque   28581\n",
              "47                 en france   28123\n",
              "48                  voir sur   28051\n",
              "49                   de soja   26798"
            ]
          },
          "metadata": {
            "tags": []
          }
        },
        {
          "output_type": "stream",
          "text": [
            "time: 1min 30s (started: 2021-02-26 15:04:50 +00:00)\n"
          ],
          "name": "stdout"
        }
      ]
    },
    {
      "cell_type": "code",
      "metadata": {
        "id": "hCbanQu6ynuS"
      },
      "source": [
        "# 1\r\n",
        "uni_grams = get_n_grams(corpus, n=50, n_gram=(1,1))\r\n",
        "display(uni_grams)"
      ],
      "execution_count": null,
      "outputs": []
    }
  ]
}