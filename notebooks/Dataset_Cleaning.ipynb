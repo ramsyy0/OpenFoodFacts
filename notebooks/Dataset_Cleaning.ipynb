{
 "cells": [
  {
   "cell_type": "markdown",
   "metadata": {
    "heading_collapsed": "true",
    "id": "mvEEd7Iiyptn",
    "tags": []
   },
   "source": [
    "## 0. Notebook Parameters\r\n",
    "\r\n",
    "---"
   ]
  },
  {
   "cell_type": "markdown",
   "metadata": {
    "heading_collapsed": "true",
    "id": "gNGjexDYzqa1",
    "tags": []
   },
   "source": [
    "### Notebook Settings"
   ]
  },
  {
   "cell_type": "code",
   "execution_count": null,
   "metadata": {
    "colab": {
     "base_uri": "https://localhost:8080/"
    },
    "collapsed": true,
    "id": "RnL_ek7croFZ",
    "jupyter": {
     "outputs_hidden": true,
     "source_hidden": true
    },
    "outputId": "114553a8-58f8-4c75-9b5e-e37637f85529",
    "tags": []
   },
   "outputs": [
    {
     "name": "stdout",
     "output_type": "stream",
     "text": [
      "Mounted at /content/drive\n"
     ]
    }
   ],
   "source": [
    "\"\"\"Google Colab settings\"\"\"\n",
    "# from google.colab import drive\n",
    "# drive.mount('/content/drive', force_remount=True)"
   ]
  },
  {
   "cell_type": "code",
   "execution_count": 1,
   "metadata": {
    "collapsed": true,
    "jupyter": {
     "outputs_hidden": true,
     "source_hidden": true
    },
    "tags": []
   },
   "outputs": [
    {
     "name": "stdout",
     "output_type": "stream",
     "text": [
      "time: 514 µs (started: 2021-03-01 00:38:39 +01:00)\n"
     ]
    }
   ],
   "source": [
    "\"\"\"Jupyter settings\"\"\"\n",
    "# Enable autoreload\n",
    "%load_ext autoreload\n",
    "%autoreload 2\n",
    "\n",
    "# Pylint parameters\n",
    "%config Completer.use_jedi = False\n",
    "\n",
    "# Measure Runtime\n",
    "# !pip install ipython-autotime\n",
    "%load_ext autotime"
   ]
  },
  {
   "cell_type": "markdown",
   "metadata": {
    "heading_collapsed": "true",
    "id": "NlVyaHXCzEnF",
    "tags": []
   },
   "source": [
    "### Imported Packages"
   ]
  },
  {
   "cell_type": "code",
   "execution_count": 2,
   "metadata": {
    "collapsed": true,
    "id": "nrG94G1Du5-o",
    "jupyter": {
     "outputs_hidden": true,
     "source_hidden": true
    },
    "tags": []
   },
   "outputs": [
    {
     "name": "stdout",
     "output_type": "stream",
     "text": [
      "time: 872 ms (started: 2021-03-01 00:38:42 +01:00)\n"
     ]
    }
   ],
   "source": [
    "\"\"\"Packages for manipulation of vectors, arrays, dataframes\"\"\"\n",
    "import numpy as np\n",
    "import pandas as pd\n",
    "pd.set_option('display.max_colwidth', None) # Change display settings of class\n",
    "\n",
    "\"\"\"Packages for cleaning dataset\"\"\"\n",
    "import json\n",
    "import string\n",
    "import unicodedata\n",
    "\n",
    "\"\"\"Packages for data visualization\"\"\"\n",
    "from matplotlib import pyplot as plt\n",
    "%matplotlib inline\n",
    "import seaborn"
   ]
  },
  {
   "cell_type": "markdown",
   "metadata": {
    "id": "KwGHAZWcqrMN",
    "tags": []
   },
   "source": [
    "## 1. Preprocessing\r\n",
    "\r\n",
    "---"
   ]
  },
  {
   "cell_type": "markdown",
   "metadata": {
    "id": "txG19qiEOLoF",
    "tags": []
   },
   "source": [
    "### Clean OCR Dataset"
   ]
  },
  {
   "cell_type": "markdown",
   "metadata": {
    "heading_collapsed": "true",
    "id": "EzlzuUGCud9v",
    "tags": []
   },
   "source": [
    "#### Import the Data"
   ]
  },
  {
   "cell_type": "code",
   "execution_count": 5,
   "metadata": {
    "collapsed": true,
    "id": "d1-TCOXmt5Bh",
    "jupyter": {
     "outputs_hidden": true,
     "source_hidden": true
    },
    "tags": []
   },
   "outputs": [
    {
     "name": "stdout",
     "output_type": "stream",
     "text": [
      "time: 6.04 s (started: 2021-02-28 23:38:48 +01:00)\n"
     ]
    }
   ],
   "source": [
    "# Load the dataset\n",
    "file = '../raw_data/ocr_fr_text_only.jsonl'\n",
    "\n",
    "def load_json_data(file):\n",
    "    \"\"\"Load the dataset\"\"\"\n",
    "    data = []\n",
    "    with open(file) as f:\n",
    "        for line in f:\n",
    "            data.append(json.loads(line))\n",
    "    return pd.DataFrame(data)\n",
    "\n",
    "ocr_df_base = load_json_data(file)"
   ]
  },
  {
   "cell_type": "code",
   "execution_count": 6,
   "metadata": {
    "collapsed": true,
    "jupyter": {
     "outputs_hidden": true,
     "source_hidden": true
    }
   },
   "outputs": [
    {
     "name": "stdout",
     "output_type": "stream",
     "text": [
      "time: 27.4 ms (started: 2021-02-28 23:39:39 +01:00)\n"
     ]
    }
   ],
   "source": [
    "# Deep copy of the dataframe to avoid to reload it\n",
    "ocr_df = ocr_df_base.copy()"
   ]
  },
  {
   "cell_type": "code",
   "execution_count": 8,
   "metadata": {
    "collapsed": true,
    "id": "9nAX7Nsbu4lV",
    "jupyter": {
     "outputs_hidden": true,
     "source_hidden": true
    },
    "tags": []
   },
   "outputs": [
    {
     "name": "stdout",
     "output_type": "stream",
     "text": [
      "Shape of the dataset: (795609, 2)\n",
      "head of ocr_df:\n"
     ]
    },
    {
     "data": {
      "text/html": [
       "<div>\n",
       "<style scoped>\n",
       "    .dataframe tbody tr th:only-of-type {\n",
       "        vertical-align: middle;\n",
       "    }\n",
       "\n",
       "    .dataframe tbody tr th {\n",
       "        vertical-align: top;\n",
       "    }\n",
       "\n",
       "    .dataframe thead th {\n",
       "        text-align: right;\n",
       "    }\n",
       "</style>\n",
       "<table border=\"1\" class=\"dataframe\">\n",
       "  <thead>\n",
       "    <tr style=\"text-align: right;\">\n",
       "      <th></th>\n",
       "      <th>source</th>\n",
       "      <th>fr_text</th>\n",
       "    </tr>\n",
       "  </thead>\n",
       "  <tbody>\n",
       "    <tr>\n",
       "      <th>0</th>\n",
       "      <td>/319/966/047/6748/1.json</td>\n",
       "      <td>NE\\nELEVE\\nABATTU\\nEN BRETAGNE\\nLES ÉLEVEURS\\nDE BRETAGNE\\nDécoupe de\\nPodlet noir\\nferfier\\nlabe\\nCaractéristiques certifiées: Fermier-élevé en plein air. Durée d'élevage 81 jours minimum.\\n75% de céréales.\\nAlimenté avec 100% de végétaux, minéraux et vitamines do mation : voir étiquette poids/prix\\nA conserver entre O°C et +4°C -A consommer cuit à caeur-Date limite de co 35650 Le Rheu\\nCertifié par: CERTIS-Immeuble Le Millepertuis- Les Landes d'Ap\\nProduit frais\\nClasse A\\nPour toute réclamation, s'adresser à\\nFERMIERS D'ARGOAT: BP77-22440 PLOUFRAGAN\\nDécoupé et conditionné par: LDC Bretagne BP 256-2280 QUINTIN\\nHomologation\\nN° LA/02/75\\n099 002\\nCE\\n2\\nAbattoir agréé n'FR 22.099.002 CE\\n2FLT.PLT FER.LR SAT\\nEL.BRET.PF 2\\nORIGINE France\\nyo\\nVOLAISE\\nPrixtrg\\nPoids net\\nPrix a payer\\n0,240kg\\nLot\\n005809 19 45\\nR consommer jusqu au\\nR conserver entre O C et +4 C\\n10/04/18\\nExpedie Le 30/03/18\\nLOC BRETAGNE 22 LANFAINS\\n22.039.002\\ne01\\n172225-0/196A\\n3 19966014\\nAU TRIT ASTE\\nwww.CONSIGNESDETRFR\\n</td>\n",
       "    </tr>\n",
       "    <tr>\n",
       "      <th>1</th>\n",
       "      <td>/319/966/021/9208/1.json</td>\n",
       "      <td>..\\n1cg% LOCAL\\nKer\\nchAnt\\nPOULET\\nDecoupes de\\nConditionné par D\\nBretagne\\nOrigine FRANCE. Produit Frais, Classe A\\nconsommer cuit à coeur\\nNE ELEVÉ PREPARE\\n100% LOCAL\\nDANS NOTRE REGION\\nFILETS POOLET\\n720GR\\nVOLAILLE\\nORIGINE France\\nPrixtkg\\nPoids net\\nPrix a pave\\n0,720kg\\nO058067878\\nA consommer jusqu au\\n04/10/18\\nCot\\nA conserver entre O C et 4C\\nExpedie Le\\nLOc BRETAGNE 22 LANFAINS\\n22.099.002\\nCE\\n250498-0/181\\n01\\n3 11199660121\\nCONSGNE POUANT REOCLMENT\\nwww.cONSIGNT\\n</td>\n",
       "    </tr>\n",
       "    <tr>\n",
       "      <th>2</th>\n",
       "      <td>/319/966/021/9208/2.json</td>\n",
       "      <td>FILETS POULET\\n720GR\\nORIGINE France\\nPrixtkg\\nVOLAILLE\\nFRANÇAISE\\nPoids net\\nPrix a payer\\n0720kg\\nLot\\n0058067878\\nA consommer jusqu au\\n04/10/18\\nA conserver entre O C et 4 C\\nExpedie Le\\nLOC BRETAGNE 22 LANFAINS\\nFR\\nCE\\nBARQUETTE ET\\n22.099.002\\n250498-0/18 1C\\ne01\\nPENSEZ\\nAU TRI!\\nCONSIGNE POUVANTVARIER LOCALEMENT\\nFILM PLASTIQUE\\nA JETER\\n3 |199 66012 19208\\nwww.CONSIGNESDETRI.FR\\n</td>\n",
       "    </tr>\n",
       "    <tr>\n",
       "      <th>3</th>\n",
       "      <td>/319/966/021/9192/1.json</td>\n",
       "      <td>Ker\\nchant\\n100% LOCAL\\nDecoupes de\\nPOULET\\nConditionné par LDC Bretagne\\nLanfains (22) 18\\nrais Classe A\\nOrigine FRANCE. Prodtre 0 et +4\"C\\nOFFRE\\nSPECIALE\\nNE ELEVE PREPARE\\n100% LOCAL\\nDANS NOTRE REGION\\n1CUIS.DEJ. PLT SAT\\nKERCHANT FX 1\\nORIGINE France\\nVOLAILLE\\nFRANÇAISE\\nPrix/kg\\nPaids net\\nPrin apayer\\n1,000kg\\nto\\n005806444\\nA consommer jusqu au\\n27/09/18\\nR conserver entre D C et 4 C\\nExpedie Le\\nLOC BRETAGNE 22 LANFAINS\\n2.09.02\\n256-106-0/1818\\nAUTRIT\\nPENS\\n3 199660112 19192\\n</td>\n",
       "    </tr>\n",
       "    <tr>\n",
       "      <th>4</th>\n",
       "      <td>/319/966/021/9192/2.json</td>\n",
       "      <td>1CUIS.DEJ. PLT SAT\\nKERCHANT FX 1\\nORIGINE France\\nVOLAILLE\\nFRANCAISE\\nPrix/kg\\nPoids net\\nPrix a payer\\n1,000kg\\n0058064444\\nA consommer jusqu'au\\nR conserver entre OC et 4 C\\nExpedie Le\\n27/09/18\\nLOC BRETAGNE 22 LANFAINS\\n22.099.002\\nCE\\n256 106-0/1818\\ne03\\n3 199 660112 191921\\nPENSEZ\\nAU TRI!\\nBARQUETTE ET\\nFILM PLASTIQUE\\nAJETER\\nCONSIGNE POUVANTVARIER LOCALEMENT\\nwww.CONSIGNESDETRLFR\\n</td>\n",
       "    </tr>\n",
       "  </tbody>\n",
       "</table>\n",
       "</div>"
      ],
      "text/plain": [
       "                     source  \\\n",
       "0  /319/966/047/6748/1.json   \n",
       "1  /319/966/021/9208/1.json   \n",
       "2  /319/966/021/9208/2.json   \n",
       "3  /319/966/021/9192/1.json   \n",
       "4  /319/966/021/9192/2.json   \n",
       "\n",
       "                                                                                                                                                                                                                                                                                                                                                                                                                                                                                                                                                                                                                                                                                                                                                                                                                                                                                                                                                                                                                                                   fr_text  \n",
       "0  NE\\nELEVE\\nABATTU\\nEN BRETAGNE\\nLES ÉLEVEURS\\nDE BRETAGNE\\nDécoupe de\\nPodlet noir\\nferfier\\nlabe\\nCaractéristiques certifiées: Fermier-élevé en plein air. Durée d'élevage 81 jours minimum.\\n75% de céréales.\\nAlimenté avec 100% de végétaux, minéraux et vitamines do mation : voir étiquette poids/prix\\nA conserver entre O°C et +4°C -A consommer cuit à caeur-Date limite de co 35650 Le Rheu\\nCertifié par: CERTIS-Immeuble Le Millepertuis- Les Landes d'Ap\\nProduit frais\\nClasse A\\nPour toute réclamation, s'adresser à\\nFERMIERS D'ARGOAT: BP77-22440 PLOUFRAGAN\\nDécoupé et conditionné par: LDC Bretagne BP 256-2280 QUINTIN\\nHomologation\\nN° LA/02/75\\n099 002\\nCE\\n2\\nAbattoir agréé n'FR 22.099.002 CE\\n2FLT.PLT FER.LR SAT\\nEL.BRET.PF 2\\nORIGINE France\\nyo\\nVOLAISE\\nPrixtrg\\nPoids net\\nPrix a payer\\n0,240kg\\nLot\\n005809 19 45\\nR consommer jusqu au\\nR conserver entre O C et +4 C\\n10/04/18\\nExpedie Le 30/03/18\\nLOC BRETAGNE 22 LANFAINS\\n22.039.002\\ne01\\n172225-0/196A\\n3 19966014\\nAU TRIT ASTE\\nwww.CONSIGNESDETRFR\\n  \n",
       "1                                                                                                                                                                                                                                                                                                                                                                                                                                                                                                                                                  ..\\n1cg% LOCAL\\nKer\\nchAnt\\nPOULET\\nDecoupes de\\nConditionné par D\\nBretagne\\nOrigine FRANCE. Produit Frais, Classe A\\nconsommer cuit à coeur\\nNE ELEVÉ PREPARE\\n100% LOCAL\\nDANS NOTRE REGION\\nFILETS POOLET\\n720GR\\nVOLAILLE\\nORIGINE France\\nPrixtkg\\nPoids net\\nPrix a pave\\n0,720kg\\nO058067878\\nA consommer jusqu au\\n04/10/18\\nCot\\nA conserver entre O C et 4C\\nExpedie Le\\nLOc BRETAGNE 22 LANFAINS\\n22.099.002\\nCE\\n250498-0/181\\n01\\n3 11199660121\\nCONSGNE POUANT REOCLMENT\\nwww.cONSIGNT\\n  \n",
       "2                                                                                                                                                                                                                                                                                                                                                                                                                                                                                                                                                                                                                                                FILETS POULET\\n720GR\\nORIGINE France\\nPrixtkg\\nVOLAILLE\\nFRANÇAISE\\nPoids net\\nPrix a payer\\n0720kg\\nLot\\n0058067878\\nA consommer jusqu au\\n04/10/18\\nA conserver entre O C et 4 C\\nExpedie Le\\nLOC BRETAGNE 22 LANFAINS\\nFR\\nCE\\nBARQUETTE ET\\n22.099.002\\n250498-0/18 1C\\ne01\\nPENSEZ\\nAU TRI!\\nCONSIGNE POUVANTVARIER LOCALEMENT\\nFILM PLASTIQUE\\nA JETER\\n3 |199 66012 19208\\nwww.CONSIGNESDETRI.FR\\n  \n",
       "3                                                                                                                                                                                                                                                                                                                                                                                                                                                                                                                                         Ker\\nchant\\n100% LOCAL\\nDecoupes de\\nPOULET\\nConditionné par LDC Bretagne\\nLanfains (22) 18\\nrais Classe A\\nOrigine FRANCE. Prodtre 0 et +4\"C\\nOFFRE\\nSPECIALE\\nNE ELEVE PREPARE\\n100% LOCAL\\nDANS NOTRE REGION\\n1CUIS.DEJ. PLT SAT\\nKERCHANT FX 1\\nORIGINE France\\nVOLAILLE\\nFRANÇAISE\\nPrix/kg\\nPaids net\\nPrin apayer\\n1,000kg\\nto\\n005806444\\nA consommer jusqu au\\n27/09/18\\nR conserver entre D C et 4 C\\nExpedie Le\\nLOC BRETAGNE 22 LANFAINS\\n2.09.02\\n256-106-0/1818\\nAUTRIT\\nPENS\\n3 199660112 19192\\n  \n",
       "4                                                                                                                                                                                                                                                                                                                                                                                                                                                                                                                                                                                                                                             1CUIS.DEJ. PLT SAT\\nKERCHANT FX 1\\nORIGINE France\\nVOLAILLE\\nFRANCAISE\\nPrix/kg\\nPoids net\\nPrix a payer\\n1,000kg\\n0058064444\\nA consommer jusqu'au\\nR conserver entre OC et 4 C\\nExpedie Le\\n27/09/18\\nLOC BRETAGNE 22 LANFAINS\\n22.099.002\\nCE\\n256 106-0/1818\\ne03\\n3 199 660112 191921\\nPENSEZ\\nAU TRI!\\nBARQUETTE ET\\nFILM PLASTIQUE\\nAJETER\\nCONSIGNE POUVANTVARIER LOCALEMENT\\nwww.CONSIGNESDETRLFR\\n  "
      ]
     },
     "metadata": {},
     "output_type": "display_data"
    },
    {
     "name": "stdout",
     "output_type": "stream",
     "text": [
      "Content of the first element:\n"
     ]
    },
    {
     "data": {
      "text/plain": [
       "\"NE\\nELEVE\\nABATTU\\nEN BRETAGNE\\nLES ÉLEVEURS\\nDE BRETAGNE\\nDécoupe de\\nPodlet noir\\nferfier\\nlabe\\nCaractéristiques certifiées: Fermier-élevé en plein air. Durée d'élevage 81 jours minimum.\\n75% de céréales.\\nAlimenté avec 100% de végétaux, minéraux et vitamines do mation : voir étiquette poids/prix\\nA conserver entre O°C et +4°C -A consommer cuit à caeur-Date limite de co 35650 Le Rheu\\nCertifié par: CERTIS-Immeuble Le Millepertuis- Les Landes d'Ap\\nProduit frais\\nClasse A\\nPour toute réclamation, s'adresser à\\nFERMIERS D'ARGOAT: BP77-22440 PLOUFRAGAN\\nDécoupé et conditionné par: LDC Bretagne BP 256-2280 QUINTIN\\nHomologation\\nN° LA/02/75\\n099 002\\nCE\\n2\\nAbattoir agréé n'FR 22.099.002 CE\\n2FLT.PLT FER.LR SAT\\nEL.BRET.PF 2\\nORIGINE France\\nyo\\nVOLAISE\\nPrixtrg\\nPoids net\\nPrix a payer\\n0,240kg\\nLot\\n005809 19 45\\nR consommer jusqu au\\nR conserver entre O C et +4 C\\n10/04/18\\nExpedie Le 30/03/18\\nLOC BRETAGNE 22 LANFAINS\\n22.039.002\\ne01\\n172225-0/196A\\n3 19966014\\nAU TRIT ASTE\\nwww.CONSIGNESDETRFR\\n\""
      ]
     },
     "metadata": {},
     "output_type": "display_data"
    },
    {
     "name": "stdout",
     "output_type": "stream",
     "text": [
      "time: 14 ms (started: 2021-02-28 23:41:00 +01:00)\n"
     ]
    }
   ],
   "source": [
    "# Brief look at the dataset\n",
    "print(f\"Shape of the dataset: {ocr_df.shape}\")\n",
    "print(\"head of ocr_df:\")\n",
    "display(ocr_df.head())\n",
    "print(\"Content of the first element:\")\n",
    "display(ocr_df.fr_text[0])"
   ]
  },
  {
   "cell_type": "markdown",
   "metadata": {
    "id": "O8wolMiXv5oO",
    "tags": []
   },
   "source": [
    "#### Format the Dataset"
   ]
  },
  {
   "cell_type": "code",
   "execution_count": 9,
   "metadata": {
    "id": "5fP4z6tI3oCN",
    "tags": []
   },
   "outputs": [
    {
     "name": "stdout",
     "output_type": "stream",
     "text": [
      "time: 692 ms (started: 2021-02-28 23:41:08 +01:00)\n"
     ]
    }
   ],
   "source": [
    "# Format the content of the column SOURCE\n",
    "# CREATE BARCODE\n",
    "\n",
    "def to_barcode(text):\n",
    "    \"\"\"Transform strings in barcodes\"\"\"\n",
    "    return int(''.join(text.split('/')[0:-1]))\n",
    "\n",
    "\n",
    "# Apply function to create barcodes\n",
    "ocr_df['barcode'] = ocr_df.source.apply(lambda text: to_barcode(text))"
   ]
  },
  {
   "cell_type": "code",
   "execution_count": 12,
   "metadata": {
    "colab": {
     "base_uri": "https://localhost:8080/",
     "height": 1000
    },
    "collapsed": true,
    "id": "BR8lk3dwvEWM",
    "jupyter": {
     "outputs_hidden": true
    },
    "outputId": "d9d397f0-72e6-4efc-b7c4-b8e4a5801501",
    "tags": []
   },
   "outputs": [
    {
     "data": {
      "text/html": [
       "<div>\n",
       "<style scoped>\n",
       "    .dataframe tbody tr th:only-of-type {\n",
       "        vertical-align: middle;\n",
       "    }\n",
       "\n",
       "    .dataframe tbody tr th {\n",
       "        vertical-align: top;\n",
       "    }\n",
       "\n",
       "    .dataframe thead th {\n",
       "        text-align: right;\n",
       "    }\n",
       "</style>\n",
       "<table border=\"1\" class=\"dataframe\">\n",
       "  <thead>\n",
       "    <tr style=\"text-align: right;\">\n",
       "      <th></th>\n",
       "      <th>source</th>\n",
       "      <th>fr_text</th>\n",
       "      <th>barcode</th>\n",
       "      <th>clean_text</th>\n",
       "    </tr>\n",
       "  </thead>\n",
       "  <tbody>\n",
       "    <tr>\n",
       "      <th>0</th>\n",
       "      <td>/319/966/047/6748/1.json</td>\n",
       "      <td>NE\\nELEVE\\nABATTU\\nEN BRETAGNE\\nLES ÉLEVEURS\\nDE BRETAGNE\\nDécoupe de\\nPodlet noir\\nferfier\\nlabe\\nCaractéristiques certifiées: Fermier-élevé en plein air. Durée d'élevage 81 jours minimum.\\n75% de céréales.\\nAlimenté avec 100% de végétaux, minéraux et vitamines do mation : voir étiquette poids/prix\\nA conserver entre O°C et +4°C -A consommer cuit à caeur-Date limite de co 35650 Le Rheu\\nCertifié par: CERTIS-Immeuble Le Millepertuis- Les Landes d'Ap\\nProduit frais\\nClasse A\\nPour toute réclamation, s'adresser à\\nFERMIERS D'ARGOAT: BP77-22440 PLOUFRAGAN\\nDécoupé et conditionné par: LDC Bretagne BP 256-2280 QUINTIN\\nHomologation\\nN° LA/02/75\\n099 002\\nCE\\n2\\nAbattoir agréé n'FR 22.099.002 CE\\n2FLT.PLT FER.LR SAT\\nEL.BRET.PF 2\\nORIGINE France\\nyo\\nVOLAISE\\nPrixtrg\\nPoids net\\nPrix a payer\\n0,240kg\\nLot\\n005809 19 45\\nR consommer jusqu au\\nR conserver entre O C et +4 C\\n10/04/18\\nExpedie Le 30/03/18\\nLOC BRETAGNE 22 LANFAINS\\n22.039.002\\ne01\\n172225-0/196A\\n3 19966014\\nAU TRIT ASTE\\nwww.CONSIGNESDETRFR\\n</td>\n",
       "      <td>3199660476748</td>\n",
       "      <td>ne eleve abattu en bretagne les eleveurs de bretagne decoupe de podlet noir ferfier labe caracteristiques certifiees fermiereleve en plein air duree delevage  jours minimum  de cereales alimente avec  de vegetaux mineraux et vitamines do mation  voir etiquette poidsprix a conserver entre oc et c a consommer cuit a caeurdate limite de co  le rheu certifie par certisimmeuble le millepertuis les landes dap produit frais classe a pour toute reclamation sadresser a fermiers dargoat bp ploufragan decoupe et conditionne par ldc bretagne bp  quintin homologation n la   ce  abattoir agree nfr  ce fltplt ferlr sat elbretpf  origine france yo volaise prixtrg poids net prix a payer kg lot    r consommer jusqu au r conserver entre o c et  c  expedie le  loc bretagne  lanfains  e a   au trit aste wwwconsignesdetrfr</td>\n",
       "    </tr>\n",
       "    <tr>\n",
       "      <th>1</th>\n",
       "      <td>/319/966/021/9208/1.json</td>\n",
       "      <td>..\\n1cg% LOCAL\\nKer\\nchAnt\\nPOULET\\nDecoupes de\\nConditionné par D\\nBretagne\\nOrigine FRANCE. Produit Frais, Classe A\\nconsommer cuit à coeur\\nNE ELEVÉ PREPARE\\n100% LOCAL\\nDANS NOTRE REGION\\nFILETS POOLET\\n720GR\\nVOLAILLE\\nORIGINE France\\nPrixtkg\\nPoids net\\nPrix a pave\\n0,720kg\\nO058067878\\nA consommer jusqu au\\n04/10/18\\nCot\\nA conserver entre O C et 4C\\nExpedie Le\\nLOc BRETAGNE 22 LANFAINS\\n22.099.002\\nCE\\n250498-0/181\\n01\\n3 11199660121\\nCONSGNE POUANT REOCLMENT\\nwww.cONSIGNT\\n</td>\n",
       "      <td>3199660219208</td>\n",
       "      <td>cg local ker chant poulet decoupes de conditionne par d bretagne origine france produit frais classe a consommer cuit a coeur ne eleve prepare  local dans notre region filets poolet gr volaille origine france prixtkg poids net prix a pave kg o a consommer jusqu au  cot a conserver entre o c et c expedie le loc bretagne  lanfains  ce     consgne pouant reoclment wwwconsignt</td>\n",
       "    </tr>\n",
       "    <tr>\n",
       "      <th>2</th>\n",
       "      <td>/319/966/021/9208/2.json</td>\n",
       "      <td>FILETS POULET\\n720GR\\nORIGINE France\\nPrixtkg\\nVOLAILLE\\nFRANÇAISE\\nPoids net\\nPrix a payer\\n0720kg\\nLot\\n0058067878\\nA consommer jusqu au\\n04/10/18\\nA conserver entre O C et 4 C\\nExpedie Le\\nLOC BRETAGNE 22 LANFAINS\\nFR\\nCE\\nBARQUETTE ET\\n22.099.002\\n250498-0/18 1C\\ne01\\nPENSEZ\\nAU TRI!\\nCONSIGNE POUVANTVARIER LOCALEMENT\\nFILM PLASTIQUE\\nA JETER\\n3 |199 66012 19208\\nwww.CONSIGNESDETRI.FR\\n</td>\n",
       "      <td>3199660219208</td>\n",
       "      <td>filets poulet gr origine france prixtkg volaille francaise poids net prix a payer kg lot  a consommer jusqu au  a conserver entre o c et  c expedie le loc bretagne  lanfains fr ce barquette et   c e pensez au tri consigne pouvantvarier localement film plastique a jeter     wwwconsignesdetrifr</td>\n",
       "    </tr>\n",
       "    <tr>\n",
       "      <th>3</th>\n",
       "      <td>/319/966/021/9192/1.json</td>\n",
       "      <td>Ker\\nchant\\n100% LOCAL\\nDecoupes de\\nPOULET\\nConditionné par LDC Bretagne\\nLanfains (22) 18\\nrais Classe A\\nOrigine FRANCE. Prodtre 0 et +4\"C\\nOFFRE\\nSPECIALE\\nNE ELEVE PREPARE\\n100% LOCAL\\nDANS NOTRE REGION\\n1CUIS.DEJ. PLT SAT\\nKERCHANT FX 1\\nORIGINE France\\nVOLAILLE\\nFRANÇAISE\\nPrix/kg\\nPaids net\\nPrin apayer\\n1,000kg\\nto\\n005806444\\nA consommer jusqu au\\n27/09/18\\nR conserver entre D C et 4 C\\nExpedie Le\\nLOC BRETAGNE 22 LANFAINS\\n2.09.02\\n256-106-0/1818\\nAUTRIT\\nPENS\\n3 199660112 19192\\n</td>\n",
       "      <td>3199660219192</td>\n",
       "      <td>ker chant  local decoupes de poulet conditionne par ldc bretagne lanfains   rais classe a origine france prodtre  et c offre speciale ne eleve prepare  local dans notre region cuisdej plt sat kerchant fx  origine france volaille francaise prixkg paids net prin apayer kg to  a consommer jusqu au  r conserver entre d c et  c expedie le loc bretagne  lanfains   autrit pens</td>\n",
       "    </tr>\n",
       "    <tr>\n",
       "      <th>4</th>\n",
       "      <td>/319/966/021/9192/2.json</td>\n",
       "      <td>1CUIS.DEJ. PLT SAT\\nKERCHANT FX 1\\nORIGINE France\\nVOLAILLE\\nFRANCAISE\\nPrix/kg\\nPoids net\\nPrix a payer\\n1,000kg\\n0058064444\\nA consommer jusqu'au\\nR conserver entre OC et 4 C\\nExpedie Le\\n27/09/18\\nLOC BRETAGNE 22 LANFAINS\\n22.099.002\\nCE\\n256 106-0/1818\\ne03\\n3 199 660112 191921\\nPENSEZ\\nAU TRI!\\nBARQUETTE ET\\nFILM PLASTIQUE\\nAJETER\\nCONSIGNE POUVANTVARIER LOCALEMENT\\nwww.CONSIGNESDETRLFR\\n</td>\n",
       "      <td>3199660219192</td>\n",
       "      <td>cuisdej plt sat kerchant fx  origine france volaille francaise prixkg poids net prix a payer kg  a consommer jusquau r conserver entre oc et  c expedie le  loc bretagne  lanfains  ce   e     pensez au tri barquette et film plastique ajeter consigne pouvantvarier localement wwwconsignesdetrlfr</td>\n",
       "    </tr>\n",
       "    <tr>\n",
       "      <th>...</th>\n",
       "      <td>...</td>\n",
       "      <td>...</td>\n",
       "      <td>...</td>\n",
       "      <td>...</td>\n",
       "    </tr>\n",
       "    <tr>\n",
       "      <th>795604</th>\n",
       "      <td>/339/492/729/1007/2.json</td>\n",
       "      <td>Le produit est gratine au four traditionnel\\nAssociation de Promotion des Produits Alimentaires à base\\ne Reblochon AOP (APPARe)-Maison du Reblochon-28 rue\\naase-BP 55-74230 THONES\\nHomalogation noLA02/14\\nngrédients : Pommes de terre 52%, Reblochon AOP 20% (lait\\ncru de vache, sel, ferments lactiques, présure, colorant de croute:\\nocou), lardons fumés 10% (poitrine de porc (origine: France), sel,\\nextrose, acidifiant:E330, antioxydant:E301, conservateur: E250),\\nignons, crème fraiche, eau,fécule de pomme de terre, sel, poivre\\nTaces eventuelles de céréales contenant du gluten, oeufs, poissons,\\nmollusques, crustaces, céléri, moutarde, soja et fruits à coque.\\nALEURS NUTRITIONELLES MOYENNES POUR 100g:Energie :686\\n(164 kcal), Matières grasses :9.6g dont acides gras saturés\\nS.lg Glucides: 12g dont sucres :0.7g Protéines : 6.6g, sel:0.7g\\nconsornmer cans Les 24 heures apras ouverture.\\nONSEILS DE PREPARATION\\nu four traditionnel : apres avoir ate Le film, mettre Lla\\nargaette au four 15 a 20 min a 180°C\\nfour micre andes : transferer Le produit dans un plat\\nprapris at rechauffer pandant 4 minutes a 9001\\n792730199\\n</td>\n",
       "      <td>3394927291007</td>\n",
       "      <td>le produit est gratine au four traditionnel association de promotion des produits alimentaires a base e reblochon aop apparemaison du reblochon rue aasebp  thones homalogation nola ngredients  pommes de terre  reblochon aop  lait cru de vache sel ferments lactiques presure colorant de croute ocou lardons fumes  poitrine de porc origine france sel extrose acidifiante antioxydante conservateur e ignons creme fraiche eaufecule de pomme de terre sel poivre taces eventuelles de cereales contenant du gluten oeufs poissons mollusques crustaces celeri moutarde soja et fruits a coque aleurs nutritionelles moyennes pour genergie   kcal matieres grasses g dont acides gras satures slg glucides g dont sucres g proteines  g selg consornmer cans les  heures apras ouverture onseils de preparation u four traditionnel  apres avoir ate le film mettre lla argaette au four  a  min a c four micre andes  transferer le produit dans un plat prapris at rechauffer pandant  minutes a</td>\n",
       "    </tr>\n",
       "    <tr>\n",
       "      <th>795605</th>\n",
       "      <td>/339/492/036/6344/1.json</td>\n",
       "      <td>mon traiteur\\nPierre\\nClot\\nIngrédients:\\nPISSALADIERE NICOISE\\nTarte garnie d'une sauce aux oignons et de filets d'anchois.\\nGARNITURE 63 % : Oignons 50,7%, huile de tournesol. filets d'anchois 2,3% (anchois 1.5%,\\nhuile de tournesol, sel), olives noires (olives, eau, sel, stabilisant de couleur : E579), eau\\namidon transforme de mais, sel, herbes de Provence, poivre, cannelle, girofle, muscade.\\ngingembre, thym, origan.\\nATE 37% : Farine de ble, eau, huile de tournesol, sUcre, Levure, sel, emulsifiants E322, E471\\nfarine de ble malte.\\n(Pourcentages exprimes sur le total de la recette).\\nTraces eventuelles de moutarde, oeufs, Lait, soja et fruits a coque.\\nA consommer dans Les 24 heures apres ouverture\\nVALEURS NUTRITIONELLES MOYENNES POUR 100g : Energie :978 kJ (234 kcal), Matieres grasses\\n11.2g dont acides gras satures : 1.2g: GLucides 28.3g dont sucres: 6.5g: Proteines: 5.0g: sel\\n1.47g\\nCONSEILS DE PREPARATION: Prechauffer votre four a 180°C. Oter le film de la barquette et\\nrechauffer dans sa barquette au four traditionnel pendant 10 minutes a 180°C (therm.6)\\nconsommer\\njusqu'au:\\n26/04/18\\nPoids fixe\\nLot no 780940197\\n0,450\\n16:57\\nFR\\n38-565-001\\nPENSEZ\\nAU TRI !\\nBAROUEWEAE\\nA JETER\\nCE\\n3 113 9 49 20113 66344\\nCONSIGNES POUVANT VARIER LOCALEMENT\\nwww.CONSIGNESDETRI FR\\nFabriqué par Pierre CLOT\\n436 rue Emile Romanet\\n38340 VOREPPE\\nwww.pierre-clot.fr\\nTraiteur Frais\\nélaboré en Région\\n</td>\n",
       "      <td>3394920366344</td>\n",
       "      <td>mon traiteur pierre clot ingredients pissaladiere nicoise tarte garnie dune sauce aux oignons et de filets danchois garniture    oignons  huile de tournesol filets danchois  anchois  huile de tournesol sel olives noires olives eau sel stabilisant de couleur  e eau amidon transforme de mais sel herbes de provence poivre cannelle girofle muscade gingembre thym origan ate   farine de ble eau huile de tournesol sucre levure sel emulsifiants e e farine de ble malte pourcentages exprimes sur le total de la recette traces eventuelles de moutarde oeufs lait soja et fruits a coque a consommer dans les  heures apres ouverture valeurs nutritionelles moyennes pour g  energie  kj  kcal matieres grasses g dont acides gras satures  g glucides g dont sucres g proteines g sel g conseils de preparation prechauffer votre four a c oter le film de la barquette et rechauffer dans sa barquette au four traditionnel pendant  minutes a c therm consommer jusquau  poids fixe lot no    fr  pensez au tri  baroueweae a jeter ce       consignes pouvant varier localement wwwconsignesdetri fr fabrique par pierre clot  rue emile romanet  voreppe wwwpierreclotfr traiteur frais elabore en region</td>\n",
       "    </tr>\n",
       "    <tr>\n",
       "      <th>795606</th>\n",
       "      <td>/339/492/036/6344/2.json</td>\n",
       "      <td>Conditionné sous atmosphère protectrice. A conserver entre 0°C et +4°C.\\nPiere\\nmon traiteur\\nClot\\nIngrédients:\\nPISSALADIERE NICOISE\\nTarte garnie d'une sauce aux oignons et de filets d'anchois.\\nGARNITURE 63 % : Oignons 50,7%, huile de tournesol, filets d'anchois 2,3% (anchois 1.5%,\\nhuile de tournesol, sel), olives noires (olives, eau, sel, stabilisant de couleur E579), eau,\\namidon transforme de maïs, sel, herbes de Provence, poivre, cannelle, girofle, muscade.\\ngingembre, thym, origan.\\nPATE 37% : Farine de ble, eau, huile de tournesol, sucre, Levure, sel, emulsifiants E322, E471\\nfarine de ble malte.\\n(Pourcentages exprimes sur le total de La recette).\\nTraces eventuelles de moutarde, oeufs, Lait, soja et fruits a coque.\\nA consommer dans les 24 heures apres ouverture.\\nVALEURS NUTRITIONELLES MOYENNES POUR 100g: Energie: 978 kJ (234 kcal), Matieres grasses\\n11.2g dont acides gras satures 1.2g: Glucides 28.3g dont sucres 6.5g: Proteines 5.0g: sel\\n1.47 g\\nCONSEILS DE PREPARATION Prechauffer votre four a 180°C. Oter le film de la barquette et\\nrechauffer dans sa barquette au four traditionnel pendant 10 minutes a 180°C (therm.6)\\nà consommer\\njusqu au:\\n26/04/18\\nPoids fixe\\nLot no 780940197\\n0,450g\\nFR\\n38-565-001\\n16:57\\nPENSEZ ROUETTE Bo\\n</td>\n",
       "      <td>3394920366344</td>\n",
       "      <td>conditionne sous atmosphere protectrice a conserver entre c et c piere mon traiteur clot ingredients pissaladiere nicoise tarte garnie dune sauce aux oignons et de filets danchois garniture    oignons  huile de tournesol filets danchois  anchois  huile de tournesol sel olives noires olives eau sel stabilisant de couleur e eau amidon transforme de mais sel herbes de provence poivre cannelle girofle muscade gingembre thym origan pate   farine de ble eau huile de tournesol sucre levure sel emulsifiants e e farine de ble malte pourcentages exprimes sur le total de la recette traces eventuelles de moutarde oeufs lait soja et fruits a coque a consommer dans les  heures apres ouverture valeurs nutritionelles moyennes pour g energie  kj  kcal matieres grasses g dont acides gras satures g glucides g dont sucres g proteines g sel  g conseils de preparation prechauffer votre four a c oter le film de la barquette et rechauffer dans sa barquette au four traditionnel pendant  minutes a c therm a consommer jusqu au  poids fixe lot no  g fr   pensez rouette bo</td>\n",
       "    </tr>\n",
       "    <tr>\n",
       "      <th>795607</th>\n",
       "      <td>/339/385/244/7152/1.json</td>\n",
       "      <td>JGRADE\\nCEUFS DE SAUMON SAUVAGE\\nKETA DU PACIFIQUE\\nINGREDIENTS:\\nCEufs de saumon (Oncorhynchus keta\\npêché en Océan Pacifique) 97%, sel.\\nFR\\n94.022.002\\nCE\\nLE RO\\nDE 0°C à +4°C. K.S.F.-7 AVENUE DANVILLE 94600- CHOISY\\n</td>\n",
       "      <td>3393852447152</td>\n",
       "      <td>jgrade ceufs de saumon sauvage keta du pacifique ingredients ceufs de saumon oncorhynchus keta peche en ocean pacifique  sel fr  ce le ro de c a c ksf avenue danville  choisy</td>\n",
       "    </tr>\n",
       "    <tr>\n",
       "      <th>795608</th>\n",
       "      <td>/339/385/244/7169/1.json</td>\n",
       "      <td>CEUFS DE SAUMON SAUVAGE\\nKETA DU PACIFIQUE\\nINGRÉDIENTS:\\nCEufs de saumon (0ncorhynchus keta\\npêché en Océan Pacifique) 97%, sel.\\nOID DE 0°C à +4°C. K.S.F. -7 AVENUE DANVILLE 94600- CHOISYL\\nFR\\n94.022.002\\nCE\\n600\\n1HELETEN\\n(또월본)\\nKS\\n</td>\n",
       "      <td>3393852447169</td>\n",
       "      <td>ceufs de saumon sauvage keta du pacifique ingredients ceufs de saumon ncorhynchus keta peche en ocean pacifique  sel oid de c a c ksf  avenue danville  choisyl fr  ce  heleten 또월본 ks</td>\n",
       "    </tr>\n",
       "  </tbody>\n",
       "</table>\n",
       "<p>795609 rows × 4 columns</p>\n",
       "</div>"
      ],
      "text/plain": [
       "e de mais, sel, herbes de Provence, poivre, cannelle, girofle, muscade.\\ngingembre, thym, origan.\\nATE 37% : Farine de ble, eau, huile de tournesol, sUcre, Levure, sel, emulsifiants E322, E471\\nfarine de ble malte.\\n(Pourcentages exprimes sur le total de la recette).\\nTraces eventuelles de moutarde, oeufs, Lait, soja et fruits a coque.\\nA consommer dans Les 24 heures apres ouverture\\nVALEURS NUTRITIONELLES MOYENNES POUR 100g : Energie :978 kJ (234 kcal), Matieres grasses\\n11.2g dont acides gras satures : 1.2g: GLucides 28.3g dont sucres: 6.5g: Proteines: 5.0g: sel\\n1.47g\\nCONSEILS DE PREPARATION: Prechauffer votre four a 180°C. Oter le film de la barquette et\\nrechauffer dans sa barquette au four traditionnel pendant 10 minutes a 180°C (therm.6)\\nconsommer\\njusqu'au:\\n26/04/18\\nPoids fixe\\nLot no 780940197\\n0,450\\n16:57\\nFR\\n38-565-001\\nPENSEZ\\nAU TRI !\\nBAROUEWEAE\\nA JETER\\nCE\\n3 113 9 49 20113 66344\\nCONSIGNES POUVANT VARIER LOCALEMENT\\nwww.CONSIGNESDETRI FR\\nFabriqué par Pierre CLOT\\n436 rue Emile Romanet\\n38340 VOREPPE\\nwww.pierre-clot.fr\\nTraiteur Frais\\nélaboré en Région\\n   \n",
       "795606                                                                                                                                                              Conditionné sous atmosphère protectrice. A conserver entre 0°C et +4°C.\\nPiere\\nmon traiteur\\nClot\\nIngrédients:\\nPISSALADIERE NICOISE\\nTarte garnie d'une sauce aux oignons et de filets d'anchois.\\nGARNITURE 63 % : Oignons 50,7%, huile de tournesol, filets d'anchois 2,3% (anchois 1.5%,\\nhuile de tournesol, sel), olives noires (olives, eau, sel, stabilisant de couleur E579), eau,\\namidon transforme de maïs, sel, herbes de Provence, poivre, cannelle, girofle, muscade.\\ngingembre, thym, origan.\\nPATE 37% : Farine de ble, eau, huile de tournesol, sucre, Levure, sel, emulsifiants E322, E471\\nfarine de ble malte.\\n(Pourcentages exprimes sur le total de La recette).\\nTraces eventuelles de moutarde, oeufs, Lait, soja et fruits a coque.\\nA consommer dans les 24 heures apres ouverture.\\nVALEURS NUTRITIONELLES MOYENNES POUR 100g: Energie: 978 kJ (234 kcal), Matieres grasses\\n11.2g dont acides gras satures 1.2g: Glucides 28.3g dont sucres 6.5g: Proteines 5.0g: sel\\n1.47 g\\nCONSEILS DE PREPARATION Prechauffer votre four a 180°C. Oter le film de la barquette et\\nrechauffer dans sa barquette au four traditionnel pendant 10 minutes a 180°C (therm.6)\\nà consommer\\njusqu au:\\n26/04/18\\nPoids fixe\\nLot no 780940197\\n0,450g\\nFR\\n38-565-001\\n16:57\\nPENSEZ ROUETTE Bo\\n   \n",
       "795607                                                                                                                                                                                                                                                                                                                                                                                                                                                                                                                                                                                                                                                                                                                                                                                                                                                                                                                                                                                                                                                                                                                                                                                                                                                    JGRADE\\nCEUFS DE SAUMON SAUVAGE\\nKETA DU PACIFIQUE\\nINGREDIENTS:\\nCEufs de saumon (Oncorhynchus keta\\npêché en Océan Pacifique) 97%, sel.\\nFR\\n94.022.002\\nCE\\nLE RO\\nDE 0°C à +4°C. K.S.F.-7 AVENUE DANVILLE 94600- CHOISY\\n   \n",
       "795608                                                                                                                                                                                                                                                                                                                                                                                                                                                                                                                                                                                                                                                                                                                                                                                                                                                                                                                                                                                                                                                                                                                                                                                                                                   CEUFS DE SAUMON SAUVAGE\\nKETA DU PACIFIQUE\\nINGRÉDIENTS:\\nCEufs de saumon (0ncorhynchus keta\\npêché en Océan Pacifique) 97%, sel.\\nOID DE 0°C à +4°C. K.S.F. -7 AVENUE DANVILLE 94600- CHOISYL\\nFR\\n94.022.002\\nCE\\n600\\n1HELETEN\\n(또월본)\\nKS\\n   \n",
       "\n",
       "              barcode  \\\n",
       "0       3199660476748   \n",
       "1       3199660219208   \n",
       "2       3199660219208   \n",
       "3       3199660219192   \n",
       "4       3199660219192   \n",
       "...               ...   \n",
       "795604  3394927291007   \n",
       "795605  3394920366344   \n",
       "795606  3394920366344   \n",
       "795607  3393852447152   \n",
       "795608  3393852447169   \n",
       "\n",
       "                                                                                                                                                                                                                                                                                                                                                                                                                                                                                                                                                                                                                                                                                                                                                                                                                                                                                                                                                                                                                                                                                                                                                                                                                        clean_text  \n",
       "0                                                                                                                                                                                                                                                                                                                                                                                    ne eleve abattu en bretagne les eleveurs de bretagne decoupe de podlet noir ferfier labe caracteristiques certifiees fermiereleve en plein air duree delevage  jours minimum  de cereales alimente avec  de vegetaux mineraux et vitamines do mation  voir etiquette poidsprix a conserver entre oc et c a consommer cuit a caeurdate limite de co  le rheu certifie par certisimmeuble le millepertuis les landes dap produit frais classe a pour toute reclamation sadresser a fermiers dargoat bp ploufragan decoupe et conditionne par ldc bretagne bp  quintin homologation n la   ce  abattoir agree nfr  ce fltplt ferlr sat elbretpf  origine france yo volaise prixtrg poids net prix a payer kg lot    r consommer jusqu au r conserver entre o c et  c  expedie le  loc bretagne  lanfains  e a   au trit aste wwwconsignesdetrfr   \n",
       "1                                                                                                                                                                                                                                                                                                                                                                                                                                                                                                                                                                                                                                                                                                                                                                                                                                         cg local ker chant poulet decoupes de conditionne par d bretagne origine france produit frais classe a consommer cuit a coeur ne eleve prepare  local dans notre region filets poolet gr volaille origine france prixtkg poids net prix a pave kg o a consommer jusqu au  cot a conserver entre o c et c expedie le loc bretagne  lanfains  ce     consgne pouant reoclment wwwconsignt   \n",
       "2                                                                                                                                                                                                                                                                                                                                                                                                                                                                                                                                                                                                                                                                                                                                                                                                                                                                                                                           filets poulet gr origine france prixtkg volaille francaise poids net prix a payer kg lot  a consommer jusqu au  a conserver entre o c et  c expedie le loc bretagne  lanfains fr ce barquette et   c e pensez au tri consigne pouvantvarier localement film plastique a jeter     wwwconsignesdetrifr   \n",
       "3                                                                                                                                                                                                                                                                                                                                                                                                                                                                                                                                                                                                                                                                                                                                                                                                                                         ker chant  local decoupes de poulet conditionne par ldc bretagne lanfains   rais classe a origine france prodtre  et c offre speciale ne eleve prepare  local dans notre region cuisdej plt sat kerchant fx  origine france volaille francaise prixkg paids net prin apayer kg to  a consommer jusqu au  r conserver entre d c et  c expedie le loc bretagne  lanfains   autrit pens      \n",
       "4                                                                                                                                                                                                                                                                                                                                                                                                                                                                                                                                                                                                                                                                                                                                                                                                                                                                                                                           cuisdej plt sat kerchant fx  origine france volaille francaise prixkg poids net prix a payer kg  a consommer jusquau r conserver entre oc et  c expedie le  loc bretagne  lanfains  ce   e     pensez au tri barquette et film plastique ajeter consigne pouvantvarier localement wwwconsignesdetrlfr   \n",
       "...                                                                                                                                                                                                                                                                                                                                                                                                                                                                                                                                                                                                                                                                                                                                                                                                                                                                                                                                                                                                                                                                                                                                                                                                                            ...  \n",
       "795604                                                                                                                                                                                                               le produit est gratine au four traditionnel association de promotion des produits alimentaires a base e reblochon aop apparemaison du reblochon rue aasebp  thones homalogation nola ngredients  pommes de terre  reblochon aop  lait cru de vache sel ferments lactiques presure colorant de croute ocou lardons fumes  poitrine de porc origine france sel extrose acidifiante antioxydante conservateur e ignons creme fraiche eaufecule de pomme de terre sel poivre taces eventuelles de cereales contenant du gluten oeufs poissons mollusques crustaces celeri moutarde soja et fruits a coque aleurs nutritionelles moyennes pour genergie   kcal matieres grasses g dont acides gras satures slg glucides g dont sucres g proteines  g selg consornmer cans les  heures apras ouverture onseils de preparation u four traditionnel  apres avoir ate le film mettre lla argaette au four  a  min a c four micre andes  transferer le produit dans un plat prapris at rechauffer pandant  minutes a     \n",
       "795605  mon traiteur pierre clot ingredients pissaladiere nicoise tarte garnie dune sauce aux oignons et de filets danchois garniture    oignons  huile de tournesol filets danchois  anchois  huile de tournesol sel olives noires olives eau sel stabilisant de couleur  e eau amidon transforme de mais sel herbes de provence poivre cannelle girofle muscade gingembre thym origan ate   farine de ble eau huile de tournesol sucre levure sel emulsifiants e e farine de ble malte pourcentages exprimes sur le total de la recette traces eventuelles de moutarde oeufs lait soja et fruits a coque a consommer dans les  heures apres ouverture valeurs nutritionelles moyennes pour g  energie  kj  kcal matieres grasses g dont acides gras satures  g glucides g dont sucres g proteines g sel g conseils de preparation prechauffer votre four a c oter le film de la barquette et rechauffer dans sa barquette au four traditionnel pendant  minutes a c therm consommer jusquau  poids fixe lot no    fr  pensez au tri  baroueweae a jeter ce       consignes pouvant varier localement wwwconsignesdetri fr fabrique par pierre clot  rue emile romanet  voreppe wwwpierreclotfr traiteur frais elabore en region   \n",
       "795606                                                                                                                       conditionne sous atmosphere protectrice a conserver entre c et c piere mon traiteur clot ingredients pissaladiere nicoise tarte garnie dune sauce aux oignons et de filets danchois garniture    oignons  huile de tournesol filets danchois  anchois  huile de tournesol sel olives noires olives eau sel stabilisant de couleur e eau amidon transforme de mais sel herbes de provence poivre cannelle girofle muscade gingembre thym origan pate   farine de ble eau huile de tournesol sucre levure sel emulsifiants e e farine de ble malte pourcentages exprimes sur le total de la recette traces eventuelles de moutarde oeufs lait soja et fruits a coque a consommer dans les  heures apres ouverture valeurs nutritionelles moyennes pour g energie  kj  kcal matieres grasses g dont acides gras satures g glucides g dont sucres g proteines g sel  g conseils de preparation prechauffer votre four a c oter le film de la barquette et rechauffer dans sa barquette au four traditionnel pendant  minutes a c therm a consommer jusqu au  poids fixe lot no  g fr   pensez rouette bo   \n",
       "795607                                                                                                                                                                                                                                                                                                                                                                                                                                                                                                                                                                                                                                                                                                                                                                                                                                                                                                                                                                                                                                             jgrade ceufs de saumon sauvage keta du pacifique ingredients ceufs de saumon oncorhynchus keta peche en ocean pacifique  sel fr  ce le ro de c a c ksf avenue danville  choisy   \n",
       "795608                                                                                                                                                                                                                                                                                                                                                                                                                                                                                                                                                                                                                                                                                                                                                                                                                                                                                                                                                                                                                                ceufs de saumon sauvage keta du pacifique ingredients ceufs de saumon ncorhynchus keta peche en ocean pacifique  sel oid de c a c ksf  avenue danville  choisyl fr  ce  heleten 또월본 ks   \n",
       "\n",
       "[795609 rows x 4 columns]"
      ]
     },
     "execution_count": 12,
     "metadata": {},
     "output_type": "execute_result"
    },
    {
     "name": "stdout",
     "output_type": "stream",
     "text": [
      "time: 1min 49s (started: 2021-02-28 23:43:20 +01:00)\n"
     ]
    }
   ],
   "source": [
    "# Format the content of the column TEXT\n",
    "# CLEAN OCR TEXT\n",
    "\n",
    "def lower_case(text):\n",
    "    \"\"\"Lower case\"\"\"\n",
    "    return text.lower()\n",
    "\n",
    "def replace_slashn(text):\n",
    "    \"\"\"Replace '/n' \"\"\"\n",
    "    return text.replace('\\n',' ')\n",
    "\n",
    "def remove_punc(text):\n",
    "    \"\"\"Remove punctuation\"\"\"\n",
    "    for punctuation in string.punctuation:\n",
    "        return text.replace(punctuation, '')\n",
    "\n",
    "def remove_digit(text):\n",
    "    \"\"\"Remove digits\"\"\"\n",
    "    return ''.join(word for word in text if not word.isdigit())\n",
    "\n",
    "def remove_nonalpha(text):\n",
    "    \"\"\"Remove nonalpha characters\"\"\"\n",
    "    return ''.join(word for word in text if word.isalpha() or word == ' ')\n",
    "\n",
    "def remove_accents(text):\n",
    "    \"\"\"Remove accents\"\"\"\n",
    "    return ''.join(\n",
    "        c for c in unicodedata.normalize('NFKD', text) \n",
    "        if unicodedata.category(c) != 'Mn'\n",
    "        )\n",
    "\n",
    "def remove_specialchar(text):\n",
    "    \"\"\"Remove special characters\"\"\"\n",
    "    return ''.join(word for word in text if word.isalpha() or word == ' ')\n",
    "\n",
    "def text_formatting_workflow():\n",
    "    \"\"\"Workflow of text formatting\"\"\"\n",
    "    ocr_df['clean_text'] = ocr_df.fr_text.apply(lambda text: lower_case(text))\n",
    "    ocr_df['clean_text'] = ocr_df.clean_text.apply(lambda text: replace_slashn(text))\n",
    "    ocr_df['clean_text'] = ocr_df.clean_text.apply(lambda text: remove_punc(text))\n",
    "    ocr_df['clean_text'] = ocr_df.clean_text.apply(lambda text: remove_digit(text))\n",
    "    # ocr_df['clean_text'] = ocr_df.clean_text.apply(lambda text: remove_nonalpha(text))\n",
    "    ocr_df['clean_text'] = ocr_df.clean_text.apply(lambda text: remove_accents(text))\n",
    "    ocr_df['clean_text'] = ocr_df.clean_text.apply(lambda text: remove_specialchar(text))\n",
    "    \n",
    "    return ocr_df\n"
   ]
  },
  {
   "cell_type": "code",
   "execution_count": 13,
   "metadata": {
    "collapsed": true,
    "jupyter": {
     "outputs_hidden": true
    },
    "tags": []
   },
   "outputs": [
    {
     "data": {
      "text/html": [
       "<div>\n",
       "<style scoped>\n",
       "    .dataframe tbody tr th:only-of-type {\n",
       "        vertical-align: middle;\n",
       "    }\n",
       "\n",
       "    .dataframe tbody tr th {\n",
       "        vertical-align: top;\n",
       "    }\n",
       "\n",
       "    .dataframe thead th {\n",
       "        text-align: right;\n",
       "    }\n",
       "</style>\n",
       "<table border=\"1\" class=\"dataframe\">\n",
       "  <thead>\n",
       "    <tr style=\"text-align: right;\">\n",
       "      <th></th>\n",
       "      <th>source</th>\n",
       "      <th>fr_text</th>\n",
       "      <th>barcode</th>\n",
       "      <th>clean_text</th>\n",
       "    </tr>\n",
       "  </thead>\n",
       "  <tbody>\n",
       "    <tr>\n",
       "      <th>0</th>\n",
       "      <td>/319/966/047/6748/1.json</td>\n",
       "      <td>NE\\nELEVE\\nABATTU\\nEN BRETAGNE\\nLES ÉLEVEURS\\nDE BRETAGNE\\nDécoupe de\\nPodlet noir\\nferfier\\nlabe\\nCaractéristiques certifiées: Fermier-élevé en plein air. Durée d'élevage 81 jours minimum.\\n75% de céréales.\\nAlimenté avec 100% de végétaux, minéraux et vitamines do mation : voir étiquette poids/prix\\nA conserver entre O°C et +4°C -A consommer cuit à caeur-Date limite de co 35650 Le Rheu\\nCertifié par: CERTIS-Immeuble Le Millepertuis- Les Landes d'Ap\\nProduit frais\\nClasse A\\nPour toute réclamation, s'adresser à\\nFERMIERS D'ARGOAT: BP77-22440 PLOUFRAGAN\\nDécoupé et conditionné par: LDC Bretagne BP 256-2280 QUINTIN\\nHomologation\\nN° LA/02/75\\n099 002\\nCE\\n2\\nAbattoir agréé n'FR 22.099.002 CE\\n2FLT.PLT FER.LR SAT\\nEL.BRET.PF 2\\nORIGINE France\\nyo\\nVOLAISE\\nPrixtrg\\nPoids net\\nPrix a payer\\n0,240kg\\nLot\\n005809 19 45\\nR consommer jusqu au\\nR conserver entre O C et +4 C\\n10/04/18\\nExpedie Le 30/03/18\\nLOC BRETAGNE 22 LANFAINS\\n22.039.002\\ne01\\n172225-0/196A\\n3 19966014\\nAU TRIT ASTE\\nwww.CONSIGNESDETRFR\\n</td>\n",
       "      <td>3199660476748</td>\n",
       "      <td>ne eleve abattu en bretagne les eleveurs de bretagne decoupe de podlet noir ferfier labe caracteristiques certifiees fermiereleve en plein air duree delevage  jours minimum  de cereales alimente avec  de vegetaux mineraux et vitamines do mation  voir etiquette poidsprix a conserver entre oc et c a consommer cuit a caeurdate limite de co  le rheu certifie par certisimmeuble le millepertuis les landes dap produit frais classe a pour toute reclamation sadresser a fermiers dargoat bp ploufragan decoupe et conditionne par ldc bretagne bp  quintin homologation n la   ce  abattoir agree nfr  ce fltplt ferlr sat elbretpf  origine france yo volaise prixtrg poids net prix a payer kg lot    r consommer jusqu au r conserver entre o c et  c  expedie le  loc bretagne  lanfains  e a   au trit aste wwwconsignesdetrfr</td>\n",
       "    </tr>\n",
       "    <tr>\n",
       "      <th>1</th>\n",
       "      <td>/319/966/021/9208/1.json</td>\n",
       "      <td>..\\n1cg% LOCAL\\nKer\\nchAnt\\nPOULET\\nDecoupes de\\nConditionné par D\\nBretagne\\nOrigine FRANCE. Produit Frais, Classe A\\nconsommer cuit à coeur\\nNE ELEVÉ PREPARE\\n100% LOCAL\\nDANS NOTRE REGION\\nFILETS POOLET\\n720GR\\nVOLAILLE\\nORIGINE France\\nPrixtkg\\nPoids net\\nPrix a pave\\n0,720kg\\nO058067878\\nA consommer jusqu au\\n04/10/18\\nCot\\nA conserver entre O C et 4C\\nExpedie Le\\nLOc BRETAGNE 22 LANFAINS\\n22.099.002\\nCE\\n250498-0/181\\n01\\n3 11199660121\\nCONSGNE POUANT REOCLMENT\\nwww.cONSIGNT\\n</td>\n",
       "      <td>3199660219208</td>\n",
       "      <td>cg local ker chant poulet decoupes de conditionne par d bretagne origine france produit frais classe a consommer cuit a coeur ne eleve prepare  local dans notre region filets poolet gr volaille origine france prixtkg poids net prix a pave kg o a consommer jusqu au  cot a conserver entre o c et c expedie le loc bretagne  lanfains  ce     consgne pouant reoclment wwwconsignt</td>\n",
       "    </tr>\n",
       "    <tr>\n",
       "      <th>2</th>\n",
       "      <td>/319/966/021/9208/2.json</td>\n",
       "      <td>FILETS POULET\\n720GR\\nORIGINE France\\nPrixtkg\\nVOLAILLE\\nFRANÇAISE\\nPoids net\\nPrix a payer\\n0720kg\\nLot\\n0058067878\\nA consommer jusqu au\\n04/10/18\\nA conserver entre O C et 4 C\\nExpedie Le\\nLOC BRETAGNE 22 LANFAINS\\nFR\\nCE\\nBARQUETTE ET\\n22.099.002\\n250498-0/18 1C\\ne01\\nPENSEZ\\nAU TRI!\\nCONSIGNE POUVANTVARIER LOCALEMENT\\nFILM PLASTIQUE\\nA JETER\\n3 |199 66012 19208\\nwww.CONSIGNESDETRI.FR\\n</td>\n",
       "      <td>3199660219208</td>\n",
       "      <td>filets poulet gr origine france prixtkg volaille francaise poids net prix a payer kg lot  a consommer jusqu au  a conserver entre o c et  c expedie le loc bretagne  lanfains fr ce barquette et   c e pensez au tri consigne pouvantvarier localement film plastique a jeter     wwwconsignesdetrifr</td>\n",
       "    </tr>\n",
       "    <tr>\n",
       "      <th>3</th>\n",
       "      <td>/319/966/021/9192/1.json</td>\n",
       "      <td>Ker\\nchant\\n100% LOCAL\\nDecoupes de\\nPOULET\\nConditionné par LDC Bretagne\\nLanfains (22) 18\\nrais Classe A\\nOrigine FRANCE. Prodtre 0 et +4\"C\\nOFFRE\\nSPECIALE\\nNE ELEVE PREPARE\\n100% LOCAL\\nDANS NOTRE REGION\\n1CUIS.DEJ. PLT SAT\\nKERCHANT FX 1\\nORIGINE France\\nVOLAILLE\\nFRANÇAISE\\nPrix/kg\\nPaids net\\nPrin apayer\\n1,000kg\\nto\\n005806444\\nA consommer jusqu au\\n27/09/18\\nR conserver entre D C et 4 C\\nExpedie Le\\nLOC BRETAGNE 22 LANFAINS\\n2.09.02\\n256-106-0/1818\\nAUTRIT\\nPENS\\n3 199660112 19192\\n</td>\n",
       "      <td>3199660219192</td>\n",
       "      <td>ker chant  local decoupes de poulet conditionne par ldc bretagne lanfains   rais classe a origine france prodtre  et c offre speciale ne eleve prepare  local dans notre region cuisdej plt sat kerchant fx  origine france volaille francaise prixkg paids net prin apayer kg to  a consommer jusqu au  r conserver entre d c et  c expedie le loc bretagne  lanfains   autrit pens</td>\n",
       "    </tr>\n",
       "    <tr>\n",
       "      <th>4</th>\n",
       "      <td>/319/966/021/9192/2.json</td>\n",
       "      <td>1CUIS.DEJ. PLT SAT\\nKERCHANT FX 1\\nORIGINE France\\nVOLAILLE\\nFRANCAISE\\nPrix/kg\\nPoids net\\nPrix a payer\\n1,000kg\\n0058064444\\nA consommer jusqu'au\\nR conserver entre OC et 4 C\\nExpedie Le\\n27/09/18\\nLOC BRETAGNE 22 LANFAINS\\n22.099.002\\nCE\\n256 106-0/1818\\ne03\\n3 199 660112 191921\\nPENSEZ\\nAU TRI!\\nBARQUETTE ET\\nFILM PLASTIQUE\\nAJETER\\nCONSIGNE POUVANTVARIER LOCALEMENT\\nwww.CONSIGNESDETRLFR\\n</td>\n",
       "      <td>3199660219192</td>\n",
       "      <td>cuisdej plt sat kerchant fx  origine france volaille francaise prixkg poids net prix a payer kg  a consommer jusquau r conserver entre oc et  c expedie le  loc bretagne  lanfains  ce   e     pensez au tri barquette et film plastique ajeter consigne pouvantvarier localement wwwconsignesdetrlfr</td>\n",
       "    </tr>\n",
       "    <tr>\n",
       "      <th>...</th>\n",
       "      <td>...</td>\n",
       "      <td>...</td>\n",
       "      <td>...</td>\n",
       "      <td>...</td>\n",
       "    </tr>\n",
       "    <tr>\n",
       "      <th>795604</th>\n",
       "      <td>/339/492/729/1007/2.json</td>\n",
       "      <td>Le produit est gratine au four traditionnel\\nAssociation de Promotion des Produits Alimentaires à base\\ne Reblochon AOP (APPARe)-Maison du Reblochon-28 rue\\naase-BP 55-74230 THONES\\nHomalogation noLA02/14\\nngrédients : Pommes de terre 52%, Reblochon AOP 20% (lait\\ncru de vache, sel, ferments lactiques, présure, colorant de croute:\\nocou), lardons fumés 10% (poitrine de porc (origine: France), sel,\\nextrose, acidifiant:E330, antioxydant:E301, conservateur: E250),\\nignons, crème fraiche, eau,fécule de pomme de terre, sel, poivre\\nTaces eventuelles de céréales contenant du gluten, oeufs, poissons,\\nmollusques, crustaces, céléri, moutarde, soja et fruits à coque.\\nALEURS NUTRITIONELLES MOYENNES POUR 100g:Energie :686\\n(164 kcal), Matières grasses :9.6g dont acides gras saturés\\nS.lg Glucides: 12g dont sucres :0.7g Protéines : 6.6g, sel:0.7g\\nconsornmer cans Les 24 heures apras ouverture.\\nONSEILS DE PREPARATION\\nu four traditionnel : apres avoir ate Le film, mettre Lla\\nargaette au four 15 a 20 min a 180°C\\nfour micre andes : transferer Le produit dans un plat\\nprapris at rechauffer pandant 4 minutes a 9001\\n792730199\\n</td>\n",
       "      <td>3394927291007</td>\n",
       "      <td>le produit est gratine au four traditionnel association de promotion des produits alimentaires a base e reblochon aop apparemaison du reblochon rue aasebp  thones homalogation nola ngredients  pommes de terre  reblochon aop  lait cru de vache sel ferments lactiques presure colorant de croute ocou lardons fumes  poitrine de porc origine france sel extrose acidifiante antioxydante conservateur e ignons creme fraiche eaufecule de pomme de terre sel poivre taces eventuelles de cereales contenant du gluten oeufs poissons mollusques crustaces celeri moutarde soja et fruits a coque aleurs nutritionelles moyennes pour genergie   kcal matieres grasses g dont acides gras satures slg glucides g dont sucres g proteines  g selg consornmer cans les  heures apras ouverture onseils de preparation u four traditionnel  apres avoir ate le film mettre lla argaette au four  a  min a c four micre andes  transferer le produit dans un plat prapris at rechauffer pandant  minutes a</td>\n",
       "    </tr>\n",
       "    <tr>\n",
       "      <th>795605</th>\n",
       "      <td>/339/492/036/6344/1.json</td>\n",
       "      <td>mon traiteur\\nPierre\\nClot\\nIngrédients:\\nPISSALADIERE NICOISE\\nTarte garnie d'une sauce aux oignons et de filets d'anchois.\\nGARNITURE 63 % : Oignons 50,7%, huile de tournesol. filets d'anchois 2,3% (anchois 1.5%,\\nhuile de tournesol, sel), olives noires (olives, eau, sel, stabilisant de couleur : E579), eau\\namidon transforme de mais, sel, herbes de Provence, poivre, cannelle, girofle, muscade.\\ngingembre, thym, origan.\\nATE 37% : Farine de ble, eau, huile de tournesol, sUcre, Levure, sel, emulsifiants E322, E471\\nfarine de ble malte.\\n(Pourcentages exprimes sur le total de la recette).\\nTraces eventuelles de moutarde, oeufs, Lait, soja et fruits a coque.\\nA consommer dans Les 24 heures apres ouverture\\nVALEURS NUTRITIONELLES MOYENNES POUR 100g : Energie :978 kJ (234 kcal), Matieres grasses\\n11.2g dont acides gras satures : 1.2g: GLucides 28.3g dont sucres: 6.5g: Proteines: 5.0g: sel\\n1.47g\\nCONSEILS DE PREPARATION: Prechauffer votre four a 180°C. Oter le film de la barquette et\\nrechauffer dans sa barquette au four traditionnel pendant 10 minutes a 180°C (therm.6)\\nconsommer\\njusqu'au:\\n26/04/18\\nPoids fixe\\nLot no 780940197\\n0,450\\n16:57\\nFR\\n38-565-001\\nPENSEZ\\nAU TRI !\\nBAROUEWEAE\\nA JETER\\nCE\\n3 113 9 49 20113 66344\\nCONSIGNES POUVANT VARIER LOCALEMENT\\nwww.CONSIGNESDETRI FR\\nFabriqué par Pierre CLOT\\n436 rue Emile Romanet\\n38340 VOREPPE\\nwww.pierre-clot.fr\\nTraiteur Frais\\nélaboré en Région\\n</td>\n",
       "      <td>3394920366344</td>\n",
       "      <td>mon traiteur pierre clot ingredients pissaladiere nicoise tarte garnie dune sauce aux oignons et de filets danchois garniture    oignons  huile de tournesol filets danchois  anchois  huile de tournesol sel olives noires olives eau sel stabilisant de couleur  e eau amidon transforme de mais sel herbes de provence poivre cannelle girofle muscade gingembre thym origan ate   farine de ble eau huile de tournesol sucre levure sel emulsifiants e e farine de ble malte pourcentages exprimes sur le total de la recette traces eventuelles de moutarde oeufs lait soja et fruits a coque a consommer dans les  heures apres ouverture valeurs nutritionelles moyennes pour g  energie  kj  kcal matieres grasses g dont acides gras satures  g glucides g dont sucres g proteines g sel g conseils de preparation prechauffer votre four a c oter le film de la barquette et rechauffer dans sa barquette au four traditionnel pendant  minutes a c therm consommer jusquau  poids fixe lot no    fr  pensez au tri  baroueweae a jeter ce       consignes pouvant varier localement wwwconsignesdetri fr fabrique par pierre clot  rue emile romanet  voreppe wwwpierreclotfr traiteur frais elabore en region</td>\n",
       "    </tr>\n",
       "    <tr>\n",
       "      <th>795606</th>\n",
       "      <td>/339/492/036/6344/2.json</td>\n",
       "      <td>Conditionné sous atmosphère protectrice. A conserver entre 0°C et +4°C.\\nPiere\\nmon traiteur\\nClot\\nIngrédients:\\nPISSALADIERE NICOISE\\nTarte garnie d'une sauce aux oignons et de filets d'anchois.\\nGARNITURE 63 % : Oignons 50,7%, huile de tournesol, filets d'anchois 2,3% (anchois 1.5%,\\nhuile de tournesol, sel), olives noires (olives, eau, sel, stabilisant de couleur E579), eau,\\namidon transforme de maïs, sel, herbes de Provence, poivre, cannelle, girofle, muscade.\\ngingembre, thym, origan.\\nPATE 37% : Farine de ble, eau, huile de tournesol, sucre, Levure, sel, emulsifiants E322, E471\\nfarine de ble malte.\\n(Pourcentages exprimes sur le total de La recette).\\nTraces eventuelles de moutarde, oeufs, Lait, soja et fruits a coque.\\nA consommer dans les 24 heures apres ouverture.\\nVALEURS NUTRITIONELLES MOYENNES POUR 100g: Energie: 978 kJ (234 kcal), Matieres grasses\\n11.2g dont acides gras satures 1.2g: Glucides 28.3g dont sucres 6.5g: Proteines 5.0g: sel\\n1.47 g\\nCONSEILS DE PREPARATION Prechauffer votre four a 180°C. Oter le film de la barquette et\\nrechauffer dans sa barquette au four traditionnel pendant 10 minutes a 180°C (therm.6)\\nà consommer\\njusqu au:\\n26/04/18\\nPoids fixe\\nLot no 780940197\\n0,450g\\nFR\\n38-565-001\\n16:57\\nPENSEZ ROUETTE Bo\\n</td>\n",
       "      <td>3394920366344</td>\n",
       "      <td>conditionne sous atmosphere protectrice a conserver entre c et c piere mon traiteur clot ingredients pissaladiere nicoise tarte garnie dune sauce aux oignons et de filets danchois garniture    oignons  huile de tournesol filets danchois  anchois  huile de tournesol sel olives noires olives eau sel stabilisant de couleur e eau amidon transforme de mais sel herbes de provence poivre cannelle girofle muscade gingembre thym origan pate   farine de ble eau huile de tournesol sucre levure sel emulsifiants e e farine de ble malte pourcentages exprimes sur le total de la recette traces eventuelles de moutarde oeufs lait soja et fruits a coque a consommer dans les  heures apres ouverture valeurs nutritionelles moyennes pour g energie  kj  kcal matieres grasses g dont acides gras satures g glucides g dont sucres g proteines g sel  g conseils de preparation prechauffer votre four a c oter le film de la barquette et rechauffer dans sa barquette au four traditionnel pendant  minutes a c therm a consommer jusqu au  poids fixe lot no  g fr   pensez rouette bo</td>\n",
       "    </tr>\n",
       "    <tr>\n",
       "      <th>795607</th>\n",
       "      <td>/339/385/244/7152/1.json</td>\n",
       "      <td>JGRADE\\nCEUFS DE SAUMON SAUVAGE\\nKETA DU PACIFIQUE\\nINGREDIENTS:\\nCEufs de saumon (Oncorhynchus keta\\npêché en Océan Pacifique) 97%, sel.\\nFR\\n94.022.002\\nCE\\nLE RO\\nDE 0°C à +4°C. K.S.F.-7 AVENUE DANVILLE 94600- CHOISY\\n</td>\n",
       "      <td>3393852447152</td>\n",
       "      <td>jgrade ceufs de saumon sauvage keta du pacifique ingredients ceufs de saumon oncorhynchus keta peche en ocean pacifique  sel fr  ce le ro de c a c ksf avenue danville  choisy</td>\n",
       "    </tr>\n",
       "    <tr>\n",
       "      <th>795608</th>\n",
       "      <td>/339/385/244/7169/1.json</td>\n",
       "      <td>CEUFS DE SAUMON SAUVAGE\\nKETA DU PACIFIQUE\\nINGRÉDIENTS:\\nCEufs de saumon (0ncorhynchus keta\\npêché en Océan Pacifique) 97%, sel.\\nOID DE 0°C à +4°C. K.S.F. -7 AVENUE DANVILLE 94600- CHOISYL\\nFR\\n94.022.002\\nCE\\n600\\n1HELETEN\\n(또월본)\\nKS\\n</td>\n",
       "      <td>3393852447169</td>\n",
       "      <td>ceufs de saumon sauvage keta du pacifique ingredients ceufs de saumon ncorhynchus keta peche en ocean pacifique  sel oid de c a c ksf  avenue danville  choisyl fr  ce  heleten 또월본 ks</td>\n",
       "    </tr>\n",
       "  </tbody>\n",
       "</table>\n",
       "<p>795609 rows × 4 columns</p>\n",
       "</div>"
      ],
      "text/plain": [
       "e de mais, sel, herbes de Provence, poivre, cannelle, girofle, muscade.\\ngingembre, thym, origan.\\nATE 37% : Farine de ble, eau, huile de tournesol, sUcre, Levure, sel, emulsifiants E322, E471\\nfarine de ble malte.\\n(Pourcentages exprimes sur le total de la recette).\\nTraces eventuelles de moutarde, oeufs, Lait, soja et fruits a coque.\\nA consommer dans Les 24 heures apres ouverture\\nVALEURS NUTRITIONELLES MOYENNES POUR 100g : Energie :978 kJ (234 kcal), Matieres grasses\\n11.2g dont acides gras satures : 1.2g: GLucides 28.3g dont sucres: 6.5g: Proteines: 5.0g: sel\\n1.47g\\nCONSEILS DE PREPARATION: Prechauffer votre four a 180°C. Oter le film de la barquette et\\nrechauffer dans sa barquette au four traditionnel pendant 10 minutes a 180°C (therm.6)\\nconsommer\\njusqu'au:\\n26/04/18\\nPoids fixe\\nLot no 780940197\\n0,450\\n16:57\\nFR\\n38-565-001\\nPENSEZ\\nAU TRI !\\nBAROUEWEAE\\nA JETER\\nCE\\n3 113 9 49 20113 66344\\nCONSIGNES POUVANT VARIER LOCALEMENT\\nwww.CONSIGNESDETRI FR\\nFabriqué par Pierre CLOT\\n436 rue Emile Romanet\\n38340 VOREPPE\\nwww.pierre-clot.fr\\nTraiteur Frais\\nélaboré en Région\\n   \n",
       "795606                                                                                                                                                              Conditionné sous atmosphère protectrice. A conserver entre 0°C et +4°C.\\nPiere\\nmon traiteur\\nClot\\nIngrédients:\\nPISSALADIERE NICOISE\\nTarte garnie d'une sauce aux oignons et de filets d'anchois.\\nGARNITURE 63 % : Oignons 50,7%, huile de tournesol, filets d'anchois 2,3% (anchois 1.5%,\\nhuile de tournesol, sel), olives noires (olives, eau, sel, stabilisant de couleur E579), eau,\\namidon transforme de maïs, sel, herbes de Provence, poivre, cannelle, girofle, muscade.\\ngingembre, thym, origan.\\nPATE 37% : Farine de ble, eau, huile de tournesol, sucre, Levure, sel, emulsifiants E322, E471\\nfarine de ble malte.\\n(Pourcentages exprimes sur le total de La recette).\\nTraces eventuelles de moutarde, oeufs, Lait, soja et fruits a coque.\\nA consommer dans les 24 heures apres ouverture.\\nVALEURS NUTRITIONELLES MOYENNES POUR 100g: Energie: 978 kJ (234 kcal), Matieres grasses\\n11.2g dont acides gras satures 1.2g: Glucides 28.3g dont sucres 6.5g: Proteines 5.0g: sel\\n1.47 g\\nCONSEILS DE PREPARATION Prechauffer votre four a 180°C. Oter le film de la barquette et\\nrechauffer dans sa barquette au four traditionnel pendant 10 minutes a 180°C (therm.6)\\nà consommer\\njusqu au:\\n26/04/18\\nPoids fixe\\nLot no 780940197\\n0,450g\\nFR\\n38-565-001\\n16:57\\nPENSEZ ROUETTE Bo\\n   \n",
       "795607                                                                                                                                                                                                                                                                                                                                                                                                                                                                                                                                                                                                                                                                                                                                                                                                                                                                                                                                                                                                                                                                                                                                                                                                                                                    JGRADE\\nCEUFS DE SAUMON SAUVAGE\\nKETA DU PACIFIQUE\\nINGREDIENTS:\\nCEufs de saumon (Oncorhynchus keta\\npêché en Océan Pacifique) 97%, sel.\\nFR\\n94.022.002\\nCE\\nLE RO\\nDE 0°C à +4°C. K.S.F.-7 AVENUE DANVILLE 94600- CHOISY\\n   \n",
       "795608                                                                                                                                                                                                                                                                                                                                                                                                                                                                                                                                                                                                                                                                                                                                                                                                                                                                                                                                                                                                                                                                                                                                                                                                                                   CEUFS DE SAUMON SAUVAGE\\nKETA DU PACIFIQUE\\nINGRÉDIENTS:\\nCEufs de saumon (0ncorhynchus keta\\npêché en Océan Pacifique) 97%, sel.\\nOID DE 0°C à +4°C. K.S.F. -7 AVENUE DANVILLE 94600- CHOISYL\\nFR\\n94.022.002\\nCE\\n600\\n1HELETEN\\n(또월본)\\nKS\\n   \n",
       "\n",
       "              barcode  \\\n",
       "0       3199660476748   \n",
       "1       3199660219208   \n",
       "2       3199660219208   \n",
       "3       3199660219192   \n",
       "4       3199660219192   \n",
       "...               ...   \n",
       "795604  3394927291007   \n",
       "795605  3394920366344   \n",
       "795606  3394920366344   \n",
       "795607  3393852447152   \n",
       "795608  3393852447169   \n",
       "\n",
       "                                                                                                                                                                                                                                                                                                                                                                                                                                                                                                                                                                                                                                                                                                                                                                                                                                                                                                                                                                                                                                                                                                                                                                                                                        clean_text  \n",
       "0                                                                                                                                                                                                                                                                                                                                                                                    ne eleve abattu en bretagne les eleveurs de bretagne decoupe de podlet noir ferfier labe caracteristiques certifiees fermiereleve en plein air duree delevage  jours minimum  de cereales alimente avec  de vegetaux mineraux et vitamines do mation  voir etiquette poidsprix a conserver entre oc et c a consommer cuit a caeurdate limite de co  le rheu certifie par certisimmeuble le millepertuis les landes dap produit frais classe a pour toute reclamation sadresser a fermiers dargoat bp ploufragan decoupe et conditionne par ldc bretagne bp  quintin homologation n la   ce  abattoir agree nfr  ce fltplt ferlr sat elbretpf  origine france yo volaise prixtrg poids net prix a payer kg lot    r consommer jusqu au r conserver entre o c et  c  expedie le  loc bretagne  lanfains  e a   au trit aste wwwconsignesdetrfr   \n",
       "1                                                                                                                                                                                                                                                                                                                                                                                                                                                                                                                                                                                                                                                                                                                                                                                                                                         cg local ker chant poulet decoupes de conditionne par d bretagne origine france produit frais classe a consommer cuit a coeur ne eleve prepare  local dans notre region filets poolet gr volaille origine france prixtkg poids net prix a pave kg o a consommer jusqu au  cot a conserver entre o c et c expedie le loc bretagne  lanfains  ce     consgne pouant reoclment wwwconsignt   \n",
       "2                                                                                                                                                                                                                                                                                                                                                                                                                                                                                                                                                                                                                                                                                                                                                                                                                                                                                                                           filets poulet gr origine france prixtkg volaille francaise poids net prix a payer kg lot  a consommer jusqu au  a conserver entre o c et  c expedie le loc bretagne  lanfains fr ce barquette et   c e pensez au tri consigne pouvantvarier localement film plastique a jeter     wwwconsignesdetrifr   \n",
       "3                                                                                                                                                                                                                                                                                                                                                                                                                                                                                                                                                                                                                                                                                                                                                                                                                                         ker chant  local decoupes de poulet conditionne par ldc bretagne lanfains   rais classe a origine france prodtre  et c offre speciale ne eleve prepare  local dans notre region cuisdej plt sat kerchant fx  origine france volaille francaise prixkg paids net prin apayer kg to  a consommer jusqu au  r conserver entre d c et  c expedie le loc bretagne  lanfains   autrit pens      \n",
       "4                                                                                                                                                                                                                                                                                                                                                                                                                                                                                                                                                                                                                                                                                                                                                                                                                                                                                                                           cuisdej plt sat kerchant fx  origine france volaille francaise prixkg poids net prix a payer kg  a consommer jusquau r conserver entre oc et  c expedie le  loc bretagne  lanfains  ce   e     pensez au tri barquette et film plastique ajeter consigne pouvantvarier localement wwwconsignesdetrlfr   \n",
       "...                                                                                                                                                                                                                                                                                                                                                                                                                                                                                                                                                                                                                                                                                                                                                                                                                                                                                                                                                                                                                                                                                                                                                                                                                            ...  \n",
       "795604                                                                                                                                                                                                               le produit est gratine au four traditionnel association de promotion des produits alimentaires a base e reblochon aop apparemaison du reblochon rue aasebp  thones homalogation nola ngredients  pommes de terre  reblochon aop  lait cru de vache sel ferments lactiques presure colorant de croute ocou lardons fumes  poitrine de porc origine france sel extrose acidifiante antioxydante conservateur e ignons creme fraiche eaufecule de pomme de terre sel poivre taces eventuelles de cereales contenant du gluten oeufs poissons mollusques crustaces celeri moutarde soja et fruits a coque aleurs nutritionelles moyennes pour genergie   kcal matieres grasses g dont acides gras satures slg glucides g dont sucres g proteines  g selg consornmer cans les  heures apras ouverture onseils de preparation u four traditionnel  apres avoir ate le film mettre lla argaette au four  a  min a c four micre andes  transferer le produit dans un plat prapris at rechauffer pandant  minutes a     \n",
       "795605  mon traiteur pierre clot ingredients pissaladiere nicoise tarte garnie dune sauce aux oignons et de filets danchois garniture    oignons  huile de tournesol filets danchois  anchois  huile de tournesol sel olives noires olives eau sel stabilisant de couleur  e eau amidon transforme de mais sel herbes de provence poivre cannelle girofle muscade gingembre thym origan ate   farine de ble eau huile de tournesol sucre levure sel emulsifiants e e farine de ble malte pourcentages exprimes sur le total de la recette traces eventuelles de moutarde oeufs lait soja et fruits a coque a consommer dans les  heures apres ouverture valeurs nutritionelles moyennes pour g  energie  kj  kcal matieres grasses g dont acides gras satures  g glucides g dont sucres g proteines g sel g conseils de preparation prechauffer votre four a c oter le film de la barquette et rechauffer dans sa barquette au four traditionnel pendant  minutes a c therm consommer jusquau  poids fixe lot no    fr  pensez au tri  baroueweae a jeter ce       consignes pouvant varier localement wwwconsignesdetri fr fabrique par pierre clot  rue emile romanet  voreppe wwwpierreclotfr traiteur frais elabore en region   \n",
       "795606                                                                                                                       conditionne sous atmosphere protectrice a conserver entre c et c piere mon traiteur clot ingredients pissaladiere nicoise tarte garnie dune sauce aux oignons et de filets danchois garniture    oignons  huile de tournesol filets danchois  anchois  huile de tournesol sel olives noires olives eau sel stabilisant de couleur e eau amidon transforme de mais sel herbes de provence poivre cannelle girofle muscade gingembre thym origan pate   farine de ble eau huile de tournesol sucre levure sel emulsifiants e e farine de ble malte pourcentages exprimes sur le total de la recette traces eventuelles de moutarde oeufs lait soja et fruits a coque a consommer dans les  heures apres ouverture valeurs nutritionelles moyennes pour g energie  kj  kcal matieres grasses g dont acides gras satures g glucides g dont sucres g proteines g sel  g conseils de preparation prechauffer votre four a c oter le film de la barquette et rechauffer dans sa barquette au four traditionnel pendant  minutes a c therm a consommer jusqu au  poids fixe lot no  g fr   pensez rouette bo   \n",
       "795607                                                                                                                                                                                                                                                                                                                                                                                                                                                                                                                                                                                                                                                                                                                                                                                                                                                                                                                                                                                                                                             jgrade ceufs de saumon sauvage keta du pacifique ingredients ceufs de saumon oncorhynchus keta peche en ocean pacifique  sel fr  ce le ro de c a c ksf avenue danville  choisy   \n",
       "795608                                                                                                                                                                                                                                                                                                                                                                                                                                                                                                                                                                                                                                                                                                                                                                                                                                                                                                                                                                                                                                ceufs de saumon sauvage keta du pacifique ingredients ceufs de saumon ncorhynchus keta peche en ocean pacifique  sel oid de c a c ksf  avenue danville  choisyl fr  ce  heleten 또월본 ks   \n",
       "\n",
       "[795609 rows x 4 columns]"
      ]
     },
     "execution_count": 13,
     "metadata": {},
     "output_type": "execute_result"
    },
    {
     "name": "stdout",
     "output_type": "stream",
     "text": [
      "time: 1min 54s (started: 2021-02-28 23:45:09 +01:00)\n"
     ]
    }
   ],
   "source": [
    "# Apply workflow of text formatting\n",
    "text_formatting_workflow()"
   ]
  },
  {
   "cell_type": "code",
   "execution_count": 14,
   "metadata": {
    "collapsed": true,
    "id": "zbdD3JBw7Kon",
    "jupyter": {
     "outputs_hidden": true,
     "source_hidden": true
    }
   },
   "outputs": [
    {
     "name": "stdout",
     "output_type": "stream",
     "text": [
      "time: 240 ms (started: 2021-02-28 23:47:04 +01:00)\n"
     ]
    }
   ],
   "source": [
    "# Drop superfluous columns\n",
    "\n",
    "# Rough variant (keeping the raw text as well)\n",
    "ocr_rough_df = ocr_df[['barcode','clean_text', 'fr_text']].copy()\n",
    "# Replace column names of the dataset\n",
    "ocr_rough_df.rename(columns={'fr_text':'raw_text'}, inplace=True)\n",
    "\n",
    "# Clean variant\n",
    "ocr_clean_df = ocr_df[['barcode','clean_text']].copy()"
   ]
  },
  {
   "cell_type": "code",
   "execution_count": 15,
   "metadata": {
    "colab": {
     "base_uri": "https://localhost:8080/"
    },
    "collapsed": true,
    "id": "oiiEfu6pTTlS",
    "jupyter": {
     "outputs_hidden": true,
     "source_hidden": true
    },
    "outputId": "13bde7a1-0543-440c-d116-dedff93d5e54"
   },
   "outputs": [
    {
     "data": {
      "text/plain": [
       "(barcode        int64\n",
       " clean_text    object\n",
       " raw_text      object\n",
       " dtype: object,\n",
       " barcode        int64\n",
       " clean_text    object\n",
       " dtype: object)"
      ]
     },
     "execution_count": 15,
     "metadata": {},
     "output_type": "execute_result"
    },
    {
     "name": "stdout",
     "output_type": "stream",
     "text": [
      "time: 4.96 ms (started: 2021-02-28 23:47:04 +01:00)\n"
     ]
    }
   ],
   "source": [
    "ocr_rough_df.dtypes , ocr_clean_df.dtypes"
   ]
  },
  {
   "cell_type": "code",
   "execution_count": 16,
   "metadata": {
    "colab": {
     "base_uri": "https://localhost:8080/",
     "height": 35
    },
    "collapsed": true,
    "id": "6vjbMnTDFoSY",
    "jupyter": {
     "outputs_hidden": true,
     "source_hidden": true
    },
    "outputId": "8c96e518-4334-48a2-fc69-383fb313e423"
   },
   "outputs": [
    {
     "data": {
      "text/plain": [
       "'Uncomment method if needed'"
      ]
     },
     "execution_count": 16,
     "metadata": {},
     "output_type": "execute_result"
    },
    {
     "name": "stdout",
     "output_type": "stream",
     "text": [
      "time: 4.68 ms (started: 2021-02-28 23:47:11 +01:00)\n"
     ]
    }
   ],
   "source": [
    "\"\"\"Uncomment method if needed\"\"\"\n",
    "\n",
    "# Save formatted dataset to csv\n",
    "# ocr_clean_df.to_csv('/content/drive/My Drive/OFF_Drive/raw_data/ocr_clean.csv', index = False)\n",
    "# ocr_rough_df.to_csv('/content/drive/My Drive/OFF_Drive/raw_data/ocr_clean_vs_rough.csv', index = False)"
   ]
  },
  {
   "cell_type": "markdown",
   "metadata": {
    "heading_collapsed": "true",
    "id": "4YVVzRggOk8d",
    "tags": []
   },
   "source": [
    "### Clean OFF Dataset"
   ]
  },
  {
   "cell_type": "markdown",
   "metadata": {
    "id": "14_Y1LjiMRaP",
    "tags": []
   },
   "source": [
    "#### Import the Data"
   ]
  },
  {
   "cell_type": "code",
   "execution_count": 18,
   "metadata": {
    "collapsed": true,
    "id": "1CdU5xQLOpWb",
    "jupyter": {
     "outputs_hidden": true,
     "source_hidden": true
    }
   },
   "outputs": [
    {
     "name": "stdout",
     "output_type": "stream",
     "text": [
      "time: 8min 59s (started: 2021-02-28 23:48:06 +01:00)\n"
     ]
    }
   ],
   "source": [
    "# Load the dataset\n",
    "file = '../raw_data/en.openfoodfacts.org.products.csv'\n",
    "off_df_base = pd.read_csv(file, sep='\\t')"
   ]
  },
  {
   "cell_type": "code",
   "execution_count": 19,
   "metadata": {
    "collapsed": true,
    "id": "mMKlqB4rMvlv",
    "jupyter": {
     "outputs_hidden": true,
     "source_hidden": true
    }
   },
   "outputs": [
    {
     "name": "stdout",
     "output_type": "stream",
     "text": [
      "time: 7.76 s (started: 2021-02-28 23:57:06 +01:00)\n"
     ]
    }
   ],
   "source": [
    "# Deep copy of the dataframe to avoid to reload it\n",
    "data_off = off_df_base.copy()"
   ]
  },
  {
   "cell_type": "code",
   "execution_count": 20,
   "metadata": {
    "collapsed": true,
    "id": "lUkBbLdRa-1m",
    "jupyter": {
     "outputs_hidden": true,
     "source_hidden": true
    }
   },
   "outputs": [
    {
     "name": "stdout",
     "output_type": "stream",
     "text": [
      "Shape of the dataset: (1634734, 184)\n",
      "head of data_off:\n"
     ]
    },
    {
     "data": {
      "text/html": [
       "<div>\n",
       "<style scoped>\n",
       "    .dataframe tbody tr th:only-of-type {\n",
       "        vertical-align: middle;\n",
       "    }\n",
       "\n",
       "    .dataframe tbody tr th {\n",
       "        vertical-align: top;\n",
       "    }\n",
       "\n",
       "    .dataframe thead th {\n",
       "        text-align: right;\n",
       "    }\n",
       "</style>\n",
       "<table border=\"1\" class=\"dataframe\">\n",
       "  <thead>\n",
       "    <tr style=\"text-align: right;\">\n",
       "      <th></th>\n",
       "      <th>code</th>\n",
       "      <th>url</th>\n",
       "      <th>creator</th>\n",
       "      <th>created_t</th>\n",
       "      <th>created_datetime</th>\n",
       "      <th>last_modified_t</th>\n",
       "      <th>last_modified_datetime</th>\n",
       "      <th>product_name</th>\n",
       "      <th>abbreviated_product_name</th>\n",
       "      <th>generic_name</th>\n",
       "      <th>...</th>\n",
       "      <th>carbon-footprint-from-meat-or-fish_100g</th>\n",
       "      <th>nutrition-score-fr_100g</th>\n",
       "      <th>nutrition-score-uk_100g</th>\n",
       "      <th>glycemic-index_100g</th>\n",
       "      <th>water-hardness_100g</th>\n",
       "      <th>choline_100g</th>\n",
       "      <th>phylloquinone_100g</th>\n",
       "      <th>beta-glucan_100g</th>\n",
       "      <th>inositol_100g</th>\n",
       "      <th>carnitine_100g</th>\n",
       "    </tr>\n",
       "  </thead>\n",
       "  <tbody>\n",
       "    <tr>\n",
       "      <th>0</th>\n",
       "      <td>0000000000017</td>\n",
       "      <td>http://world-en.openfoodfacts.org/product/0000000000017/vitoria-crackers</td>\n",
       "      <td>kiliweb</td>\n",
       "      <td>1529059080</td>\n",
       "      <td>2018-06-15T10:38:00Z</td>\n",
       "      <td>1561463718</td>\n",
       "      <td>2019-06-25T11:55:18Z</td>\n",
       "      <td>Vitória crackers</td>\n",
       "      <td>NaN</td>\n",
       "      <td>NaN</td>\n",
       "      <td>...</td>\n",
       "      <td>NaN</td>\n",
       "      <td>NaN</td>\n",
       "      <td>NaN</td>\n",
       "      <td>NaN</td>\n",
       "      <td>NaN</td>\n",
       "      <td>NaN</td>\n",
       "      <td>NaN</td>\n",
       "      <td>NaN</td>\n",
       "      <td>NaN</td>\n",
       "      <td>NaN</td>\n",
       "    </tr>\n",
       "    <tr>\n",
       "      <th>1</th>\n",
       "      <td>0000000000031</td>\n",
       "      <td>http://world-en.openfoodfacts.org/product/0000000000031/cacao</td>\n",
       "      <td>isagoofy</td>\n",
       "      <td>1539464774</td>\n",
       "      <td>2018-10-13T21:06:14Z</td>\n",
       "      <td>1539464817</td>\n",
       "      <td>2018-10-13T21:06:57Z</td>\n",
       "      <td>Cacao</td>\n",
       "      <td>NaN</td>\n",
       "      <td>NaN</td>\n",
       "      <td>...</td>\n",
       "      <td>NaN</td>\n",
       "      <td>NaN</td>\n",
       "      <td>NaN</td>\n",
       "      <td>NaN</td>\n",
       "      <td>NaN</td>\n",
       "      <td>NaN</td>\n",
       "      <td>NaN</td>\n",
       "      <td>NaN</td>\n",
       "      <td>NaN</td>\n",
       "      <td>NaN</td>\n",
       "    </tr>\n",
       "    <tr>\n",
       "      <th>2</th>\n",
       "      <td>000000000003327986</td>\n",
       "      <td>http://world-en.openfoodfacts.org/product/000000000003327986/filetes-de-pollo-empanado</td>\n",
       "      <td>kiliweb</td>\n",
       "      <td>1574175736</td>\n",
       "      <td>2019-11-19T15:02:16Z</td>\n",
       "      <td>1574175737</td>\n",
       "      <td>2019-11-19T15:02:17Z</td>\n",
       "      <td>Filetes de pollo empanado</td>\n",
       "      <td>NaN</td>\n",
       "      <td>NaN</td>\n",
       "      <td>...</td>\n",
       "      <td>NaN</td>\n",
       "      <td>NaN</td>\n",
       "      <td>NaN</td>\n",
       "      <td>NaN</td>\n",
       "      <td>NaN</td>\n",
       "      <td>NaN</td>\n",
       "      <td>NaN</td>\n",
       "      <td>NaN</td>\n",
       "      <td>NaN</td>\n",
       "      <td>NaN</td>\n",
       "    </tr>\n",
       "    <tr>\n",
       "      <th>3</th>\n",
       "      <td>0000000000100</td>\n",
       "      <td>http://world-en.openfoodfacts.org/product/0000000000100/moutarde-au-mout-de-raisin-courte-paille</td>\n",
       "      <td>del51</td>\n",
       "      <td>1444572561</td>\n",
       "      <td>2015-10-11T14:09:21Z</td>\n",
       "      <td>1444659212</td>\n",
       "      <td>2015-10-12T14:13:32Z</td>\n",
       "      <td>moutarde au moût de raisin</td>\n",
       "      <td>NaN</td>\n",
       "      <td>NaN</td>\n",
       "      <td>...</td>\n",
       "      <td>NaN</td>\n",
       "      <td>18.0</td>\n",
       "      <td>NaN</td>\n",
       "      <td>NaN</td>\n",
       "      <td>NaN</td>\n",
       "      <td>NaN</td>\n",
       "      <td>NaN</td>\n",
       "      <td>NaN</td>\n",
       "      <td>NaN</td>\n",
       "      <td>NaN</td>\n",
       "    </tr>\n",
       "    <tr>\n",
       "      <th>4</th>\n",
       "      <td>00000000001111111111</td>\n",
       "      <td>http://world-en.openfoodfacts.org/product/00000000001111111111/sfiudwx-watt</td>\n",
       "      <td>openfoodfacts-contributors</td>\n",
       "      <td>1560020173</td>\n",
       "      <td>2019-06-08T18:56:13Z</td>\n",
       "      <td>1560020173</td>\n",
       "      <td>2019-06-08T18:56:13Z</td>\n",
       "      <td>Sfiudwx</td>\n",
       "      <td>NaN</td>\n",
       "      <td>NaN</td>\n",
       "      <td>...</td>\n",
       "      <td>NaN</td>\n",
       "      <td>NaN</td>\n",
       "      <td>NaN</td>\n",
       "      <td>NaN</td>\n",
       "      <td>NaN</td>\n",
       "      <td>NaN</td>\n",
       "      <td>NaN</td>\n",
       "      <td>NaN</td>\n",
       "      <td>NaN</td>\n",
       "      <td>NaN</td>\n",
       "    </tr>\n",
       "  </tbody>\n",
       "</table>\n",
       "<p>5 rows × 184 columns</p>\n",
       "</div>"
      ],
      "text/plain": [
       "                   code  \\\n",
       "0         0000000000017   \n",
       "1         0000000000031   \n",
       "2    000000000003327986   \n",
       "3         0000000000100   \n",
       "4  00000000001111111111   \n",
       "\n",
       "                                                                                                url  \\\n",
       "0                          http://world-en.openfoodfacts.org/product/0000000000017/vitoria-crackers   \n",
       "1                                     http://world-en.openfoodfacts.org/product/0000000000031/cacao   \n",
       "2            http://world-en.openfoodfacts.org/product/000000000003327986/filetes-de-pollo-empanado   \n",
       "3  http://world-en.openfoodfacts.org/product/0000000000100/moutarde-au-mout-de-raisin-courte-paille   \n",
       "4                       http://world-en.openfoodfacts.org/product/00000000001111111111/sfiudwx-watt   \n",
       "\n",
       "                      creator   created_t      created_datetime  \\\n",
       "0                     kiliweb  1529059080  2018-06-15T10:38:00Z   \n",
       "1                    isagoofy  1539464774  2018-10-13T21:06:14Z   \n",
       "2                     kiliweb  1574175736  2019-11-19T15:02:16Z   \n",
       "3                       del51  1444572561  2015-10-11T14:09:21Z   \n",
       "4  openfoodfacts-contributors  1560020173  2019-06-08T18:56:13Z   \n",
       "\n",
       "   last_modified_t last_modified_datetime                  product_name  \\\n",
       "0       1561463718   2019-06-25T11:55:18Z              Vitória crackers   \n",
       "1       1539464817   2018-10-13T21:06:57Z                         Cacao   \n",
       "2       1574175737   2019-11-19T15:02:17Z     Filetes de pollo empanado   \n",
       "3       1444659212   2015-10-12T14:13:32Z   moutarde au moût de raisin    \n",
       "4       1560020173   2019-06-08T18:56:13Z                       Sfiudwx   \n",
       "\n",
       "  abbreviated_product_name generic_name  ...  \\\n",
       "0                      NaN          NaN  ...   \n",
       "1                      NaN          NaN  ...   \n",
       "2                      NaN          NaN  ...   \n",
       "3                      NaN          NaN  ...   \n",
       "4                      NaN          NaN  ...   \n",
       "\n",
       "  carbon-footprint-from-meat-or-fish_100g nutrition-score-fr_100g  \\\n",
       "0                                     NaN                     NaN   \n",
       "1                                     NaN                     NaN   \n",
       "2                                     NaN                     NaN   \n",
       "3                                     NaN                    18.0   \n",
       "4                                     NaN                     NaN   \n",
       "\n",
       "  nutrition-score-uk_100g glycemic-index_100g water-hardness_100g  \\\n",
       "0                     NaN                 NaN                 NaN   \n",
       "1                     NaN                 NaN                 NaN   \n",
       "2                     NaN                 NaN                 NaN   \n",
       "3                     NaN                 NaN                 NaN   \n",
       "4                     NaN                 NaN                 NaN   \n",
       "\n",
       "  choline_100g phylloquinone_100g beta-glucan_100g inositol_100g  \\\n",
       "0          NaN                NaN              NaN           NaN   \n",
       "1          NaN                NaN              NaN           NaN   \n",
       "2          NaN                NaN              NaN           NaN   \n",
       "3          NaN                NaN              NaN           NaN   \n",
       "4          NaN                NaN              NaN           NaN   \n",
       "\n",
       "  carnitine_100g  \n",
       "0            NaN  \n",
       "1            NaN  \n",
       "2            NaN  \n",
       "3            NaN  \n",
       "4            NaN  \n",
       "\n",
       "[5 rows x 184 columns]"
      ]
     },
     "metadata": {},
     "output_type": "display_data"
    },
    {
     "name": "stdout",
     "output_type": "stream",
     "text": [
      "time: 2.09 s (started: 2021-02-28 23:57:14 +01:00)\n"
     ]
    }
   ],
   "source": [
    "# Brief look at the dataset\n",
    "print(f\"Shape of the dataset: {data_off.shape}\")\n",
    "print(\"head of data_off:\")\n",
    "display(data_off.head())"
   ]
  },
  {
   "cell_type": "markdown",
   "metadata": {
    "id": "elr1DpWcPUKc",
    "tags": []
   },
   "source": [
    "#### Format the Dataset"
   ]
  },
  {
   "cell_type": "code",
   "execution_count": 21,
   "metadata": {
    "collapsed": true,
    "id": "klpBktP9bdcQ",
    "jupyter": {
     "outputs_hidden": true,
     "source_hidden": true
    }
   },
   "outputs": [
    {
     "name": "stdout",
     "output_type": "stream",
     "text": [
      "time: 137 ms (started: 2021-02-28 23:58:08 +01:00)\n"
     ]
    }
   ],
   "source": [
    "# Drop columns\n",
    "data_off_small = data_off[['code', 'pnns_groups_1', 'pnns_groups_2']].copy()"
   ]
  },
  {
   "cell_type": "code",
   "execution_count": 22,
   "metadata": {
    "collapsed": true,
    "id": "amVKNw2xbwWT",
    "jupyter": {
     "outputs_hidden": true,
     "source_hidden": true
    }
   },
   "outputs": [
    {
     "name": "stdout",
     "output_type": "stream",
     "text": [
      "time: 131 ms (started: 2021-02-28 23:58:13 +01:00)\n"
     ]
    }
   ],
   "source": [
    "# Replace empty values with NaN\n",
    "data_off_small['pnns_groups_1'] = data_off_small['pnns_groups_1'].replace('unknown',np.nan)\n",
    "data_off_small['pnns_groups_2'] = data_off_small['pnns_groups_2'].replace('unknown',np.nan)"
   ]
  },
  {
   "cell_type": "code",
   "execution_count": 23,
   "metadata": {
    "collapsed": true,
    "id": "ZVoQq63odFqF",
    "jupyter": {
     "outputs_hidden": true,
     "source_hidden": true
    }
   },
   "outputs": [
    {
     "name": "stdout",
     "output_type": "stream",
     "text": [
      "time: 266 ms (started: 2021-02-28 23:59:41 +01:00)\n"
     ]
    }
   ],
   "source": [
    "# Drop rows with NaN\n",
    "off_df = data_off_small.dropna(subset=['pnns_groups_1', 'pnns_groups_2']).copy()"
   ]
  },
  {
   "cell_type": "code",
   "execution_count": 24,
   "metadata": {
    "collapsed": true,
    "id": "ZlPygpHmP4hF",
    "jupyter": {
     "outputs_hidden": true,
     "source_hidden": true
    }
   },
   "outputs": [
    {
     "name": "stdout",
     "output_type": "stream",
     "text": [
      "Shape of the dataset: (641233, 3)\n",
      "head of the dataset:\n"
     ]
    },
    {
     "data": {
      "text/html": [
       "<div>\n",
       "<style scoped>\n",
       "    .dataframe tbody tr th:only-of-type {\n",
       "        vertical-align: middle;\n",
       "    }\n",
       "\n",
       "    .dataframe tbody tr th {\n",
       "        vertical-align: top;\n",
       "    }\n",
       "\n",
       "    .dataframe thead th {\n",
       "        text-align: right;\n",
       "    }\n",
       "</style>\n",
       "<table border=\"1\" class=\"dataframe\">\n",
       "  <thead>\n",
       "    <tr style=\"text-align: right;\">\n",
       "      <th></th>\n",
       "      <th>code</th>\n",
       "      <th>pnns_groups_1</th>\n",
       "      <th>pnns_groups_2</th>\n",
       "    </tr>\n",
       "  </thead>\n",
       "  <tbody>\n",
       "    <tr>\n",
       "      <th>3</th>\n",
       "      <td>0000000000100</td>\n",
       "      <td>Fat and sauces</td>\n",
       "      <td>Dressings and sauces</td>\n",
       "    </tr>\n",
       "    <tr>\n",
       "      <th>14</th>\n",
       "      <td>0000000000949</td>\n",
       "      <td>Composite foods</td>\n",
       "      <td>One-dish meals</td>\n",
       "    </tr>\n",
       "    <tr>\n",
       "      <th>23</th>\n",
       "      <td>0000000001281</td>\n",
       "      <td>Sugary snacks</td>\n",
       "      <td>Biscuits and cakes</td>\n",
       "    </tr>\n",
       "    <tr>\n",
       "      <th>33</th>\n",
       "      <td>0000000001885</td>\n",
       "      <td>Fruits and vegetables</td>\n",
       "      <td>Fruits</td>\n",
       "    </tr>\n",
       "    <tr>\n",
       "      <th>35</th>\n",
       "      <td>0000000002103</td>\n",
       "      <td>Fish Meat Eggs</td>\n",
       "      <td>Meat</td>\n",
       "    </tr>\n",
       "  </tbody>\n",
       "</table>\n",
       "</div>"
      ],
      "text/plain": [
       "             code          pnns_groups_1         pnns_groups_2\n",
       "3   0000000000100         Fat and sauces  Dressings and sauces\n",
       "14  0000000000949        Composite foods        One-dish meals\n",
       "23  0000000001281          Sugary snacks    Biscuits and cakes\n",
       "33  0000000001885  Fruits and vegetables                Fruits\n",
       "35  0000000002103         Fish Meat Eggs                  Meat"
      ]
     },
     "metadata": {},
     "output_type": "display_data"
    },
    {
     "name": "stdout",
     "output_type": "stream",
     "text": [
      "time: 13.6 ms (started: 2021-02-28 23:59:44 +01:00)\n"
     ]
    }
   ],
   "source": [
    "# Brief look at the dataset\n",
    "print(f\"Shape of the dataset: {off_df.shape}\")\n",
    "print(\"head of the dataset:\")\n",
    "display(off_df.head())"
   ]
  },
  {
   "cell_type": "code",
   "execution_count": 25,
   "metadata": {
    "collapsed": true,
    "id": "T-gYyTmjiX4K",
    "jupyter": {
     "outputs_hidden": true,
     "source_hidden": true
    }
   },
   "outputs": [
    {
     "name": "stdout",
     "output_type": "stream",
     "text": [
      "time: 3.29 ms (started: 2021-02-28 23:59:49 +01:00)\n"
     ]
    }
   ],
   "source": [
    "# Replace column names of the dataset\n",
    "off_df.rename(columns={'code':'barcode'}, inplace=True)"
   ]
  },
  {
   "cell_type": "code",
   "execution_count": 26,
   "metadata": {
    "colab": {
     "base_uri": "https://localhost:8080/"
    },
    "collapsed": true,
    "id": "7ycb2jAqSjPs",
    "jupyter": {
     "outputs_hidden": true,
     "source_hidden": true
    },
    "outputId": "d004d2d0-4ba6-4b27-bf6c-7e58e6cd37eb"
   },
   "outputs": [
    {
     "data": {
      "text/plain": [
       "barcode          object\n",
       "pnns_groups_1    object\n",
       "pnns_groups_2    object\n",
       "dtype: object"
      ]
     },
     "execution_count": 26,
     "metadata": {},
     "output_type": "execute_result"
    },
    {
     "name": "stdout",
     "output_type": "stream",
     "text": [
      "time: 7.83 ms (started: 2021-02-28 23:59:52 +01:00)\n"
     ]
    }
   ],
   "source": [
    "# Verify columns of the dataset\n",
    "off_df.dtypes"
   ]
  },
  {
   "cell_type": "code",
   "execution_count": 27,
   "metadata": {
    "collapsed": true,
    "id": "3Sz9Vfw1DIZK",
    "jupyter": {
     "outputs_hidden": true,
     "source_hidden": true
    }
   },
   "outputs": [
    {
     "data": {
      "text/plain": [
       "'Uncomment method if needed'"
      ]
     },
     "execution_count": 27,
     "metadata": {},
     "output_type": "execute_result"
    },
    {
     "name": "stdout",
     "output_type": "stream",
     "text": [
      "time: 3.15 ms (started: 2021-02-28 23:59:59 +01:00)\n"
     ]
    }
   ],
   "source": [
    "\"\"\"Uncomment method if needed\"\"\"\n",
    "\n",
    "# Save formatted dataset to csv\n",
    "# off_df.to_csv('/content/drive/My Drive/OFF_Drive/raw_data/off_categories_only.csv', index = False)"
   ]
  },
  {
   "cell_type": "markdown",
   "metadata": {
    "id": "CC20oOWIOqwY",
    "tags": []
   },
   "source": [
    "### Merge OCR & OFF Datasets"
   ]
  },
  {
   "cell_type": "markdown",
   "metadata": {
    "id": "SGvel87D26Us",
    "tags": []
   },
   "source": [
    "Columns of the final dataset (rough variant):\r\n",
    "- `barcode`\r\n",
    "- `clean_text`\r\n",
    "- `raw_text`\r\n",
    "- `pnns_group_1`\r\n",
    "- `pnns_group_2`"
   ]
  },
  {
   "cell_type": "code",
   "execution_count": 28,
   "metadata": {
    "collapsed": true,
    "id": "1p0XLfnUOx1d",
    "jupyter": {
     "outputs_hidden": true,
     "source_hidden": true
    }
   },
   "outputs": [
    {
     "name": "stdout",
     "output_type": "stream",
     "text": [
      "time: 779 ms (started: 2021-03-01 00:00:07 +01:00)\n"
     ]
    }
   ],
   "source": [
    "# Merge the 2 dataframes\n",
    "merged_df = ocr_rough_df.merge(off_df, how='left', on='barcode')"
   ]
  },
  {
   "cell_type": "code",
   "execution_count": 29,
   "metadata": {
    "collapsed": true,
    "id": "NrbHor0Hp0Hw",
    "jupyter": {
     "outputs_hidden": true,
     "source_hidden": true
    }
   },
   "outputs": [
    {
     "name": "stdout",
     "output_type": "stream",
     "text": [
      "Shape of the dataset: (795609, 5)\n",
      "head of the dataset:\n"
     ]
    },
    {
     "data": {
      "text/html": [
       "<div>\n",
       "<style scoped>\n",
       "    .dataframe tbody tr th:only-of-type {\n",
       "        vertical-align: middle;\n",
       "    }\n",
       "\n",
       "    .dataframe tbody tr th {\n",
       "        vertical-align: top;\n",
       "    }\n",
       "\n",
       "    .dataframe thead th {\n",
       "        text-align: right;\n",
       "    }\n",
       "</style>\n",
       "<table border=\"1\" class=\"dataframe\">\n",
       "  <thead>\n",
       "    <tr style=\"text-align: right;\">\n",
       "      <th></th>\n",
       "      <th>barcode</th>\n",
       "      <th>clean_text</th>\n",
       "      <th>raw_text</th>\n",
       "      <th>pnns_groups_1</th>\n",
       "      <th>pnns_groups_2</th>\n",
       "    </tr>\n",
       "  </thead>\n",
       "  <tbody>\n",
       "    <tr>\n",
       "      <th>0</th>\n",
       "      <td>3199660476748</td>\n",
       "      <td>ne eleve abattu en bretagne les eleveurs de bretagne decoupe de podlet noir ferfier labe caracteristiques certifiees fermiereleve en plein air duree delevage  jours minimum  de cereales alimente avec  de vegetaux mineraux et vitamines do mation  voir etiquette poidsprix a conserver entre oc et c a consommer cuit a caeurdate limite de co  le rheu certifie par certisimmeuble le millepertuis les landes dap produit frais classe a pour toute reclamation sadresser a fermiers dargoat bp ploufragan decoupe et conditionne par ldc bretagne bp  quintin homologation n la   ce  abattoir agree nfr  ce fltplt ferlr sat elbretpf  origine france yo volaise prixtrg poids net prix a payer kg lot    r consommer jusqu au r conserver entre o c et  c  expedie le  loc bretagne  lanfains  e a   au trit aste wwwconsignesdetrfr</td>\n",
       "      <td>NE\\nELEVE\\nABATTU\\nEN BRETAGNE\\nLES ÉLEVEURS\\nDE BRETAGNE\\nDécoupe de\\nPodlet noir\\nferfier\\nlabe\\nCaractéristiques certifiées: Fermier-élevé en plein air. Durée d'élevage 81 jours minimum.\\n75% de céréales.\\nAlimenté avec 100% de végétaux, minéraux et vitamines do mation : voir étiquette poids/prix\\nA conserver entre O°C et +4°C -A consommer cuit à caeur-Date limite de co 35650 Le Rheu\\nCertifié par: CERTIS-Immeuble Le Millepertuis- Les Landes d'Ap\\nProduit frais\\nClasse A\\nPour toute réclamation, s'adresser à\\nFERMIERS D'ARGOAT: BP77-22440 PLOUFRAGAN\\nDécoupé et conditionné par: LDC Bretagne BP 256-2280 QUINTIN\\nHomologation\\nN° LA/02/75\\n099 002\\nCE\\n2\\nAbattoir agréé n'FR 22.099.002 CE\\n2FLT.PLT FER.LR SAT\\nEL.BRET.PF 2\\nORIGINE France\\nyo\\nVOLAISE\\nPrixtrg\\nPoids net\\nPrix a payer\\n0,240kg\\nLot\\n005809 19 45\\nR consommer jusqu au\\nR conserver entre O C et +4 C\\n10/04/18\\nExpedie Le 30/03/18\\nLOC BRETAGNE 22 LANFAINS\\n22.039.002\\ne01\\n172225-0/196A\\n3 19966014\\nAU TRIT ASTE\\nwww.CONSIGNESDETRFR\\n</td>\n",
       "      <td>Fish Meat Eggs</td>\n",
       "      <td>Meat</td>\n",
       "    </tr>\n",
       "    <tr>\n",
       "      <th>1</th>\n",
       "      <td>3199660219208</td>\n",
       "      <td>cg local ker chant poulet decoupes de conditionne par d bretagne origine france produit frais classe a consommer cuit a coeur ne eleve prepare  local dans notre region filets poolet gr volaille origine france prixtkg poids net prix a pave kg o a consommer jusqu au  cot a conserver entre o c et c expedie le loc bretagne  lanfains  ce     consgne pouant reoclment wwwconsignt</td>\n",
       "      <td>..\\n1cg% LOCAL\\nKer\\nchAnt\\nPOULET\\nDecoupes de\\nConditionné par D\\nBretagne\\nOrigine FRANCE. Produit Frais, Classe A\\nconsommer cuit à coeur\\nNE ELEVÉ PREPARE\\n100% LOCAL\\nDANS NOTRE REGION\\nFILETS POOLET\\n720GR\\nVOLAILLE\\nORIGINE France\\nPrixtkg\\nPoids net\\nPrix a pave\\n0,720kg\\nO058067878\\nA consommer jusqu au\\n04/10/18\\nCot\\nA conserver entre O C et 4C\\nExpedie Le\\nLOc BRETAGNE 22 LANFAINS\\n22.099.002\\nCE\\n250498-0/181\\n01\\n3 11199660121\\nCONSGNE POUANT REOCLMENT\\nwww.cONSIGNT\\n</td>\n",
       "      <td>NaN</td>\n",
       "      <td>NaN</td>\n",
       "    </tr>\n",
       "    <tr>\n",
       "      <th>2</th>\n",
       "      <td>3199660219208</td>\n",
       "      <td>filets poulet gr origine france prixtkg volaille francaise poids net prix a payer kg lot  a consommer jusqu au  a conserver entre o c et  c expedie le loc bretagne  lanfains fr ce barquette et   c e pensez au tri consigne pouvantvarier localement film plastique a jeter     wwwconsignesdetrifr</td>\n",
       "      <td>FILETS POULET\\n720GR\\nORIGINE France\\nPrixtkg\\nVOLAILLE\\nFRANÇAISE\\nPoids net\\nPrix a payer\\n0720kg\\nLot\\n0058067878\\nA consommer jusqu au\\n04/10/18\\nA conserver entre O C et 4 C\\nExpedie Le\\nLOC BRETAGNE 22 LANFAINS\\nFR\\nCE\\nBARQUETTE ET\\n22.099.002\\n250498-0/18 1C\\ne01\\nPENSEZ\\nAU TRI!\\nCONSIGNE POUVANTVARIER LOCALEMENT\\nFILM PLASTIQUE\\nA JETER\\n3 |199 66012 19208\\nwww.CONSIGNESDETRI.FR\\n</td>\n",
       "      <td>NaN</td>\n",
       "      <td>NaN</td>\n",
       "    </tr>\n",
       "    <tr>\n",
       "      <th>3</th>\n",
       "      <td>3199660219192</td>\n",
       "      <td>ker chant  local decoupes de poulet conditionne par ldc bretagne lanfains   rais classe a origine france prodtre  et c offre speciale ne eleve prepare  local dans notre region cuisdej plt sat kerchant fx  origine france volaille francaise prixkg paids net prin apayer kg to  a consommer jusqu au  r conserver entre d c et  c expedie le loc bretagne  lanfains   autrit pens</td>\n",
       "      <td>Ker\\nchant\\n100% LOCAL\\nDecoupes de\\nPOULET\\nConditionné par LDC Bretagne\\nLanfains (22) 18\\nrais Classe A\\nOrigine FRANCE. Prodtre 0 et +4\"C\\nOFFRE\\nSPECIALE\\nNE ELEVE PREPARE\\n100% LOCAL\\nDANS NOTRE REGION\\n1CUIS.DEJ. PLT SAT\\nKERCHANT FX 1\\nORIGINE France\\nVOLAILLE\\nFRANÇAISE\\nPrix/kg\\nPaids net\\nPrin apayer\\n1,000kg\\nto\\n005806444\\nA consommer jusqu au\\n27/09/18\\nR conserver entre D C et 4 C\\nExpedie Le\\nLOC BRETAGNE 22 LANFAINS\\n2.09.02\\n256-106-0/1818\\nAUTRIT\\nPENS\\n3 199660112 19192\\n</td>\n",
       "      <td>Fish Meat Eggs</td>\n",
       "      <td>Meat</td>\n",
       "    </tr>\n",
       "    <tr>\n",
       "      <th>4</th>\n",
       "      <td>3199660219192</td>\n",
       "      <td>cuisdej plt sat kerchant fx  origine france volaille francaise prixkg poids net prix a payer kg  a consommer jusquau r conserver entre oc et  c expedie le  loc bretagne  lanfains  ce   e     pensez au tri barquette et film plastique ajeter consigne pouvantvarier localement wwwconsignesdetrlfr</td>\n",
       "      <td>1CUIS.DEJ. PLT SAT\\nKERCHANT FX 1\\nORIGINE France\\nVOLAILLE\\nFRANCAISE\\nPrix/kg\\nPoids net\\nPrix a payer\\n1,000kg\\n0058064444\\nA consommer jusqu'au\\nR conserver entre OC et 4 C\\nExpedie Le\\n27/09/18\\nLOC BRETAGNE 22 LANFAINS\\n22.099.002\\nCE\\n256 106-0/1818\\ne03\\n3 199 660112 191921\\nPENSEZ\\nAU TRI!\\nBARQUETTE ET\\nFILM PLASTIQUE\\nAJETER\\nCONSIGNE POUVANTVARIER LOCALEMENT\\nwww.CONSIGNESDETRLFR\\n</td>\n",
       "      <td>Fish Meat Eggs</td>\n",
       "      <td>Meat</td>\n",
       "    </tr>\n",
       "  </tbody>\n",
       "</table>\n",
       "</div>"
      ],
      "text/plain": [
       "         barcode  \\\n",
       "0  3199660476748   \n",
       "1  3199660219208   \n",
       "2  3199660219208   \n",
       "3  3199660219192   \n",
       "4  3199660219192   \n",
       "\n",
       "                                                                                                                                                                                                                                                                                                                                                                                                                                                                                                                                                                                                                                                                                                                                                                                                                                      clean_text  \\\n",
       "0  ne eleve abattu en bretagne les eleveurs de bretagne decoupe de podlet noir ferfier labe caracteristiques certifiees fermiereleve en plein air duree delevage  jours minimum  de cereales alimente avec  de vegetaux mineraux et vitamines do mation  voir etiquette poidsprix a conserver entre oc et c a consommer cuit a caeurdate limite de co  le rheu certifie par certisimmeuble le millepertuis les landes dap produit frais classe a pour toute reclamation sadresser a fermiers dargoat bp ploufragan decoupe et conditionne par ldc bretagne bp  quintin homologation n la   ce  abattoir agree nfr  ce fltplt ferlr sat elbretpf  origine france yo volaise prixtrg poids net prix a payer kg lot    r consommer jusqu au r conserver entre o c et  c  expedie le  loc bretagne  lanfains  e a   au trit aste wwwconsignesdetrfr    \n",
       "1                                                                                                                                                                                                                                                                                                                                                                                                                                                       cg local ker chant poulet decoupes de conditionne par d bretagne origine france produit frais classe a consommer cuit a coeur ne eleve prepare  local dans notre region filets poolet gr volaille origine france prixtkg poids net prix a pave kg o a consommer jusqu au  cot a conserver entre o c et c expedie le loc bretagne  lanfains  ce     consgne pouant reoclment wwwconsignt    \n",
       "2                                                                                                                                                                                                                                                                                                                                                                                                                                                                                                                                         filets poulet gr origine france prixtkg volaille francaise poids net prix a payer kg lot  a consommer jusqu au  a conserver entre o c et  c expedie le loc bretagne  lanfains fr ce barquette et   c e pensez au tri consigne pouvantvarier localement film plastique a jeter     wwwconsignesdetrifr    \n",
       "3                                                                                                                                                                                                                                                                                                                                                                                                                                                       ker chant  local decoupes de poulet conditionne par ldc bretagne lanfains   rais classe a origine france prodtre  et c offre speciale ne eleve prepare  local dans notre region cuisdej plt sat kerchant fx  origine france volaille francaise prixkg paids net prin apayer kg to  a consommer jusqu au  r conserver entre d c et  c expedie le loc bretagne  lanfains   autrit pens       \n",
       "4                                                                                                                                                                                                                                                                                                                                                                                                                                                                                                                                         cuisdej plt sat kerchant fx  origine france volaille francaise prixkg poids net prix a payer kg  a consommer jusquau r conserver entre oc et  c expedie le  loc bretagne  lanfains  ce   e     pensez au tri barquette et film plastique ajeter consigne pouvantvarier localement wwwconsignesdetrlfr    \n",
       "\n",
       "                                                                                                                                                                                                                                                                                                                                                                                                                                                                                                                                                                                                                                                                                                                                                                                                                                                                                                                                                                                                                                                  raw_text  \\\n",
       "0  NE\\nELEVE\\nABATTU\\nEN BRETAGNE\\nLES ÉLEVEURS\\nDE BRETAGNE\\nDécoupe de\\nPodlet noir\\nferfier\\nlabe\\nCaractéristiques certifiées: Fermier-élevé en plein air. Durée d'élevage 81 jours minimum.\\n75% de céréales.\\nAlimenté avec 100% de végétaux, minéraux et vitamines do mation : voir étiquette poids/prix\\nA conserver entre O°C et +4°C -A consommer cuit à caeur-Date limite de co 35650 Le Rheu\\nCertifié par: CERTIS-Immeuble Le Millepertuis- Les Landes d'Ap\\nProduit frais\\nClasse A\\nPour toute réclamation, s'adresser à\\nFERMIERS D'ARGOAT: BP77-22440 PLOUFRAGAN\\nDécoupé et conditionné par: LDC Bretagne BP 256-2280 QUINTIN\\nHomologation\\nN° LA/02/75\\n099 002\\nCE\\n2\\nAbattoir agréé n'FR 22.099.002 CE\\n2FLT.PLT FER.LR SAT\\nEL.BRET.PF 2\\nORIGINE France\\nyo\\nVOLAISE\\nPrixtrg\\nPoids net\\nPrix a payer\\n0,240kg\\nLot\\n005809 19 45\\nR consommer jusqu au\\nR conserver entre O C et +4 C\\n10/04/18\\nExpedie Le 30/03/18\\nLOC BRETAGNE 22 LANFAINS\\n22.039.002\\ne01\\n172225-0/196A\\n3 19966014\\nAU TRIT ASTE\\nwww.CONSIGNESDETRFR\\n   \n",
       "1                                                                                                                                                                                                                                                                                                                                                                                                                                                                                                                                                  ..\\n1cg% LOCAL\\nKer\\nchAnt\\nPOULET\\nDecoupes de\\nConditionné par D\\nBretagne\\nOrigine FRANCE. Produit Frais, Classe A\\nconsommer cuit à coeur\\nNE ELEVÉ PREPARE\\n100% LOCAL\\nDANS NOTRE REGION\\nFILETS POOLET\\n720GR\\nVOLAILLE\\nORIGINE France\\nPrixtkg\\nPoids net\\nPrix a pave\\n0,720kg\\nO058067878\\nA consommer jusqu au\\n04/10/18\\nCot\\nA conserver entre O C et 4C\\nExpedie Le\\nLOc BRETAGNE 22 LANFAINS\\n22.099.002\\nCE\\n250498-0/181\\n01\\n3 11199660121\\nCONSGNE POUANT REOCLMENT\\nwww.cONSIGNT\\n   \n",
       "2                                                                                                                                                                                                                                                                                                                                                                                                                                                                                                                                                                                                                                                FILETS POULET\\n720GR\\nORIGINE France\\nPrixtkg\\nVOLAILLE\\nFRANÇAISE\\nPoids net\\nPrix a payer\\n0720kg\\nLot\\n0058067878\\nA consommer jusqu au\\n04/10/18\\nA conserver entre O C et 4 C\\nExpedie Le\\nLOC BRETAGNE 22 LANFAINS\\nFR\\nCE\\nBARQUETTE ET\\n22.099.002\\n250498-0/18 1C\\ne01\\nPENSEZ\\nAU TRI!\\nCONSIGNE POUVANTVARIER LOCALEMENT\\nFILM PLASTIQUE\\nA JETER\\n3 |199 66012 19208\\nwww.CONSIGNESDETRI.FR\\n   \n",
       "3                                                                                                                                                                                                                                                                                                                                                                                                                                                                                                                                         Ker\\nchant\\n100% LOCAL\\nDecoupes de\\nPOULET\\nConditionné par LDC Bretagne\\nLanfains (22) 18\\nrais Classe A\\nOrigine FRANCE. Prodtre 0 et +4\"C\\nOFFRE\\nSPECIALE\\nNE ELEVE PREPARE\\n100% LOCAL\\nDANS NOTRE REGION\\n1CUIS.DEJ. PLT SAT\\nKERCHANT FX 1\\nORIGINE France\\nVOLAILLE\\nFRANÇAISE\\nPrix/kg\\nPaids net\\nPrin apayer\\n1,000kg\\nto\\n005806444\\nA consommer jusqu au\\n27/09/18\\nR conserver entre D C et 4 C\\nExpedie Le\\nLOC BRETAGNE 22 LANFAINS\\n2.09.02\\n256-106-0/1818\\nAUTRIT\\nPENS\\n3 199660112 19192\\n   \n",
       "4                                                                                                                                                                                                                                                                                                                                                                                                                                                                                                                                                                                                                                             1CUIS.DEJ. PLT SAT\\nKERCHANT FX 1\\nORIGINE France\\nVOLAILLE\\nFRANCAISE\\nPrix/kg\\nPoids net\\nPrix a payer\\n1,000kg\\n0058064444\\nA consommer jusqu'au\\nR conserver entre OC et 4 C\\nExpedie Le\\n27/09/18\\nLOC BRETAGNE 22 LANFAINS\\n22.099.002\\nCE\\n256 106-0/1818\\ne03\\n3 199 660112 191921\\nPENSEZ\\nAU TRI!\\nBARQUETTE ET\\nFILM PLASTIQUE\\nAJETER\\nCONSIGNE POUVANTVARIER LOCALEMENT\\nwww.CONSIGNESDETRLFR\\n   \n",
       "\n",
       "    pnns_groups_1 pnns_groups_2  \n",
       "0  Fish Meat Eggs          Meat  \n",
       "1             NaN           NaN  \n",
       "2             NaN           NaN  \n",
       "3  Fish Meat Eggs          Meat  \n",
       "4  Fish Meat Eggs          Meat  "
      ]
     },
     "metadata": {},
     "output_type": "display_data"
    },
    {
     "name": "stdout",
     "output_type": "stream",
     "text": [
      "time: 12.1 ms (started: 2021-03-01 00:00:26 +01:00)\n"
     ]
    }
   ],
   "source": [
    "# Brief look at the dataset\n",
    "print(f\"Shape of the dataset: {merged_df.shape}\")\n",
    "print(\"head of the dataset:\")\n",
    "display(merged_df.head())"
   ]
  },
  {
   "cell_type": "code",
   "execution_count": 30,
   "metadata": {
    "collapsed": true,
    "id": "uBndSVDnif-w",
    "jupyter": {
     "outputs_hidden": true,
     "source_hidden": true
    }
   },
   "outputs": [
    {
     "name": "stdout",
     "output_type": "stream",
     "text": [
      "time: 291 ms (started: 2021-03-01 00:00:31 +01:00)\n"
     ]
    }
   ],
   "source": [
    "# Drop rows with NaN from the DataFrame\n",
    "labeled_df = merged_df.dropna(subset=['pnns_groups_1', 'pnns_groups_2'])"
   ]
  },
  {
   "cell_type": "code",
   "execution_count": 31,
   "metadata": {
    "collapsed": true,
    "id": "WTl9AYG1T-nk",
    "jupyter": {
     "outputs_hidden": true,
     "source_hidden": true
    }
   },
   "outputs": [
    {
     "name": "stdout",
     "output_type": "stream",
     "text": [
      "Shape of the dataset: (434896, 5)\n",
      "head of the dataset:\n"
     ]
    },
    {
     "data": {
      "text/html": [
       "<div>\n",
       "<style scoped>\n",
       "    .dataframe tbody tr th:only-of-type {\n",
       "        vertical-align: middle;\n",
       "    }\n",
       "\n",
       "    .dataframe tbody tr th {\n",
       "        vertical-align: top;\n",
       "    }\n",
       "\n",
       "    .dataframe thead th {\n",
       "        text-align: right;\n",
       "    }\n",
       "</style>\n",
       "<table border=\"1\" class=\"dataframe\">\n",
       "  <thead>\n",
       "    <tr style=\"text-align: right;\">\n",
       "      <th></th>\n",
       "      <th>barcode</th>\n",
       "      <th>clean_text</th>\n",
       "      <th>raw_text</th>\n",
       "      <th>pnns_groups_1</th>\n",
       "      <th>pnns_groups_2</th>\n",
       "    </tr>\n",
       "  </thead>\n",
       "  <tbody>\n",
       "    <tr>\n",
       "      <th>0</th>\n",
       "      <td>3199660476748</td>\n",
       "      <td>ne eleve abattu en bretagne les eleveurs de bretagne decoupe de podlet noir ferfier labe caracteristiques certifiees fermiereleve en plein air duree delevage  jours minimum  de cereales alimente avec  de vegetaux mineraux et vitamines do mation  voir etiquette poidsprix a conserver entre oc et c a consommer cuit a caeurdate limite de co  le rheu certifie par certisimmeuble le millepertuis les landes dap produit frais classe a pour toute reclamation sadresser a fermiers dargoat bp ploufragan decoupe et conditionne par ldc bretagne bp  quintin homologation n la   ce  abattoir agree nfr  ce fltplt ferlr sat elbretpf  origine france yo volaise prixtrg poids net prix a payer kg lot    r consommer jusqu au r conserver entre o c et  c  expedie le  loc bretagne  lanfains  e a   au trit aste wwwconsignesdetrfr</td>\n",
       "      <td>NE\\nELEVE\\nABATTU\\nEN BRETAGNE\\nLES ÉLEVEURS\\nDE BRETAGNE\\nDécoupe de\\nPodlet noir\\nferfier\\nlabe\\nCaractéristiques certifiées: Fermier-élevé en plein air. Durée d'élevage 81 jours minimum.\\n75% de céréales.\\nAlimenté avec 100% de végétaux, minéraux et vitamines do mation : voir étiquette poids/prix\\nA conserver entre O°C et +4°C -A consommer cuit à caeur-Date limite de co 35650 Le Rheu\\nCertifié par: CERTIS-Immeuble Le Millepertuis- Les Landes d'Ap\\nProduit frais\\nClasse A\\nPour toute réclamation, s'adresser à\\nFERMIERS D'ARGOAT: BP77-22440 PLOUFRAGAN\\nDécoupé et conditionné par: LDC Bretagne BP 256-2280 QUINTIN\\nHomologation\\nN° LA/02/75\\n099 002\\nCE\\n2\\nAbattoir agréé n'FR 22.099.002 CE\\n2FLT.PLT FER.LR SAT\\nEL.BRET.PF 2\\nORIGINE France\\nyo\\nVOLAISE\\nPrixtrg\\nPoids net\\nPrix a payer\\n0,240kg\\nLot\\n005809 19 45\\nR consommer jusqu au\\nR conserver entre O C et +4 C\\n10/04/18\\nExpedie Le 30/03/18\\nLOC BRETAGNE 22 LANFAINS\\n22.039.002\\ne01\\n172225-0/196A\\n3 19966014\\nAU TRIT ASTE\\nwww.CONSIGNESDETRFR\\n</td>\n",
       "      <td>Fish Meat Eggs</td>\n",
       "      <td>Meat</td>\n",
       "    </tr>\n",
       "    <tr>\n",
       "      <th>3</th>\n",
       "      <td>3199660219192</td>\n",
       "      <td>ker chant  local decoupes de poulet conditionne par ldc bretagne lanfains   rais classe a origine france prodtre  et c offre speciale ne eleve prepare  local dans notre region cuisdej plt sat kerchant fx  origine france volaille francaise prixkg paids net prin apayer kg to  a consommer jusqu au  r conserver entre d c et  c expedie le loc bretagne  lanfains   autrit pens</td>\n",
       "      <td>Ker\\nchant\\n100% LOCAL\\nDecoupes de\\nPOULET\\nConditionné par LDC Bretagne\\nLanfains (22) 18\\nrais Classe A\\nOrigine FRANCE. Prodtre 0 et +4\"C\\nOFFRE\\nSPECIALE\\nNE ELEVE PREPARE\\n100% LOCAL\\nDANS NOTRE REGION\\n1CUIS.DEJ. PLT SAT\\nKERCHANT FX 1\\nORIGINE France\\nVOLAILLE\\nFRANÇAISE\\nPrix/kg\\nPaids net\\nPrin apayer\\n1,000kg\\nto\\n005806444\\nA consommer jusqu au\\n27/09/18\\nR conserver entre D C et 4 C\\nExpedie Le\\nLOC BRETAGNE 22 LANFAINS\\n2.09.02\\n256-106-0/1818\\nAUTRIT\\nPENS\\n3 199660112 19192\\n</td>\n",
       "      <td>Fish Meat Eggs</td>\n",
       "      <td>Meat</td>\n",
       "    </tr>\n",
       "    <tr>\n",
       "      <th>4</th>\n",
       "      <td>3199660219192</td>\n",
       "      <td>cuisdej plt sat kerchant fx  origine france volaille francaise prixkg poids net prix a payer kg  a consommer jusquau r conserver entre oc et  c expedie le  loc bretagne  lanfains  ce   e     pensez au tri barquette et film plastique ajeter consigne pouvantvarier localement wwwconsignesdetrlfr</td>\n",
       "      <td>1CUIS.DEJ. PLT SAT\\nKERCHANT FX 1\\nORIGINE France\\nVOLAILLE\\nFRANCAISE\\nPrix/kg\\nPoids net\\nPrix a payer\\n1,000kg\\n0058064444\\nA consommer jusqu'au\\nR conserver entre OC et 4 C\\nExpedie Le\\n27/09/18\\nLOC BRETAGNE 22 LANFAINS\\n22.099.002\\nCE\\n256 106-0/1818\\ne03\\n3 199 660112 191921\\nPENSEZ\\nAU TRI!\\nBARQUETTE ET\\nFILM PLASTIQUE\\nAJETER\\nCONSIGNE POUVANTVARIER LOCALEMENT\\nwww.CONSIGNESDETRLFR\\n</td>\n",
       "      <td>Fish Meat Eggs</td>\n",
       "      <td>Meat</td>\n",
       "    </tr>\n",
       "    <tr>\n",
       "      <th>8</th>\n",
       "      <td>3199660747848</td>\n",
       "      <td>ker chant  logal decoupes de poulet cooduogne pnm lin ne eleve prepare  local aiguillette poulet gr dans not origine france prixiky tui et prix a pavar kg region  lot  consommer jusquau  r conserver entre  cet c expedie le  loc bretrgne  lrnfrins   a pense au tri</td>\n",
       "      <td>Ker\\nChant\\n100% LOGAL\\nDécoupes de\\nPOULET\\nCooduogne pNM LIN\\nNE\\nELEVE\\nPREPARE\\n100% LOCAL\\nAIGUILLETTE POULET\\n500GR\\nDANS NOT\\nORIGINE France\\nPrixiky\\ntui et\\nPrix a pavar\\n0,500kg\\nREGION\\n0059308701\\nLot\\n8 consommer JusQU'au\\n27/12/19\\nR conserver entre 0 Cet 4C\\nExpedie Le 18/12/13\\nLOC BRETRGNE 22 LRNFRINS\\n22 088.002\\n38397-0/6A\\nPENSE\\nAU TRI\\n3 1996601747848\\n</td>\n",
       "      <td>Fish Meat Eggs</td>\n",
       "      <td>Meat</td>\n",
       "    </tr>\n",
       "    <tr>\n",
       "      <th>22</th>\n",
       "      <td>3196203800091</td>\n",
       "      <td>preparation deshydratee aromatisee et coloree pour sucre pour barbe a papa parfum fraise ingredients sucre dextrose colorant e arome antiagglomerant dioxyde de silicium nano peut contenir des traces de gluten oeuf soja lait fruits a coque  g produit deshydrate  pour  g de poids net valeur energetique kcal valeur energetique kj matieres grasses   g dont acides gras satures glucides dont sucres proteines sel traces  g  g traces  g   falbrique en fra par emb</td>\n",
       "      <td>PREPARATION DÉSHYDRATÉE, AROMATISÉE ET COLOREE\\nPOUR SUCRE POUR BARBE À PAPA PARFUM FRAISE\\nINGREDIENTS Sucre. Dextrose. Colorant: E120, Aróme\\nAntiagglomérant: dioxyde de silicium [nano]. Peut contenir\\ndes traces de gluten, oeuf, soja, lait, fruits à coque.\\n500 g\\nproduit déshydraté\\n409\\nPour 100 g de\\nPoids net\\nValeur énergétique kcal\\nValeur énergétique kJ\\nMatières grasses\\n1736\\n&lt;0,9 g\\ndont acides gras saturés\\nGlucides\\ndont sucres\\nProteines\\nSel\\nTraces\\n99,7 g\\n99,6 g\\nTraces\\n&lt;0,1 g\\n380 007\\nFalbriqué en Fra\\nPar EMB 51\\n</td>\n",
       "      <td>Sugary snacks</td>\n",
       "      <td>Sweets</td>\n",
       "    </tr>\n",
       "  </tbody>\n",
       "</table>\n",
       "</div>"
      ],
      "text/plain": [
       "          barcode  \\\n",
       "0   3199660476748   \n",
       "3   3199660219192   \n",
       "4   3199660219192   \n",
       "8   3199660747848   \n",
       "22  3196203800091   \n",
       "\n",
       "                                                                                                                                                                                                                                                                                                                                                                                                                                                                                                                                                                                                                                                                                                                                                                                                                                       clean_text  \\\n",
       "0   ne eleve abattu en bretagne les eleveurs de bretagne decoupe de podlet noir ferfier labe caracteristiques certifiees fermiereleve en plein air duree delevage  jours minimum  de cereales alimente avec  de vegetaux mineraux et vitamines do mation  voir etiquette poidsprix a conserver entre oc et c a consommer cuit a caeurdate limite de co  le rheu certifie par certisimmeuble le millepertuis les landes dap produit frais classe a pour toute reclamation sadresser a fermiers dargoat bp ploufragan decoupe et conditionne par ldc bretagne bp  quintin homologation n la   ce  abattoir agree nfr  ce fltplt ferlr sat elbretpf  origine france yo volaise prixtrg poids net prix a payer kg lot    r consommer jusqu au r conserver entre o c et  c  expedie le  loc bretagne  lanfains  e a   au trit aste wwwconsignesdetrfr    \n",
       "3                                                                                                                                                                                                                                                                                                                                                                                                                                                        ker chant  local decoupes de poulet conditionne par ldc bretagne lanfains   rais classe a origine france prodtre  et c offre speciale ne eleve prepare  local dans notre region cuisdej plt sat kerchant fx  origine france volaille francaise prixkg paids net prin apayer kg to  a consommer jusqu au  r conserver entre d c et  c expedie le loc bretagne  lanfains   autrit pens       \n",
       "4                                                                                                                                                                                                                                                                                                                                                                                                                                                                                                                                          cuisdej plt sat kerchant fx  origine france volaille francaise prixkg poids net prix a payer kg  a consommer jusquau r conserver entre oc et  c expedie le  loc bretagne  lanfains  ce   e     pensez au tri barquette et film plastique ajeter consigne pouvantvarier localement wwwconsignesdetrlfr    \n",
       "8                                                                                                                                                                                                                                                                                                                                                                                                                                                                                                                                                                      ker chant  logal decoupes de poulet cooduogne pnm lin ne eleve prepare  local aiguillette poulet gr dans not origine france prixiky tui et prix a pavar kg region  lot  consommer jusquau  r conserver entre  cet c expedie le  loc bretrgne  lrnfrins   a pense au tri      \n",
       "22                                                                                                                                                                                                                                                                                                                                                                  preparation deshydratee aromatisee et coloree pour sucre pour barbe a papa parfum fraise ingredients sucre dextrose colorant e arome antiagglomerant dioxyde de silicium nano peut contenir des traces de gluten oeuf soja lait fruits a coque  g produit deshydrate  pour  g de poids net valeur energetique kcal valeur energetique kj matieres grasses   g dont acides gras satures glucides dont sucres proteines sel traces  g  g traces  g   falbrique en fra par emb     \n",
       "\n",
       "                                                                                                                                                                                                                                                                                                                                                                                                                                                                                                                                                                                                                                                                                                                                                                                                                                                                                                                                                                                                                                                   raw_text  \\\n",
       "0   NE\\nELEVE\\nABATTU\\nEN BRETAGNE\\nLES ÉLEVEURS\\nDE BRETAGNE\\nDécoupe de\\nPodlet noir\\nferfier\\nlabe\\nCaractéristiques certifiées: Fermier-élevé en plein air. Durée d'élevage 81 jours minimum.\\n75% de céréales.\\nAlimenté avec 100% de végétaux, minéraux et vitamines do mation : voir étiquette poids/prix\\nA conserver entre O°C et +4°C -A consommer cuit à caeur-Date limite de co 35650 Le Rheu\\nCertifié par: CERTIS-Immeuble Le Millepertuis- Les Landes d'Ap\\nProduit frais\\nClasse A\\nPour toute réclamation, s'adresser à\\nFERMIERS D'ARGOAT: BP77-22440 PLOUFRAGAN\\nDécoupé et conditionné par: LDC Bretagne BP 256-2280 QUINTIN\\nHomologation\\nN° LA/02/75\\n099 002\\nCE\\n2\\nAbattoir agréé n'FR 22.099.002 CE\\n2FLT.PLT FER.LR SAT\\nEL.BRET.PF 2\\nORIGINE France\\nyo\\nVOLAISE\\nPrixtrg\\nPoids net\\nPrix a payer\\n0,240kg\\nLot\\n005809 19 45\\nR consommer jusqu au\\nR conserver entre O C et +4 C\\n10/04/18\\nExpedie Le 30/03/18\\nLOC BRETAGNE 22 LANFAINS\\n22.039.002\\ne01\\n172225-0/196A\\n3 19966014\\nAU TRIT ASTE\\nwww.CONSIGNESDETRFR\\n   \n",
       "3                                                                                                                                                                                                                                                                                                                                                                                                                                                                                                                                          Ker\\nchant\\n100% LOCAL\\nDecoupes de\\nPOULET\\nConditionné par LDC Bretagne\\nLanfains (22) 18\\nrais Classe A\\nOrigine FRANCE. Prodtre 0 et +4\"C\\nOFFRE\\nSPECIALE\\nNE ELEVE PREPARE\\n100% LOCAL\\nDANS NOTRE REGION\\n1CUIS.DEJ. PLT SAT\\nKERCHANT FX 1\\nORIGINE France\\nVOLAILLE\\nFRANÇAISE\\nPrix/kg\\nPaids net\\nPrin apayer\\n1,000kg\\nto\\n005806444\\nA consommer jusqu au\\n27/09/18\\nR conserver entre D C et 4 C\\nExpedie Le\\nLOC BRETAGNE 22 LANFAINS\\n2.09.02\\n256-106-0/1818\\nAUTRIT\\nPENS\\n3 199660112 19192\\n   \n",
       "4                                                                                                                                                                                                                                                                                                                                                                                                                                                                                                                                                                                                                                              1CUIS.DEJ. PLT SAT\\nKERCHANT FX 1\\nORIGINE France\\nVOLAILLE\\nFRANCAISE\\nPrix/kg\\nPoids net\\nPrix a payer\\n1,000kg\\n0058064444\\nA consommer jusqu'au\\nR conserver entre OC et 4 C\\nExpedie Le\\n27/09/18\\nLOC BRETAGNE 22 LANFAINS\\n22.099.002\\nCE\\n256 106-0/1818\\ne03\\n3 199 660112 191921\\nPENSEZ\\nAU TRI!\\nBARQUETTE ET\\nFILM PLASTIQUE\\nAJETER\\nCONSIGNE POUVANTVARIER LOCALEMENT\\nwww.CONSIGNESDETRLFR\\n   \n",
       "8                                                                                                                                                                                                                                                                                                                                                                                                                                                                                                                                                                                                                                                                 Ker\\nChant\\n100% LOGAL\\nDécoupes de\\nPOULET\\nCooduogne pNM LIN\\nNE\\nELEVE\\nPREPARE\\n100% LOCAL\\nAIGUILLETTE POULET\\n500GR\\nDANS NOT\\nORIGINE France\\nPrixiky\\ntui et\\nPrix a pavar\\n0,500kg\\nREGION\\n0059308701\\nLot\\n8 consommer JusQU'au\\n27/12/19\\nR conserver entre 0 Cet 4C\\nExpedie Le 18/12/13\\nLOC BRETRGNE 22 LRNFRINS\\n22 088.002\\n38397-0/6A\\nPENSE\\nAU TRI\\n3 1996601747848\\n   \n",
       "22                                                                                                                                                                                                                                                                                                                                                                                                                                                                                          PREPARATION DÉSHYDRATÉE, AROMATISÉE ET COLOREE\\nPOUR SUCRE POUR BARBE À PAPA PARFUM FRAISE\\nINGREDIENTS Sucre. Dextrose. Colorant: E120, Aróme\\nAntiagglomérant: dioxyde de silicium [nano]. Peut contenir\\ndes traces de gluten, oeuf, soja, lait, fruits à coque.\\n500 g\\nproduit déshydraté\\n409\\nPour 100 g de\\nPoids net\\nValeur énergétique kcal\\nValeur énergétique kJ\\nMatières grasses\\n1736\\n<0,9 g\\ndont acides gras saturés\\nGlucides\\ndont sucres\\nProteines\\nSel\\nTraces\\n99,7 g\\n99,6 g\\nTraces\\n<0,1 g\\n380 007\\nFalbriqué en Fra\\nPar EMB 51\\n   \n",
       "\n",
       "     pnns_groups_1 pnns_groups_2  \n",
       "0   Fish Meat Eggs          Meat  \n",
       "3   Fish Meat Eggs          Meat  \n",
       "4   Fish Meat Eggs          Meat  \n",
       "8   Fish Meat Eggs          Meat  \n",
       "22   Sugary snacks        Sweets  "
      ]
     },
     "metadata": {},
     "output_type": "display_data"
    },
    {
     "name": "stdout",
     "output_type": "stream",
     "text": [
      "time: 16.1 ms (started: 2021-03-01 00:00:53 +01:00)\n"
     ]
    }
   ],
   "source": [
    "# Brief look at the dataset\n",
    "print(f\"Shape of the dataset: {labeled_df.shape}\")\n",
    "print(\"head of the dataset:\")\n",
    "display(labeled_df.head())"
   ]
  },
  {
   "cell_type": "code",
   "execution_count": 32,
   "metadata": {
    "colab": {
     "base_uri": "https://localhost:8080/"
    },
    "collapsed": true,
    "id": "X3sQPMkDvC0Z",
    "jupyter": {
     "outputs_hidden": true,
     "source_hidden": true
    },
    "outputId": "9a1b571d-1928-4eda-fabc-ad7106d2796b"
   },
   "outputs": [
    {
     "name": "stdout",
     "output_type": "stream",
     "text": [
      "Count of unique barcodes: 127888\n",
      "time: 66.6 ms (started: 2021-03-01 00:00:57 +01:00)\n"
     ]
    }
   ],
   "source": [
    "# Check the number of barcodes\n",
    "print(f\"Count of unique barcodes: {labeled_df.barcode.nunique()}\")"
   ]
  },
  {
   "cell_type": "code",
   "execution_count": 33,
   "metadata": {
    "collapsed": true,
    "id": "qBtppB4aburO",
    "jupyter": {
     "outputs_hidden": true,
     "source_hidden": true
    }
   },
   "outputs": [
    {
     "data": {
      "text/plain": [
       "'Uncomment method if needed'"
      ]
     },
     "execution_count": 33,
     "metadata": {},
     "output_type": "execute_result"
    },
    {
     "name": "stdout",
     "output_type": "stream",
     "text": [
      "time: 4.03 ms (started: 2021-03-01 00:01:00 +01:00)\n"
     ]
    }
   ],
   "source": [
    "\"\"\"Uncomment method if needed\"\"\"\n",
    "# Save sample dataset to csv\n",
    "# labeled_df.to_csv('../raw_data/ocr_labeled_rough.csv', index = False)"
   ]
  },
  {
   "cell_type": "code",
   "execution_count": 34,
   "metadata": {
    "colab": {
     "base_uri": "https://localhost:8080/",
     "height": 35
    },
    "id": "sfpcC0a0uQpC",
    "outputId": "edd74d44-b6f7-46e1-8c17-f88e7e446aa6",
    "tags": []
   },
   "outputs": [
    {
     "data": {
      "text/plain": [
       "'Uncomment method if needed'"
      ]
     },
     "execution_count": 34,
     "metadata": {},
     "output_type": "execute_result"
    },
    {
     "name": "stdout",
     "output_type": "stream",
     "text": [
      "time: 4.78 ms (started: 2021-03-01 00:01:04 +01:00)\n"
     ]
    }
   ],
   "source": [
    "# Create a subset dataframe to test the code without waiting time\n",
    "labeled_df_1K = labeled_df[:1000].copy()\n",
    "\n",
    "\"\"\"Uncomment method if needed\"\"\"\n",
    "# Save sample dataset to csv\n",
    "# labeled_df_1K.to_csv('../raw_data/ocr_labeled_1K.csv', index = False)"
   ]
  }
 ],
 "metadata": {
  "colab": {
   "collapsed_sections": [
    "mvEEd7Iiyptn",
    "gNGjexDYzqa1",
    "NlVyaHXCzEnF",
    "txG19qiEOLoF",
    "EzlzuUGCud9v",
    "O8wolMiXv5oO",
    "4YVVzRggOk8d",
    "14_Y1LjiMRaP",
    "elr1DpWcPUKc"
   ],
   "name": "Mica_OFF_Dataset",
   "provenance": []
  },
  "kernelspec": {
   "display_name": "Python 3",
   "language": "python",
   "name": "python3"
  },
  "language_info": {
   "codemirror_mode": {
    "name": "ipython",
    "version": 3
   },
   "file_extension": ".py",
   "mimetype": "text/x-python",
   "name": "python",
   "nbconvert_exporter": "python",
   "pygments_lexer": "ipython3",
   "version": "3.8.6"
  },
  "toc-autonumbering": false,
  "toc-showcode": false,
  "toc-showmarkdowntxt": false,
  "toc-showtags": false,
  "widgets": {
   "application/vnd.jupyter.widget-state+json": {
    "state": {},
    "version_major": 2,
    "version_minor": 0
   }
  }
 },
 "nbformat": 4,
 "nbformat_minor": 4
}
